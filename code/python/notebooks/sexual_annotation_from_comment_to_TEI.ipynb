{
 "metadata": {
  "language_info": {
   "codemirror_mode": {
    "name": "ipython",
    "version": 3
   },
   "file_extension": ".py",
   "mimetype": "text/x-python",
   "name": "python",
   "nbconvert_exporter": "python",
   "pygments_lexer": "ipython3",
   "version": "3.7.6-final"
  },
  "orig_nbformat": 2,
  "kernelspec": {
   "name": "python3",
   "display_name": "Python 3.7.6 64-bit ('calvotello': virtualenv)",
   "metadata": {
    "interpreter": {
     "hash": "960f4d658457e0296618a96ff118bd2cbd6b6fed4373572a098ed4ec5a9be4c3"
    }
   }
  }
 },
 "nbformat": 4,
 "nbformat_minor": 2,
 "cells": [
  {
   "cell_type": "code",
   "execution_count": 1,
   "metadata": {},
   "outputs": [],
   "source": [
    "import pandas as pd\n",
    "from lxml import etree\n",
    "import requests\n",
    "import os\n",
    "import time\n"
   ]
  },
  {
   "cell_type": "code",
   "execution_count": 2,
   "metadata": {},
   "outputs": [],
   "source": [
    "sys.path.append(os.path.abspath(\"./../scripts/\"))\n"
   ]
  },
  {
   "cell_type": "code",
   "execution_count": 3,
   "metadata": {},
   "outputs": [],
   "source": [
    "import parse_sexual_anotation"
   ]
  },
  {
   "cell_type": "code",
   "execution_count": 4,
   "metadata": {},
   "outputs": [],
   "source": [
    "book_name = \"2CO\""
   ]
  },
  {
   "cell_type": "code",
   "execution_count": 5,
   "metadata": {},
   "outputs": [],
   "source": [
    "wdir_str = \"./../../../sexual-annotation/\"\n",
    "file_str = book_name + \".xml\"\n",
    "\n",
    "book_name_str = file_str[0:3]\n"
   ]
  },
  {
   "cell_type": "code",
   "execution_count": 6,
   "metadata": {
    "tags": []
   },
   "outputs": [
    {
     "output_type": "stream",
     "name": "stdout",
     "text": [
      "['./../../../sexual-annotation/2CO.xml']\n2CO\n<class 'str'>\n"
     ]
    },
    {
     "output_type": "execute_result",
     "data": {
      "text/plain": [
       "'<?xml version=\"1.0\" encoding=\"UTF-8\"?>\\n\\n<?xml-model href=\"https://raw.githubusercontent.com/morethanbooks/XML-TEI-Bible/master/scheme/tei_lite.rng\" type=\"application/xml\" schematypens=\"http://relaxng.org/ns/structure/1.0\"?>\\n<!--<?xml-model href=\"http://www.tei-c.org/release/xml/tei/custom/schema/relaxng/tei_all.rng\" type=\"application/xml\"\\n\\tschematypens=\"http://purl.oclc.org/dsdl/schematron\"?>-->\\n\\n\\n<?xml-stylesheet type=\"text/css\" href=\"styles/word2pix-reference.css\" rel=\"stylesheet\" title=\"Word2Pix References\"?>\\n<?xml-stylesheet type=\"text/css\" href=\"styles/styles.css\" rel=\"stylesheet\" title=\"Classic\"?>\\n<?xml-stylesheet type=\"text/css\" href=\"styles/word2pix-quotes.css\" rel=\"stylesheet\" title=\"Word2Pix Quotations\"?>\\n<?xml-stylesheet type=\"text/css\" href=\"styles/word2pix-level-q.css\" rel=\"stylesheet\" title=\"Word2Pix Level Quotation\"?>\\n\\n\\n\\n<TEI xmlns=\"http://www.tei-c.org/ns/1.0\">\\n\\t<teiHeader>\\n\\t\\t<fileDesc>\\n\\t\\t\\t<titleStmt>\\n\\t\\t\\t\\t<title>2 Corintios</title>\\n\\t\\t\\t\\t<title type=\"idno\">\\n\\t\\t\\t\\t\\t<idno typ'"
      ]
     },
     "metadata": {},
     "execution_count": 6
    }
   ],
   "source": [
    "book_str = parse_sexual_anotation.open_book(wdir_str, file_str)\n",
    "book_str[0:1000]\n"
   ]
  },
  {
   "cell_type": "code",
   "execution_count": 7,
   "metadata": {},
   "outputs": [],
   "source": [
    "taxonomy_file_str = \"taxonomy.xml\"\n"
   ]
  },
  {
   "cell_type": "code",
   "execution_count": 8,
   "metadata": {
    "tags": []
   },
   "outputs": [
    {
     "output_type": "stream",
     "name": "stdout",
     "text": [
      "<class 'lxml.etree._Element'>\n"
     ]
    }
   ],
   "source": [
    "taxonomy_el = parse_sexual_anotation.open_taxonomy(wdir_str, taxonomy_file_str)\n",
    "\n"
   ]
  },
  {
   "cell_type": "code",
   "execution_count": 9,
   "metadata": {},
   "outputs": [],
   "source": [
    "namespaces_dict = {'tei':'http://www.tei-c.org/ns/1.0','xi':'http://www.w3.org/2001/XInclude'}\n"
   ]
  },
  {
   "cell_type": "code",
   "execution_count": 10,
   "metadata": {
    "tags": []
   },
   "outputs": [
    {
     "output_type": "stream",
     "name": "stdout",
     "text": [
      "['relations', 'monogamy', 'poligamy', 'marriage', 'second-marriage', 'second-marriage-divorce', 'second-marriage-widow', 'interfaith-marriage', 'interfaith-relation', 'non-marital-relation', 'marital-relation-political-family', 'lord-servant-relation', 'marital-relation-direct-family', 'arranged-marriage', 'divorce', 'engaged', 'love', 'jealousy', 'ascendant-descendant', 'primogeniture', 'indirect-ascendant-descendant', 'acts', 'social-related-act', 'wedding', 'body-related-act', 'massage', 'kiss', 'hug', 'dance', 'abortion', 'circumcision', 'breast-feeding', 'sexual-act', 'sexual-act-stage', 'seduction', 'erotic-time', 'initation-sexual-act', 'orgasm', 'ejaculation', 'time-after-sex', 'sexual-act-type', 'coitus', 'first-sexual-act', 'coitus-interruptus', 'self-masturbation', 'masturbation', 'oral-sex', 'anal-sex', 'non-penetrative-sex', 'female-rape', 'male-rape', 'sexual-assault', 'female-sexual-assault', 'male-sexual-assault', 'sexual-deception', 'sexual-drive', 'sexual-desire', 'sex-for-goods', 'other-sexual-act', 'sexual-act-situation', 'sex-in-marriage', 'sex-before-marriage', 'sex-outside-marriage', 'sex-outside', 'sexual-act-participants', 'heterosexual-sex', 'homosexual-sex', 'gay-sex', 'lesbian-sex', 'prostitution-sex', 'religous-sex', 'parents-children-sex', 'sibling-sex', 'greater-family-sex', 'angel-human-sex', 'animal-human-sex', 'animal-sex', 'groupal-sex', 'lord-servant-sex', 'states', 'single-life', 'virginity', 'celibacy', 'infertility', 'nudity', 'semi-nudity', 'pregnancy', 'beauty', 'dishonor', 'body', 'body-by-gender', 'female-body', 'male-body', 'body-part', 'genitalia', 'female-genitalia', 'uterus', 'male-genitalia', 'prepuce', 'gluteus-anus', 'female-breast', 'male-chest', 'ovaries', 'semen', 'head', 'eye', 'nose', 'cheek', 'mouth', 'lips', 'tongue', 'tooth', 'hair', 'thigh', 'neck', 'hand', 'skin', 'foot', 'waist', 'heart', 'navel', 'belly', 'leg', 'arm', 'rib', 'lubrication', 'face', 'flesh', 'body-function', 'birth', 'fertilization', 'misscarriage', 'erection', 'menstruation', 'sleep', 'diseases', 'menstrual-disorder', 'senses', 'smell', 'things', 'clothes', 'belt', 'veil', 'perfume', 'juwels', 'earrings', 'piercing', 'collar', 'bracelet', 'food-and-related', 'drink', 'water', 'milk', 'wine', 'alcohol', 'glass', 'spices', 'wheat', 'honey', 'fruits', 'pomegranate', 'grapes', 'raisin', 'apples', 'figs', 'carriage', 'weapons', 'sword', 'shield', 'money', 'metal', 'silver', 'gold', 'fountain', 'well', 'pitcher', 'environment', 'moon', 'sun', 'rain', 'wind', 'places', 'interior-spaces', 'room', 'bedroom', 'bed', 'door', 'wall', 'house', 'tower', 'exterior-spaces', 'garden', 'vineyard', 'spring', 'desert', 'river', 'field', 'lake', 'groups', 'based-on-gender', 'women', 'men', 'third-sexual-group', 'eunuchs', 'based-on-orientation', 'heterosexuals', 'homosexuals', 'male-homosexuals', 'female-homosexuals', 'by-state', 'single', 'married', 'widow-widower', 'widow', 'widower', 'virgin', 'by-profession', 'prostitutes', 'female-prostitutes', 'male-prostitutes', 'sexual-priests', 'concubine', 'by-corporal-traits', 'circumcised', 'uncircumcised', 'animals', 'gazelle', 'deer', 'dove', 'fox', 'goat', 'sheep', 'leopard', 'lion', 'crow', 'turtledove', 'horse', 'donkey', 'cow', 'camel', 'plants', 'flowers', 'trees', 'palms', 'time', 'part-of-the-day', 'night', 'sunrise', 'seasons', 'winter', 'valorations', 'blessed-aspect', 'positive-aspect', 'neutral-aspect', 'negative-aspect', 'condemned-aspect']\n"
     ]
    }
   ],
   "source": [
    "categories_id_lt = parse_sexual_anotation.get_list_categories(taxonomy_el, namespaces = namespaces_dict)\n",
    "\n",
    "print(categories_id_lt)\n"
   ]
  },
  {
   "cell_type": "code",
   "execution_count": 11,
   "metadata": {
    "tags": []
   },
   "outputs": [
    {
     "output_type": "stream",
     "name": "stdout",
     "text": [
      "[('b.2CO.002.004', 'love; positive; negative'), ('b.2CO.002.008', 'love; positive'), ('b.2CO.003.002', 'love cert=\"medium\"; positive'), ('b.2CO.003.003', 'love cert=\"medium\"; positive'), ('b.2CO.004.002', 'body cert=\"low\"; negative cert=\"low\"'), ('b.2CO.004.005', 'love; positive'), ('b.2CO.004.006', 'love; positive'), ('b.2CO.004.010', 'body; positive'), ('b.2CO.004.011', 'flesh; neutral'), ('b.2CO.005.001', 'body; neutral'), ('b.2CO.005.002', 'body; neutral'), ('b.2CO.005.003', 'body; clothes; nudity; positive;negative'), ('b.2CO.005.004', 'body; clothes; nudity; positive;negative'), ('b.2CO.005.006', 'body; negative'), ('b.2CO.005.008', 'body; negative; positive'), ('b.2CO.005.010', 'body; negative; positive'), ('b.2CO.005.014', 'love; positive'), ('b.2CO.005.016', 'flesh; neutral'), ('b.2CO.006.006', 'love; positive'), ('b.2CO.006.011', 'love; positive'), ('b.2CO.006.012', 'love; positive'), ('b.2CO.006.014', 'condemned-aspect; interfaith-marriage'), ('b.2CO.006.015', 'condemned-aspect; interfaith-marriage'), ('b.2CO.006.016', 'condemned-aspect; interfaith-marriage'), ('b.2CO.006.017', 'condemned-aspect; interfaith-marriage'), ('b.2CO.007.001', 'flesh; negative'), ('b.2CO.007.003', 'love; positive'), ('b.2CO.007.005', 'body cert=\"medium\"; negative; neutral'), ('b.2CO.007.011', 'love; positive; negative'), ('b.2CO.008.007', 'love; positive'), ('b.2CO.008.008', 'love; positive'), ('b.2CO.008.009', 'love; positive'), ('b.2CO.008.024', 'love; positive'), ('b.2CO.009.007', 'love; positive'), ('b.2CO.010.010', 'body; neutral'), ('b.2CO.011.002', 'wedding; virgin; positive'), ('b.2CO.011.011', 'love; neutral'), ('b.2CO.011.018', 'flesh; negative'), ('b.2CO.011.027', 'nudity; negative'), ('b.2CO.012.002', 'body; neutral'), ('b.2CO.012.003', 'body; neutral'), ('b.2CO.012.007', 'body; condemned'), ('b.2CO.012.008', 'body; condemned'), ('b.2CO.012.015', 'love; positive'), ('b.2CO.012.021', 'fornication; condemned; sexual-desire cert=\"medium\"'), ('b.2CO.013.011', 'love; positive'), ('b.2CO.013.012', 'kiss; positive'), ('b.2CO.013.014', 'love; positive')]\n"
     ]
    }
   ],
   "source": [
    "sexual_annotations_from_comments_lt = parse_sexual_anotation.parse_sexual_annotations_from_comments(book_str)\n"
   ]
  },
  {
   "cell_type": "code",
   "execution_count": null,
   "metadata": {},
   "outputs": [],
   "source": []
  },
  {
   "cell_type": "code",
   "execution_count": 12,
   "metadata": {
    "tags": []
   },
   "outputs": [
    {
     "output_type": "stream",
     "name": "stdout",
     "text": [
      "b.2CO.002.004\n",
      "love\n",
      "<class 'str'>\n",
      "love\n",
      " positive\n",
      "<class 'str'>\n",
      "positive\n",
      "ERROR!! positive\n",
      " negative\n",
      "<class 'str'>\n",
      "negative\n",
      "ERROR!! negative\n",
      "b.2CO.002.008\n",
      "love\n",
      "<class 'str'>\n",
      "love\n",
      " positive\n",
      "<class 'str'>\n",
      "positive\n",
      "ERROR!! positive\n",
      "b.2CO.003.002\n",
      "love cert=\"medium\"\n",
      "<class 'str'>\n",
      "love\n",
      " positive\n",
      "<class 'str'>\n",
      "positive\n",
      "ERROR!! positive\n",
      "b.2CO.003.003\n",
      "love cert=\"medium\"\n",
      "<class 'str'>\n",
      "love\n",
      " positive\n",
      "<class 'str'>\n",
      "positive\n",
      "ERROR!! positive\n",
      "b.2CO.004.002\n",
      "body cert=\"low\"\n",
      "<class 'str'>\n",
      "body\n",
      " negative cert=\"low\"\n",
      "<class 'str'>\n",
      "negative\n",
      "ERROR!! negative\n",
      "b.2CO.004.005\n",
      "love\n",
      "<class 'str'>\n",
      "love\n",
      " positive\n",
      "<class 'str'>\n",
      "positive\n",
      "ERROR!! positive\n",
      "b.2CO.004.006\n",
      "love\n",
      "<class 'str'>\n",
      "love\n",
      " positive\n",
      "<class 'str'>\n",
      "positive\n",
      "ERROR!! positive\n",
      "b.2CO.004.010\n",
      "body\n",
      "<class 'str'>\n",
      "body\n",
      " positive\n",
      "<class 'str'>\n",
      "positive\n",
      "ERROR!! positive\n",
      "b.2CO.004.011\n",
      "flesh\n",
      "<class 'str'>\n",
      "flesh\n",
      " neutral\n",
      "<class 'str'>\n",
      "neutral\n",
      "ERROR!! neutral\n",
      "b.2CO.005.001\n",
      "body\n",
      "<class 'str'>\n",
      "body\n",
      " neutral\n",
      "<class 'str'>\n",
      "neutral\n",
      "ERROR!! neutral\n",
      "b.2CO.005.002\n",
      "body\n",
      "<class 'str'>\n",
      "body\n",
      " neutral\n",
      "<class 'str'>\n",
      "neutral\n",
      "ERROR!! neutral\n",
      "b.2CO.005.003\n",
      "body\n",
      "<class 'str'>\n",
      "body\n",
      " clothes\n",
      "<class 'str'>\n",
      "clothes\n",
      " nudity\n",
      "<class 'str'>\n",
      "nudity\n",
      " positive\n",
      "<class 'str'>\n",
      "positive\n",
      "ERROR!! positive\n",
      "negative\n",
      "<class 'str'>\n",
      "negative\n",
      "ERROR!! negative\n",
      "b.2CO.005.004\n",
      "body\n",
      "<class 'str'>\n",
      "body\n",
      " clothes\n",
      "<class 'str'>\n",
      "clothes\n",
      " nudity\n",
      "<class 'str'>\n",
      "nudity\n",
      " positive\n",
      "<class 'str'>\n",
      "positive\n",
      "ERROR!! positive\n",
      "negative\n",
      "<class 'str'>\n",
      "negative\n",
      "ERROR!! negative\n",
      "b.2CO.005.006\n",
      "body\n",
      "<class 'str'>\n",
      "body\n",
      " negative\n",
      "<class 'str'>\n",
      "negative\n",
      "ERROR!! negative\n",
      "b.2CO.005.008\n",
      "body\n",
      "<class 'str'>\n",
      "body\n",
      " negative\n",
      "<class 'str'>\n",
      "negative\n",
      "ERROR!! negative\n",
      " positive\n",
      "<class 'str'>\n",
      "positive\n",
      "ERROR!! positive\n",
      "b.2CO.005.010\n",
      "body\n",
      "<class 'str'>\n",
      "body\n",
      " negative\n",
      "<class 'str'>\n",
      "negative\n",
      "ERROR!! negative\n",
      " positive\n",
      "<class 'str'>\n",
      "positive\n",
      "ERROR!! positive\n",
      "b.2CO.005.014\n",
      "love\n",
      "<class 'str'>\n",
      "love\n",
      " positive\n",
      "<class 'str'>\n",
      "positive\n",
      "ERROR!! positive\n",
      "b.2CO.005.016\n",
      "flesh\n",
      "<class 'str'>\n",
      "flesh\n",
      " neutral\n",
      "<class 'str'>\n",
      "neutral\n",
      "ERROR!! neutral\n",
      "b.2CO.006.006\n",
      "love\n",
      "<class 'str'>\n",
      "love\n",
      " positive\n",
      "<class 'str'>\n",
      "positive\n",
      "ERROR!! positive\n",
      "b.2CO.006.011\n",
      "love\n",
      "<class 'str'>\n",
      "love\n",
      " positive\n",
      "<class 'str'>\n",
      "positive\n",
      "ERROR!! positive\n",
      "b.2CO.006.012\n",
      "love\n",
      "<class 'str'>\n",
      "love\n",
      " positive\n",
      "<class 'str'>\n",
      "positive\n",
      "ERROR!! positive\n",
      "b.2CO.006.014\n",
      "condemned-aspect\n",
      "<class 'str'>\n",
      "condemned-aspect\n",
      " interfaith-marriage\n",
      "<class 'str'>\n",
      "interfaith-marriage\n",
      "b.2CO.006.015\n",
      "condemned-aspect\n",
      "<class 'str'>\n",
      "condemned-aspect\n",
      " interfaith-marriage\n",
      "<class 'str'>\n",
      "interfaith-marriage\n",
      "b.2CO.006.016\n",
      "condemned-aspect\n",
      "<class 'str'>\n",
      "condemned-aspect\n",
      " interfaith-marriage\n",
      "<class 'str'>\n",
      "interfaith-marriage\n",
      "b.2CO.006.017\n",
      "condemned-aspect\n",
      "<class 'str'>\n",
      "condemned-aspect\n",
      " interfaith-marriage\n",
      "<class 'str'>\n",
      "interfaith-marriage\n",
      "b.2CO.007.001\n",
      "flesh\n",
      "<class 'str'>\n",
      "flesh\n",
      " negative\n",
      "<class 'str'>\n",
      "negative\n",
      "ERROR!! negative\n",
      "b.2CO.007.003\n",
      "love\n",
      "<class 'str'>\n",
      "love\n",
      " positive\n",
      "<class 'str'>\n",
      "positive\n",
      "ERROR!! positive\n",
      "b.2CO.007.005\n",
      "body cert=\"medium\"\n",
      "<class 'str'>\n",
      "body\n",
      " negative\n",
      "<class 'str'>\n",
      "negative\n",
      "ERROR!! negative\n",
      " neutral\n",
      "<class 'str'>\n",
      "neutral\n",
      "ERROR!! neutral\n",
      "b.2CO.007.011\n",
      "love\n",
      "<class 'str'>\n",
      "love\n",
      " positive\n",
      "<class 'str'>\n",
      "positive\n",
      "ERROR!! positive\n",
      " negative\n",
      "<class 'str'>\n",
      "negative\n",
      "ERROR!! negative\n",
      "b.2CO.008.007\n",
      "love\n",
      "<class 'str'>\n",
      "love\n",
      " positive\n",
      "<class 'str'>\n",
      "positive\n",
      "ERROR!! positive\n",
      "b.2CO.008.008\n",
      "love\n",
      "<class 'str'>\n",
      "love\n",
      " positive\n",
      "<class 'str'>\n",
      "positive\n",
      "ERROR!! positive\n",
      "b.2CO.008.009\n",
      "love\n",
      "<class 'str'>\n",
      "love\n",
      " positive\n",
      "<class 'str'>\n",
      "positive\n",
      "ERROR!! positive\n",
      "b.2CO.008.024\n",
      "love\n",
      "<class 'str'>\n",
      "love\n",
      " positive\n",
      "<class 'str'>\n",
      "positive\n",
      "ERROR!! positive\n",
      "b.2CO.009.007\n",
      "love\n",
      "<class 'str'>\n",
      "love\n",
      " positive\n",
      "<class 'str'>\n",
      "positive\n",
      "ERROR!! positive\n",
      "b.2CO.010.010\n",
      "body\n",
      "<class 'str'>\n",
      "body\n",
      " neutral\n",
      "<class 'str'>\n",
      "neutral\n",
      "ERROR!! neutral\n",
      "b.2CO.011.002\n",
      "wedding\n",
      "<class 'str'>\n",
      "wedding\n",
      " virgin\n",
      "<class 'str'>\n",
      "virgin\n",
      " positive\n",
      "<class 'str'>\n",
      "positive\n",
      "ERROR!! positive\n",
      "b.2CO.011.011\n",
      "love\n",
      "<class 'str'>\n",
      "love\n",
      " neutral\n",
      "<class 'str'>\n",
      "neutral\n",
      "ERROR!! neutral\n",
      "b.2CO.011.018\n",
      "flesh\n",
      "<class 'str'>\n",
      "flesh\n",
      " negative\n",
      "<class 'str'>\n",
      "negative\n",
      "ERROR!! negative\n",
      "b.2CO.011.027\n",
      "nudity\n",
      "<class 'str'>\n",
      "nudity\n",
      " negative\n",
      "<class 'str'>\n",
      "negative\n",
      "ERROR!! negative\n",
      "b.2CO.012.002\n",
      "body\n",
      "<class 'str'>\n",
      "body\n",
      " neutral\n",
      "<class 'str'>\n",
      "neutral\n",
      "ERROR!! neutral\n",
      "b.2CO.012.003\n",
      "body\n",
      "<class 'str'>\n",
      "body\n",
      " neutral\n",
      "<class 'str'>\n",
      "neutral\n",
      "ERROR!! neutral\n",
      "b.2CO.012.007\n",
      "body\n",
      "<class 'str'>\n",
      "body\n",
      " condemned\n",
      "<class 'str'>\n",
      "condemned\n",
      "ERROR!! condemned\n",
      "b.2CO.012.008\n",
      "body\n",
      "<class 'str'>\n",
      "body\n",
      " condemned\n",
      "<class 'str'>\n",
      "condemned\n",
      "ERROR!! condemned\n",
      "b.2CO.012.015\n",
      "love\n",
      "<class 'str'>\n",
      "love\n",
      " positive\n",
      "<class 'str'>\n",
      "positive\n",
      "ERROR!! positive\n",
      "b.2CO.012.021\n",
      "fornication\n",
      "<class 'str'>\n",
      "fornication\n",
      "ERROR!! fornication\n",
      " condemned\n",
      "<class 'str'>\n",
      "condemned\n",
      "ERROR!! condemned\n",
      " sexual-desire cert=\"medium\"\n",
      "<class 'str'>\n",
      "sexual-desire\n",
      "b.2CO.013.011\n",
      "love\n",
      "<class 'str'>\n",
      "love\n",
      " positive\n",
      "<class 'str'>\n",
      "positive\n",
      "ERROR!! positive\n",
      "b.2CO.013.012\n",
      "kiss\n",
      "<class 'str'>\n",
      "kiss\n",
      " positive\n",
      "<class 'str'>\n",
      "positive\n",
      "ERROR!! positive\n",
      "b.2CO.013.014\n",
      "love\n",
      "<class 'str'>\n",
      "love\n",
      " positive\n",
      "<class 'str'>\n",
      "positive\n",
      "ERROR!! positive\n",
      "errors [['b.2CO.002.004', 'positive'], ['b.2CO.002.004', 'negative'], ['b.2CO.002.008', 'positive'], ['b.2CO.003.002', 'positive'], ['b.2CO.003.003', 'positive'], ['b.2CO.004.002', 'negative'], ['b.2CO.004.005', 'positive'], ['b.2CO.004.006', 'positive'], ['b.2CO.004.010', 'positive'], ['b.2CO.004.011', 'neutral'], ['b.2CO.005.001', 'neutral'], ['b.2CO.005.002', 'neutral'], ['b.2CO.005.003', 'positive'], ['b.2CO.005.003', 'negative'], ['b.2CO.005.004', 'positive'], ['b.2CO.005.004', 'negative'], ['b.2CO.005.006', 'negative'], ['b.2CO.005.008', 'negative'], ['b.2CO.005.008', 'positive'], ['b.2CO.005.010', 'negative'], ['b.2CO.005.010', 'positive'], ['b.2CO.005.014', 'positive'], ['b.2CO.005.016', 'neutral'], ['b.2CO.006.006', 'positive'], ['b.2CO.006.011', 'positive'], ['b.2CO.006.012', 'positive'], ['b.2CO.007.001', 'negative'], ['b.2CO.007.003', 'positive'], ['b.2CO.007.005', 'negative'], ['b.2CO.007.005', 'neutral'], ['b.2CO.007.011', 'positive'], ['b.2CO.007.011', 'negative'], ['b.2CO.008.007', 'positive'], ['b.2CO.008.008', 'positive'], ['b.2CO.008.009', 'positive'], ['b.2CO.008.024', 'positive'], ['b.2CO.009.007', 'positive'], ['b.2CO.010.010', 'neutral'], ['b.2CO.011.002', 'positive'], ['b.2CO.011.011', 'neutral'], ['b.2CO.011.018', 'negative'], ['b.2CO.011.027', 'negative'], ['b.2CO.012.002', 'neutral'], ['b.2CO.012.003', 'neutral'], ['b.2CO.012.007', 'condemned'], ['b.2CO.012.008', 'condemned'], ['b.2CO.012.015', 'positive'], ['b.2CO.012.021', 'fornication'], ['b.2CO.012.021', 'condemned'], ['b.2CO.013.011', 'positive'], ['b.2CO.013.012', 'positive'], ['b.2CO.013.014', 'positive']]\n",
      "[('positive', 27), ('negative', 12), ('neutral', 9), ('condemned', 3), ('fornication', 1)]\n",
      "\n",
      "\n",
      "Consider substitue negative with negative-aspect . Levenshtein ratio:0.7\n",
      "Replacement accepted\n",
      "\n",
      "\n",
      "Consider substitue fornication with lubrication . Levenshtein ratio:0.73\n",
      "Replacement modified with sex-outside-marriage\n",
      "\n",
      "\n",
      "Consider substitue neutral with metal . Levenshtein ratio:0.67\n",
      "Replacement modified with neutral-aspect\n",
      "\n",
      "\n",
      "Consider substitue positive with positive-aspect . Levenshtein ratio:0.7\n",
      "Replacement accepted\n",
      "\n",
      "\n",
      "Consider substitue condemned with condemned-aspect . Levenshtein ratio:0.72\n",
      "Replacement accepted\n"
     ]
    }
   ],
   "source": [
    "error_lt, standOff_str = parse_sexual_anotation.parse_each_sexual_annotation_as_comment(sexual_annotations_from_comments_lt, categories_id_lt, book_name)\n"
   ]
  },
  {
   "cell_type": "code",
   "execution_count": 13,
   "metadata": {},
   "outputs": [
    {
     "output_type": "execute_result",
     "data": {
      "text/plain": [
       "[['b.2CO.002.004', 'positive'],\n",
       " ['b.2CO.002.004', 'negative'],\n",
       " ['b.2CO.002.008', 'positive'],\n",
       " ['b.2CO.003.002', 'positive'],\n",
       " ['b.2CO.003.003', 'positive'],\n",
       " ['b.2CO.004.002', 'negative'],\n",
       " ['b.2CO.004.005', 'positive'],\n",
       " ['b.2CO.004.006', 'positive'],\n",
       " ['b.2CO.004.010', 'positive'],\n",
       " ['b.2CO.004.011', 'neutral'],\n",
       " ['b.2CO.005.001', 'neutral'],\n",
       " ['b.2CO.005.002', 'neutral'],\n",
       " ['b.2CO.005.003', 'positive'],\n",
       " ['b.2CO.005.003', 'negative'],\n",
       " ['b.2CO.005.004', 'positive'],\n",
       " ['b.2CO.005.004', 'negative'],\n",
       " ['b.2CO.005.006', 'negative'],\n",
       " ['b.2CO.005.008', 'negative'],\n",
       " ['b.2CO.005.008', 'positive'],\n",
       " ['b.2CO.005.010', 'negative'],\n",
       " ['b.2CO.005.010', 'positive'],\n",
       " ['b.2CO.005.014', 'positive'],\n",
       " ['b.2CO.005.016', 'neutral'],\n",
       " ['b.2CO.006.006', 'positive'],\n",
       " ['b.2CO.006.011', 'positive'],\n",
       " ['b.2CO.006.012', 'positive'],\n",
       " ['b.2CO.007.001', 'negative'],\n",
       " ['b.2CO.007.003', 'positive'],\n",
       " ['b.2CO.007.005', 'negative'],\n",
       " ['b.2CO.007.005', 'neutral'],\n",
       " ['b.2CO.007.011', 'positive'],\n",
       " ['b.2CO.007.011', 'negative'],\n",
       " ['b.2CO.008.007', 'positive'],\n",
       " ['b.2CO.008.008', 'positive'],\n",
       " ['b.2CO.008.009', 'positive'],\n",
       " ['b.2CO.008.024', 'positive'],\n",
       " ['b.2CO.009.007', 'positive'],\n",
       " ['b.2CO.010.010', 'neutral'],\n",
       " ['b.2CO.011.002', 'positive'],\n",
       " ['b.2CO.011.011', 'neutral'],\n",
       " ['b.2CO.011.018', 'negative'],\n",
       " ['b.2CO.011.027', 'negative'],\n",
       " ['b.2CO.012.002', 'neutral'],\n",
       " ['b.2CO.012.003', 'neutral'],\n",
       " ['b.2CO.012.007', 'condemned'],\n",
       " ['b.2CO.012.008', 'condemned'],\n",
       " ['b.2CO.012.015', 'positive'],\n",
       " ['b.2CO.012.021', 'fornication'],\n",
       " ['b.2CO.012.021', 'condemned'],\n",
       " ['b.2CO.013.011', 'positive'],\n",
       " ['b.2CO.013.012', 'positive'],\n",
       " ['b.2CO.013.014', 'positive']]"
      ]
     },
     "metadata": {},
     "execution_count": 13
    }
   ],
   "source": [
    "error_lt"
   ]
  },
  {
   "cell_type": "code",
   "execution_count": 14,
   "metadata": {},
   "outputs": [
    {
     "output_type": "execute_result",
     "data": {
      "text/plain": [
       "'<standOff xml:id=\"b.2CO.sexualThemes\"  scheme=\"taxonomy.xml\">\\n<spanGrp type=\"theme\" inst=\"#b.2CO.002.004\">\\n\\t<span ana=\"love\">\\n\\t\\t<certainty match=\"@ana\" locus=\"value\" cert=\"high\" given=\"text\"/>\\n\\t</span>\\n</spanGrp>\\n<spanGrp type=\"theme\" inst=\"#b.2CO.002.004\">\\n\\t<span ana=\"positive-aspect\">\\n\\t\\t<certainty match=\"@ana\" locus=\"value\" cert=\"high\" given=\"text\"/>\\n\\t</span>\\n</spanGrp>\\n<spanGrp type=\"theme\" inst=\"#b.2CO.002.004\">\\n\\t<span ana=\"negative-aspect\">\\n\\t\\t<certainty match=\"@ana\" locus=\"value\" cert=\"high\" given=\"text\"/>\\n\\t</span>\\n</spanGrp>\\n<spanGrp type=\"theme\" inst=\"#b.2CO.002.008\">\\n\\t<span ana=\"love\">\\n\\t\\t<certainty match=\"@ana\" locus=\"value\" cert=\"high\" given=\"text\"/>\\n\\t</span>\\n</spanGrp>\\n<spanGrp type=\"theme\" inst=\"#b.2CO.002.008\">\\n\\t<span ana=\"positive-aspect\">\\n\\t\\t<certainty match=\"@ana\" locus=\"value\" cert=\"high\" given=\"text\"/>\\n\\t</span>\\n</spanGrp>\\n<spanGrp type=\"theme\" inst=\"#b.2CO.003.002\">\\n\\t<span ana=\"love\">\\n\\t\\t<certainty match=\"@ana\" locus=\"value\" cert=\"medium\" given=\"text\"/>\\n\\t</span>\\n</spanGrp>\\n<spanGrp type=\"theme\" inst=\"#b.2CO.003.002\">\\n\\t<span ana=\"positive-aspect\">\\n\\t\\t<certainty match=\"@ana\" locus=\"value\" cert=\"high\" given=\"text\"/>\\n\\t</span>\\n</spanGrp>\\n<spanGrp type=\"theme\" inst=\"#b.2CO.003.003\">\\n\\t<span ana=\"love\">\\n\\t\\t<certainty match=\"@ana\" locus=\"value\" cert=\"medium\" given=\"text\"/>\\n\\t</span>\\n</spanGrp>\\n<spanGrp type=\"theme\" inst=\"#b.2CO.003.003\">\\n\\t<span ana=\"positive-aspect\">\\n\\t\\t<certainty match=\"@ana\" locus=\"value\" cert=\"high\" given=\"text\"/>\\n\\t</span>\\n</spanGrp>\\n<spanGrp type=\"theme\" inst=\"#b.2CO.004.002\">\\n\\t<span ana=\"body\">\\n\\t\\t<certainty match=\"@ana\" locus=\"value\" cert=\"low\" given=\"text\"/>\\n\\t</span>\\n</spanGrp>\\n<spanGrp type=\"theme\" inst=\"#b.2CO.004.002\">\\n\\t<span ana=\"negative-aspect\">\\n\\t\\t<certainty match=\"@ana\" locus=\"value\" cert=\"low\" given=\"text\"/>\\n\\t</span>\\n</spanGrp>\\n<spanGrp type=\"theme\" inst=\"#b.2CO.004.005\">\\n\\t<span ana=\"love\">\\n\\t\\t<certainty match=\"@ana\" locus=\"value\" cert=\"high\" given=\"text\"/>\\n\\t</span>\\n</spanGrp>\\n<spanGrp type=\"theme\" inst=\"#b.2CO.004.005\">\\n\\t<span ana=\"positive-aspect\">\\n\\t\\t<certainty match=\"@ana\" locus=\"value\" cert=\"high\" given=\"text\"/>\\n\\t</span>\\n</spanGrp>\\n<spanGrp type=\"theme\" inst=\"#b.2CO.004.006\">\\n\\t<span ana=\"love\">\\n\\t\\t<certainty match=\"@ana\" locus=\"value\" cert=\"high\" given=\"text\"/>\\n\\t</span>\\n</spanGrp>\\n<spanGrp type=\"theme\" inst=\"#b.2CO.004.006\">\\n\\t<span ana=\"positive-aspect\">\\n\\t\\t<certainty match=\"@ana\" locus=\"value\" cert=\"high\" given=\"text\"/>\\n\\t</span>\\n</spanGrp>\\n<spanGrp type=\"theme\" inst=\"#b.2CO.004.010\">\\n\\t<span ana=\"body\">\\n\\t\\t<certainty match=\"@ana\" locus=\"value\" cert=\"high\" given=\"text\"/>\\n\\t</span>\\n</spanGrp>\\n<spanGrp type=\"theme\" inst=\"#b.2CO.004.010\">\\n\\t<span ana=\"positive-aspect\">\\n\\t\\t<certainty match=\"@ana\" locus=\"value\" cert=\"high\" given=\"text\"/>\\n\\t</span>\\n</spanGrp>\\n<spanGrp type=\"theme\" inst=\"#b.2CO.004.011\">\\n\\t<span ana=\"flesh\">\\n\\t\\t<certainty match=\"@ana\" locus=\"value\" cert=\"high\" given=\"text\"/>\\n\\t</span>\\n</spanGrp>\\n<spanGrp type=\"theme\" inst=\"#b.2CO.004.011\">\\n\\t<span ana=\"neutral-aspect\">\\n\\t\\t<certainty match=\"@ana\" locus=\"value\" cert=\"high\" given=\"text\"/>\\n\\t</span>\\n</spanGrp>\\n<spanGrp type=\"theme\" inst=\"#b.2CO.005.001\">\\n\\t<span ana=\"body\">\\n\\t\\t<certainty match=\"@ana\" locus=\"value\" cert=\"high\" given=\"text\"/>\\n\\t</span>\\n</spanGrp>\\n<spanGrp type=\"theme\" inst=\"#b.2CO.005.001\">\\n\\t<span ana=\"neutral-aspect\">\\n\\t\\t<certainty match=\"@ana\" locus=\"value\" cert=\"high\" given=\"text\"/>\\n\\t</span>\\n</spanGrp>\\n<spanGrp type=\"theme\" inst=\"#b.2CO.005.002\">\\n\\t<span ana=\"body\">\\n\\t\\t<certainty match=\"@ana\" locus=\"value\" cert=\"high\" given=\"text\"/>\\n\\t</span>\\n</spanGrp>\\n<spanGrp type=\"theme\" inst=\"#b.2CO.005.002\">\\n\\t<span ana=\"neutral-aspect\">\\n\\t\\t<certainty match=\"@ana\" locus=\"value\" cert=\"high\" given=\"text\"/>\\n\\t</span>\\n</spanGrp>\\n<spanGrp type=\"theme\" inst=\"#b.2CO.005.003\">\\n\\t<span ana=\"body\">\\n\\t\\t<certainty match=\"@ana\" locus=\"value\" cert=\"high\" given=\"text\"/>\\n\\t</span>\\n</spanGrp>\\n<spanGrp type=\"theme\" inst=\"#b.2CO.005.003\">\\n\\t<span ana=\"clothes\">\\n\\t\\t<certainty match=\"@ana\" locus=\"value\" cert=\"high\" given=\"text\"/>\\n\\t</span>\\n</spanGrp>\\n<spanGrp type=\"theme\" inst=\"#b.2CO.005.003\">\\n\\t<span ana=\"nudity\">\\n\\t\\t<certainty match=\"@ana\" locus=\"value\" cert=\"high\" given=\"text\"/>\\n\\t</span>\\n</spanGrp>\\n<spanGrp type=\"theme\" inst=\"#b.2CO.005.003\">\\n\\t<span ana=\"positive-aspect\">\\n\\t\\t<certainty match=\"@ana\" locus=\"value\" cert=\"high\" given=\"text\"/>\\n\\t</span>\\n</spanGrp>\\n<spanGrp type=\"theme\" inst=\"#b.2CO.005.003\">\\n\\t<span ana=\"negative-aspect\">\\n\\t\\t<certainty match=\"@ana\" locus=\"value\" cert=\"high\" given=\"text\"/>\\n\\t</span>\\n</spanGrp>\\n<spanGrp type=\"theme\" inst=\"#b.2CO.005.004\">\\n\\t<span ana=\"body\">\\n\\t\\t<certainty match=\"@ana\" locus=\"value\" cert=\"high\" given=\"text\"/>\\n\\t</span>\\n</spanGrp>\\n<spanGrp type=\"theme\" inst=\"#b.2CO.005.004\">\\n\\t<span ana=\"clothes\">\\n\\t\\t<certainty match=\"@ana\" locus=\"value\" cert=\"high\" given=\"text\"/>\\n\\t</span>\\n</spanGrp>\\n<spanGrp type=\"theme\" inst=\"#b.2CO.005.004\">\\n\\t<span ana=\"nudity\">\\n\\t\\t<certainty match=\"@ana\" locus=\"value\" cert=\"high\" given=\"text\"/>\\n\\t</span>\\n</spanGrp>\\n<spanGrp type=\"theme\" inst=\"#b.2CO.005.004\">\\n\\t<span ana=\"positive-aspect\">\\n\\t\\t<certainty match=\"@ana\" locus=\"value\" cert=\"high\" given=\"text\"/>\\n\\t</span>\\n</spanGrp>\\n<spanGrp type=\"theme\" inst=\"#b.2CO.005.004\">\\n\\t<span ana=\"negative-aspect\">\\n\\t\\t<certainty match=\"@ana\" locus=\"value\" cert=\"high\" given=\"text\"/>\\n\\t</span>\\n</spanGrp>\\n<spanGrp type=\"theme\" inst=\"#b.2CO.005.006\">\\n\\t<span ana=\"body\">\\n\\t\\t<certainty match=\"@ana\" locus=\"value\" cert=\"high\" given=\"text\"/>\\n\\t</span>\\n</spanGrp>\\n<spanGrp type=\"theme\" inst=\"#b.2CO.005.006\">\\n\\t<span ana=\"negative-aspect\">\\n\\t\\t<certainty match=\"@ana\" locus=\"value\" cert=\"high\" given=\"text\"/>\\n\\t</span>\\n</spanGrp>\\n<spanGrp type=\"theme\" inst=\"#b.2CO.005.008\">\\n\\t<span ana=\"body\">\\n\\t\\t<certainty match=\"@ana\" locus=\"value\" cert=\"high\" given=\"text\"/>\\n\\t</span>\\n</spanGrp>\\n<spanGrp type=\"theme\" inst=\"#b.2CO.005.008\">\\n\\t<span ana=\"negative-aspect\">\\n\\t\\t<certainty match=\"@ana\" locus=\"value\" cert=\"high\" given=\"text\"/>\\n\\t</span>\\n</spanGrp>\\n<spanGrp type=\"theme\" inst=\"#b.2CO.005.008\">\\n\\t<span ana=\"positive-aspect\">\\n\\t\\t<certainty match=\"@ana\" locus=\"value\" cert=\"high\" given=\"text\"/>\\n\\t</span>\\n</spanGrp>\\n<spanGrp type=\"theme\" inst=\"#b.2CO.005.010\">\\n\\t<span ana=\"body\">\\n\\t\\t<certainty match=\"@ana\" locus=\"value\" cert=\"high\" given=\"text\"/>\\n\\t</span>\\n</spanGrp>\\n<spanGrp type=\"theme\" inst=\"#b.2CO.005.010\">\\n\\t<span ana=\"negative-aspect\">\\n\\t\\t<certainty match=\"@ana\" locus=\"value\" cert=\"high\" given=\"text\"/>\\n\\t</span>\\n</spanGrp>\\n<spanGrp type=\"theme\" inst=\"#b.2CO.005.010\">\\n\\t<span ana=\"positive-aspect\">\\n\\t\\t<certainty match=\"@ana\" locus=\"value\" cert=\"high\" given=\"text\"/>\\n\\t</span>\\n</spanGrp>\\n<spanGrp type=\"theme\" inst=\"#b.2CO.005.014\">\\n\\t<span ana=\"love\">\\n\\t\\t<certainty match=\"@ana\" locus=\"value\" cert=\"high\" given=\"text\"/>\\n\\t</span>\\n</spanGrp>\\n<spanGrp type=\"theme\" inst=\"#b.2CO.005.014\">\\n\\t<span ana=\"positive-aspect\">\\n\\t\\t<certainty match=\"@ana\" locus=\"value\" cert=\"high\" given=\"text\"/>\\n\\t</span>\\n</spanGrp>\\n<spanGrp type=\"theme\" inst=\"#b.2CO.005.016\">\\n\\t<span ana=\"flesh\">\\n\\t\\t<certainty match=\"@ana\" locus=\"value\" cert=\"high\" given=\"text\"/>\\n\\t</span>\\n</spanGrp>\\n<spanGrp type=\"theme\" inst=\"#b.2CO.005.016\">\\n\\t<span ana=\"neutral-aspect\">\\n\\t\\t<certainty match=\"@ana\" locus=\"value\" cert=\"high\" given=\"text\"/>\\n\\t</span>\\n</spanGrp>\\n<spanGrp type=\"theme\" inst=\"#b.2CO.006.006\">\\n\\t<span ana=\"love\">\\n\\t\\t<certainty match=\"@ana\" locus=\"value\" cert=\"high\" given=\"text\"/>\\n\\t</span>\\n</spanGrp>\\n<spanGrp type=\"theme\" inst=\"#b.2CO.006.006\">\\n\\t<span ana=\"positive-aspect\">\\n\\t\\t<certainty match=\"@ana\" locus=\"value\" cert=\"high\" given=\"text\"/>\\n\\t</span>\\n</spanGrp>\\n<spanGrp type=\"theme\" inst=\"#b.2CO.006.011\">\\n\\t<span ana=\"love\">\\n\\t\\t<certainty match=\"@ana\" locus=\"value\" cert=\"high\" given=\"text\"/>\\n\\t</span>\\n</spanGrp>\\n<spanGrp type=\"theme\" inst=\"#b.2CO.006.011\">\\n\\t<span ana=\"positive-aspect\">\\n\\t\\t<certainty match=\"@ana\" locus=\"value\" cert=\"high\" given=\"text\"/>\\n\\t</span>\\n</spanGrp>\\n<spanGrp type=\"theme\" inst=\"#b.2CO.006.012\">\\n\\t<span ana=\"love\">\\n\\t\\t<certainty match=\"@ana\" locus=\"value\" cert=\"high\" given=\"text\"/>\\n\\t</span>\\n</spanGrp>\\n<spanGrp type=\"theme\" inst=\"#b.2CO.006.012\">\\n\\t<span ana=\"positive-aspect\">\\n\\t\\t<certainty match=\"@ana\" locus=\"value\" cert=\"high\" given=\"text\"/>\\n\\t</span>\\n</spanGrp>\\n<spanGrp type=\"theme\" inst=\"#b.2CO.006.014\">\\n\\t<span ana=\"condemned-aspect\">\\n\\t\\t<certainty match=\"@ana\" locus=\"value\" cert=\"high\" given=\"text\"/>\\n\\t</span>\\n</spanGrp>\\n<spanGrp type=\"theme\" inst=\"#b.2CO.006.014\">\\n\\t<span ana=\"interfaith-marriage\">\\n\\t\\t<certainty match=\"@ana\" locus=\"value\" cert=\"high\" given=\"text\"/>\\n\\t</span>\\n</spanGrp>\\n<spanGrp type=\"theme\" inst=\"#b.2CO.006.015\">\\n\\t<span ana=\"condemned-aspect\">\\n\\t\\t<certainty match=\"@ana\" locus=\"value\" cert=\"high\" given=\"text\"/>\\n\\t</span>\\n</spanGrp>\\n<spanGrp type=\"theme\" inst=\"#b.2CO.006.015\">\\n\\t<span ana=\"interfaith-marriage\">\\n\\t\\t<certainty match=\"@ana\" locus=\"value\" cert=\"high\" given=\"text\"/>\\n\\t</span>\\n</spanGrp>\\n<spanGrp type=\"theme\" inst=\"#b.2CO.006.016\">\\n\\t<span ana=\"condemned-aspect\">\\n\\t\\t<certainty match=\"@ana\" locus=\"value\" cert=\"high\" given=\"text\"/>\\n\\t</span>\\n</spanGrp>\\n<spanGrp type=\"theme\" inst=\"#b.2CO.006.016\">\\n\\t<span ana=\"interfaith-marriage\">\\n\\t\\t<certainty match=\"@ana\" locus=\"value\" cert=\"high\" given=\"text\"/>\\n\\t</span>\\n</spanGrp>\\n<spanGrp type=\"theme\" inst=\"#b.2CO.006.017\">\\n\\t<span ana=\"condemned-aspect\">\\n\\t\\t<certainty match=\"@ana\" locus=\"value\" cert=\"high\" given=\"text\"/>\\n\\t</span>\\n</spanGrp>\\n<spanGrp type=\"theme\" inst=\"#b.2CO.006.017\">\\n\\t<span ana=\"interfaith-marriage\">\\n\\t\\t<certainty match=\"@ana\" locus=\"value\" cert=\"high\" given=\"text\"/>\\n\\t</span>\\n</spanGrp>\\n<spanGrp type=\"theme\" inst=\"#b.2CO.007.001\">\\n\\t<span ana=\"flesh\">\\n\\t\\t<certainty match=\"@ana\" locus=\"value\" cert=\"high\" given=\"text\"/>\\n\\t</span>\\n</spanGrp>\\n<spanGrp type=\"theme\" inst=\"#b.2CO.007.001\">\\n\\t<span ana=\"negative-aspect\">\\n\\t\\t<certainty match=\"@ana\" locus=\"value\" cert=\"high\" given=\"text\"/>\\n\\t</span>\\n</spanGrp>\\n<spanGrp type=\"theme\" inst=\"#b.2CO.007.003\">\\n\\t<span ana=\"love\">\\n\\t\\t<certainty match=\"@ana\" locus=\"value\" cert=\"high\" given=\"text\"/>\\n\\t</span>\\n</spanGrp>\\n<spanGrp type=\"theme\" inst=\"#b.2CO.007.003\">\\n\\t<span ana=\"positive-aspect\">\\n\\t\\t<certainty match=\"@ana\" locus=\"value\" cert=\"high\" given=\"text\"/>\\n\\t</span>\\n</spanGrp'"
      ]
     },
     "metadata": {},
     "execution_count": 14
    }
   ],
   "source": [
    "standOff_str[0:10000]"
   ]
  },
  {
   "cell_type": "code",
   "execution_count": 15,
   "metadata": {},
   "outputs": [],
   "source": [
    "valorations_lt = taxonomy_el.xpath(\"//tei:category[@xml:id='valorations']//tei:category//@xml:id\", namespaces = namespaces_dict)"
   ]
  },
  {
   "cell_type": "code",
   "execution_count": 16,
   "metadata": {},
   "outputs": [
    {
     "output_type": "execute_result",
     "data": {
      "text/plain": [
       "5"
      ]
     },
     "metadata": {},
     "execution_count": 16
    }
   ],
   "source": [
    "len(valorations_lt)"
   ]
  },
  {
   "cell_type": "code",
   "execution_count": 17,
   "metadata": {},
   "outputs": [
    {
     "output_type": "execute_result",
     "data": {
      "text/plain": [
       "['blessed-aspect',\n",
       " 'positive-aspect',\n",
       " 'neutral-aspect',\n",
       " 'negative-aspect',\n",
       " 'condemned-aspect']"
      ]
     },
     "metadata": {},
     "execution_count": 17
    }
   ],
   "source": [
    "valorations_lt"
   ]
  },
  {
   "cell_type": "code",
   "execution_count": 18,
   "metadata": {},
   "outputs": [],
   "source": [
    "for verse in sorted(list(set(etree.fromstring(standOff_str).xpath('//spanGrp//@inst')))):\n",
    "    #print(verse)\n",
    "    annotations = etree.fromstring(standOff_str).xpath('//spanGrp[@inst =\"' + verse + '\"]/span/@ana')\n",
    "\n",
    "    if valorations_lt[0] not in annotations and valorations_lt[1]  not in annotations and valorations_lt[2]  not in annotations  and valorations_lt[3] not in annotations  and valorations_lt[4] not in annotations:\n",
    "        print(verse, annotations) \n"
   ]
  },
  {
   "cell_type": "code",
   "execution_count": 19,
   "metadata": {},
   "outputs": [
    {
     "output_type": "execute_result",
     "data": {
      "text/plain": [
       "'#b.2CO.013.014'"
      ]
     },
     "metadata": {},
     "execution_count": 19
    }
   ],
   "source": [
    "verse"
   ]
  },
  {
   "cell_type": "code",
   "execution_count": 20,
   "metadata": {},
   "outputs": [
    {
     "output_type": "execute_result",
     "data": {
      "text/plain": [
       "['love', 'positive-aspect']"
      ]
     },
     "metadata": {},
     "execution_count": 20
    }
   ],
   "source": [
    "annotations"
   ]
  },
  {
   "cell_type": "code",
   "execution_count": 21,
   "metadata": {},
   "outputs": [
    {
     "output_type": "execute_result",
     "data": {
      "text/plain": [
       "label    b\n",
       "value    5\n",
       "Name: 1, dtype: object"
      ]
     },
     "metadata": {},
     "execution_count": 21
    }
   ],
   "source": [
    "import pandas as pd\n",
    "pd.DataFrame([[\"a\", 1],[\"b\", 5],[\"c\", 0],[\"d\", 2],], columns=[\"label\", \"value\"]).sort_values(by=\"value\", ascending=False).iloc[0]"
   ]
  },
  {
   "cell_type": "code",
   "execution_count": 22,
   "metadata": {},
   "outputs": [],
   "source": [
    "# TODO: paso en el que se revise si todos los versículos tienen polaridad"
   ]
  },
  {
   "cell_type": "code",
   "execution_count": 23,
   "metadata": {},
   "outputs": [
    {
     "output_type": "execute_result",
     "data": {
      "text/plain": [
       "[['b.2CO.002.004', 'positive'],\n",
       " ['b.2CO.002.004', 'negative'],\n",
       " ['b.2CO.002.008', 'positive'],\n",
       " ['b.2CO.003.002', 'positive'],\n",
       " ['b.2CO.003.003', 'positive'],\n",
       " ['b.2CO.004.002', 'negative'],\n",
       " ['b.2CO.004.005', 'positive'],\n",
       " ['b.2CO.004.006', 'positive'],\n",
       " ['b.2CO.004.010', 'positive'],\n",
       " ['b.2CO.004.011', 'neutral'],\n",
       " ['b.2CO.005.001', 'neutral'],\n",
       " ['b.2CO.005.002', 'neutral'],\n",
       " ['b.2CO.005.003', 'positive'],\n",
       " ['b.2CO.005.003', 'negative'],\n",
       " ['b.2CO.005.004', 'positive'],\n",
       " ['b.2CO.005.004', 'negative'],\n",
       " ['b.2CO.005.006', 'negative'],\n",
       " ['b.2CO.005.008', 'negative'],\n",
       " ['b.2CO.005.008', 'positive'],\n",
       " ['b.2CO.005.010', 'negative'],\n",
       " ['b.2CO.005.010', 'positive'],\n",
       " ['b.2CO.005.014', 'positive'],\n",
       " ['b.2CO.005.016', 'neutral'],\n",
       " ['b.2CO.006.006', 'positive'],\n",
       " ['b.2CO.006.011', 'positive'],\n",
       " ['b.2CO.006.012', 'positive'],\n",
       " ['b.2CO.007.001', 'negative'],\n",
       " ['b.2CO.007.003', 'positive'],\n",
       " ['b.2CO.007.005', 'negative'],\n",
       " ['b.2CO.007.005', 'neutral'],\n",
       " ['b.2CO.007.011', 'positive'],\n",
       " ['b.2CO.007.011', 'negative'],\n",
       " ['b.2CO.008.007', 'positive'],\n",
       " ['b.2CO.008.008', 'positive'],\n",
       " ['b.2CO.008.009', 'positive'],\n",
       " ['b.2CO.008.024', 'positive'],\n",
       " ['b.2CO.009.007', 'positive'],\n",
       " ['b.2CO.010.010', 'neutral'],\n",
       " ['b.2CO.011.002', 'positive'],\n",
       " ['b.2CO.011.011', 'neutral'],\n",
       " ['b.2CO.011.018', 'negative'],\n",
       " ['b.2CO.011.027', 'negative'],\n",
       " ['b.2CO.012.002', 'neutral'],\n",
       " ['b.2CO.012.003', 'neutral'],\n",
       " ['b.2CO.012.007', 'condemned'],\n",
       " ['b.2CO.012.008', 'condemned'],\n",
       " ['b.2CO.012.015', 'positive'],\n",
       " ['b.2CO.012.021', 'fornication'],\n",
       " ['b.2CO.012.021', 'condemned'],\n",
       " ['b.2CO.013.011', 'positive'],\n",
       " ['b.2CO.013.012', 'positive'],\n",
       " ['b.2CO.013.014', 'positive']]"
      ]
     },
     "metadata": {},
     "execution_count": 23
    }
   ],
   "source": [
    "error_lt"
   ]
  },
  {
   "cell_type": "code",
   "execution_count": 24,
   "metadata": {
    "tags": []
   },
   "outputs": [
    {
     "output_type": "execute_result",
     "data": {
      "text/plain": [
       "[('positive', 27),\n",
       " ('negative', 12),\n",
       " ('neutral', 9),\n",
       " ('condemned', 3),\n",
       " ('fornication', 1)]"
      ]
     },
     "metadata": {},
     "execution_count": 24
    }
   ],
   "source": [
    "from collections import Counter\n",
    "Counter([error_id[1] for  error_id in error_lt]).most_common()\n"
   ]
  },
  {
   "cell_type": "code",
   "execution_count": 25,
   "metadata": {},
   "outputs": [],
   "source": [
    "parse_sexual_anotation.save_book_with_standOff_element(book_str, standOff_str, book_name,     wdir_str = \"./../../../sexual-annotation/\",)"
   ]
  },
  {
   "cell_type": "code",
   "execution_count": 26,
   "metadata": {},
   "outputs": [
    {
     "output_type": "execute_result",
     "data": {
      "text/plain": [
       "'<?xml version=\"1.0\" encoding=\"UTF-8\"?>\\n\\n<?xml-model href=\"https://raw.githubusercontent.com/morethanbooks/XML-TEI-Bible/master/scheme/tei_lite.rng\" type=\"application/xml\" schematypens=\"http://relaxng.org/ns/structure/1.0\"?>\\n<!--<?xml-model href=\"http://www.tei-c.org/release/xml/tei/custom/schema/relaxng/tei_all.rng\" type=\"application/xml\"\\n\\tschematypens=\"http://purl.oclc.org/dsdl/schematron\"?>-->\\n\\n\\n<?xml-stylesheet type=\"text/css\" href=\"styles/word2pix-reference.css\" rel=\"stylesheet\" title=\"Word2Pix References\"?>\\n<?xml-stylesheet type=\"text/css\" href=\"styles/styles.css\" rel=\"stylesheet\" title=\"Classic\"?>\\n<?xml-stylesheet type=\"text/css\" href=\"styles/word2pix-quotes.css\" rel=\"stylesheet\" title=\"Word2Pix Quotations\"?>\\n<?xml-stylesheet type=\"text/css\" href=\"styles/word2pix-level-q.css\" rel=\"stylesheet\" title=\"Word2Pix Level Quotation\"?>\\n\\n\\n\\n<TEI xmlns=\"http://www.tei-c.org/ns/1.0\">\\n\\t<teiHeader>\\n\\t\\t<fileDesc>\\n\\t\\t\\t<titleStmt>\\n\\t\\t\\t\\t<title>2 Corintios</title>\\n\\t\\t\\t\\t<title type=\"idno\">\\n\\t\\t\\t\\t\\t<idno typ'"
      ]
     },
     "metadata": {},
     "execution_count": 26
    }
   ],
   "source": [
    "book_str[0:1000]"
   ]
  },
  {
   "cell_type": "code",
   "execution_count": 27,
   "metadata": {},
   "outputs": [
    {
     "output_type": "execute_result",
     "data": {
      "text/plain": [
       "'\\t<head type=\"pericope\">Saludos y doxología final</head>\\n\\t\\t\\t\\t\\t\\t<ab xml:id=\"b.2CO.013.011\" type=\"verse\" n=\"11\">\\n\\t\\t\\t\\t\\t\\t\\t<!--sex: love; positive-->\\n\\t\\t\\t\\t\\t\\t\\tPor lo demás, <rs key=\"#org185\">hermanos</rs>, tened gozo, perfeccionaos, consolaos, sed de un mismo sentir y vivid en paz; y el <rs key=\"#per14\">Dios de paz y de amor</rs> estará con vosotros.\\n\\t\\t\\t\\t\\t\\t</ab>\\n\\t\\t\\t\\t\\t\\t<ab xml:id=\"b.2CO.013.012\" type=\"verse\" n=\"12\">\\n\\t\\t\\t\\t\\t\\t\\t<!--sex: kiss; positive-->\\n\\t\\t\\t\\t\\t\\t\\tSaludaos unos a otros con beso santo.\\n\\t\\t\\t\\t\\t\\t</ab>\\n\\t\\t\\t\\t\\t\\t<ab xml:id=\"b.2CO.013.013\" type=\"verse\" n=\"13\">\\n\\t\\t\\t\\t\\t\\t\\tTodos los <rs key=\"#org18\">santos</rs> os saludan.\\n\\t\\t\\t\\t\\t\\t</ab>\\n\\t\\t\\t\\t\\t\\t<ab xml:id=\"b.2CO.013.014\" type=\"verse\" n=\"14\">\\n\\t\\t\\t\\t\\t\\t\\t<!--sex: love; positive-->\\n\\t\\t\\t\\t\\t\\t\\tLa gracia del <rs key=\"#per1\">Señor</rs> <rs key=\"#per1\">Jesucristo</rs>, el amor de <rs key=\"#per14\">Dios</rs> y la comunión del <rs key=\"#per17\">Espíritu Santo</rs> sean con todos vosotros. Amén.\\n\\t\\t\\t\\t\\t\\t</ab>\\n\\t\\t\\t\\t\\t</div>\\n\\t\\t\\t\\t</div>\\n\\t\\t\\t</div>\\n\\t\\t</body>\\n\\t\\t<back />\\n\\t</text>\\n</TEI>'"
      ]
     },
     "metadata": {},
     "execution_count": 27
    }
   ],
   "source": [
    "book_str[-1000:]"
   ]
  },
  {
   "cell_type": "code",
   "execution_count": null,
   "metadata": {},
   "outputs": [],
   "source": []
  },
  {
   "cell_type": "code",
   "execution_count": null,
   "metadata": {},
   "outputs": [],
   "source": []
  }
 ]
}