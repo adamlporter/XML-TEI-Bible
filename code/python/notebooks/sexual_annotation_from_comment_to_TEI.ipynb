{
 "metadata": {
  "language_info": {
   "codemirror_mode": {
    "name": "ipython",
    "version": 3
   },
   "file_extension": ".py",
   "mimetype": "text/x-python",
   "name": "python",
   "nbconvert_exporter": "python",
   "pygments_lexer": "ipython3",
   "version": "3.7.6"
  },
  "orig_nbformat": 2,
  "kernelspec": {
   "name": "python376jvsc74a57bd0960f4d658457e0296618a96ff118bd2cbd6b6fed4373572a098ed4ec5a9be4c3",
   "display_name": "Python 3.7.6 64-bit (conda)"
  }
 },
 "nbformat": 4,
 "nbformat_minor": 2,
 "cells": [
  {
   "cell_type": "code",
   "execution_count": 1,
   "metadata": {},
   "outputs": [],
   "source": [
    "import pandas as pd\n",
    "from lxml import etree\n",
    "import requests\n",
    "import os\n",
    "import time\n"
   ]
  },
  {
   "cell_type": "code",
   "execution_count": 2,
   "metadata": {},
   "outputs": [],
   "source": [
    "sys.path.append(os.path.abspath(\"./../scripts/\"))\n"
   ]
  },
  {
   "cell_type": "code",
   "execution_count": 3,
   "metadata": {},
   "outputs": [],
   "source": [
    "import parse_sexual_anotation"
   ]
  },
  {
   "cell_type": "code",
   "execution_count": 4,
   "metadata": {},
   "outputs": [],
   "source": [
    "book_name = \"JOB\""
   ]
  },
  {
   "cell_type": "code",
   "execution_count": 5,
   "metadata": {},
   "outputs": [],
   "source": [
    "wdir_str = \"./../../../sexual-annotation/\"\n",
    "file_str = book_name + \".xml\"\n",
    "\n",
    "book_name_str = file_str[0:3]\n"
   ]
  },
  {
   "cell_type": "code",
   "execution_count": 6,
   "metadata": {
    "tags": []
   },
   "outputs": [
    {
     "output_type": "stream",
     "name": "stdout",
     "text": [
      "['./../../../sexual-annotation/JOB.xml']\nJOB\n<class 'str'>\n"
     ]
    },
    {
     "output_type": "execute_result",
     "data": {
      "text/plain": [
       "'<?xml version=\"1.0\" encoding=\"UTF-8\"?>\\n<?xml-model href=\"https://raw.githubusercontent.com/morethanbooks/XML-TEI-Bible/master/scheme/tei_lite.rng\" type=\"application/xml\" schematypens=\"http://relaxng.org/ns/structure/1.0\"?>\\n<!--<?xml-model href=\"http://www.tei-c.org/release/xml/tei/custom/schema/relaxng/tei_all.rng\" type=\"application/xml\"\\n\\tschematypens=\"http://purl.oclc.org/dsdl/schematron\"?>-->\\n\\n\\n<?xml-stylesheet type=\"text/css\" href=\"styles/word2pix-reference.css\" rel=\"stylesheet\" title=\"Word2Pix References\"?>\\n<?xml-stylesheet type=\"text/css\" href=\"styles/styles.css\" rel=\"stylesheet\" title=\"Classic\"?>\\n<?xml-stylesheet type=\"text/css\" href=\"styles/word2pix-quotes.css\" rel=\"stylesheet\" title=\"Word2Pix Quotations\"?>\\n<?xml-stylesheet type=\"text/css\" href=\"styles/word2pix-level-q.css\" rel=\"stylesheet\" title=\"Word2Pix Level Quotation\"?>\\n\\n\\n<TEI xmlns=\"http://www.tei-c.org/ns/1.0\">\\n\\t<teiHeader>\\n\\t\\t<fileDesc>\\n\\t\\t\\t<titleStmt>\\n\\t\\t\\t\\t<title>Job</title>\\n\\t\\t\\t\\t<title type=\"idno\">\\n\\t\\t\\t\\t\\t<idno type=\"string\"'"
      ]
     },
     "metadata": {},
     "execution_count": 6
    }
   ],
   "source": [
    "book_str = parse_sexual_anotation.open_book(wdir_str, file_str)\n",
    "book_str[0:1000]\n"
   ]
  },
  {
   "cell_type": "code",
   "execution_count": 7,
   "metadata": {},
   "outputs": [],
   "source": [
    "taxonomy_file_str = \"taxonomy.xml\"\n"
   ]
  },
  {
   "cell_type": "code",
   "execution_count": 8,
   "metadata": {
    "tags": []
   },
   "outputs": [
    {
     "output_type": "stream",
     "name": "stdout",
     "text": [
      "<class 'lxml.etree._Element'>\n"
     ]
    }
   ],
   "source": [
    "taxonomy_el = parse_sexual_anotation.open_taxonomy(wdir_str, taxonomy_file_str)\n",
    "\n"
   ]
  },
  {
   "cell_type": "code",
   "execution_count": 9,
   "metadata": {},
   "outputs": [],
   "source": [
    "namespaces_dict = {'tei':'http://www.tei-c.org/ns/1.0','xi':'http://www.w3.org/2001/XInclude'}\n"
   ]
  },
  {
   "cell_type": "code",
   "execution_count": 10,
   "metadata": {
    "tags": []
   },
   "outputs": [
    {
     "output_type": "stream",
     "name": "stdout",
     "text": [
      "['relations', 'monogamy', 'poligamy', 'marriage', 'second-marriage', 'second-marriage-divorce', 'second-marriage-widow', 'interfaith-marriage', 'interfaith-relation', 'non-marital-relation', 'marital-relation-political-family', 'lord-servant-relation', 'marital-relation-direct-family', 'arranged-marriage', 'divorce', 'engaged', 'love', 'jealousy', 'ascendant-descendant', 'primogeniture', 'indirect-ascendant-descendant', 'acts', 'social-related-act', 'wedding', 'body-related-act', 'massage', 'kiss', 'hug', 'dance', 'abortion', 'circumcision', 'breast-feeding', 'sexual-act', 'sexual-act-stage', 'seduction', 'erotic-time', 'initation-sexual-act', 'orgasm', 'ejaculation', 'time-after-sex', 'sexual-act-type', 'coitus', 'first-sexual-act', 'coitus-interruptus', 'self-masturbation', 'masturbation', 'oral-sex', 'anal-sex', 'non-penetrative-sex', 'female-rape', 'male-rape', 'sexual-assault', 'female-sexual-assault', 'male-sexual-assault', 'sexual-deception', 'sexual-drive', 'sexual-desire', 'sex-for-goods', 'other-sexual-act', 'sexual-act-situation', 'sex-in-marriage', 'sex-before-marriage', 'sex-outside-marriage', 'sex-outside', 'sexual-act-participants', 'heterosexual-sex', 'homosexual-sex', 'gay-sex', 'lesbian-sex', 'prostitution-sex', 'religous-sex', 'parents-children-sex', 'sibling-sex', 'greater-family-sex', 'angel-human-sex', 'animal-human-sex', 'animal-sex', 'groupal-sex', 'lord-servant-sex', 'states', 'single-life', 'virginity', 'celibacy', 'infertility', 'nudity', 'semi-nudity', 'pregnancy', 'beauty', 'dishonor', 'body', 'body-by-gender', 'female-body', 'male-body', 'body-part', 'genitalia', 'female-genitalia', 'uterus', 'male-genitalia', 'prepuce', 'gluteus-anus', 'female-breast', 'male-chest', 'ovaries', 'semen', 'head', 'eye', 'nose', 'cheek', 'mouth', 'lips', 'tongue', 'tooth', 'hair', 'thigh', 'neck', 'hand', 'skin', 'foot', 'waist', 'heart', 'navel', 'belly', 'leg', 'knie', 'arm', 'rib', 'lubrication', 'face', 'flesh', 'body-function', 'birth', 'fertilization', 'misscarriage', 'erection', 'menstruation', 'sleep', 'diseases', 'menstrual-disorder', 'senses', 'smell', 'things', 'clothes', 'belt', 'veil', 'perfume', 'juwels', 'earrings', 'piercing', 'collar', 'bracelet', 'food-and-related', 'drink', 'water', 'milk', 'wine', 'alcohol', 'glass', 'spices', 'wheat', 'honey', 'fruits', 'pomegranate', 'grapes', 'raisin', 'apples', 'figs', 'carriage', 'weapons', 'sword', 'shield', 'money', 'metal', 'silver', 'gold', 'fountain', 'well', 'pitcher', 'environment', 'moon', 'sun', 'rain', 'wind', 'places', 'interior-spaces', 'room', 'bedroom', 'bed', 'door', 'wall', 'house', 'tower', 'exterior-spaces', 'garden', 'vineyard', 'spring', 'desert', 'river', 'field', 'lake', 'groups', 'based-on-gender', 'women', 'men', 'third-sexual-group', 'eunuchs', 'based-on-orientation', 'heterosexuals', 'homosexuals', 'male-homosexuals', 'female-homosexuals', 'by-state', 'single', 'married', 'widow-widower', 'widow', 'widower', 'virgin', 'by-profession', 'prostitutes', 'female-prostitutes', 'male-prostitutes', 'sexual-priests', 'concubine', 'by-corporal-traits', 'circumcised', 'uncircumcised', 'animals', 'gazelle', 'deer', 'dove', 'fox', 'goat', 'sheep', 'leopard', 'lion', 'crow', 'turtledove', 'horse', 'donkey', 'cow', 'camel', 'plants', 'flowers', 'trees', 'palms', 'time', 'part-of-the-day', 'night', 'sunrise', 'seasons', 'winter', 'valorations', 'blessed-aspect', 'positive-aspect', 'neutral-aspect', 'negative-aspect', 'condemned-aspect']\n"
     ]
    }
   ],
   "source": [
    "categories_id_lt = parse_sexual_anotation.get_list_categories(taxonomy_el, namespaces = namespaces_dict)\n",
    "\n",
    "print(categories_id_lt)\n"
   ]
  },
  {
   "cell_type": "code",
   "execution_count": 11,
   "metadata": {
    "tags": []
   },
   "outputs": [
    {
     "output_type": "stream",
     "name": "stdout",
     "text": [
      "[('b.JOB.001.002', 'ascendant; positive'), ('b.JOB.001.021', 'nudity; birth; uterus; negative; positive'), ('b.JOB.002.004', 'flesh; neutral'), ('b.JOB.002.005', 'flesh; neutral; negative'), ('b.JOB.003.003', 'birth; negative'), ('b.JOB.003.010', 'uterus; negative'), ('b.JOB.003.011', 'uterus; birth; negative'), ('b.JOB.003.012', 'birth; negative; female-breasts;breast-feeding;knies'), ('b.JOB.003.016', 'aborto; negative; birth'), ('b.JOB.003.020', 'birth; negative'), ('b.JOB.003.023', 'birth; negative'), ('b.JOB.005.025', 'ascending; positive'), ('b.JOB.006.012', 'flesh; neutral'), ('b.JOB.007.005', 'flesh; negative'), ('b.JOB.010.009', 'creation; positive'), ('b.JOB.010.010', 'creation; positive'), ('b.JOB.010.011', 'creation; positive; flesh'), ('b.JOB.010.018', 'uterus; birth; negative'), ('b.JOB.010.019', 'uterus; birth; negative'), ('b.JOB.014.001', 'birth; negative'), ('b.JOB.014.002', 'birth; negative'), ('b.JOB.015.007', 'birth; neutral'), ('b.JOB.015.014', 'birth;women; positive; negative'), ('b.JOB.015.035', 'conception cert=\"medium\"; birth cert=\"medium\"; uterus cert=\"medium\"; condemned'), ('b.JOB.019.020', 'flesh; negative'), ('b.JOB.019.026', 'flesh; negative; positive'), ('b.JOB.022.006', 'nudity; negative'), ('b.JOB.022.009', 'widow; negative; neutral'), ('b.JOB.024.003', 'viuda; negative; positive'), ('b.JOB.024.007', 'nudity; negative; positive'), ('b.JOB.024.009', 'female-breast; breast-feeding cert=\"medium\"; negative; positive'), ('b.JOB.024.010', 'nudity; negative; positive'), ('b.JOB.024.015', 'adultery; negative; positive'), ('b.JOB.024.021', 'sterility; women; viuda; negative; positive'), ('b.JOB.025.004', 'birth; women; positive; negative'), ('b.JOB.029.013', 'viuda; positive'), ('b.JOB.031.001', 'sexual-desire;female-virgin;positive;negative'), ('b.JOB.031.015', 'pregnancy; uterus; positive'), ('b.JOB.031.016', 'viuda; positive'), ('b.JOB.031.018', 'pregnancy; uterus; viuda; positive'), ('b.JOB.031.027', 'mouth; kiss; hand; neutral'), ('b.JOB.031.031', 'flesh; negative'), ('b.JOB.033.021', 'flesh; neutral; negative'), ('b.JOB.033.025', 'flesh; positive'), ('b.JOB.036.014', 'homosexual-sex cert=\"medium\"; negative'), ('b.JOB.038.021', 'birth; neutral'), ('b.JOB.038.029', 'uterus; birth; neutral'), ('b.JOB.039.001', 'birth; animal; neutral'), ('b.JOB.039.002', 'pregangy; animal; neutral'), ('b.JOB.039.003', 'birth; animal; neutral'), ('b.JOB.042.013', 'ascending;blessed'), ('b.JOB.042.015', 'beauty; blessed'), ('b.JOB.042.016', 'ascending;blessed')]\n"
     ]
    }
   ],
   "source": [
    "sexual_annotations_from_comments_lt = parse_sexual_anotation.parse_sexual_annotations_from_comments(book_str)\n"
   ]
  },
  {
   "cell_type": "code",
   "execution_count": null,
   "metadata": {},
   "outputs": [],
   "source": []
  },
  {
   "cell_type": "code",
   "execution_count": 12,
   "metadata": {
    "tags": []
   },
   "outputs": [
    {
     "output_type": "stream",
     "name": "stdout",
     "text": [
      "b.JOB.001.002\n",
      "ascendant\n",
      "<class 'str'>\n",
      "ascendant\n",
      "ERROR!! ascendant\n",
      " positive\n",
      "<class 'str'>\n",
      "positive\n",
      "ERROR!! positive\n",
      "b.JOB.001.021\n",
      "nudity\n",
      "<class 'str'>\n",
      "nudity\n",
      " birth\n",
      "<class 'str'>\n",
      "birth\n",
      " uterus\n",
      "<class 'str'>\n",
      "uterus\n",
      " negative\n",
      "<class 'str'>\n",
      "negative\n",
      "ERROR!! negative\n",
      " positive\n",
      "<class 'str'>\n",
      "positive\n",
      "ERROR!! positive\n",
      "b.JOB.002.004\n",
      "flesh\n",
      "<class 'str'>\n",
      "flesh\n",
      " neutral\n",
      "<class 'str'>\n",
      "neutral\n",
      "ERROR!! neutral\n",
      "b.JOB.002.005\n",
      "flesh\n",
      "<class 'str'>\n",
      "flesh\n",
      " neutral\n",
      "<class 'str'>\n",
      "neutral\n",
      "ERROR!! neutral\n",
      " negative\n",
      "<class 'str'>\n",
      "negative\n",
      "ERROR!! negative\n",
      "b.JOB.003.003\n",
      "birth\n",
      "<class 'str'>\n",
      "birth\n",
      " negative\n",
      "<class 'str'>\n",
      "negative\n",
      "ERROR!! negative\n",
      "b.JOB.003.010\n",
      "uterus\n",
      "<class 'str'>\n",
      "uterus\n",
      " negative\n",
      "<class 'str'>\n",
      "negative\n",
      "ERROR!! negative\n",
      "b.JOB.003.011\n",
      "uterus\n",
      "<class 'str'>\n",
      "uterus\n",
      " birth\n",
      "<class 'str'>\n",
      "birth\n",
      " negative\n",
      "<class 'str'>\n",
      "negative\n",
      "ERROR!! negative\n",
      "b.JOB.003.012\n",
      "birth\n",
      "<class 'str'>\n",
      "birth\n",
      " negative\n",
      "<class 'str'>\n",
      "negative\n",
      "ERROR!! negative\n",
      " female-breasts\n",
      "<class 'str'>\n",
      "female-breasts\n",
      "ERROR!! female-breasts\n",
      "breast-feeding\n",
      "<class 'str'>\n",
      "breast-feeding\n",
      "knies\n",
      "<class 'str'>\n",
      "knies\n",
      "ERROR!! knies\n",
      "b.JOB.003.016\n",
      "aborto\n",
      "<class 'str'>\n",
      "aborto\n",
      "ERROR!! aborto\n",
      " negative\n",
      "<class 'str'>\n",
      "negative\n",
      "ERROR!! negative\n",
      " birth\n",
      "<class 'str'>\n",
      "birth\n",
      "b.JOB.003.020\n",
      "birth\n",
      "<class 'str'>\n",
      "birth\n",
      " negative\n",
      "<class 'str'>\n",
      "negative\n",
      "ERROR!! negative\n",
      "b.JOB.003.023\n",
      "birth\n",
      "<class 'str'>\n",
      "birth\n",
      " negative\n",
      "<class 'str'>\n",
      "negative\n",
      "ERROR!! negative\n",
      "b.JOB.005.025\n",
      "ascending\n",
      "<class 'str'>\n",
      "ascending\n",
      "ERROR!! ascending\n",
      " positive\n",
      "<class 'str'>\n",
      "positive\n",
      "ERROR!! positive\n",
      "b.JOB.006.012\n",
      "flesh\n",
      "<class 'str'>\n",
      "flesh\n",
      " neutral\n",
      "<class 'str'>\n",
      "neutral\n",
      "ERROR!! neutral\n",
      "b.JOB.007.005\n",
      "flesh\n",
      "<class 'str'>\n",
      "flesh\n",
      " negative\n",
      "<class 'str'>\n",
      "negative\n",
      "ERROR!! negative\n",
      "b.JOB.010.009\n",
      "creation\n",
      "<class 'str'>\n",
      "creation\n",
      "ERROR!! creation\n",
      " positive\n",
      "<class 'str'>\n",
      "positive\n",
      "ERROR!! positive\n",
      "b.JOB.010.010\n",
      "creation\n",
      "<class 'str'>\n",
      "creation\n",
      "ERROR!! creation\n",
      " positive\n",
      "<class 'str'>\n",
      "positive\n",
      "ERROR!! positive\n",
      "b.JOB.010.011\n",
      "creation\n",
      "<class 'str'>\n",
      "creation\n",
      "ERROR!! creation\n",
      " positive\n",
      "<class 'str'>\n",
      "positive\n",
      "ERROR!! positive\n",
      " flesh\n",
      "<class 'str'>\n",
      "flesh\n",
      "b.JOB.010.018\n",
      "uterus\n",
      "<class 'str'>\n",
      "uterus\n",
      " birth\n",
      "<class 'str'>\n",
      "birth\n",
      " negative\n",
      "<class 'str'>\n",
      "negative\n",
      "ERROR!! negative\n",
      "b.JOB.010.019\n",
      "uterus\n",
      "<class 'str'>\n",
      "uterus\n",
      " birth\n",
      "<class 'str'>\n",
      "birth\n",
      " negative\n",
      "<class 'str'>\n",
      "negative\n",
      "ERROR!! negative\n",
      "b.JOB.014.001\n",
      "birth\n",
      "<class 'str'>\n",
      "birth\n",
      " negative\n",
      "<class 'str'>\n",
      "negative\n",
      "ERROR!! negative\n",
      "b.JOB.014.002\n",
      "birth\n",
      "<class 'str'>\n",
      "birth\n",
      " negative\n",
      "<class 'str'>\n",
      "negative\n",
      "ERROR!! negative\n",
      "b.JOB.015.007\n",
      "birth\n",
      "<class 'str'>\n",
      "birth\n",
      " neutral\n",
      "<class 'str'>\n",
      "neutral\n",
      "ERROR!! neutral\n",
      "b.JOB.015.014\n",
      "birth\n",
      "<class 'str'>\n",
      "birth\n",
      "women\n",
      "<class 'str'>\n",
      "women\n",
      " positive\n",
      "<class 'str'>\n",
      "positive\n",
      "ERROR!! positive\n",
      " negative\n",
      "<class 'str'>\n",
      "negative\n",
      "ERROR!! negative\n",
      "b.JOB.015.035\n",
      "conception cert=\"medium\"\n",
      "<class 'str'>\n",
      "conception\n",
      "ERROR!! conception\n",
      " birth cert=\"medium\"\n",
      "<class 'str'>\n",
      "birth\n",
      " uterus cert=\"medium\"\n",
      "<class 'str'>\n",
      "uterus\n",
      " condemned\n",
      "<class 'str'>\n",
      "condemned\n",
      "ERROR!! condemned\n",
      "b.JOB.019.020\n",
      "flesh\n",
      "<class 'str'>\n",
      "flesh\n",
      " negative\n",
      "<class 'str'>\n",
      "negative\n",
      "ERROR!! negative\n",
      "b.JOB.019.026\n",
      "flesh\n",
      "<class 'str'>\n",
      "flesh\n",
      " negative\n",
      "<class 'str'>\n",
      "negative\n",
      "ERROR!! negative\n",
      " positive\n",
      "<class 'str'>\n",
      "positive\n",
      "ERROR!! positive\n",
      "b.JOB.022.006\n",
      "nudity\n",
      "<class 'str'>\n",
      "nudity\n",
      " negative\n",
      "<class 'str'>\n",
      "negative\n",
      "ERROR!! negative\n",
      "b.JOB.022.009\n",
      "widow\n",
      "<class 'str'>\n",
      "widow\n",
      " negative\n",
      "<class 'str'>\n",
      "negative\n",
      "ERROR!! negative\n",
      " neutral\n",
      "<class 'str'>\n",
      "neutral\n",
      "ERROR!! neutral\n",
      "b.JOB.024.003\n",
      "viuda\n",
      "<class 'str'>\n",
      "viuda\n",
      "ERROR!! viuda\n",
      " negative\n",
      "<class 'str'>\n",
      "negative\n",
      "ERROR!! negative\n",
      " positive\n",
      "<class 'str'>\n",
      "positive\n",
      "ERROR!! positive\n",
      "b.JOB.024.007\n",
      "nudity\n",
      "<class 'str'>\n",
      "nudity\n",
      " negative\n",
      "<class 'str'>\n",
      "negative\n",
      "ERROR!! negative\n",
      " positive\n",
      "<class 'str'>\n",
      "positive\n",
      "ERROR!! positive\n",
      "b.JOB.024.009\n",
      "female-breast\n",
      "<class 'str'>\n",
      "female-breast\n",
      " breast-feeding cert=\"medium\"\n",
      "<class 'str'>\n",
      "breast-feeding\n",
      " negative\n",
      "<class 'str'>\n",
      "negative\n",
      "ERROR!! negative\n",
      " positive\n",
      "<class 'str'>\n",
      "positive\n",
      "ERROR!! positive\n",
      "b.JOB.024.010\n",
      "nudity\n",
      "<class 'str'>\n",
      "nudity\n",
      " negative\n",
      "<class 'str'>\n",
      "negative\n",
      "ERROR!! negative\n",
      " positive\n",
      "<class 'str'>\n",
      "positive\n",
      "ERROR!! positive\n",
      "b.JOB.024.015\n",
      "adultery\n",
      "<class 'str'>\n",
      "adultery\n",
      "ERROR!! adultery\n",
      " negative\n",
      "<class 'str'>\n",
      "negative\n",
      "ERROR!! negative\n",
      " positive\n",
      "<class 'str'>\n",
      "positive\n",
      "ERROR!! positive\n",
      "b.JOB.024.021\n",
      "sterility\n",
      "<class 'str'>\n",
      "sterility\n",
      "ERROR!! sterility\n",
      " women\n",
      "<class 'str'>\n",
      "women\n",
      " viuda\n",
      "<class 'str'>\n",
      "viuda\n",
      "ERROR!! viuda\n",
      " negative\n",
      "<class 'str'>\n",
      "negative\n",
      "ERROR!! negative\n",
      " positive\n",
      "<class 'str'>\n",
      "positive\n",
      "ERROR!! positive\n",
      "b.JOB.025.004\n",
      "birth\n",
      "<class 'str'>\n",
      "birth\n",
      " women\n",
      "<class 'str'>\n",
      "women\n",
      " positive\n",
      "<class 'str'>\n",
      "positive\n",
      "ERROR!! positive\n",
      " negative\n",
      "<class 'str'>\n",
      "negative\n",
      "ERROR!! negative\n",
      "b.JOB.029.013\n",
      "viuda\n",
      "<class 'str'>\n",
      "viuda\n",
      "ERROR!! viuda\n",
      " positive\n",
      "<class 'str'>\n",
      "positive\n",
      "ERROR!! positive\n",
      "b.JOB.031.001\n",
      "sexual-desire\n",
      "<class 'str'>\n",
      "sexual-desire\n",
      "female-virgin\n",
      "<class 'str'>\n",
      "female-virgin\n",
      "ERROR!! female-virgin\n",
      "positive\n",
      "<class 'str'>\n",
      "positive\n",
      "ERROR!! positive\n",
      "negative\n",
      "<class 'str'>\n",
      "negative\n",
      "ERROR!! negative\n",
      "b.JOB.031.015\n",
      "pregnancy\n",
      "<class 'str'>\n",
      "pregnancy\n",
      " uterus\n",
      "<class 'str'>\n",
      "uterus\n",
      " positive\n",
      "<class 'str'>\n",
      "positive\n",
      "ERROR!! positive\n",
      "b.JOB.031.016\n",
      "viuda\n",
      "<class 'str'>\n",
      "viuda\n",
      "ERROR!! viuda\n",
      " positive\n",
      "<class 'str'>\n",
      "positive\n",
      "ERROR!! positive\n",
      "b.JOB.031.018\n",
      "pregnancy\n",
      "<class 'str'>\n",
      "pregnancy\n",
      " uterus\n",
      "<class 'str'>\n",
      "uterus\n",
      " viuda\n",
      "<class 'str'>\n",
      "viuda\n",
      "ERROR!! viuda\n",
      " positive\n",
      "<class 'str'>\n",
      "positive\n",
      "ERROR!! positive\n",
      "b.JOB.031.027\n",
      "mouth\n",
      "<class 'str'>\n",
      "mouth\n",
      " kiss\n",
      "<class 'str'>\n",
      "kiss\n",
      " hand\n",
      "<class 'str'>\n",
      "hand\n",
      " neutral\n",
      "<class 'str'>\n",
      "neutral\n",
      "ERROR!! neutral\n",
      "b.JOB.031.031\n",
      "flesh\n",
      "<class 'str'>\n",
      "flesh\n",
      " negative\n",
      "<class 'str'>\n",
      "negative\n",
      "ERROR!! negative\n",
      "b.JOB.033.021\n",
      "flesh\n",
      "<class 'str'>\n",
      "flesh\n",
      " neutral\n",
      "<class 'str'>\n",
      "neutral\n",
      "ERROR!! neutral\n",
      " negative\n",
      "<class 'str'>\n",
      "negative\n",
      "ERROR!! negative\n",
      "b.JOB.033.025\n",
      "flesh\n",
      "<class 'str'>\n",
      "flesh\n",
      " positive\n",
      "<class 'str'>\n",
      "positive\n",
      "ERROR!! positive\n",
      "b.JOB.036.014\n",
      "homosexual-sex cert=\"medium\"\n",
      "<class 'str'>\n",
      "homosexual-sex\n",
      " negative\n",
      "<class 'str'>\n",
      "negative\n",
      "ERROR!! negative\n",
      "b.JOB.038.021\n",
      "birth\n",
      "<class 'str'>\n",
      "birth\n",
      " neutral\n",
      "<class 'str'>\n",
      "neutral\n",
      "ERROR!! neutral\n",
      "b.JOB.038.029\n",
      "uterus\n",
      "<class 'str'>\n",
      "uterus\n",
      " birth\n",
      "<class 'str'>\n",
      "birth\n",
      " neutral\n",
      "<class 'str'>\n",
      "neutral\n",
      "ERROR!! neutral\n",
      "b.JOB.039.001\n",
      "birth\n",
      "<class 'str'>\n",
      "birth\n",
      " animal\n",
      "<class 'str'>\n",
      "animal\n",
      "ERROR!! animal\n",
      " neutral\n",
      "<class 'str'>\n",
      "neutral\n",
      "ERROR!! neutral\n",
      "b.JOB.039.002\n",
      "pregangy\n",
      "<class 'str'>\n",
      "pregangy\n",
      "ERROR!! pregangy\n",
      " animal\n",
      "<class 'str'>\n",
      "animal\n",
      "ERROR!! animal\n",
      " neutral\n",
      "<class 'str'>\n",
      "neutral\n",
      "ERROR!! neutral\n",
      "b.JOB.039.003\n",
      "birth\n",
      "<class 'str'>\n",
      "birth\n",
      " animal\n",
      "<class 'str'>\n",
      "animal\n",
      "ERROR!! animal\n",
      " neutral\n",
      "<class 'str'>\n",
      "neutral\n",
      "ERROR!! neutral\n",
      "b.JOB.042.013\n",
      "ascending\n",
      "<class 'str'>\n",
      "ascending\n",
      "ERROR!! ascending\n",
      "blessed\n",
      "<class 'str'>\n",
      "blessed\n",
      "ERROR!! blessed\n",
      "b.JOB.042.015\n",
      "beauty\n",
      "<class 'str'>\n",
      "beauty\n",
      " blessed\n",
      "<class 'str'>\n",
      "blessed\n",
      "ERROR!! blessed\n",
      "b.JOB.042.016\n",
      "ascending\n",
      "<class 'str'>\n",
      "ascending\n",
      "ERROR!! ascending\n",
      "blessed\n",
      "<class 'str'>\n",
      "blessed\n",
      "ERROR!! blessed\n",
      "errors [['b.JOB.001.002', 'ascendant'], ['b.JOB.001.002', 'positive'], ['b.JOB.001.021', 'negative'], ['b.JOB.001.021', 'positive'], ['b.JOB.002.004', 'neutral'], ['b.JOB.002.005', 'neutral'], ['b.JOB.002.005', 'negative'], ['b.JOB.003.003', 'negative'], ['b.JOB.003.010', 'negative'], ['b.JOB.003.011', 'negative'], ['b.JOB.003.012', 'negative'], ['b.JOB.003.012', 'female-breasts'], ['b.JOB.003.012', 'knies'], ['b.JOB.003.016', 'aborto'], ['b.JOB.003.016', 'negative'], ['b.JOB.003.020', 'negative'], ['b.JOB.003.023', 'negative'], ['b.JOB.005.025', 'ascending'], ['b.JOB.005.025', 'positive'], ['b.JOB.006.012', 'neutral'], ['b.JOB.007.005', 'negative'], ['b.JOB.010.009', 'creation'], ['b.JOB.010.009', 'positive'], ['b.JOB.010.010', 'creation'], ['b.JOB.010.010', 'positive'], ['b.JOB.010.011', 'creation'], ['b.JOB.010.011', 'positive'], ['b.JOB.010.018', 'negative'], ['b.JOB.010.019', 'negative'], ['b.JOB.014.001', 'negative'], ['b.JOB.014.002', 'negative'], ['b.JOB.015.007', 'neutral'], ['b.JOB.015.014', 'positive'], ['b.JOB.015.014', 'negative'], ['b.JOB.015.035', 'conception'], ['b.JOB.015.035', 'condemned'], ['b.JOB.019.020', 'negative'], ['b.JOB.019.026', 'negative'], ['b.JOB.019.026', 'positive'], ['b.JOB.022.006', 'negative'], ['b.JOB.022.009', 'negative'], ['b.JOB.022.009', 'neutral'], ['b.JOB.024.003', 'viuda'], ['b.JOB.024.003', 'negative'], ['b.JOB.024.003', 'positive'], ['b.JOB.024.007', 'negative'], ['b.JOB.024.007', 'positive'], ['b.JOB.024.009', 'negative'], ['b.JOB.024.009', 'positive'], ['b.JOB.024.010', 'negative'], ['b.JOB.024.010', 'positive'], ['b.JOB.024.015', 'adultery'], ['b.JOB.024.015', 'negative'], ['b.JOB.024.015', 'positive'], ['b.JOB.024.021', 'sterility'], ['b.JOB.024.021', 'viuda'], ['b.JOB.024.021', 'negative'], ['b.JOB.024.021', 'positive'], ['b.JOB.025.004', 'positive'], ['b.JOB.025.004', 'negative'], ['b.JOB.029.013', 'viuda'], ['b.JOB.029.013', 'positive'], ['b.JOB.031.001', 'female-virgin'], ['b.JOB.031.001', 'positive'], ['b.JOB.031.001', 'negative'], ['b.JOB.031.015', 'positive'], ['b.JOB.031.016', 'viuda'], ['b.JOB.031.016', 'positive'], ['b.JOB.031.018', 'viuda'], ['b.JOB.031.018', 'positive'], ['b.JOB.031.027', 'neutral'], ['b.JOB.031.031', 'negative'], ['b.JOB.033.021', 'neutral'], ['b.JOB.033.021', 'negative'], ['b.JOB.033.025', 'positive'], ['b.JOB.036.014', 'negative'], ['b.JOB.038.021', 'neutral'], ['b.JOB.038.029', 'neutral'], ['b.JOB.039.001', 'animal'], ['b.JOB.039.001', 'neutral'], ['b.JOB.039.002', 'pregangy'], ['b.JOB.039.002', 'animal'], ['b.JOB.039.002', 'neutral'], ['b.JOB.039.003', 'animal'], ['b.JOB.039.003', 'neutral'], ['b.JOB.042.013', 'ascending'], ['b.JOB.042.013', 'blessed'], ['b.JOB.042.015', 'blessed'], ['b.JOB.042.016', 'ascending'], ['b.JOB.042.016', 'blessed']]\n",
      "[('negative', 30), ('positive', 21), ('neutral', 12), ('viuda', 5), ('ascending', 3), ('creation', 3), ('animal', 3), ('blessed', 3), ('ascendant', 1), ('female-breasts', 1), ('knies', 1), ('aborto', 1), ('conception', 1), ('condemned', 1), ('adultery', 1), ('sterility', 1), ('female-virgin', 1), ('pregangy', 1)]\n",
      "\n",
      "\n",
      "Consider substitue ascendant with ascendant-descendant . Levenshtein ratio:0.62\n",
      "Replacement accepted\n",
      "\n",
      "\n",
      "Consider substitue ascending with wedding . Levenshtein ratio:0.62\n",
      "Replacement modified with ascendant-descendant\n",
      "\n",
      "\n",
      "Consider substitue condemned with condemned-aspect . Levenshtein ratio:0.72\n",
      "Replacement accepted\n",
      "\n",
      "\n",
      "Consider substitue animal with animals . Levenshtein ratio:0.92\n",
      "Replacement accepted\n",
      "\n",
      "\n",
      "Consider substitue blessed with blessed-aspect . Levenshtein ratio:0.67\n",
      "Replacement accepted\n",
      "\n",
      "\n",
      "Consider substitue knies with knie . Levenshtein ratio:0.89\n",
      "Replacement accepted\n",
      "\n",
      "\n",
      "Consider substitue sterility with infertility . Levenshtein ratio:0.7\n",
      "Replacement accepted\n",
      "\n",
      "\n",
      "Consider substitue pregangy with pregnancy . Levenshtein ratio:0.82\n",
      "Replacement accepted\n",
      "\n",
      "\n",
      "Consider substitue negative with negative-aspect . Levenshtein ratio:0.7\n",
      "Replacement accepted\n",
      "\n",
      "\n",
      "Consider substitue female-virgin with female-rape . Levenshtein ratio:0.67\n",
      "Replacement modified with virgin\n",
      "\n",
      "\n",
      "Consider substitue neutral with metal . Levenshtein ratio:0.67\n",
      "Replacement modified with neutral-aspect\n",
      "\n",
      "\n",
      "Consider substitue positive with positive-aspect . Levenshtein ratio:0.7\n",
      "Replacement accepted\n",
      "\n",
      "\n",
      "Consider substitue aborto with abortion . Levenshtein ratio:0.86\n",
      "Replacement accepted\n",
      "\n",
      "\n",
      "Consider substitue female-breasts with female-breast . Levenshtein ratio:0.96\n",
      "Replacement accepted\n",
      "\n",
      "\n",
      "Consider substitue viuda with vineyard . Levenshtein ratio:0.46\n",
      "Replacement modified with widow\n",
      "\n",
      "\n",
      "Consider substitue adultery with water . Levenshtein ratio:0.62\n",
      "Replacement modified with sex-before-marriage\n",
      "\n",
      "\n",
      "Consider substitue creation with relations . Levenshtein ratio:0.82\n",
      "Replacement rejected. No change.\n",
      "\n",
      "\n",
      "Consider substitue conception with concubine . Levenshtein ratio:0.63\n",
      "Replacement modified with fertilization\n"
     ]
    }
   ],
   "source": [
    "error_lt, standOff_str = parse_sexual_anotation.parse_each_sexual_annotation_as_comment(sexual_annotations_from_comments_lt, categories_id_lt, book_name)\n"
   ]
  },
  {
   "cell_type": "code",
   "execution_count": 13,
   "metadata": {},
   "outputs": [
    {
     "output_type": "execute_result",
     "data": {
      "text/plain": [
       "[['b.JOB.001.002', 'ascendant'],\n",
       " ['b.JOB.001.002', 'positive'],\n",
       " ['b.JOB.001.021', 'negative'],\n",
       " ['b.JOB.001.021', 'positive'],\n",
       " ['b.JOB.002.004', 'neutral'],\n",
       " ['b.JOB.002.005', 'neutral'],\n",
       " ['b.JOB.002.005', 'negative'],\n",
       " ['b.JOB.003.003', 'negative'],\n",
       " ['b.JOB.003.010', 'negative'],\n",
       " ['b.JOB.003.011', 'negative'],\n",
       " ['b.JOB.003.012', 'negative'],\n",
       " ['b.JOB.003.012', 'female-breasts'],\n",
       " ['b.JOB.003.012', 'knies'],\n",
       " ['b.JOB.003.016', 'aborto'],\n",
       " ['b.JOB.003.016', 'negative'],\n",
       " ['b.JOB.003.020', 'negative'],\n",
       " ['b.JOB.003.023', 'negative'],\n",
       " ['b.JOB.005.025', 'ascending'],\n",
       " ['b.JOB.005.025', 'positive'],\n",
       " ['b.JOB.006.012', 'neutral'],\n",
       " ['b.JOB.007.005', 'negative'],\n",
       " ['b.JOB.010.009', 'creation'],\n",
       " ['b.JOB.010.009', 'positive'],\n",
       " ['b.JOB.010.010', 'creation'],\n",
       " ['b.JOB.010.010', 'positive'],\n",
       " ['b.JOB.010.011', 'creation'],\n",
       " ['b.JOB.010.011', 'positive'],\n",
       " ['b.JOB.010.018', 'negative'],\n",
       " ['b.JOB.010.019', 'negative'],\n",
       " ['b.JOB.014.001', 'negative'],\n",
       " ['b.JOB.014.002', 'negative'],\n",
       " ['b.JOB.015.007', 'neutral'],\n",
       " ['b.JOB.015.014', 'positive'],\n",
       " ['b.JOB.015.014', 'negative'],\n",
       " ['b.JOB.015.035', 'conception'],\n",
       " ['b.JOB.015.035', 'condemned'],\n",
       " ['b.JOB.019.020', 'negative'],\n",
       " ['b.JOB.019.026', 'negative'],\n",
       " ['b.JOB.019.026', 'positive'],\n",
       " ['b.JOB.022.006', 'negative'],\n",
       " ['b.JOB.022.009', 'negative'],\n",
       " ['b.JOB.022.009', 'neutral'],\n",
       " ['b.JOB.024.003', 'viuda'],\n",
       " ['b.JOB.024.003', 'negative'],\n",
       " ['b.JOB.024.003', 'positive'],\n",
       " ['b.JOB.024.007', 'negative'],\n",
       " ['b.JOB.024.007', 'positive'],\n",
       " ['b.JOB.024.009', 'negative'],\n",
       " ['b.JOB.024.009', 'positive'],\n",
       " ['b.JOB.024.010', 'negative'],\n",
       " ['b.JOB.024.010', 'positive'],\n",
       " ['b.JOB.024.015', 'adultery'],\n",
       " ['b.JOB.024.015', 'negative'],\n",
       " ['b.JOB.024.015', 'positive'],\n",
       " ['b.JOB.024.021', 'sterility'],\n",
       " ['b.JOB.024.021', 'viuda'],\n",
       " ['b.JOB.024.021', 'negative'],\n",
       " ['b.JOB.024.021', 'positive'],\n",
       " ['b.JOB.025.004', 'positive'],\n",
       " ['b.JOB.025.004', 'negative'],\n",
       " ['b.JOB.029.013', 'viuda'],\n",
       " ['b.JOB.029.013', 'positive'],\n",
       " ['b.JOB.031.001', 'female-virgin'],\n",
       " ['b.JOB.031.001', 'positive'],\n",
       " ['b.JOB.031.001', 'negative'],\n",
       " ['b.JOB.031.015', 'positive'],\n",
       " ['b.JOB.031.016', 'viuda'],\n",
       " ['b.JOB.031.016', 'positive'],\n",
       " ['b.JOB.031.018', 'viuda'],\n",
       " ['b.JOB.031.018', 'positive'],\n",
       " ['b.JOB.031.027', 'neutral'],\n",
       " ['b.JOB.031.031', 'negative'],\n",
       " ['b.JOB.033.021', 'neutral'],\n",
       " ['b.JOB.033.021', 'negative'],\n",
       " ['b.JOB.033.025', 'positive'],\n",
       " ['b.JOB.036.014', 'negative'],\n",
       " ['b.JOB.038.021', 'neutral'],\n",
       " ['b.JOB.038.029', 'neutral'],\n",
       " ['b.JOB.039.001', 'animal'],\n",
       " ['b.JOB.039.001', 'neutral'],\n",
       " ['b.JOB.039.002', 'pregangy'],\n",
       " ['b.JOB.039.002', 'animal'],\n",
       " ['b.JOB.039.002', 'neutral'],\n",
       " ['b.JOB.039.003', 'animal'],\n",
       " ['b.JOB.039.003', 'neutral'],\n",
       " ['b.JOB.042.013', 'ascending'],\n",
       " ['b.JOB.042.013', 'blessed'],\n",
       " ['b.JOB.042.015', 'blessed'],\n",
       " ['b.JOB.042.016', 'ascending'],\n",
       " ['b.JOB.042.016', 'blessed']]"
      ]
     },
     "metadata": {},
     "execution_count": 13
    }
   ],
   "source": [
    "error_lt"
   ]
  },
  {
   "cell_type": "code",
   "execution_count": 14,
   "metadata": {},
   "outputs": [
    {
     "output_type": "execute_result",
     "data": {
      "text/plain": [
       "'<standOff xml:id=\"b.JOB.sexualThemes\"  scheme=\"taxonomy.xml\">\\n<spanGrp type=\"theme\" inst=\"#b.JOB.001.002\">\\n\\t<span ana=\"ascendant-descendant\">\\n\\t\\t<certainty match=\"@ana\" locus=\"value\" cert=\"high\" given=\"text\"/>\\n\\t</span>\\n</spanGrp>\\n<spanGrp type=\"theme\" inst=\"#b.JOB.001.002\">\\n\\t<span ana=\"positive-aspect\">\\n\\t\\t<certainty match=\"@ana\" locus=\"value\" cert=\"high\" given=\"text\"/>\\n\\t</span>\\n</spanGrp>\\n<spanGrp type=\"theme\" inst=\"#b.JOB.001.021\">\\n\\t<span ana=\"nudity\">\\n\\t\\t<certainty match=\"@ana\" locus=\"value\" cert=\"high\" given=\"text\"/>\\n\\t</span>\\n</spanGrp>\\n<spanGrp type=\"theme\" inst=\"#b.JOB.001.021\">\\n\\t<span ana=\"birth\">\\n\\t\\t<certainty match=\"@ana\" locus=\"value\" cert=\"high\" given=\"text\"/>\\n\\t</span>\\n</spanGrp>\\n<spanGrp type=\"theme\" inst=\"#b.JOB.001.021\">\\n\\t<span ana=\"uterus\">\\n\\t\\t<certainty match=\"@ana\" locus=\"value\" cert=\"high\" given=\"text\"/>\\n\\t</span>\\n</spanGrp>\\n<spanGrp type=\"theme\" inst=\"#b.JOB.001.021\">\\n\\t<span ana=\"negative-aspect\">\\n\\t\\t<certainty match=\"@ana\" locus=\"value\" cert=\"high\" given=\"text\"/>\\n\\t</span>\\n</spanGrp>\\n<spanGrp type=\"theme\" inst=\"#b.JOB.001.021\">\\n\\t<span ana=\"positive-aspect\">\\n\\t\\t<certainty match=\"@ana\" locus=\"value\" cert=\"high\" given=\"text\"/>\\n\\t</span>\\n</spanGrp>\\n<spanGrp type=\"theme\" inst=\"#b.JOB.002.004\">\\n\\t<span ana=\"flesh\">\\n\\t\\t<certainty match=\"@ana\" locus=\"value\" cert=\"high\" given=\"text\"/>\\n\\t</span>\\n</spanGrp>\\n<spanGrp type=\"theme\" inst=\"#b.JOB.002.004\">\\n\\t<span ana=\"neutral-aspect\">\\n\\t\\t<certainty match=\"@ana\" locus=\"value\" cert=\"high\" given=\"text\"/>\\n\\t</span>\\n</spanGrp>\\n<spanGrp type=\"theme\" inst=\"#b.JOB.002.005\">\\n\\t<span ana=\"flesh\">\\n\\t\\t<certainty match=\"@ana\" locus=\"value\" cert=\"high\" given=\"text\"/>\\n\\t</span>\\n</spanGrp>\\n<spanGrp type=\"theme\" inst=\"#b.JOB.002.005\">\\n\\t<span ana=\"neutral-aspect\">\\n\\t\\t<certainty match=\"@ana\" locus=\"value\" cert=\"high\" given=\"text\"/>\\n\\t</span>\\n</spanGrp>\\n<spanGrp type=\"theme\" inst=\"#b.JOB.002.005\">\\n\\t<span ana=\"negative-aspect\">\\n\\t\\t<certainty match=\"@ana\" locus=\"value\" cert=\"high\" given=\"text\"/>\\n\\t</span>\\n</spanGrp>\\n<spanGrp type=\"theme\" inst=\"#b.JOB.003.003\">\\n\\t<span ana=\"birth\">\\n\\t\\t<certainty match=\"@ana\" locus=\"value\" cert=\"high\" given=\"text\"/>\\n\\t</span>\\n</spanGrp>\\n<spanGrp type=\"theme\" inst=\"#b.JOB.003.003\">\\n\\t<span ana=\"negative-aspect\">\\n\\t\\t<certainty match=\"@ana\" locus=\"value\" cert=\"high\" given=\"text\"/>\\n\\t</span>\\n</spanGrp>\\n<spanGrp type=\"theme\" inst=\"#b.JOB.003.010\">\\n\\t<span ana=\"uterus\">\\n\\t\\t<certainty match=\"@ana\" locus=\"value\" cert=\"high\" given=\"text\"/>\\n\\t</span>\\n</spanGrp>\\n<spanGrp type=\"theme\" inst=\"#b.JOB.003.010\">\\n\\t<span ana=\"negative-aspect\">\\n\\t\\t<certainty match=\"@ana\" locus=\"value\" cert=\"high\" given=\"text\"/>\\n\\t</span>\\n</spanGrp>\\n<spanGrp type=\"theme\" inst=\"#b.JOB.003.011\">\\n\\t<span ana=\"uterus\">\\n\\t\\t<certainty match=\"@ana\" locus=\"value\" cert=\"high\" given=\"text\"/>\\n\\t</span>\\n</spanGrp>\\n<spanGrp type=\"theme\" inst=\"#b.JOB.003.011\">\\n\\t<span ana=\"birth\">\\n\\t\\t<certainty match=\"@ana\" locus=\"value\" cert=\"high\" given=\"text\"/>\\n\\t</span>\\n</spanGrp>\\n<spanGrp type=\"theme\" inst=\"#b.JOB.003.011\">\\n\\t<span ana=\"negative-aspect\">\\n\\t\\t<certainty match=\"@ana\" locus=\"value\" cert=\"high\" given=\"text\"/>\\n\\t</span>\\n</spanGrp>\\n<spanGrp type=\"theme\" inst=\"#b.JOB.003.012\">\\n\\t<span ana=\"birth\">\\n\\t\\t<certainty match=\"@ana\" locus=\"value\" cert=\"high\" given=\"text\"/>\\n\\t</span>\\n</spanGrp>\\n<spanGrp type=\"theme\" inst=\"#b.JOB.003.012\">\\n\\t<span ana=\"negative-aspect\">\\n\\t\\t<certainty match=\"@ana\" locus=\"value\" cert=\"high\" given=\"text\"/>\\n\\t</span>\\n</spanGrp>\\n<spanGrp type=\"theme\" inst=\"#b.JOB.003.012\">\\n\\t<span ana=\"female-breast\">\\n\\t\\t<certainty match=\"@ana\" locus=\"value\" cert=\"high\" given=\"text\"/>\\n\\t</span>\\n</spanGrp>\\n<spanGrp type=\"theme\" inst=\"#b.JOB.003.012\">\\n\\t<span ana=\"breast-feeding\">\\n\\t\\t<certainty match=\"@ana\" locus=\"value\" cert=\"high\" given=\"text\"/>\\n\\t</span>\\n</spanGrp>\\n<spanGrp type=\"theme\" inst=\"#b.JOB.003.012\">\\n\\t<span ana=\"knie\">\\n\\t\\t<certainty match=\"@ana\" locus=\"value\" cert=\"high\" given=\"text\"/>\\n\\t</span>\\n</spanGrp>\\n<spanGrp type=\"theme\" inst=\"#b.JOB.003.016\">\\n\\t<span ana=\"abortion\">\\n\\t\\t<certainty match=\"@ana\" locus=\"value\" cert=\"high\" given=\"text\"/>\\n\\t</span>\\n</spanGrp>\\n<spanGrp type=\"theme\" inst=\"#b.JOB.003.016\">\\n\\t<span ana=\"negative-aspect\">\\n\\t\\t<certainty match=\"@ana\" locus=\"value\" cert=\"high\" given=\"text\"/>\\n\\t</span>\\n</spanGrp>\\n<spanGrp type=\"theme\" inst=\"#b.JOB.003.016\">\\n\\t<span ana=\"birth\">\\n\\t\\t<certainty match=\"@ana\" locus=\"value\" cert=\"high\" given=\"text\"/>\\n\\t</span>\\n</spanGrp>\\n<spanGrp type=\"theme\" inst=\"#b.JOB.003.020\">\\n\\t<span ana=\"birth\">\\n\\t\\t<certainty match=\"@ana\" locus=\"value\" cert=\"high\" given=\"text\"/>\\n\\t</span>\\n</spanGrp>\\n<spanGrp type=\"theme\" inst=\"#b.JOB.003.020\">\\n\\t<span ana=\"negative-aspect\">\\n\\t\\t<certainty match=\"@ana\" locus=\"value\" cert=\"high\" given=\"text\"/>\\n\\t</span>\\n</spanGrp>\\n<spanGrp type=\"theme\" inst=\"#b.JOB.003.023\">\\n\\t<span ana=\"birth\">\\n\\t\\t<certainty match=\"@ana\" locus=\"value\" cert=\"high\" given=\"text\"/>\\n\\t</span>\\n</spanGrp>\\n<spanGrp type=\"theme\" inst=\"#b.JOB.003.023\">\\n\\t<span ana=\"negative-aspect\">\\n\\t\\t<certainty match=\"@ana\" locus=\"value\" cert=\"high\" given=\"text\"/>\\n\\t</span>\\n</spanGrp>\\n<spanGrp type=\"theme\" inst=\"#b.JOB.005.025\">\\n\\t<span ana=\"ascendant-descendant\">\\n\\t\\t<certainty match=\"@ana\" locus=\"value\" cert=\"high\" given=\"text\"/>\\n\\t</span>\\n</spanGrp>\\n<spanGrp type=\"theme\" inst=\"#b.JOB.005.025\">\\n\\t<span ana=\"positive-aspect\">\\n\\t\\t<certainty match=\"@ana\" locus=\"value\" cert=\"high\" given=\"text\"/>\\n\\t</span>\\n</spanGrp>\\n<spanGrp type=\"theme\" inst=\"#b.JOB.006.012\">\\n\\t<span ana=\"flesh\">\\n\\t\\t<certainty match=\"@ana\" locus=\"value\" cert=\"high\" given=\"text\"/>\\n\\t</span>\\n</spanGrp>\\n<spanGrp type=\"theme\" inst=\"#b.JOB.006.012\">\\n\\t<span ana=\"neutral-aspect\">\\n\\t\\t<certainty match=\"@ana\" locus=\"value\" cert=\"high\" given=\"text\"/>\\n\\t</span>\\n</spanGrp>\\n<spanGrp type=\"theme\" inst=\"#b.JOB.007.005\">\\n\\t<span ana=\"flesh\">\\n\\t\\t<certainty match=\"@ana\" locus=\"value\" cert=\"high\" given=\"text\"/>\\n\\t</span>\\n</spanGrp>\\n<spanGrp type=\"theme\" inst=\"#b.JOB.007.005\">\\n\\t<span ana=\"negative-aspect\">\\n\\t\\t<certainty match=\"@ana\" locus=\"value\" cert=\"high\" given=\"text\"/>\\n\\t</span>\\n</spanGrp>\\n<spanGrp type=\"theme\" inst=\"#b.JOB.010.009\">\\n\\t<span ana=\"creation\">\\n\\t\\t<certainty match=\"@ana\" locus=\"value\" cert=\"high\" given=\"text\"/>\\n\\t</span>\\n</spanGrp>\\n<spanGrp type=\"theme\" inst=\"#b.JOB.010.009\">\\n\\t<span ana=\"positive-aspect\">\\n\\t\\t<certainty match=\"@ana\" locus=\"value\" cert=\"high\" given=\"text\"/>\\n\\t</span>\\n</spanGrp>\\n<spanGrp type=\"theme\" inst=\"#b.JOB.010.010\">\\n\\t<span ana=\"creation\">\\n\\t\\t<certainty match=\"@ana\" locus=\"value\" cert=\"high\" given=\"text\"/>\\n\\t</span>\\n</spanGrp>\\n<spanGrp type=\"theme\" inst=\"#b.JOB.010.010\">\\n\\t<span ana=\"positive-aspect\">\\n\\t\\t<certainty match=\"@ana\" locus=\"value\" cert=\"high\" given=\"text\"/>\\n\\t</span>\\n</spanGrp>\\n<spanGrp type=\"theme\" inst=\"#b.JOB.010.011\">\\n\\t<span ana=\"creation\">\\n\\t\\t<certainty match=\"@ana\" locus=\"value\" cert=\"high\" given=\"text\"/>\\n\\t</span>\\n</spanGrp>\\n<spanGrp type=\"theme\" inst=\"#b.JOB.010.011\">\\n\\t<span ana=\"positive-aspect\">\\n\\t\\t<certainty match=\"@ana\" locus=\"value\" cert=\"high\" given=\"text\"/>\\n\\t</span>\\n</spanGrp>\\n<spanGrp type=\"theme\" inst=\"#b.JOB.010.011\">\\n\\t<span ana=\"flesh\">\\n\\t\\t<certainty match=\"@ana\" locus=\"value\" cert=\"high\" given=\"text\"/>\\n\\t</span>\\n</spanGrp>\\n<spanGrp type=\"theme\" inst=\"#b.JOB.010.018\">\\n\\t<span ana=\"uterus\">\\n\\t\\t<certainty match=\"@ana\" locus=\"value\" cert=\"high\" given=\"text\"/>\\n\\t</span>\\n</spanGrp>\\n<spanGrp type=\"theme\" inst=\"#b.JOB.010.018\">\\n\\t<span ana=\"birth\">\\n\\t\\t<certainty match=\"@ana\" locus=\"value\" cert=\"high\" given=\"text\"/>\\n\\t</span>\\n</spanGrp>\\n<spanGrp type=\"theme\" inst=\"#b.JOB.010.018\">\\n\\t<span ana=\"negative-aspect\">\\n\\t\\t<certainty match=\"@ana\" locus=\"value\" cert=\"high\" given=\"text\"/>\\n\\t</span>\\n</spanGrp>\\n<spanGrp type=\"theme\" inst=\"#b.JOB.010.019\">\\n\\t<span ana=\"uterus\">\\n\\t\\t<certainty match=\"@ana\" locus=\"value\" cert=\"high\" given=\"text\"/>\\n\\t</span>\\n</spanGrp>\\n<spanGrp type=\"theme\" inst=\"#b.JOB.010.019\">\\n\\t<span ana=\"birth\">\\n\\t\\t<certainty match=\"@ana\" locus=\"value\" cert=\"high\" given=\"text\"/>\\n\\t</span>\\n</spanGrp>\\n<spanGrp type=\"theme\" inst=\"#b.JOB.010.019\">\\n\\t<span ana=\"negative-aspect\">\\n\\t\\t<certainty match=\"@ana\" locus=\"value\" cert=\"high\" given=\"text\"/>\\n\\t</span>\\n</spanGrp>\\n<spanGrp type=\"theme\" inst=\"#b.JOB.014.001\">\\n\\t<span ana=\"birth\">\\n\\t\\t<certainty match=\"@ana\" locus=\"value\" cert=\"high\" given=\"text\"/>\\n\\t</span>\\n</spanGrp>\\n<spanGrp type=\"theme\" inst=\"#b.JOB.014.001\">\\n\\t<span ana=\"negative-aspect\">\\n\\t\\t<certainty match=\"@ana\" locus=\"value\" cert=\"high\" given=\"text\"/>\\n\\t</span>\\n</spanGrp>\\n<spanGrp type=\"theme\" inst=\"#b.JOB.014.002\">\\n\\t<span ana=\"birth\">\\n\\t\\t<certainty match=\"@ana\" locus=\"value\" cert=\"high\" given=\"text\"/>\\n\\t</span>\\n</spanGrp>\\n<spanGrp type=\"theme\" inst=\"#b.JOB.014.002\">\\n\\t<span ana=\"negative-aspect\">\\n\\t\\t<certainty match=\"@ana\" locus=\"value\" cert=\"high\" given=\"text\"/>\\n\\t</span>\\n</spanGrp>\\n<spanGrp type=\"theme\" inst=\"#b.JOB.015.007\">\\n\\t<span ana=\"birth\">\\n\\t\\t<certainty match=\"@ana\" locus=\"value\" cert=\"high\" given=\"text\"/>\\n\\t</span>\\n</spanGrp>\\n<spanGrp type=\"theme\" inst=\"#b.JOB.015.007\">\\n\\t<span ana=\"neutral-aspect\">\\n\\t\\t<certainty match=\"@ana\" locus=\"value\" cert=\"high\" given=\"text\"/>\\n\\t</span>\\n</spanGrp>\\n<spanGrp type=\"theme\" inst=\"#b.JOB.015.014\">\\n\\t<span ana=\"birth\">\\n\\t\\t<certainty match=\"@ana\" locus=\"value\" cert=\"high\" given=\"text\"/>\\n\\t</span>\\n</spanGrp>\\n<spanGrp type=\"theme\" inst=\"#b.JOB.015.014\">\\n\\t<span ana=\"women\">\\n\\t\\t<certainty match=\"@ana\" locus=\"value\" cert=\"high\" given=\"text\"/>\\n\\t</span>\\n</spanGrp>\\n<spanGrp type=\"theme\" inst=\"#b.JOB.015.014\">\\n\\t<span ana=\"positive-aspect\">\\n\\t\\t<certainty match=\"@ana\" locus=\"value\" cert=\"high\" given=\"text\"/>\\n\\t</span>\\n</spanGrp>\\n<spanGrp type=\"theme\" inst=\"#b.JOB.015.014\">\\n\\t<span ana=\"negative-aspect\">\\n\\t\\t<certainty match=\"@ana\" locus=\"value\" cert=\"high\" given=\"text\"/>\\n\\t</span>\\n</spanGrp>\\n<spanGrp type=\"theme\" inst=\"#b.JOB.015.035\">\\n\\t<span ana=\"fertilization\">\\n\\t\\t<certainty match=\"@ana\" locus=\"value\" cert=\"medium\" given=\"text\"/>\\n\\t</span>\\n</spanGrp>\\n<spanGrp type=\"theme\" inst=\"#b.JOB.015.035\">\\n\\t<span ana=\"birth\">\\n\\t\\t<certainty match=\"@ana\" locus=\"value\" cert=\"medium\" given=\"text\"/>\\n\\t</span>\\n</spanGrp>\\n<spanGrp type=\"theme\" inst=\"#b.JOB.015.035\">\\n\\t<span ana=\"uterus\">\\n\\t\\t<certainty match=\"@ana\" locus=\"value\" cert=\"medium\" given=\"text\"/>\\n\\t</span>\\n</spanGrp>\\n<spanGrp type=\"theme\" inst='"
      ]
     },
     "metadata": {},
     "execution_count": 14
    }
   ],
   "source": [
    "standOff_str[0:10000]"
   ]
  },
  {
   "cell_type": "code",
   "execution_count": 15,
   "metadata": {},
   "outputs": [],
   "source": [
    "valorations_lt = taxonomy_el.xpath(\"//tei:category[@xml:id='valorations']//tei:category//@xml:id\", namespaces = namespaces_dict)"
   ]
  },
  {
   "cell_type": "code",
   "execution_count": 16,
   "metadata": {},
   "outputs": [
    {
     "output_type": "execute_result",
     "data": {
      "text/plain": [
       "5"
      ]
     },
     "metadata": {},
     "execution_count": 16
    }
   ],
   "source": [
    "len(valorations_lt)"
   ]
  },
  {
   "cell_type": "code",
   "execution_count": 17,
   "metadata": {},
   "outputs": [
    {
     "output_type": "execute_result",
     "data": {
      "text/plain": [
       "['blessed-aspect',\n",
       " 'positive-aspect',\n",
       " 'neutral-aspect',\n",
       " 'negative-aspect',\n",
       " 'condemned-aspect']"
      ]
     },
     "metadata": {},
     "execution_count": 17
    }
   ],
   "source": [
    "valorations_lt"
   ]
  },
  {
   "cell_type": "code",
   "execution_count": 18,
   "metadata": {},
   "outputs": [],
   "source": [
    "for verse in sorted(list(set(etree.fromstring(standOff_str).xpath('//spanGrp//@inst')))):\n",
    "    #print(verse)\n",
    "    annotations = etree.fromstring(standOff_str).xpath('//spanGrp[@inst =\"' + verse + '\"]/span/@ana')\n",
    "\n",
    "    if valorations_lt[0] not in annotations and valorations_lt[1]  not in annotations and valorations_lt[2]  not in annotations  and valorations_lt[3] not in annotations  and valorations_lt[4] not in annotations:\n",
    "        print(verse, annotations) \n"
   ]
  },
  {
   "cell_type": "code",
   "execution_count": 19,
   "metadata": {},
   "outputs": [
    {
     "output_type": "execute_result",
     "data": {
      "text/plain": [
       "'#b.JOB.042.016'"
      ]
     },
     "metadata": {},
     "execution_count": 19
    }
   ],
   "source": [
    "verse"
   ]
  },
  {
   "cell_type": "code",
   "execution_count": 20,
   "metadata": {},
   "outputs": [
    {
     "output_type": "execute_result",
     "data": {
      "text/plain": [
       "['ascendant-descendant', 'blessed-aspect']"
      ]
     },
     "metadata": {},
     "execution_count": 20
    }
   ],
   "source": [
    "annotations"
   ]
  },
  {
   "cell_type": "code",
   "execution_count": 21,
   "metadata": {},
   "outputs": [
    {
     "output_type": "execute_result",
     "data": {
      "text/plain": [
       "label    b\n",
       "value    5\n",
       "Name: 1, dtype: object"
      ]
     },
     "metadata": {},
     "execution_count": 21
    }
   ],
   "source": [
    "import pandas as pd\n",
    "pd.DataFrame([[\"a\", 1],[\"b\", 5],[\"c\", 0],[\"d\", 2],], columns=[\"label\", \"value\"]).sort_values(by=\"value\", ascending=False).iloc[0]"
   ]
  },
  {
   "cell_type": "code",
   "execution_count": 22,
   "metadata": {
    "tags": []
   },
   "outputs": [
    {
     "output_type": "execute_result",
     "data": {
      "text/plain": [
       "[('negative', 30),\n",
       " ('positive', 21),\n",
       " ('neutral', 12),\n",
       " ('viuda', 5),\n",
       " ('ascending', 3),\n",
       " ('creation', 3),\n",
       " ('animal', 3),\n",
       " ('blessed', 3),\n",
       " ('ascendant', 1),\n",
       " ('female-breasts', 1),\n",
       " ('knies', 1),\n",
       " ('aborto', 1),\n",
       " ('conception', 1),\n",
       " ('condemned', 1),\n",
       " ('adultery', 1),\n",
       " ('sterility', 1),\n",
       " ('female-virgin', 1),\n",
       " ('pregangy', 1)]"
      ]
     },
     "metadata": {},
     "execution_count": 22
    }
   ],
   "source": [
    "from collections import Counter\n",
    "Counter([error_id[1] for  error_id in error_lt]).most_common()\n"
   ]
  },
  {
   "cell_type": "code",
   "execution_count": 23,
   "metadata": {},
   "outputs": [],
   "source": [
    "parse_sexual_anotation.save_book_with_standOff_element(book_str, standOff_str, book_name,     wdir_str = \"./../../../sexual-annotation/\",)"
   ]
  },
  {
   "cell_type": "code",
   "execution_count": 24,
   "metadata": {},
   "outputs": [
    {
     "output_type": "execute_result",
     "data": {
      "text/plain": [
       "'<?xml version=\"1.0\" encoding=\"UTF-8\"?>\\n<?xml-model href=\"https://raw.githubusercontent.com/morethanbooks/XML-TEI-Bible/master/scheme/tei_lite.rng\" type=\"application/xml\" schematypens=\"http://relaxng.org/ns/structure/1.0\"?>\\n<!--<?xml-model href=\"http://www.tei-c.org/release/xml/tei/custom/schema/relaxng/tei_all.rng\" type=\"application/xml\"\\n\\tschematypens=\"http://purl.oclc.org/dsdl/schematron\"?>-->\\n\\n\\n<?xml-stylesheet type=\"text/css\" href=\"styles/word2pix-reference.css\" rel=\"stylesheet\" title=\"Word2Pix References\"?>\\n<?xml-stylesheet type=\"text/css\" href=\"styles/styles.css\" rel=\"stylesheet\" title=\"Classic\"?>\\n<?xml-stylesheet type=\"text/css\" href=\"styles/word2pix-quotes.css\" rel=\"stylesheet\" title=\"Word2Pix Quotations\"?>\\n<?xml-stylesheet type=\"text/css\" href=\"styles/word2pix-level-q.css\" rel=\"stylesheet\" title=\"Word2Pix Level Quotation\"?>\\n\\n\\n<TEI xmlns=\"http://www.tei-c.org/ns/1.0\">\\n\\t<teiHeader>\\n\\t\\t<fileDesc>\\n\\t\\t\\t<titleStmt>\\n\\t\\t\\t\\t<title>Job</title>\\n\\t\\t\\t\\t<title type=\"idno\">\\n\\t\\t\\t\\t\\t<idno type=\"string\"'"
      ]
     },
     "metadata": {},
     "execution_count": 24
    }
   ],
   "source": [
    "book_str[0:1000]"
   ]
  },
  {
   "cell_type": "code",
   "execution_count": 25,
   "metadata": {},
   "outputs": [
    {
     "output_type": "execute_result",
     "data": {
      "text/plain": [
       "'<rs key=\"#per855\">Cesia</rs>, y a la tercera, <rs key=\"#per848\">Keren-hapuc</rs>.\\n\\t\\t\\t\\t\\t\\t</ab>\\n\\t\\t\\t\\t\\t\\t<ab xml:id=\"b.JOB.042.015\" type=\"verse\" n=\"15\">\\n\\t\\t\\t\\t\\t\\t\\t<!--sex: beauty; blessed-->\\n\\t\\t\\t\\t\\t\\t\\tY no había en toda la <rs key=\"#pla41\">tierra</rs> <rs key=\"#org122\">mujeres</rs> tan hermosas como las <rs key=\"#per850 #per855 #per848\">hijas de <rs key=\"#per845\">Job</rs></rs>, a las que su <rs key=\"#per845\">padre</rs> dio herencia entre sus <rs key=\"#org165\">hermanos</rs>.\\n\\t\\t\\t\\t\\t\\t</ab>\\n\\t\\t\\t\\t\\t\\t<ab xml:id=\"b.JOB.042.016\" type=\"verse\" n=\"16\">\\n\\t\\t\\t\\t\\t\\t\\t<!--sex: ascending;blessed-->\\n\\t\\t\\t\\t\\t\\t\\tDespués de esto vivió <rs key=\"#per845\">Job</rs> ciento cuarenta años, y vio a sus <rs key=\"#org165\">hijos</rs> y a los <rs key=\"#org165\">hijos de sus <rs key=\"#org165\">hijos</rs></rs>, hasta la cuarta generación.\\n\\t\\t\\t\\t\\t\\t</ab>\\n\\t\\t\\t\\t\\t\\t<ab xml:id=\"b.JOB.042.017\" type=\"verse\" n=\"17\">\\n\\t\\t\\t\\t\\t\\t\\t<rs key=\"#per845\">Job</rs> murió muy anciano, colmado de días.\\n\\t\\t\\t\\t\\t\\t</ab>\\n\\n\\t\\t\\t\\t\\t</div>\\n\\t\\t\\t\\t</div>\\n\\t\\t\\t</div>\\n\\t\\t</body>\\n\\t</text>\\n</TEI>\\n'"
      ]
     },
     "metadata": {},
     "execution_count": 25
    }
   ],
   "source": [
    "book_str[-1000:]"
   ]
  },
  {
   "cell_type": "code",
   "execution_count": null,
   "metadata": {},
   "outputs": [],
   "source": []
  },
  {
   "cell_type": "code",
   "execution_count": null,
   "metadata": {},
   "outputs": [],
   "source": []
  },
  {
   "cell_type": "code",
   "execution_count": null,
   "metadata": {},
   "outputs": [],
   "source": []
  }
 ]
}