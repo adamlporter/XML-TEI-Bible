{
 "metadata": {
  "language_info": {
   "codemirror_mode": {
    "name": "ipython",
    "version": 3
   },
   "file_extension": ".py",
   "mimetype": "text/x-python",
   "name": "python",
   "nbconvert_exporter": "python",
   "pygments_lexer": "ipython3",
   "version": "3.7.6"
  },
  "orig_nbformat": 2,
  "kernelspec": {
   "name": "python3",
   "display_name": "Python 3.7.6 64-bit ('base': conda)"
  },
  "interpreter": {
   "hash": "960f4d658457e0296618a96ff118bd2cbd6b6fed4373572a098ed4ec5a9be4c3"
  }
 },
 "nbformat": 4,
 "nbformat_minor": 2,
 "cells": [
  {
   "cell_type": "code",
   "execution_count": 26,
   "source": [
    "import pandas as pd\r\n",
    "from lxml import etree\r\n",
    "import requests\r\n",
    "import os\r\n",
    "import time\r\n"
   ],
   "outputs": [],
   "metadata": {}
  },
  {
   "cell_type": "code",
   "execution_count": 27,
   "source": [
    "sys.path.append(os.path.abspath(\"./../scripts/\"))\r\n"
   ],
   "outputs": [],
   "metadata": {}
  },
  {
   "cell_type": "code",
   "execution_count": 28,
   "source": [
    "import parse_sexual_anotation"
   ],
   "outputs": [],
   "metadata": {}
  },
  {
   "cell_type": "code",
   "execution_count": 29,
   "source": [
    "book_name = \"MAL\""
   ],
   "outputs": [],
   "metadata": {}
  },
  {
   "cell_type": "code",
   "execution_count": 30,
   "source": [
    "wdir_str = \"./../../../sexual-annotation/\"\r\n",
    "file_str = book_name + \".xml\"\r\n",
    "\r\n",
    "book_name_str = file_str[0:3]\r\n"
   ],
   "outputs": [],
   "metadata": {}
  },
  {
   "cell_type": "code",
   "execution_count": 31,
   "source": [
    "book_str = parse_sexual_anotation.open_book(wdir_str, file_str)\r\n",
    "book_str[0:1000]\r\n"
   ],
   "outputs": [
    {
     "output_type": "stream",
     "name": "stdout",
     "text": [
      "['./../../../sexual-annotation/MAL.xml']\n",
      "MAL\n",
      "<class 'str'>\n"
     ]
    },
    {
     "output_type": "execute_result",
     "data": {
      "text/plain": [
       "'<?xml version=\"1.0\" encoding=\"UTF-8\"?>\\n<?xml-model href=\"https://raw.githubusercontent.com/morethanbooks/XML-TEI-Bible/master/scheme/tei_lite.rng\" type=\"application/xml\" schematypens=\"http://relaxng.org/ns/structure/1.0\"?>\\n<!--<?xml-model href=\"http://www.tei-c.org/release/xml/tei/custom/schema/relaxng/tei_all.rng\" type=\"application/xml\"\\n\\tschematypens=\"http://purl.oclc.org/dsdl/schematron\"?>-->\\n\\n<?xml-stylesheet type=\"text/css\" href=\"styles/word2pix-reference.css\" rel=\"stylesheet\" title=\"Word2Pix References\"?>\\n<?xml-stylesheet type=\"text/css\" href=\"styles/styles.css\" rel=\"stylesheet\" title=\"Classic\"?>\\n<?xml-stylesheet type=\"text/css\" href=\"styles/word2pix-quotes.css\" rel=\"stylesheet\" title=\"Word2Pix Quotations\"?>\\n<?xml-stylesheet type=\"text/css\" href=\"styles/word2pix-level-q.css\" rel=\"stylesheet\" title=\"Word2Pix Level Quotation\"?>\\n\\n<TEI xmlns=\"http://www.tei-c.org/ns/1.0\">\\n    <teiHeader>\\n        <fileDesc>\\n            <titleStmt>\\n                <title>Malaquías</title>\\n              '"
      ]
     },
     "metadata": {},
     "execution_count": 31
    }
   ],
   "metadata": {
    "tags": []
   }
  },
  {
   "cell_type": "code",
   "execution_count": 32,
   "source": [
    "taxonomy_file_str = \"taxonomy.xml\"\r\n"
   ],
   "outputs": [],
   "metadata": {}
  },
  {
   "cell_type": "code",
   "execution_count": 33,
   "source": [
    "taxonomy_el = parse_sexual_anotation.open_taxonomy(wdir_str, taxonomy_file_str)\r\n",
    "\r\n"
   ],
   "outputs": [
    {
     "output_type": "stream",
     "name": "stdout",
     "text": [
      "<class 'lxml.etree._Element'>\n"
     ]
    }
   ],
   "metadata": {
    "tags": []
   }
  },
  {
   "cell_type": "code",
   "execution_count": 34,
   "source": [
    "namespaces_dict = {'tei':'http://www.tei-c.org/ns/1.0','xi':'http://www.w3.org/2001/XInclude'}\r\n"
   ],
   "outputs": [],
   "metadata": {}
  },
  {
   "cell_type": "code",
   "execution_count": 35,
   "source": [
    "categories_id_lt = parse_sexual_anotation.get_list_categories(taxonomy_el, namespaces = namespaces_dict)\r\n",
    "\r\n",
    "print(categories_id_lt)\r\n"
   ],
   "outputs": [
    {
     "output_type": "stream",
     "name": "stdout",
     "text": [
      "['relations', 'monogamy', 'poligamy', 'marriage', 'second-marriage', 'second-marriage-divorce', 'second-marriage-widow', 'interfaith-marriage', 'interfaith-relation', 'non-marital-relation', 'marital-relation-political-family', 'lord-servant-relation', 'marital-relation-direct-family', 'arranged-marriage', 'divorce', 'engaged', 'love', 'jealousy', 'ascendant-descendant', 'primogeniture', 'indirect-ascendant-descendant', 'acts', 'social-related-act', 'wedding', 'body-related-act', 'massage', 'kiss', 'hug', 'dance', 'abortion', 'circumcision', 'breast-feeding', 'sexual-act', 'sexual-act-stage', 'seduction', 'erotic-time', 'initation-sexual-act', 'orgasm', 'ejaculation', 'time-after-sex', 'sexual-act-type', 'coitus', 'first-sexual-act', 'coitus-interruptus', 'self-masturbation', 'masturbation', 'oral-sex', 'anal-sex', 'non-penetrative-sex', 'rape', 'female-rape', 'male-rape', 'sexual-assault', 'female-sexual-assault', 'male-sexual-assault', 'sexual-deception', 'sexual-drive', 'sexual-desire', 'sex-for-goods', 'other-sexual-act', 'sexual-act-situation', 'sex-in-marriage', 'sex-before-marriage', 'sex-outside-marriage', 'sex-outside', 'sex-menstruation', 'sexual-act-participants', 'heterosexual-sex', 'homosexual-sex', 'gay-sex', 'lesbian-sex', 'prostitution-sex', 'religous-sex', 'parents-children-sex', 'sibling-sex', 'greater-family-sex', 'interfaith-sex', 'interracial-sex', 'angel-human-sex', 'animal-human-sex', 'animal-sex', 'groupal-sex', 'lord-servant-sex', 'states', 'single-life', 'virginity', 'celibacy', 'infertility', 'nudity', 'semi-nudity', 'pregnancy', 'beauty', 'dishonor', 'body', 'body-by-gender', 'female-body', 'male-body', 'body-part', 'genitalia', 'female-genitalia', 'uterus', 'male-genitalia', 'prepuce', 'gluteus-anus', 'female-breast', 'male-chest', 'ovaries', 'semen', 'head', 'eye', 'nose', 'cheek', 'mouth', 'lips', 'tongue', 'tooth', 'hair', 'thigh', 'neck', 'hand', 'skin', 'foot', 'waist', 'heart', 'navel', 'belly', 'leg', 'knie', 'arm', 'rib', 'lubrication', 'face', 'flesh', 'blood', 'umbilical-cord', 'body-function', 'birth', 'fertilization', 'misscarriage', 'erection', 'menstruation', 'sleep', 'diseases', 'menstrual-disorder', 'senses', 'smell', 'things', 'clothes', 'belt', 'veil', 'skirt', 'underwear', 'male-underwear', 'female-underwear', 'perfume', 'juwels', 'earrings', 'piercing', 'collar', 'bracelet', 'food-and-related', 'drink', 'water', 'milk', 'wine', 'alcohol', 'glass', 'oil', 'spices', 'wheat', 'honey', 'fruits', 'pomegranate', 'grapes', 'raisin', 'apples', 'figs', 'carriage', 'weapons', 'sword', 'shield', 'money', 'metal', 'silver', 'gold', 'fountain', 'well', 'pitcher', 'sexual-object', 'make-up', 'song', 'environment', 'moon', 'sun', 'rain', 'wind', 'places', 'interior-spaces', 'room', 'bedroom', 'bed', 'door', 'wall', 'house', 'tower', 'exterior-spaces', 'garden', 'vineyard', 'spring', 'desert', 'river', 'field', 'lake', 'groups', 'based-on-gender', 'women', 'men', 'third-sexual-group', 'eunuchs', 'based-on-orientation', 'heterosexuals', 'homosexuals', 'male-homosexuals', 'female-homosexuals', 'by-state', 'single', 'married', 'widow-widower', 'widow', 'widower', 'virgin', 'by-profession', 'prostitutes', 'female-prostitutes', 'male-prostitutes', 'sexual-priests', 'concubine', 'by-corporal-traits', 'circumcised', 'uncircumcised', 'animals', 'gazelle', 'deer', 'dove', 'fox', 'goat', 'sheep', 'leopard', 'lion', 'crow', 'turtledove', 'horse', 'donkey', 'cow', 'camel', 'plants', 'flowers', 'trees', 'palms', 'time', 'part-of-the-day', 'night', 'sunrise', 'seasons', 'winter', 'valorations', 'blessed-aspect', 'positive-aspect', 'neutral-aspect', 'negative-aspect', 'condemned-aspect']\n"
     ]
    }
   ],
   "metadata": {
    "tags": []
   }
  },
  {
   "cell_type": "code",
   "execution_count": 36,
   "source": [
    "sexual_annotations_from_comments_lt = parse_sexual_anotation.parse_sexual_annotations_from_comments(book_str)\r\n"
   ],
   "outputs": [
    {
     "output_type": "stream",
     "name": "stdout",
     "text": [
      "[('b.MAL.001.002', 'love; positive; negative'), ('b.MAL.002.006', 'lips; mouth; positive'), ('b.MAL.002.007', 'lips; mouth; positive'), ('b.MAL.002.011', 'wedding; inter-religion-relation; condemned'), ('b.MAL.002.014', 'marriage; sex-outside-marraige cert=\"low\"; negative'), ('b.MAL.002.015', 'descendant; marriage; positive'), ('b.MAL.002.016', 'cloths; negative'), ('b.MAL.003.005', 'widow; positive; negative')]\n"
     ]
    }
   ],
   "metadata": {
    "tags": []
   }
  },
  {
   "cell_type": "code",
   "execution_count": null,
   "source": [],
   "outputs": [],
   "metadata": {}
  },
  {
   "cell_type": "code",
   "execution_count": 37,
   "source": [
    "error_lt, standOff_str = parse_sexual_anotation.parse_each_sexual_annotation_as_comment(sexual_annotations_from_comments_lt, categories_id_lt, book_name)\r\n"
   ],
   "outputs": [
    {
     "output_type": "stream",
     "name": "stdout",
     "text": [
      "b.MAL.001.002\n",
      "love\n",
      "<class 'str'>\n",
      "love\n",
      " positive\n",
      "<class 'str'>\n",
      "positive\n",
      "ERROR!! positive\n",
      " negative\n",
      "<class 'str'>\n",
      "negative\n",
      "ERROR!! negative\n",
      "b.MAL.002.006\n",
      "lips\n",
      "<class 'str'>\n",
      "lips\n",
      " mouth\n",
      "<class 'str'>\n",
      "mouth\n",
      " positive\n",
      "<class 'str'>\n",
      "positive\n",
      "ERROR!! positive\n",
      "b.MAL.002.007\n",
      "lips\n",
      "<class 'str'>\n",
      "lips\n",
      " mouth\n",
      "<class 'str'>\n",
      "mouth\n",
      " positive\n",
      "<class 'str'>\n",
      "positive\n",
      "ERROR!! positive\n",
      "b.MAL.002.011\n",
      "wedding\n",
      "<class 'str'>\n",
      "wedding\n",
      " inter-religion-relation\n",
      "<class 'str'>\n",
      "inter-religion-relation\n",
      "ERROR!! inter-religion-relation\n",
      " condemned\n",
      "<class 'str'>\n",
      "condemned\n",
      "ERROR!! condemned\n",
      "b.MAL.002.014\n",
      "marriage\n",
      "<class 'str'>\n",
      "marriage\n",
      " sex-outside-marraige cert=\"low\"\n",
      "<class 'str'>\n",
      "sex-outside-marraige\n",
      "ERROR!! sex-outside-marraige\n",
      " negative\n",
      "<class 'str'>\n",
      "negative\n",
      "ERROR!! negative\n",
      "b.MAL.002.015\n",
      "descendant\n",
      "<class 'str'>\n",
      "descendant\n",
      "ERROR!! descendant\n",
      " marriage\n",
      "<class 'str'>\n",
      "marriage\n",
      " positive\n",
      "<class 'str'>\n",
      "positive\n",
      "ERROR!! positive\n",
      "b.MAL.002.016\n",
      "cloths\n",
      "<class 'str'>\n",
      "cloths\n",
      "ERROR!! cloths\n",
      " negative\n",
      "<class 'str'>\n",
      "negative\n",
      "ERROR!! negative\n",
      "b.MAL.003.005\n",
      "widow\n",
      "<class 'str'>\n",
      "widow\n",
      " positive\n",
      "<class 'str'>\n",
      "positive\n",
      "ERROR!! positive\n",
      " negative\n",
      "<class 'str'>\n",
      "negative\n",
      "ERROR!! negative\n",
      "errors [['b.MAL.001.002', 'positive'], ['b.MAL.001.002', 'negative'], ['b.MAL.002.006', 'positive'], ['b.MAL.002.007', 'positive'], ['b.MAL.002.011', 'inter-religion-relation'], ['b.MAL.002.011', 'condemned'], ['b.MAL.002.014', 'sex-outside-marraige'], ['b.MAL.002.014', 'negative'], ['b.MAL.002.015', 'descendant'], ['b.MAL.002.015', 'positive'], ['b.MAL.002.016', 'cloths'], ['b.MAL.002.016', 'negative'], ['b.MAL.003.005', 'positive'], ['b.MAL.003.005', 'negative']]\n",
      "[('positive', 5), ('negative', 4), ('inter-religion-relation', 1), ('condemned', 1), ('sex-outside-marraige', 1), ('descendant', 1), ('cloths', 1)]\n",
      "\n",
      "\n",
      "Consider substitue sex-outside-marraige with sex-outside-marriage . Levenshtein ratio:0.95\n",
      "Replacement accepted\n",
      "\n",
      "\n",
      "Consider substitue condemned with condemned-aspect . Levenshtein ratio:0.72\n",
      "Replacement accepted\n",
      "\n",
      "\n",
      "Consider substitue descendant with ascendant-descendant . Levenshtein ratio:0.67\n",
      "Replacement accepted\n",
      "\n",
      "\n",
      "Consider substitue negative with negative-aspect . Levenshtein ratio:0.7\n",
      "Replacement accepted\n",
      "\n",
      "\n",
      "Consider substitue cloths with clothes . Levenshtein ratio:0.92\n",
      "Replacement accepted\n",
      "\n",
      "\n",
      "Consider substitue inter-religion-relation with interfaith-relation . Levenshtein ratio:0.71\n",
      "Replacement accepted\n",
      "\n",
      "\n",
      "Consider substitue positive with positive-aspect . Levenshtein ratio:0.7\n",
      "Replacement accepted\n"
     ]
    }
   ],
   "metadata": {
    "tags": []
   }
  },
  {
   "cell_type": "code",
   "execution_count": 38,
   "source": [
    "error_lt"
   ],
   "outputs": [
    {
     "output_type": "execute_result",
     "data": {
      "text/plain": [
       "[['b.MAL.001.002', 'positive'],\n",
       " ['b.MAL.001.002', 'negative'],\n",
       " ['b.MAL.002.006', 'positive'],\n",
       " ['b.MAL.002.007', 'positive'],\n",
       " ['b.MAL.002.011', 'inter-religion-relation'],\n",
       " ['b.MAL.002.011', 'condemned'],\n",
       " ['b.MAL.002.014', 'sex-outside-marraige'],\n",
       " ['b.MAL.002.014', 'negative'],\n",
       " ['b.MAL.002.015', 'descendant'],\n",
       " ['b.MAL.002.015', 'positive'],\n",
       " ['b.MAL.002.016', 'cloths'],\n",
       " ['b.MAL.002.016', 'negative'],\n",
       " ['b.MAL.003.005', 'positive'],\n",
       " ['b.MAL.003.005', 'negative']]"
      ]
     },
     "metadata": {},
     "execution_count": 38
    }
   ],
   "metadata": {}
  },
  {
   "cell_type": "code",
   "execution_count": 39,
   "source": [
    "standOff_str[0:10000]"
   ],
   "outputs": [
    {
     "output_type": "execute_result",
     "data": {
      "text/plain": [
       "'<standOff xml:id=\"b.MAL.sexualThemes\"  scheme=\"taxonomy.xml\">\\n<spanGrp type=\"theme\" inst=\"#b.MAL.001.002\">\\n\\t<span ana=\"love\">\\n\\t\\t<certainty match=\"@ana\" locus=\"value\" cert=\"high\" given=\"text\"/>\\n\\t</span>\\n</spanGrp>\\n<spanGrp type=\"theme\" inst=\"#b.MAL.001.002\">\\n\\t<span ana=\"positive-aspect\">\\n\\t\\t<certainty match=\"@ana\" locus=\"value\" cert=\"high\" given=\"text\"/>\\n\\t</span>\\n</spanGrp>\\n<spanGrp type=\"theme\" inst=\"#b.MAL.001.002\">\\n\\t<span ana=\"negative-aspect\">\\n\\t\\t<certainty match=\"@ana\" locus=\"value\" cert=\"high\" given=\"text\"/>\\n\\t</span>\\n</spanGrp>\\n<spanGrp type=\"theme\" inst=\"#b.MAL.002.006\">\\n\\t<span ana=\"lips\">\\n\\t\\t<certainty match=\"@ana\" locus=\"value\" cert=\"high\" given=\"text\"/>\\n\\t</span>\\n</spanGrp>\\n<spanGrp type=\"theme\" inst=\"#b.MAL.002.006\">\\n\\t<span ana=\"mouth\">\\n\\t\\t<certainty match=\"@ana\" locus=\"value\" cert=\"high\" given=\"text\"/>\\n\\t</span>\\n</spanGrp>\\n<spanGrp type=\"theme\" inst=\"#b.MAL.002.006\">\\n\\t<span ana=\"positive-aspect\">\\n\\t\\t<certainty match=\"@ana\" locus=\"value\" cert=\"high\" given=\"text\"/>\\n\\t</span>\\n</spanGrp>\\n<spanGrp type=\"theme\" inst=\"#b.MAL.002.007\">\\n\\t<span ana=\"lips\">\\n\\t\\t<certainty match=\"@ana\" locus=\"value\" cert=\"high\" given=\"text\"/>\\n\\t</span>\\n</spanGrp>\\n<spanGrp type=\"theme\" inst=\"#b.MAL.002.007\">\\n\\t<span ana=\"mouth\">\\n\\t\\t<certainty match=\"@ana\" locus=\"value\" cert=\"high\" given=\"text\"/>\\n\\t</span>\\n</spanGrp>\\n<spanGrp type=\"theme\" inst=\"#b.MAL.002.007\">\\n\\t<span ana=\"positive-aspect\">\\n\\t\\t<certainty match=\"@ana\" locus=\"value\" cert=\"high\" given=\"text\"/>\\n\\t</span>\\n</spanGrp>\\n<spanGrp type=\"theme\" inst=\"#b.MAL.002.011\">\\n\\t<span ana=\"wedding\">\\n\\t\\t<certainty match=\"@ana\" locus=\"value\" cert=\"high\" given=\"text\"/>\\n\\t</span>\\n</spanGrp>\\n<spanGrp type=\"theme\" inst=\"#b.MAL.002.011\">\\n\\t<span ana=\"interfaith-relation\">\\n\\t\\t<certainty match=\"@ana\" locus=\"value\" cert=\"high\" given=\"text\"/>\\n\\t</span>\\n</spanGrp>\\n<spanGrp type=\"theme\" inst=\"#b.MAL.002.011\">\\n\\t<span ana=\"condemned-aspect\">\\n\\t\\t<certainty match=\"@ana\" locus=\"value\" cert=\"high\" given=\"text\"/>\\n\\t</span>\\n</spanGrp>\\n<spanGrp type=\"theme\" inst=\"#b.MAL.002.014\">\\n\\t<span ana=\"marriage\">\\n\\t\\t<certainty match=\"@ana\" locus=\"value\" cert=\"high\" given=\"text\"/>\\n\\t</span>\\n</spanGrp>\\n<spanGrp type=\"theme\" inst=\"#b.MAL.002.014\">\\n\\t<span ana=\"sex-outside-marriage\">\\n\\t\\t<certainty match=\"@ana\" locus=\"value\" cert=\"low\" given=\"text\"/>\\n\\t</span>\\n</spanGrp>\\n<spanGrp type=\"theme\" inst=\"#b.MAL.002.014\">\\n\\t<span ana=\"negative-aspect\">\\n\\t\\t<certainty match=\"@ana\" locus=\"value\" cert=\"high\" given=\"text\"/>\\n\\t</span>\\n</spanGrp>\\n<spanGrp type=\"theme\" inst=\"#b.MAL.002.015\">\\n\\t<span ana=\"ascendant-descendant\">\\n\\t\\t<certainty match=\"@ana\" locus=\"value\" cert=\"high\" given=\"text\"/>\\n\\t</span>\\n</spanGrp>\\n<spanGrp type=\"theme\" inst=\"#b.MAL.002.015\">\\n\\t<span ana=\"marriage\">\\n\\t\\t<certainty match=\"@ana\" locus=\"value\" cert=\"high\" given=\"text\"/>\\n\\t</span>\\n</spanGrp>\\n<spanGrp type=\"theme\" inst=\"#b.MAL.002.015\">\\n\\t<span ana=\"positive-aspect\">\\n\\t\\t<certainty match=\"@ana\" locus=\"value\" cert=\"high\" given=\"text\"/>\\n\\t</span>\\n</spanGrp>\\n<spanGrp type=\"theme\" inst=\"#b.MAL.002.016\">\\n\\t<span ana=\"clothes\">\\n\\t\\t<certainty match=\"@ana\" locus=\"value\" cert=\"high\" given=\"text\"/>\\n\\t</span>\\n</spanGrp>\\n<spanGrp type=\"theme\" inst=\"#b.MAL.002.016\">\\n\\t<span ana=\"negative-aspect\">\\n\\t\\t<certainty match=\"@ana\" locus=\"value\" cert=\"high\" given=\"text\"/>\\n\\t</span>\\n</spanGrp>\\n<spanGrp type=\"theme\" inst=\"#b.MAL.003.005\">\\n\\t<span ana=\"widow\">\\n\\t\\t<certainty match=\"@ana\" locus=\"value\" cert=\"high\" given=\"text\"/>\\n\\t</span>\\n</spanGrp>\\n<spanGrp type=\"theme\" inst=\"#b.MAL.003.005\">\\n\\t<span ana=\"positive-aspect\">\\n\\t\\t<certainty match=\"@ana\" locus=\"value\" cert=\"high\" given=\"text\"/>\\n\\t</span>\\n</spanGrp>\\n<spanGrp type=\"theme\" inst=\"#b.MAL.003.005\">\\n\\t<span ana=\"negative-aspect\">\\n\\t\\t<certainty match=\"@ana\" locus=\"value\" cert=\"high\" given=\"text\"/>\\n\\t</span>\\n</spanGrp>\\n\\n</standOff>'"
      ]
     },
     "metadata": {},
     "execution_count": 39
    }
   ],
   "metadata": {}
  },
  {
   "cell_type": "code",
   "execution_count": 40,
   "source": [
    "valorations_lt = taxonomy_el.xpath(\"//tei:category[@xml:id='valorations']//tei:category//@xml:id\", namespaces = namespaces_dict)"
   ],
   "outputs": [],
   "metadata": {}
  },
  {
   "cell_type": "code",
   "execution_count": 41,
   "source": [
    "len(valorations_lt)"
   ],
   "outputs": [
    {
     "output_type": "execute_result",
     "data": {
      "text/plain": [
       "5"
      ]
     },
     "metadata": {},
     "execution_count": 41
    }
   ],
   "metadata": {}
  },
  {
   "cell_type": "code",
   "execution_count": 42,
   "source": [
    "valorations_lt"
   ],
   "outputs": [
    {
     "output_type": "execute_result",
     "data": {
      "text/plain": [
       "['blessed-aspect',\n",
       " 'positive-aspect',\n",
       " 'neutral-aspect',\n",
       " 'negative-aspect',\n",
       " 'condemned-aspect']"
      ]
     },
     "metadata": {},
     "execution_count": 42
    }
   ],
   "metadata": {}
  },
  {
   "cell_type": "code",
   "execution_count": 43,
   "source": [
    "for verse in sorted(list(set(etree.fromstring(standOff_str).xpath('//spanGrp//@inst')))):\r\n",
    "    #print(verse)\r\n",
    "    annotations = etree.fromstring(standOff_str).xpath('//spanGrp[@inst =\"' + verse + '\"]/span/@ana')\r\n",
    "\r\n",
    "    if valorations_lt[0] not in annotations and valorations_lt[1]  not in annotations and valorations_lt[2]  not in annotations  and valorations_lt[3] not in annotations  and valorations_lt[4] not in annotations:\r\n",
    "        print(verse, annotations) \r\n"
   ],
   "outputs": [],
   "metadata": {}
  },
  {
   "cell_type": "code",
   "execution_count": 44,
   "source": [
    "verse"
   ],
   "outputs": [
    {
     "output_type": "execute_result",
     "data": {
      "text/plain": [
       "'#b.MAL.003.005'"
      ]
     },
     "metadata": {},
     "execution_count": 44
    }
   ],
   "metadata": {}
  },
  {
   "cell_type": "code",
   "execution_count": 45,
   "source": [
    "annotations"
   ],
   "outputs": [
    {
     "output_type": "execute_result",
     "data": {
      "text/plain": [
       "['widow', 'positive-aspect', 'negative-aspect']"
      ]
     },
     "metadata": {},
     "execution_count": 45
    }
   ],
   "metadata": {}
  },
  {
   "cell_type": "code",
   "execution_count": 46,
   "source": [
    "import pandas as pd\r\n",
    "pd.DataFrame([[\"a\", 1],[\"b\", 5],[\"c\", 0],[\"d\", 2],], columns=[\"label\", \"value\"]).sort_values(by=\"value\", ascending=False).iloc[0]"
   ],
   "outputs": [
    {
     "output_type": "execute_result",
     "data": {
      "text/plain": [
       "label    b\n",
       "value    5\n",
       "Name: 1, dtype: object"
      ]
     },
     "metadata": {},
     "execution_count": 46
    }
   ],
   "metadata": {}
  },
  {
   "cell_type": "code",
   "execution_count": 47,
   "source": [
    "from collections import Counter\r\n",
    "Counter([error_id[1] for  error_id in error_lt]).most_common()\r\n"
   ],
   "outputs": [
    {
     "output_type": "execute_result",
     "data": {
      "text/plain": [
       "[('positive', 5),\n",
       " ('negative', 4),\n",
       " ('inter-religion-relation', 1),\n",
       " ('condemned', 1),\n",
       " ('sex-outside-marraige', 1),\n",
       " ('descendant', 1),\n",
       " ('cloths', 1)]"
      ]
     },
     "metadata": {},
     "execution_count": 47
    }
   ],
   "metadata": {
    "tags": []
   }
  },
  {
   "cell_type": "code",
   "execution_count": 48,
   "source": [
    "parse_sexual_anotation.save_book_with_standOff_element(book_str, standOff_str, book_name,     wdir_str = \"./../../../sexual-annotation/\",)"
   ],
   "outputs": [],
   "metadata": {}
  },
  {
   "cell_type": "code",
   "execution_count": 49,
   "source": [
    "book_str[0:1000]"
   ],
   "outputs": [
    {
     "output_type": "execute_result",
     "data": {
      "text/plain": [
       "'<?xml version=\"1.0\" encoding=\"UTF-8\"?>\\n<?xml-model href=\"https://raw.githubusercontent.com/morethanbooks/XML-TEI-Bible/master/scheme/tei_lite.rng\" type=\"application/xml\" schematypens=\"http://relaxng.org/ns/structure/1.0\"?>\\n<!--<?xml-model href=\"http://www.tei-c.org/release/xml/tei/custom/schema/relaxng/tei_all.rng\" type=\"application/xml\"\\n\\tschematypens=\"http://purl.oclc.org/dsdl/schematron\"?>-->\\n\\n<?xml-stylesheet type=\"text/css\" href=\"styles/word2pix-reference.css\" rel=\"stylesheet\" title=\"Word2Pix References\"?>\\n<?xml-stylesheet type=\"text/css\" href=\"styles/styles.css\" rel=\"stylesheet\" title=\"Classic\"?>\\n<?xml-stylesheet type=\"text/css\" href=\"styles/word2pix-quotes.css\" rel=\"stylesheet\" title=\"Word2Pix Quotations\"?>\\n<?xml-stylesheet type=\"text/css\" href=\"styles/word2pix-level-q.css\" rel=\"stylesheet\" title=\"Word2Pix Level Quotation\"?>\\n\\n<TEI xmlns=\"http://www.tei-c.org/ns/1.0\">\\n    <teiHeader>\\n        <fileDesc>\\n            <titleStmt>\\n                <title>Malaquías</title>\\n              '"
      ]
     },
     "metadata": {},
     "execution_count": 49
    }
   ],
   "metadata": {}
  },
  {
   "cell_type": "code",
   "execution_count": 50,
   "source": [
    "book_str[-1000:]"
   ],
   "outputs": [
    {
     "output_type": "execute_result",
     "data": {
      "text/plain": [
       "' toWhom=\"#org70 #org18\" type=\"oral\">»Yo os envío al <rs key=\"#per13\">profeta</rs> <rs key=\"#per13\" cert=\"low\">Elías</rs> antes que venga el <rs key=\"#tim2\">día de <rs key=\"#per14\">Jehová</rs>, grande y terrible</rs>.</q></q>\\n                        </ab><!--JCT: possible metion to Jesus?-->\\n                        <ab xml:id=\"b.MAL.004.006\" type=\"verse\" n=\"6\">\\n                            <q who=\"#per14\" toWhom=\"#per573\" type=\"oral\"><q who=\"#per573\" toWhom=\"#org70 #org18\" type=\"oral\">Él hará volver el corazón de los <rs key=\"#org0\">padres</rs> hacia los <rs key=\"#org0\">hijos</rs>, y el corazón de los <rs key=\"#org0\">hijos</rs> hacia los <rs key=\"#org0\">padres</rs>, no sea que yo venga y castigue la <rs key=\"#pla41\">tierra</rs> con maldición».</q></q>\\n                            <!--jct: recuerda lo que dice Jesús sobre el conflicto entre hijos y padres-->\\n                        </ab>\\n                    </div>\\n                </div>\\n            </div>\\n        </body>\\n    </text>\\n</TEI>'"
      ]
     },
     "metadata": {},
     "execution_count": 50
    }
   ],
   "metadata": {}
  },
  {
   "cell_type": "code",
   "execution_count": null,
   "source": [],
   "outputs": [],
   "metadata": {}
  },
  {
   "cell_type": "code",
   "execution_count": null,
   "source": [],
   "outputs": [],
   "metadata": {}
  },
  {
   "cell_type": "code",
   "execution_count": null,
   "source": [],
   "outputs": [],
   "metadata": {}
  }
 ]
}