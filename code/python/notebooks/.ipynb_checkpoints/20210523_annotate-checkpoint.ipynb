{
 "cells": [
  {
   "cell_type": "code",
   "execution_count": 1,
   "metadata": {},
   "outputs": [],
   "source": [
    "from lxml import etree\n",
    "import pandas as pd\n",
    "from collections import Counter\n",
    "import os\n",
    "import glob\n",
    "import re\n",
    "import matplotlib.pyplot as plt\n",
    "import numpy as np\n",
    "from collections import Counter\n",
    "from numpy import array\n",
    "import numpy as np\n",
    "\n"
   ]
  },
  {
   "cell_type": "code",
   "execution_count": 2,
   "metadata": {},
   "outputs": [],
   "source": [
    "\n",
    "wdir = \"/home/jose/Dropbox/biblia/tb/\"\n",
    "file = \"TEIBible\" # \"*.xml\"\n",
    "outdir = \"/home/jose/Dropbox/biblia/tb/resulting data/\"\n",
    "\n",
    "columns = [\"len_chapters\", \"len_verses\",\"len_chars\",\"am_refs\",\"am_1lev_quotes\"]\n",
    "#,\"am_diff_people\",\"am_diff_groups\",\"am_diff_places\",\n"
   ]
  },
  {
   "cell_type": "code",
   "execution_count": null,
   "metadata": {
    "collapsed": true
   },
   "outputs": [],
   "source": []
  }
 ],
 "metadata": {
  "kernelspec": {
   "display_name": "Python 3",
   "language": "python",
   "name": "python3"
  },
  "language_info": {
   "codemirror_mode": {
    "name": "ipython",
    "version": 3
   },
   "file_extension": ".py",
   "mimetype": "text/x-python",
   "name": "python",
   "nbconvert_exporter": "python",
   "pygments_lexer": "ipython3",
   "version": "3.6.9"
  }
 },
 "nbformat": 4,
 "nbformat_minor": 2
}
