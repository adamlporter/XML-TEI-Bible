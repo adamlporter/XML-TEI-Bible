{
 "cells": [
  {
   "cell_type": "code",
   "execution_count": 1,
   "metadata": {},
   "outputs": [],
   "source": [
    "from lxml import etree\n",
    "import pandas as pd\n",
    "from collections import Counter\n",
    "import os\n",
    "import glob\n",
    "import re\n",
    "import matplotlib.pyplot as plt\n",
    "import numpy as np\n",
    "from collections import Counter\n",
    "from numpy import array\n",
    "import numpy as np\n",
    "\n",
    "import subprocess\n"
   ]
  },
  {
   "cell_type": "code",
   "execution_count": 54,
   "metadata": {},
   "outputs": [],
   "source": [
    "\n",
    "wdir = \"./../../../sexual-annotation/\"\n",
    "file = \"TEIBible\" # \"*.xml\"\n",
    "outdir_txt = \"./../../../temp_txt/\"\n",
    "outdir_xml = \"./../../../temp_xml/\""
   ]
  },
  {
   "cell_type": "code",
   "execution_count": 55,
   "metadata": {},
   "outputs": [],
   "source": [
    "bible_root = etree.parse(wdir + file + \".xml\").getroot()"
   ]
  },
  {
   "cell_type": "code",
   "execution_count": 56,
   "metadata": {},
   "outputs": [
    {
     "data": {
      "text/plain": [
       "<Element {http://www.tei-c.org/ns/1.0}teiCorpus at 0x7f9af9527508>"
      ]
     },
     "execution_count": 56,
     "metadata": {},
     "output_type": "execute_result"
    }
   ],
   "source": [
    "bible_root"
   ]
  },
  {
   "cell_type": "code",
   "execution_count": 57,
   "metadata": {},
   "outputs": [],
   "source": [
    "namespaces = {'tei': 'http://www.tei-c.org/ns/1.0'}"
   ]
  },
  {
   "cell_type": "code",
   "execution_count": 58,
   "metadata": {},
   "outputs": [
    {
     "data": {
      "text/plain": [
       "['\\n\\t',\n",
       " '\\n\\t\\t',\n",
       " '\\n\\t\\t\\t',\n",
       " '\\n\\t\\t\\t\\t',\n",
       " 'Biblia',\n",
       " '\\n\\t\\t\\t\\t',\n",
       " '\\n\\t\\t\\t\\t\\t',\n",
       " '\\n\\t\\t\\t\\t',\n",
       " '\\n\\t\\t\\t\\t',\n",
       " '\\n\\t\\t\\t\\t\\t',\n",
       " 'varios',\n",
       " '\\n\\t\\t\\t\\t\\t',\n",
       " 'varios',\n",
       " '\\n\\t\\t\\t\\t\\t',\n",
       " '\\n\\t\\t\\t\\t',\n",
       " '\\n\\t\\t\\t\\t',\n",
       " 'José Calvo Tello',\n",
       " '\\n\\t\\t\\t',\n",
       " '\\n\\t\\t\\t',\n",
       " '\\n\\t\\t\\t\\t',\n",
       " '\\n\\t\\t\\t\\t',\n",
       " '\\n\\t\\t\\t\\t\\t',\n",
       " 'The text is freely available.',\n",
       " '\\n\\t\\t\\t\\t',\n",
       " '\\n\\t\\t\\t\\t',\n",
       " '2015',\n",
       " '\\n\\t\\t\\t',\n",
       " '\\n\\t\\t\\t',\n",
       " '\\n\\t\\t\\t\\t',\n",
       " 'Reina Valera, ',\n",
       " '1995',\n",
       " '\\n\\t\\t\\t\\t',\n",
       " '1569',\n",
       " '\\n\\t\\t\\t',\n",
       " '\\n\\t\\t',\n",
       " '\\n\\t\\t',\n",
       " '\\n\\t\\t\\t',\n",
       " '\\n\\t\\t',\n",
       " '\\n\\t\\t',\n",
       " '\\n\\t\\t\\t',\n",
       " 'Finished first version of Matthew.',\n",
       " '\\n\\t\\t\\t',\n",
       " 'Created schema and changed some elements.',\n",
       " '\\n\\t\\t\\t',\n",
       " 'Added information to header.',\n",
       " '\\n\\t\\t\\t',\n",
       " 'Text corrected personally.',\n",
       " '\\n\\t\\t\\t',\n",
       " 'Element said change to q and added type and source.',\n",
       " '\\n\\t\\t\\t']"
      ]
     },
     "execution_count": 58,
     "metadata": {},
     "output_type": "execute_result"
    }
   ],
   "source": [
    "bible_root.xpath(\".//text()\", namespaces = namespaces)[0:50]"
   ]
  },
  {
   "cell_type": "code",
   "execution_count": 7,
   "metadata": {},
   "outputs": [],
   "source": [
    "if not os.path.exists(outdir_txt):\n",
    "    os.makedirs(outdir_txt)"
   ]
  },
  {
   "cell_type": "code",
   "execution_count": 8,
   "metadata": {},
   "outputs": [
    {
     "name": "stdout",
     "output_type": "stream",
     "text": [
      "GEN\n",
      "EXO\n",
      "LEV\n",
      "NUM\n",
      "DEU\n",
      "JOS\n",
      "JDG\n",
      "RUT\n",
      "1SA\n",
      "2SA\n",
      "1KI\n",
      "2KI\n",
      "1CH\n",
      "2CH\n",
      "EZR\n",
      "NEH\n",
      "EST\n",
      "JOB\n",
      "PSA\n",
      "PRO\n",
      "ECC\n",
      "SON\n",
      "ISA\n",
      "LAM\n",
      "JER\n",
      "EZE\n",
      "DAN\n",
      "HOS\n",
      "JOE\n",
      "AMO\n",
      "OBA\n",
      "JON\n",
      "MIC\n",
      "NAH\n",
      "HAB\n",
      "ZEP\n",
      "HAG\n",
      "ZEC\n",
      "MAL\n",
      "MAT\n",
      "MAR\n",
      "LUK\n",
      "JOH\n",
      "ACT\n",
      "ROM\n",
      "1CO\n",
      "2CO\n",
      "GAL\n",
      "EPH\n",
      "PHI\n",
      "COL\n",
      "1TH\n",
      "2TH\n",
      "1TI\n",
      "2TI\n",
      "TIT\n",
      "PHM\n",
      "HEB\n",
      "JAM\n",
      "1PE\n",
      "2PE\n",
      "1JO\n",
      "2JO\n",
      "3JO\n",
      "JUD\n",
      "REV\n"
     ]
    }
   ],
   "source": [
    "for book in bible_root.xpath('/tei:teiCorpus/tei:TEI', namespaces = namespaces):\n",
    "    book_name = book.xpath('./tei:teiHeader[1]/tei:fileDesc[1]/tei:titleStmt[1]/tei:title[2]/tei:idno[@type=\"string\"]/text()', namespaces = namespaces)[0]\n",
    "    print(book_name)\n",
    "    if not os.path.exists(outdir_txt + \"/\" + book_name):\n",
    "        os.makedirs(outdir_txt + \"/\" + book_name)    \n",
    "    #print(book_name)\n",
    "    for verse in book.xpath('.//tei:ab[@type=\"verse\"]', namespaces = namespaces):\n",
    "        verse_id = verse.xpath(\"./@xml:id\", namespaces = namespaces)[0]\n",
    "        verse_text = \"\".join(verse.xpath(\".//text()\", namespaces = namespaces)).strip()\n",
    "\n",
    "        with open (outdir_txt + \"/\" + book_name + \"/\" + verse_id, \"w\", encoding=\"utf-8\") as fout:\n",
    "            fout.write(verse_text)\n"
   ]
  },
  {
   "cell_type": "code",
   "execution_count": null,
   "metadata": {},
   "outputs": [],
   "source": []
  }
 ],
 "metadata": {
  "kernelspec": {
   "display_name": "Python 3",
   "language": "python",
   "name": "python3"
  },
  "language_info": {
   "codemirror_mode": {
    "name": "ipython",
    "version": 3
   },
   "file_extension": ".py",
   "mimetype": "text/x-python",
   "name": "python",
   "nbconvert_exporter": "python",
   "pygments_lexer": "ipython3",
   "version": "3.6.9"
  }
 },
 "nbformat": 4,
 "nbformat_minor": 2
}
