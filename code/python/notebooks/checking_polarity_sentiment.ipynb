{
 "cells": [
  {
   "cell_type": "code",
   "execution_count": 1,
   "metadata": {},
   "outputs": [],
   "source": [
    "import pandas as pd\n",
    "import matplotlib.pyplot as plt\n",
    "%matplotlib inline\n",
    "import numpy as np\n",
    "import seaborn as sns\n",
    "from lxml import etree"
   ]
  },
  {
   "cell_type": "code",
   "execution_count": 2,
   "metadata": {},
   "outputs": [],
   "source": [
    "df = pd.read_parquet(\"./../../../resulting data/verses_features.parquet\")"
   ]
  },
  {
   "cell_type": "code",
   "execution_count": 3,
   "metadata": {},
   "outputs": [
    {
     "output_type": "execute_result",
     "data": {
      "text/plain": [
       "  bible_identifier bible_book bible_chapter bible_book_chapter       genre  \\\n",
       "0    b.GEN.001.001        GEN           001            GEN.001  historical   \n",
       "1    b.GEN.001.002        GEN           001            GEN.001  historical   \n",
       "2    b.GEN.001.003        GEN           001            GEN.001  historical   \n",
       "3    b.GEN.001.004        GEN           001            GEN.001  historical   \n",
       "4    b.GEN.001.005        GEN           001            GEN.001  historical   \n",
       "\n",
       "   twitter_freq_sum_2014_2015  twitter_freq_2014  twitter_freq_2015  \\\n",
       "0                       49268              26376              22892   \n",
       "1                        8601               3693               4908   \n",
       "2                       20970               8816              12154   \n",
       "3                        4222               2286               1936   \n",
       "4                        3208               1666               1542   \n",
       "\n",
       "   relations  monogamy  ...  #org35  #org439  #pla65  #pla68  #per116  \\\n",
       "0          0         0  ...     NaN      NaN     NaN     NaN      NaN   \n",
       "1          0         0  ...     NaN      NaN     NaN     NaN      NaN   \n",
       "2          0         0  ...     NaN      NaN     NaN     NaN      NaN   \n",
       "3          0         0  ...     NaN      NaN     NaN     NaN      NaN   \n",
       "4          0         0  ...     NaN      NaN     NaN     NaN      NaN   \n",
       "\n",
       "   #per119  #pla67  #org52  #per129  #pla74  \n",
       "0      NaN     NaN     NaN      NaN     NaN  \n",
       "1      NaN     NaN     NaN      NaN     NaN  \n",
       "2      NaN     NaN     NaN      NaN     NaN  \n",
       "3      NaN     NaN     NaN      NaN     NaN  \n",
       "4      NaN     NaN     NaN      NaN     NaN  \n",
       "\n",
       "[5 rows x 4167 columns]"
      ],
      "text/html": "<div>\n<style scoped>\n    .dataframe tbody tr th:only-of-type {\n        vertical-align: middle;\n    }\n\n    .dataframe tbody tr th {\n        vertical-align: top;\n    }\n\n    .dataframe thead th {\n        text-align: right;\n    }\n</style>\n<table border=\"1\" class=\"dataframe\">\n  <thead>\n    <tr style=\"text-align: right;\">\n      <th></th>\n      <th>bible_identifier</th>\n      <th>bible_book</th>\n      <th>bible_chapter</th>\n      <th>bible_book_chapter</th>\n      <th>genre</th>\n      <th>twitter_freq_sum_2014_2015</th>\n      <th>twitter_freq_2014</th>\n      <th>twitter_freq_2015</th>\n      <th>relations</th>\n      <th>monogamy</th>\n      <th>...</th>\n      <th>#org35</th>\n      <th>#org439</th>\n      <th>#pla65</th>\n      <th>#pla68</th>\n      <th>#per116</th>\n      <th>#per119</th>\n      <th>#pla67</th>\n      <th>#org52</th>\n      <th>#per129</th>\n      <th>#pla74</th>\n    </tr>\n  </thead>\n  <tbody>\n    <tr>\n      <th>0</th>\n      <td>b.GEN.001.001</td>\n      <td>GEN</td>\n      <td>001</td>\n      <td>GEN.001</td>\n      <td>historical</td>\n      <td>49268</td>\n      <td>26376</td>\n      <td>22892</td>\n      <td>0</td>\n      <td>0</td>\n      <td>...</td>\n      <td>NaN</td>\n      <td>NaN</td>\n      <td>NaN</td>\n      <td>NaN</td>\n      <td>NaN</td>\n      <td>NaN</td>\n      <td>NaN</td>\n      <td>NaN</td>\n      <td>NaN</td>\n      <td>NaN</td>\n    </tr>\n    <tr>\n      <th>1</th>\n      <td>b.GEN.001.002</td>\n      <td>GEN</td>\n      <td>001</td>\n      <td>GEN.001</td>\n      <td>historical</td>\n      <td>8601</td>\n      <td>3693</td>\n      <td>4908</td>\n      <td>0</td>\n      <td>0</td>\n      <td>...</td>\n      <td>NaN</td>\n      <td>NaN</td>\n      <td>NaN</td>\n      <td>NaN</td>\n      <td>NaN</td>\n      <td>NaN</td>\n      <td>NaN</td>\n      <td>NaN</td>\n      <td>NaN</td>\n      <td>NaN</td>\n    </tr>\n    <tr>\n      <th>2</th>\n      <td>b.GEN.001.003</td>\n      <td>GEN</td>\n      <td>001</td>\n      <td>GEN.001</td>\n      <td>historical</td>\n      <td>20970</td>\n      <td>8816</td>\n      <td>12154</td>\n      <td>0</td>\n      <td>0</td>\n      <td>...</td>\n      <td>NaN</td>\n      <td>NaN</td>\n      <td>NaN</td>\n      <td>NaN</td>\n      <td>NaN</td>\n      <td>NaN</td>\n      <td>NaN</td>\n      <td>NaN</td>\n      <td>NaN</td>\n      <td>NaN</td>\n    </tr>\n    <tr>\n      <th>3</th>\n      <td>b.GEN.001.004</td>\n      <td>GEN</td>\n      <td>001</td>\n      <td>GEN.001</td>\n      <td>historical</td>\n      <td>4222</td>\n      <td>2286</td>\n      <td>1936</td>\n      <td>0</td>\n      <td>0</td>\n      <td>...</td>\n      <td>NaN</td>\n      <td>NaN</td>\n      <td>NaN</td>\n      <td>NaN</td>\n      <td>NaN</td>\n      <td>NaN</td>\n      <td>NaN</td>\n      <td>NaN</td>\n      <td>NaN</td>\n      <td>NaN</td>\n    </tr>\n    <tr>\n      <th>4</th>\n      <td>b.GEN.001.005</td>\n      <td>GEN</td>\n      <td>001</td>\n      <td>GEN.001</td>\n      <td>historical</td>\n      <td>3208</td>\n      <td>1666</td>\n      <td>1542</td>\n      <td>0</td>\n      <td>0</td>\n      <td>...</td>\n      <td>NaN</td>\n      <td>NaN</td>\n      <td>NaN</td>\n      <td>NaN</td>\n      <td>NaN</td>\n      <td>NaN</td>\n      <td>NaN</td>\n      <td>NaN</td>\n      <td>NaN</td>\n      <td>NaN</td>\n    </tr>\n  </tbody>\n</table>\n<p>5 rows × 4167 columns</p>\n</div>"
     },
     "metadata": {},
     "execution_count": 3
    }
   ],
   "source": [
    "df.head()"
   ]
  },
  {
   "cell_type": "code",
   "execution_count": 4,
   "metadata": {},
   "outputs": [
    {
     "output_type": "execute_result",
     "data": {
      "text/plain": [
       "(31065, 4167)"
      ]
     },
     "metadata": {},
     "execution_count": 4
    }
   ],
   "source": [
    "df.shape"
   ]
  },
  {
   "cell_type": "code",
   "execution_count": 5,
   "metadata": {},
   "outputs": [
    {
     "output_type": "execute_result",
     "data": {
      "text/plain": [
       "array(['GEN', 'EXO', 'LEV', 'NUM', 'DEU', 'JOS', 'JDG', 'RUT', '1SA',\n",
       "       '2SA', '1KI', '2KI', '1CH', '2CH', 'EZR', 'NEH', 'EST', 'JOB',\n",
       "       'PSA', 'PRO', 'ECC', 'SON', 'ISA', 'LAM', 'JER', 'EZE', 'DAN',\n",
       "       'HOS', 'JOE', 'AMO', 'OBA', 'JON', 'MIC', 'NAH', 'HAB', 'ZEP',\n",
       "       'HAG', 'ZEC', 'MAL', 'MAT', 'MAR', 'LUK', 'JOH', 'ACT', 'ROM',\n",
       "       '1CO', '2CO', 'GAL', 'EPH', 'PHI', 'COL', '1TH', '2TH', '1TI',\n",
       "       '2TI', 'TIT', 'PHM', 'HEB', 'JAM', '1PE', '2PE', '1JO', '2JO',\n",
       "       '3JO', 'JUD', 'REV'], dtype=object)"
      ]
     },
     "metadata": {},
     "execution_count": 5
    }
   ],
   "source": [
    "df[\"bible_book\"].unique()"
   ]
  },
  {
   "cell_type": "code",
   "execution_count": 6,
   "metadata": {},
   "outputs": [],
   "source": [
    "#df.fillna(0, inplace=True)"
   ]
  },
  {
   "cell_type": "code",
   "execution_count": 7,
   "metadata": {},
   "outputs": [
    {
     "output_type": "execute_result",
     "data": {
      "text/plain": [
       "['bible_identifier',\n",
       " 'bible_book',\n",
       " 'bible_chapter',\n",
       " 'bible_book_chapter',\n",
       " 'genre',\n",
       " 'twitter_freq_sum_2014_2015',\n",
       " 'twitter_freq_2014',\n",
       " 'twitter_freq_2015',\n",
       " 'relations',\n",
       " 'monogamy']"
      ]
     },
     "metadata": {},
     "execution_count": 7
    }
   ],
   "source": [
    "df.columns.tolist()[0:10]"
   ]
  },
  {
   "cell_type": "code",
   "execution_count": 8,
   "metadata": {},
   "outputs": [],
   "source": [
    "structural_features = df.columns.tolist()[265:297]\n"
   ]
  },
  {
   "cell_type": "code",
   "execution_count": 9,
   "metadata": {},
   "outputs": [],
   "source": [
    "sexual_features = df.columns.tolist()[8:262]"
   ]
  },
  {
   "cell_type": "code",
   "execution_count": 10,
   "metadata": {},
   "outputs": [
    {
     "output_type": "execute_result",
     "data": {
      "text/plain": [
       "31065"
      ]
     },
     "metadata": {},
     "execution_count": 10
    }
   ],
   "source": [
    "len(df)"
   ]
  },
  {
   "cell_type": "code",
   "execution_count": 11,
   "metadata": {},
   "outputs": [],
   "source": [
    "entities_features = df.columns.tolist()[262:265] + df.columns.tolist()[298:len(df)]"
   ]
  },
  {
   "cell_type": "code",
   "execution_count": 12,
   "metadata": {},
   "outputs": [
    {
     "output_type": "execute_result",
     "data": {
      "text/plain": [
       "17547    1.0\n",
       "Name: #per39, dtype: float64"
      ]
     },
     "metadata": {},
     "execution_count": 12
    }
   ],
   "source": [
    "df.loc[df[\"bible_identifier\"] == \"b.SON.001.010\"][\"#per39\"]"
   ]
  },
  {
   "cell_type": "code",
   "execution_count": null,
   "metadata": {},
   "outputs": [],
   "source": [
    "df.describe()"
   ]
  },
  {
   "cell_type": "code",
   "execution_count": null,
   "metadata": {},
   "outputs": [],
   "source": [
    "#rel_books_df = books_df.div(books_df[\"number of verses\"], axis=\"index\")"
   ]
  },
  {
   "cell_type": "code",
   "execution_count": null,
   "metadata": {},
   "outputs": [],
   "source": [
    "entities_df = pd.read_excel(\"./../../../entities.xls\")\n"
   ]
  },
  {
   "cell_type": "code",
   "execution_count": null,
   "metadata": {},
   "outputs": [],
   "source": [
    "entities_df.index = entities_df[\"id\"]\n"
   ]
  },
  {
   "cell_type": "code",
   "execution_count": null,
   "metadata": {},
   "outputs": [],
   "source": [
    "df.index = df[\"bible_identifier\"]"
   ]
  },
  {
   "cell_type": "code",
   "execution_count": null,
   "metadata": {},
   "outputs": [],
   "source": [
    "bible_tree = etree.parse('./../../../sexual-annotation/TEIBible.xml').getroot()"
   ]
  },
  {
   "source": [
    "# Visualizations"
   ],
   "cell_type": "markdown",
   "metadata": {}
  },
  {
   "cell_type": "code",
   "execution_count": null,
   "metadata": {},
   "outputs": [],
   "source": [
    "[feature for feature in sexual_features if \"aspect\" in feature]"
   ]
  },
  {
   "cell_type": "code",
   "execution_count": null,
   "metadata": {},
   "outputs": [],
   "source": [
    "verses_with_missing_polarity_df = df.loc[(df[sexual_features].sum(axis = 1) > 1) & (df[['blessed-aspect',\n",
    " 'positive-aspect',\n",
    " 'neutral-aspect',\n",
    " 'negative-aspect',\n",
    " 'condemned-aspect']].sum(axis = 1) == 0) ]\n",
    "\n"
   ]
  },
  {
   "cell_type": "code",
   "execution_count": 21,
   "metadata": {},
   "outputs": [
    {
     "output_type": "error",
     "ename": "NameError",
     "evalue": "name 'verses_with_missing_polarity_df' is not defined",
     "traceback": [
      "\u001b[1;31m---------------------------------------------------------------------------\u001b[0m",
      "\u001b[1;31mNameError\u001b[0m                                 Traceback (most recent call last)",
      "\u001b[1;32m<ipython-input-21-b5cb9e3799d3>\u001b[0m in \u001b[0;36m<module>\u001b[1;34m()\u001b[0m\n\u001b[1;32m----> 1\u001b[1;33m \u001b[0mverses_with_missing_polarity_df\u001b[0m\u001b[1;33m\u001b[0m\u001b[1;33m\u001b[0m\u001b[0m\n\u001b[0m",
      "\u001b[1;31mNameError\u001b[0m: name 'verses_with_missing_polarity_df' is not defined"
     ]
    }
   ],
   "source": [
    "verses_with_missing_polarity_df"
   ]
  },
  {
   "cell_type": "code",
   "execution_count": null,
   "metadata": {},
   "outputs": [],
   "source": []
  },
  {
   "cell_type": "code",
   "execution_count": 22,
   "metadata": {},
   "outputs": [],
   "source": [
    "namespaces = {'tei':'http://www.tei-c.org/ns/1.0'}"
   ]
  },
  {
   "cell_type": "code",
   "execution_count": null,
   "metadata": {},
   "outputs": [],
   "source": [
    "for verse in "
   ]
  },
  {
   "cell_type": "code",
   "execution_count": 32,
   "metadata": {},
   "outputs": [],
   "source": [
    "bible_tree.xpath('//tei:ab[@type=\"verse\"]//text()', namespaces = namespaces, with_tail = True)"
   ]
  },
  {
   "cell_type": "code",
   "execution_count": null,
   "metadata": {},
   "outputs": [],
   "source": []
  }
 ],
 "metadata": {
  "kernelspec": {
   "name": "python3",
   "display_name": "Python 3",
   "language": "python"
  },
  "language_info": {
   "codemirror_mode": {
    "name": "ipython",
    "version": 3
   },
   "file_extension": ".py",
   "mimetype": "text/x-python",
   "name": "python",
   "nbconvert_exporter": "python",
   "pygments_lexer": "ipython3",
   "version": "3.7.6-final"
  }
 },
 "nbformat": 4,
 "nbformat_minor": 2
}