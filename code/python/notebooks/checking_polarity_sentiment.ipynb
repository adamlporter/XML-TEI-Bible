{
 "cells": [
  {
   "cell_type": "code",
   "execution_count": 62,
   "metadata": {},
   "outputs": [],
   "source": [
    "import pandas as pd\n",
    "import matplotlib.pyplot as plt\n",
    "%matplotlib inline\n",
    "import numpy as np\n",
    "import seaborn as sns\n",
    "from lxml import etree"
   ]
  },
  {
   "cell_type": "code",
   "execution_count": 63,
   "metadata": {},
   "outputs": [],
   "source": [
    "df = pd.read_parquet(\"./../../../resulting data/verses_features.parquet\")"
   ]
  },
  {
   "cell_type": "code",
   "execution_count": 64,
   "metadata": {},
   "outputs": [
    {
     "output_type": "execute_result",
     "data": {
      "text/plain": [
       "  bible_identifier bible_book bible_chapter bible_book_chapter       genre  \\\n",
       "0    b.GEN.001.001        GEN           001            GEN.001  historical   \n",
       "1    b.GEN.001.002        GEN           001            GEN.001  historical   \n",
       "2    b.GEN.001.003        GEN           001            GEN.001  historical   \n",
       "3    b.GEN.001.004        GEN           001            GEN.001  historical   \n",
       "4    b.GEN.001.005        GEN           001            GEN.001  historical   \n",
       "\n",
       "   twitter_freq_sum_2014_2015  twitter_freq_2014  twitter_freq_2015  \\\n",
       "0                       49268              26376              22892   \n",
       "1                        8601               3693               4908   \n",
       "2                       20970               8816              12154   \n",
       "3                        4222               2286               1936   \n",
       "4                        3208               1666               1542   \n",
       "\n",
       "   relations  monogamy  ...  #org35  #org439  #pla65  #pla68  #per116  \\\n",
       "0          0         0  ...     NaN      NaN     NaN     NaN      NaN   \n",
       "1          0         0  ...     NaN      NaN     NaN     NaN      NaN   \n",
       "2          0         0  ...     NaN      NaN     NaN     NaN      NaN   \n",
       "3          0         0  ...     NaN      NaN     NaN     NaN      NaN   \n",
       "4          0         0  ...     NaN      NaN     NaN     NaN      NaN   \n",
       "\n",
       "   #per119  #pla67  #org52  #per129  #pla74  \n",
       "0      NaN     NaN     NaN      NaN     NaN  \n",
       "1      NaN     NaN     NaN      NaN     NaN  \n",
       "2      NaN     NaN     NaN      NaN     NaN  \n",
       "3      NaN     NaN     NaN      NaN     NaN  \n",
       "4      NaN     NaN     NaN      NaN     NaN  \n",
       "\n",
       "[5 rows x 4167 columns]"
      ],
      "text/html": "<div>\n<style scoped>\n    .dataframe tbody tr th:only-of-type {\n        vertical-align: middle;\n    }\n\n    .dataframe tbody tr th {\n        vertical-align: top;\n    }\n\n    .dataframe thead th {\n        text-align: right;\n    }\n</style>\n<table border=\"1\" class=\"dataframe\">\n  <thead>\n    <tr style=\"text-align: right;\">\n      <th></th>\n      <th>bible_identifier</th>\n      <th>bible_book</th>\n      <th>bible_chapter</th>\n      <th>bible_book_chapter</th>\n      <th>genre</th>\n      <th>twitter_freq_sum_2014_2015</th>\n      <th>twitter_freq_2014</th>\n      <th>twitter_freq_2015</th>\n      <th>relations</th>\n      <th>monogamy</th>\n      <th>...</th>\n      <th>#org35</th>\n      <th>#org439</th>\n      <th>#pla65</th>\n      <th>#pla68</th>\n      <th>#per116</th>\n      <th>#per119</th>\n      <th>#pla67</th>\n      <th>#org52</th>\n      <th>#per129</th>\n      <th>#pla74</th>\n    </tr>\n  </thead>\n  <tbody>\n    <tr>\n      <th>0</th>\n      <td>b.GEN.001.001</td>\n      <td>GEN</td>\n      <td>001</td>\n      <td>GEN.001</td>\n      <td>historical</td>\n      <td>49268</td>\n      <td>26376</td>\n      <td>22892</td>\n      <td>0</td>\n      <td>0</td>\n      <td>...</td>\n      <td>NaN</td>\n      <td>NaN</td>\n      <td>NaN</td>\n      <td>NaN</td>\n      <td>NaN</td>\n      <td>NaN</td>\n      <td>NaN</td>\n      <td>NaN</td>\n      <td>NaN</td>\n      <td>NaN</td>\n    </tr>\n    <tr>\n      <th>1</th>\n      <td>b.GEN.001.002</td>\n      <td>GEN</td>\n      <td>001</td>\n      <td>GEN.001</td>\n      <td>historical</td>\n      <td>8601</td>\n      <td>3693</td>\n      <td>4908</td>\n      <td>0</td>\n      <td>0</td>\n      <td>...</td>\n      <td>NaN</td>\n      <td>NaN</td>\n      <td>NaN</td>\n      <td>NaN</td>\n      <td>NaN</td>\n      <td>NaN</td>\n      <td>NaN</td>\n      <td>NaN</td>\n      <td>NaN</td>\n      <td>NaN</td>\n    </tr>\n    <tr>\n      <th>2</th>\n      <td>b.GEN.001.003</td>\n      <td>GEN</td>\n      <td>001</td>\n      <td>GEN.001</td>\n      <td>historical</td>\n      <td>20970</td>\n      <td>8816</td>\n      <td>12154</td>\n      <td>0</td>\n      <td>0</td>\n      <td>...</td>\n      <td>NaN</td>\n      <td>NaN</td>\n      <td>NaN</td>\n      <td>NaN</td>\n      <td>NaN</td>\n      <td>NaN</td>\n      <td>NaN</td>\n      <td>NaN</td>\n      <td>NaN</td>\n      <td>NaN</td>\n    </tr>\n    <tr>\n      <th>3</th>\n      <td>b.GEN.001.004</td>\n      <td>GEN</td>\n      <td>001</td>\n      <td>GEN.001</td>\n      <td>historical</td>\n      <td>4222</td>\n      <td>2286</td>\n      <td>1936</td>\n      <td>0</td>\n      <td>0</td>\n      <td>...</td>\n      <td>NaN</td>\n      <td>NaN</td>\n      <td>NaN</td>\n      <td>NaN</td>\n      <td>NaN</td>\n      <td>NaN</td>\n      <td>NaN</td>\n      <td>NaN</td>\n      <td>NaN</td>\n      <td>NaN</td>\n    </tr>\n    <tr>\n      <th>4</th>\n      <td>b.GEN.001.005</td>\n      <td>GEN</td>\n      <td>001</td>\n      <td>GEN.001</td>\n      <td>historical</td>\n      <td>3208</td>\n      <td>1666</td>\n      <td>1542</td>\n      <td>0</td>\n      <td>0</td>\n      <td>...</td>\n      <td>NaN</td>\n      <td>NaN</td>\n      <td>NaN</td>\n      <td>NaN</td>\n      <td>NaN</td>\n      <td>NaN</td>\n      <td>NaN</td>\n      <td>NaN</td>\n      <td>NaN</td>\n      <td>NaN</td>\n    </tr>\n  </tbody>\n</table>\n<p>5 rows × 4167 columns</p>\n</div>"
     },
     "metadata": {},
     "execution_count": 64
    }
   ],
   "source": [
    "df.head()"
   ]
  },
  {
   "cell_type": "code",
   "execution_count": 65,
   "metadata": {},
   "outputs": [
    {
     "output_type": "execute_result",
     "data": {
      "text/plain": [
       "(31065, 4167)"
      ]
     },
     "metadata": {},
     "execution_count": 65
    }
   ],
   "source": [
    "df.shape"
   ]
  },
  {
   "cell_type": "code",
   "execution_count": 66,
   "metadata": {},
   "outputs": [
    {
     "output_type": "execute_result",
     "data": {
      "text/plain": [
       "array(['GEN', 'EXO', 'LEV', 'NUM', 'DEU', 'JOS', 'JDG', 'RUT', '1SA',\n",
       "       '2SA', '1KI', '2KI', '1CH', '2CH', 'EZR', 'NEH', 'EST', 'JOB',\n",
       "       'PSA', 'PRO', 'ECC', 'SON', 'ISA', 'LAM', 'JER', 'EZE', 'DAN',\n",
       "       'HOS', 'JOE', 'AMO', 'OBA', 'JON', 'MIC', 'NAH', 'HAB', 'ZEP',\n",
       "       'HAG', 'ZEC', 'MAL', 'MAT', 'MAR', 'LUK', 'JOH', 'ACT', 'ROM',\n",
       "       '1CO', '2CO', 'GAL', 'EPH', 'PHI', 'COL', '1TH', '2TH', '1TI',\n",
       "       '2TI', 'TIT', 'PHM', 'HEB', 'JAM', '1PE', '2PE', '1JO', '2JO',\n",
       "       '3JO', 'JUD', 'REV'], dtype=object)"
      ]
     },
     "metadata": {},
     "execution_count": 66
    }
   ],
   "source": [
    "df[\"bible_book\"].unique()"
   ]
  },
  {
   "cell_type": "code",
   "execution_count": 67,
   "metadata": {},
   "outputs": [],
   "source": [
    "#df.fillna(0, inplace=True)"
   ]
  },
  {
   "cell_type": "code",
   "execution_count": 68,
   "metadata": {},
   "outputs": [
    {
     "output_type": "execute_result",
     "data": {
      "text/plain": [
       "['bible_identifier',\n",
       " 'bible_book',\n",
       " 'bible_chapter',\n",
       " 'bible_book_chapter',\n",
       " 'genre',\n",
       " 'twitter_freq_sum_2014_2015',\n",
       " 'twitter_freq_2014',\n",
       " 'twitter_freq_2015',\n",
       " 'relations',\n",
       " 'monogamy']"
      ]
     },
     "metadata": {},
     "execution_count": 68
    }
   ],
   "source": [
    "df.columns.tolist()[0:10]"
   ]
  },
  {
   "cell_type": "code",
   "execution_count": 69,
   "metadata": {},
   "outputs": [],
   "source": [
    "structural_features = df.columns.tolist()[265:297]\n"
   ]
  },
  {
   "cell_type": "code",
   "execution_count": 70,
   "metadata": {},
   "outputs": [],
   "source": [
    "sexual_features = df.columns.tolist()[8:262]"
   ]
  },
  {
   "cell_type": "code",
   "execution_count": 71,
   "metadata": {},
   "outputs": [
    {
     "output_type": "execute_result",
     "data": {
      "text/plain": [
       "31065"
      ]
     },
     "metadata": {},
     "execution_count": 71
    }
   ],
   "source": [
    "len(df)"
   ]
  },
  {
   "cell_type": "code",
   "execution_count": 72,
   "metadata": {},
   "outputs": [],
   "source": [
    "entities_features = df.columns.tolist()[262:265] + df.columns.tolist()[298:len(df)]"
   ]
  },
  {
   "cell_type": "code",
   "execution_count": 73,
   "metadata": {},
   "outputs": [
    {
     "output_type": "execute_result",
     "data": {
      "text/plain": [
       "17547    1.0\n",
       "Name: #per39, dtype: float64"
      ]
     },
     "metadata": {},
     "execution_count": 73
    }
   ],
   "source": [
    "df.loc[df[\"bible_identifier\"] == \"b.SON.001.010\"][\"#per39\"]"
   ]
  },
  {
   "cell_type": "code",
   "execution_count": 74,
   "metadata": {},
   "outputs": [
    {
     "output_type": "execute_result",
     "data": {
      "text/plain": [
       "       twitter_freq_sum_2014_2015  twitter_freq_2014  twitter_freq_2015  \\\n",
       "count                31065.000000       31065.000000       31065.000000   \n",
       "mean                  2286.298793        1366.727797         919.570996   \n",
       "std                  12282.503644        8274.810650        4428.844891   \n",
       "min                      0.000000           0.000000           0.000000   \n",
       "25%                     72.000000          32.000000          37.000000   \n",
       "50%                    239.000000         115.000000         117.000000   \n",
       "75%                    941.000000         507.000000         415.000000   \n",
       "max                 875311.000000      613161.000000      262150.000000   \n",
       "\n",
       "          relations      monogamy      poligamy      marriage  \\\n",
       "count  31065.000000  31065.000000  31065.000000  31065.000000   \n",
       "mean       0.000225      0.000193      0.000515      0.001610   \n",
       "std        0.015010      0.013896      0.022689      0.040087   \n",
       "min        0.000000      0.000000      0.000000      0.000000   \n",
       "25%        0.000000      0.000000      0.000000      0.000000   \n",
       "50%        0.000000      0.000000      0.000000      0.000000   \n",
       "75%        0.000000      0.000000      0.000000      0.000000   \n",
       "max        1.000000      1.000000      1.000000      1.000000   \n",
       "\n",
       "       second-marriage  second-marriage-divorce  second-marriage-widow  ...  \\\n",
       "count     31065.000000                  31065.0           31065.000000  ...   \n",
       "mean          0.000064                      0.0               0.000032  ...   \n",
       "std           0.008024                      0.0               0.005674  ...   \n",
       "min           0.000000                      0.0               0.000000  ...   \n",
       "25%           0.000000                      0.0               0.000000  ...   \n",
       "50%           0.000000                      0.0               0.000000  ...   \n",
       "75%           0.000000                      0.0               0.000000  ...   \n",
       "max           1.000000                      0.0               1.000000  ...   \n",
       "\n",
       "        #org35  #org439  #pla65  #pla68  #per116  #per119  #pla67     #org52  \\\n",
       "count  8.00000      2.0     1.0     1.0      1.0      1.0     1.0  23.000000   \n",
       "mean   1.62500      1.0     1.0     1.0      2.0      3.0     1.0   1.173913   \n",
       "std    1.06066      0.0     NaN     NaN      NaN      NaN     NaN   0.491026   \n",
       "min    1.00000      1.0     1.0     1.0      2.0      3.0     1.0   1.000000   \n",
       "25%    1.00000      1.0     1.0     1.0      2.0      3.0     1.0   1.000000   \n",
       "50%    1.00000      1.0     1.0     1.0      2.0      3.0     1.0   1.000000   \n",
       "75%    2.00000      1.0     1.0     1.0      2.0      3.0     1.0   1.000000   \n",
       "max    4.00000      1.0     1.0     1.0      2.0      3.0     1.0   3.000000   \n",
       "\n",
       "       #per129  #pla74  \n",
       "count      1.0     1.0  \n",
       "mean       4.0     1.0  \n",
       "std        NaN     NaN  \n",
       "min        4.0     1.0  \n",
       "25%        4.0     1.0  \n",
       "50%        4.0     1.0  \n",
       "75%        4.0     1.0  \n",
       "max        4.0     1.0  \n",
       "\n",
       "[8 rows x 4162 columns]"
      ],
      "text/html": "<div>\n<style scoped>\n    .dataframe tbody tr th:only-of-type {\n        vertical-align: middle;\n    }\n\n    .dataframe tbody tr th {\n        vertical-align: top;\n    }\n\n    .dataframe thead th {\n        text-align: right;\n    }\n</style>\n<table border=\"1\" class=\"dataframe\">\n  <thead>\n    <tr style=\"text-align: right;\">\n      <th></th>\n      <th>twitter_freq_sum_2014_2015</th>\n      <th>twitter_freq_2014</th>\n      <th>twitter_freq_2015</th>\n      <th>relations</th>\n      <th>monogamy</th>\n      <th>poligamy</th>\n      <th>marriage</th>\n      <th>second-marriage</th>\n      <th>second-marriage-divorce</th>\n      <th>second-marriage-widow</th>\n      <th>...</th>\n      <th>#org35</th>\n      <th>#org439</th>\n      <th>#pla65</th>\n      <th>#pla68</th>\n      <th>#per116</th>\n      <th>#per119</th>\n      <th>#pla67</th>\n      <th>#org52</th>\n      <th>#per129</th>\n      <th>#pla74</th>\n    </tr>\n  </thead>\n  <tbody>\n    <tr>\n      <th>count</th>\n      <td>31065.000000</td>\n      <td>31065.000000</td>\n      <td>31065.000000</td>\n      <td>31065.000000</td>\n      <td>31065.000000</td>\n      <td>31065.000000</td>\n      <td>31065.000000</td>\n      <td>31065.000000</td>\n      <td>31065.0</td>\n      <td>31065.000000</td>\n      <td>...</td>\n      <td>8.00000</td>\n      <td>2.0</td>\n      <td>1.0</td>\n      <td>1.0</td>\n      <td>1.0</td>\n      <td>1.0</td>\n      <td>1.0</td>\n      <td>23.000000</td>\n      <td>1.0</td>\n      <td>1.0</td>\n    </tr>\n    <tr>\n      <th>mean</th>\n      <td>2286.298793</td>\n      <td>1366.727797</td>\n      <td>919.570996</td>\n      <td>0.000225</td>\n      <td>0.000193</td>\n      <td>0.000515</td>\n      <td>0.001610</td>\n      <td>0.000064</td>\n      <td>0.0</td>\n      <td>0.000032</td>\n      <td>...</td>\n      <td>1.62500</td>\n      <td>1.0</td>\n      <td>1.0</td>\n      <td>1.0</td>\n      <td>2.0</td>\n      <td>3.0</td>\n      <td>1.0</td>\n      <td>1.173913</td>\n      <td>4.0</td>\n      <td>1.0</td>\n    </tr>\n    <tr>\n      <th>std</th>\n      <td>12282.503644</td>\n      <td>8274.810650</td>\n      <td>4428.844891</td>\n      <td>0.015010</td>\n      <td>0.013896</td>\n      <td>0.022689</td>\n      <td>0.040087</td>\n      <td>0.008024</td>\n      <td>0.0</td>\n      <td>0.005674</td>\n      <td>...</td>\n      <td>1.06066</td>\n      <td>0.0</td>\n      <td>NaN</td>\n      <td>NaN</td>\n      <td>NaN</td>\n      <td>NaN</td>\n      <td>NaN</td>\n      <td>0.491026</td>\n      <td>NaN</td>\n      <td>NaN</td>\n    </tr>\n    <tr>\n      <th>min</th>\n      <td>0.000000</td>\n      <td>0.000000</td>\n      <td>0.000000</td>\n      <td>0.000000</td>\n      <td>0.000000</td>\n      <td>0.000000</td>\n      <td>0.000000</td>\n      <td>0.000000</td>\n      <td>0.0</td>\n      <td>0.000000</td>\n      <td>...</td>\n      <td>1.00000</td>\n      <td>1.0</td>\n      <td>1.0</td>\n      <td>1.0</td>\n      <td>2.0</td>\n      <td>3.0</td>\n      <td>1.0</td>\n      <td>1.000000</td>\n      <td>4.0</td>\n      <td>1.0</td>\n    </tr>\n    <tr>\n      <th>25%</th>\n      <td>72.000000</td>\n      <td>32.000000</td>\n      <td>37.000000</td>\n      <td>0.000000</td>\n      <td>0.000000</td>\n      <td>0.000000</td>\n      <td>0.000000</td>\n      <td>0.000000</td>\n      <td>0.0</td>\n      <td>0.000000</td>\n      <td>...</td>\n      <td>1.00000</td>\n      <td>1.0</td>\n      <td>1.0</td>\n      <td>1.0</td>\n      <td>2.0</td>\n      <td>3.0</td>\n      <td>1.0</td>\n      <td>1.000000</td>\n      <td>4.0</td>\n      <td>1.0</td>\n    </tr>\n    <tr>\n      <th>50%</th>\n      <td>239.000000</td>\n      <td>115.000000</td>\n      <td>117.000000</td>\n      <td>0.000000</td>\n      <td>0.000000</td>\n      <td>0.000000</td>\n      <td>0.000000</td>\n      <td>0.000000</td>\n      <td>0.0</td>\n      <td>0.000000</td>\n      <td>...</td>\n      <td>1.00000</td>\n      <td>1.0</td>\n      <td>1.0</td>\n      <td>1.0</td>\n      <td>2.0</td>\n      <td>3.0</td>\n      <td>1.0</td>\n      <td>1.000000</td>\n      <td>4.0</td>\n      <td>1.0</td>\n    </tr>\n    <tr>\n      <th>75%</th>\n      <td>941.000000</td>\n      <td>507.000000</td>\n      <td>415.000000</td>\n      <td>0.000000</td>\n      <td>0.000000</td>\n      <td>0.000000</td>\n      <td>0.000000</td>\n      <td>0.000000</td>\n      <td>0.0</td>\n      <td>0.000000</td>\n      <td>...</td>\n      <td>2.00000</td>\n      <td>1.0</td>\n      <td>1.0</td>\n      <td>1.0</td>\n      <td>2.0</td>\n      <td>3.0</td>\n      <td>1.0</td>\n      <td>1.000000</td>\n      <td>4.0</td>\n      <td>1.0</td>\n    </tr>\n    <tr>\n      <th>max</th>\n      <td>875311.000000</td>\n      <td>613161.000000</td>\n      <td>262150.000000</td>\n      <td>1.000000</td>\n      <td>1.000000</td>\n      <td>1.000000</td>\n      <td>1.000000</td>\n      <td>1.000000</td>\n      <td>0.0</td>\n      <td>1.000000</td>\n      <td>...</td>\n      <td>4.00000</td>\n      <td>1.0</td>\n      <td>1.0</td>\n      <td>1.0</td>\n      <td>2.0</td>\n      <td>3.0</td>\n      <td>1.0</td>\n      <td>3.000000</td>\n      <td>4.0</td>\n      <td>1.0</td>\n    </tr>\n  </tbody>\n</table>\n<p>8 rows × 4162 columns</p>\n</div>"
     },
     "metadata": {},
     "execution_count": 74
    }
   ],
   "source": [
    "df.describe()"
   ]
  },
  {
   "cell_type": "code",
   "execution_count": 75,
   "metadata": {},
   "outputs": [],
   "source": [
    "#rel_books_df = books_df.div(books_df[\"number of verses\"], axis=\"index\")"
   ]
  },
  {
   "cell_type": "code",
   "execution_count": 76,
   "metadata": {},
   "outputs": [],
   "source": [
    "entities_df = pd.read_excel(\"./../../../entities.xls\")\n"
   ]
  },
  {
   "cell_type": "code",
   "execution_count": 77,
   "metadata": {},
   "outputs": [],
   "source": [
    "entities_df.index = entities_df[\"id\"]\n"
   ]
  },
  {
   "cell_type": "code",
   "execution_count": 78,
   "metadata": {},
   "outputs": [],
   "source": [
    "df.index = df[\"bible_identifier\"]"
   ]
  },
  {
   "cell_type": "code",
   "execution_count": 79,
   "metadata": {},
   "outputs": [],
   "source": [
    "#bible_tree = etree.parse().getroot()\n",
    "\n",
    "parser = etree.XMLParser(encoding = 'utf-8')\n",
    "documento_xml_bible = etree.parse('./../../../sexual-annotation/TEIBible.xml', parser)\n",
    "documento_root_bible = documento_xml_bible.getroot()\n",
    "specific_namespaces = {'tei':'http://www.tei-c.org/ns/1.0','xi':'http://www.w3.org/2001/XInclude'}\n",
    "\n"
   ]
  },
  {
   "source": [
    "# Visualizations"
   ],
   "cell_type": "markdown",
   "metadata": {}
  },
  {
   "cell_type": "code",
   "execution_count": 80,
   "metadata": {},
   "outputs": [
    {
     "output_type": "execute_result",
     "data": {
      "text/plain": [
       "['blessed-aspect',\n",
       " 'positive-aspect',\n",
       " 'neutral-aspect',\n",
       " 'negative-aspect',\n",
       " 'condemned-aspect']"
      ]
     },
     "metadata": {},
     "execution_count": 80
    }
   ],
   "source": [
    "[feature for feature in sexual_features if \"aspect\" in feature]"
   ]
  },
  {
   "cell_type": "code",
   "execution_count": 81,
   "metadata": {},
   "outputs": [
    {
     "output_type": "execute_result",
     "data": {
      "text/plain": [
       "['ascendant-descendant', 'indirect-ascendant-descendant']"
      ]
     },
     "metadata": {},
     "execution_count": 81
    }
   ],
   "source": [
    "[feature for feature in sexual_features if \"ascendant\" in feature]"
   ]
  },
  {
   "cell_type": "code",
   "execution_count": 82,
   "metadata": {},
   "outputs": [],
   "source": [
    "df.fillna(0, inplace = True )"
   ]
  },
  {
   "cell_type": "code",
   "execution_count": 83,
   "metadata": {},
   "outputs": [],
   "source": [
    "verses_without_polarity_df = df.loc[(df[sexual_features].sum(axis = 1) >= 1) & (df[['blessed-aspect',\n",
    " 'positive-aspect',\n",
    " 'neutral-aspect',\n",
    " 'negative-aspect',\n",
    " 'condemned-aspect']].sum(axis = 1) == 0) ]\n",
    "\n"
   ]
  },
  {
   "cell_type": "code",
   "execution_count": 85,
   "metadata": {},
   "outputs": [
    {
     "output_type": "execute_result",
     "data": {
      "text/plain": [
       "                 bible_identifier bible_book bible_chapter bible_book_chapter  \\\n",
       "bible_identifier                                                                \n",
       "b.GEN.004.002       b.GEN.004.002        GEN           004            GEN.004   \n",
       "b.GEN.005.003       b.GEN.005.003        GEN           005            GEN.005   \n",
       "b.GEN.005.007       b.GEN.005.007        GEN           005            GEN.005   \n",
       "b.GEN.005.010       b.GEN.005.010        GEN           005            GEN.005   \n",
       "b.GEN.005.012       b.GEN.005.012        GEN           005            GEN.005   \n",
       "...                           ...        ...           ...                ...   \n",
       "b.REV.014.004       b.REV.014.004        REV           014            REV.014   \n",
       "b.REV.014.008       b.REV.014.008        REV           014            REV.014   \n",
       "b.REV.016.015       b.REV.016.015        REV           016            REV.016   \n",
       "b.REV.017.003       b.REV.017.003        REV           017            REV.017   \n",
       "b.REV.019.016       b.REV.019.016        REV           019            REV.019   \n",
       "\n",
       "                        genre  twitter_freq_sum_2014_2015  twitter_freq_2014  \\\n",
       "bible_identifier                                                               \n",
       "b.GEN.004.002      historical                         922                396   \n",
       "b.GEN.005.003      historical                         544                261   \n",
       "b.GEN.005.007      historical                         446                202   \n",
       "b.GEN.005.010      historical                         363                176   \n",
       "b.GEN.005.012      historical                         418                203   \n",
       "...                       ...                         ...                ...   \n",
       "b.REV.014.004     apocalyptic                         856                484   \n",
       "b.REV.014.008     apocalyptic                         842                467   \n",
       "b.REV.016.015     apocalyptic                        1706                892   \n",
       "b.REV.017.003     apocalyptic                         784                350   \n",
       "b.REV.019.016     apocalyptic                        6978               2739   \n",
       "\n",
       "                  twitter_freq_2015  relations  monogamy  ...  #org35  \\\n",
       "bible_identifier                                          ...           \n",
       "b.GEN.004.002                   526          0         0  ...     0.0   \n",
       "b.GEN.005.003                   283          0         0  ...     0.0   \n",
       "b.GEN.005.007                   244          0         0  ...     0.0   \n",
       "b.GEN.005.010                   187          0         0  ...     0.0   \n",
       "b.GEN.005.012                   215          0         0  ...     0.0   \n",
       "...                             ...        ...       ...  ...     ...   \n",
       "b.REV.014.004                   372          0         0  ...     0.0   \n",
       "b.REV.014.008                   375          0         0  ...     0.0   \n",
       "b.REV.016.015                   814          0         0  ...     0.0   \n",
       "b.REV.017.003                   434          0         0  ...     0.0   \n",
       "b.REV.019.016                  4239          0         0  ...     0.0   \n",
       "\n",
       "                  #org439  #pla65  #pla68  #per116  #per119  #pla67  #org52  \\\n",
       "bible_identifier                                                              \n",
       "b.GEN.004.002         0.0     0.0     0.0      0.0      0.0     0.0     0.0   \n",
       "b.GEN.005.003         0.0     0.0     0.0      0.0      0.0     0.0     0.0   \n",
       "b.GEN.005.007         0.0     0.0     0.0      0.0      0.0     0.0     0.0   \n",
       "b.GEN.005.010         0.0     0.0     0.0      0.0      0.0     0.0     0.0   \n",
       "b.GEN.005.012         0.0     0.0     0.0      0.0      0.0     0.0     0.0   \n",
       "...                   ...     ...     ...      ...      ...     ...     ...   \n",
       "b.REV.014.004         0.0     0.0     0.0      0.0      0.0     0.0     0.0   \n",
       "b.REV.014.008         0.0     0.0     0.0      0.0      0.0     0.0     0.0   \n",
       "b.REV.016.015         0.0     0.0     0.0      0.0      0.0     0.0     0.0   \n",
       "b.REV.017.003         0.0     0.0     0.0      0.0      0.0     0.0     0.0   \n",
       "b.REV.019.016         0.0     0.0     0.0      0.0      0.0     0.0     0.0   \n",
       "\n",
       "                  #per129  #pla74  \n",
       "bible_identifier                   \n",
       "b.GEN.004.002         0.0     0.0  \n",
       "b.GEN.005.003         0.0     0.0  \n",
       "b.GEN.005.007         0.0     0.0  \n",
       "b.GEN.005.010         0.0     0.0  \n",
       "b.GEN.005.012         0.0     0.0  \n",
       "...                   ...     ...  \n",
       "b.REV.014.004         0.0     0.0  \n",
       "b.REV.014.008         0.0     0.0  \n",
       "b.REV.016.015         0.0     0.0  \n",
       "b.REV.017.003         0.0     0.0  \n",
       "b.REV.019.016         0.0     0.0  \n",
       "\n",
       "[410 rows x 4167 columns]"
      ],
      "text/html": "<div>\n<style scoped>\n    .dataframe tbody tr th:only-of-type {\n        vertical-align: middle;\n    }\n\n    .dataframe tbody tr th {\n        vertical-align: top;\n    }\n\n    .dataframe thead th {\n        text-align: right;\n    }\n</style>\n<table border=\"1\" class=\"dataframe\">\n  <thead>\n    <tr style=\"text-align: right;\">\n      <th></th>\n      <th>bible_identifier</th>\n      <th>bible_book</th>\n      <th>bible_chapter</th>\n      <th>bible_book_chapter</th>\n      <th>genre</th>\n      <th>twitter_freq_sum_2014_2015</th>\n      <th>twitter_freq_2014</th>\n      <th>twitter_freq_2015</th>\n      <th>relations</th>\n      <th>monogamy</th>\n      <th>...</th>\n      <th>#org35</th>\n      <th>#org439</th>\n      <th>#pla65</th>\n      <th>#pla68</th>\n      <th>#per116</th>\n      <th>#per119</th>\n      <th>#pla67</th>\n      <th>#org52</th>\n      <th>#per129</th>\n      <th>#pla74</th>\n    </tr>\n    <tr>\n      <th>bible_identifier</th>\n      <th></th>\n      <th></th>\n      <th></th>\n      <th></th>\n      <th></th>\n      <th></th>\n      <th></th>\n      <th></th>\n      <th></th>\n      <th></th>\n      <th></th>\n      <th></th>\n      <th></th>\n      <th></th>\n      <th></th>\n      <th></th>\n      <th></th>\n      <th></th>\n      <th></th>\n      <th></th>\n      <th></th>\n    </tr>\n  </thead>\n  <tbody>\n    <tr>\n      <th>b.GEN.004.002</th>\n      <td>b.GEN.004.002</td>\n      <td>GEN</td>\n      <td>004</td>\n      <td>GEN.004</td>\n      <td>historical</td>\n      <td>922</td>\n      <td>396</td>\n      <td>526</td>\n      <td>0</td>\n      <td>0</td>\n      <td>...</td>\n      <td>0.0</td>\n      <td>0.0</td>\n      <td>0.0</td>\n      <td>0.0</td>\n      <td>0.0</td>\n      <td>0.0</td>\n      <td>0.0</td>\n      <td>0.0</td>\n      <td>0.0</td>\n      <td>0.0</td>\n    </tr>\n    <tr>\n      <th>b.GEN.005.003</th>\n      <td>b.GEN.005.003</td>\n      <td>GEN</td>\n      <td>005</td>\n      <td>GEN.005</td>\n      <td>historical</td>\n      <td>544</td>\n      <td>261</td>\n      <td>283</td>\n      <td>0</td>\n      <td>0</td>\n      <td>...</td>\n      <td>0.0</td>\n      <td>0.0</td>\n      <td>0.0</td>\n      <td>0.0</td>\n      <td>0.0</td>\n      <td>0.0</td>\n      <td>0.0</td>\n      <td>0.0</td>\n      <td>0.0</td>\n      <td>0.0</td>\n    </tr>\n    <tr>\n      <th>b.GEN.005.007</th>\n      <td>b.GEN.005.007</td>\n      <td>GEN</td>\n      <td>005</td>\n      <td>GEN.005</td>\n      <td>historical</td>\n      <td>446</td>\n      <td>202</td>\n      <td>244</td>\n      <td>0</td>\n      <td>0</td>\n      <td>...</td>\n      <td>0.0</td>\n      <td>0.0</td>\n      <td>0.0</td>\n      <td>0.0</td>\n      <td>0.0</td>\n      <td>0.0</td>\n      <td>0.0</td>\n      <td>0.0</td>\n      <td>0.0</td>\n      <td>0.0</td>\n    </tr>\n    <tr>\n      <th>b.GEN.005.010</th>\n      <td>b.GEN.005.010</td>\n      <td>GEN</td>\n      <td>005</td>\n      <td>GEN.005</td>\n      <td>historical</td>\n      <td>363</td>\n      <td>176</td>\n      <td>187</td>\n      <td>0</td>\n      <td>0</td>\n      <td>...</td>\n      <td>0.0</td>\n      <td>0.0</td>\n      <td>0.0</td>\n      <td>0.0</td>\n      <td>0.0</td>\n      <td>0.0</td>\n      <td>0.0</td>\n      <td>0.0</td>\n      <td>0.0</td>\n      <td>0.0</td>\n    </tr>\n    <tr>\n      <th>b.GEN.005.012</th>\n      <td>b.GEN.005.012</td>\n      <td>GEN</td>\n      <td>005</td>\n      <td>GEN.005</td>\n      <td>historical</td>\n      <td>418</td>\n      <td>203</td>\n      <td>215</td>\n      <td>0</td>\n      <td>0</td>\n      <td>...</td>\n      <td>0.0</td>\n      <td>0.0</td>\n      <td>0.0</td>\n      <td>0.0</td>\n      <td>0.0</td>\n      <td>0.0</td>\n      <td>0.0</td>\n      <td>0.0</td>\n      <td>0.0</td>\n      <td>0.0</td>\n    </tr>\n    <tr>\n      <th>...</th>\n      <td>...</td>\n      <td>...</td>\n      <td>...</td>\n      <td>...</td>\n      <td>...</td>\n      <td>...</td>\n      <td>...</td>\n      <td>...</td>\n      <td>...</td>\n      <td>...</td>\n      <td>...</td>\n      <td>...</td>\n      <td>...</td>\n      <td>...</td>\n      <td>...</td>\n      <td>...</td>\n      <td>...</td>\n      <td>...</td>\n      <td>...</td>\n      <td>...</td>\n      <td>...</td>\n    </tr>\n    <tr>\n      <th>b.REV.014.004</th>\n      <td>b.REV.014.004</td>\n      <td>REV</td>\n      <td>014</td>\n      <td>REV.014</td>\n      <td>apocalyptic</td>\n      <td>856</td>\n      <td>484</td>\n      <td>372</td>\n      <td>0</td>\n      <td>0</td>\n      <td>...</td>\n      <td>0.0</td>\n      <td>0.0</td>\n      <td>0.0</td>\n      <td>0.0</td>\n      <td>0.0</td>\n      <td>0.0</td>\n      <td>0.0</td>\n      <td>0.0</td>\n      <td>0.0</td>\n      <td>0.0</td>\n    </tr>\n    <tr>\n      <th>b.REV.014.008</th>\n      <td>b.REV.014.008</td>\n      <td>REV</td>\n      <td>014</td>\n      <td>REV.014</td>\n      <td>apocalyptic</td>\n      <td>842</td>\n      <td>467</td>\n      <td>375</td>\n      <td>0</td>\n      <td>0</td>\n      <td>...</td>\n      <td>0.0</td>\n      <td>0.0</td>\n      <td>0.0</td>\n      <td>0.0</td>\n      <td>0.0</td>\n      <td>0.0</td>\n      <td>0.0</td>\n      <td>0.0</td>\n      <td>0.0</td>\n      <td>0.0</td>\n    </tr>\n    <tr>\n      <th>b.REV.016.015</th>\n      <td>b.REV.016.015</td>\n      <td>REV</td>\n      <td>016</td>\n      <td>REV.016</td>\n      <td>apocalyptic</td>\n      <td>1706</td>\n      <td>892</td>\n      <td>814</td>\n      <td>0</td>\n      <td>0</td>\n      <td>...</td>\n      <td>0.0</td>\n      <td>0.0</td>\n      <td>0.0</td>\n      <td>0.0</td>\n      <td>0.0</td>\n      <td>0.0</td>\n      <td>0.0</td>\n      <td>0.0</td>\n      <td>0.0</td>\n      <td>0.0</td>\n    </tr>\n    <tr>\n      <th>b.REV.017.003</th>\n      <td>b.REV.017.003</td>\n      <td>REV</td>\n      <td>017</td>\n      <td>REV.017</td>\n      <td>apocalyptic</td>\n      <td>784</td>\n      <td>350</td>\n      <td>434</td>\n      <td>0</td>\n      <td>0</td>\n      <td>...</td>\n      <td>0.0</td>\n      <td>0.0</td>\n      <td>0.0</td>\n      <td>0.0</td>\n      <td>0.0</td>\n      <td>0.0</td>\n      <td>0.0</td>\n      <td>0.0</td>\n      <td>0.0</td>\n      <td>0.0</td>\n    </tr>\n    <tr>\n      <th>b.REV.019.016</th>\n      <td>b.REV.019.016</td>\n      <td>REV</td>\n      <td>019</td>\n      <td>REV.019</td>\n      <td>apocalyptic</td>\n      <td>6978</td>\n      <td>2739</td>\n      <td>4239</td>\n      <td>0</td>\n      <td>0</td>\n      <td>...</td>\n      <td>0.0</td>\n      <td>0.0</td>\n      <td>0.0</td>\n      <td>0.0</td>\n      <td>0.0</td>\n      <td>0.0</td>\n      <td>0.0</td>\n      <td>0.0</td>\n      <td>0.0</td>\n      <td>0.0</td>\n    </tr>\n  </tbody>\n</table>\n<p>410 rows × 4167 columns</p>\n</div>"
     },
     "metadata": {},
     "execution_count": 85
    }
   ],
   "source": [
    "verses_without_polarity_df"
   ]
  },
  {
   "cell_type": "code",
   "execution_count": 57,
   "metadata": {},
   "outputs": [
    {
     "output_type": "execute_result",
     "data": {
      "text/plain": [
       "0"
      ]
     },
     "metadata": {},
     "execution_count": 57
    }
   ],
   "source": [
    "df.loc[\"b.GEN.005.003\"][['blessed-aspect',\n",
    " 'positive-aspect',\n",
    " 'neutral-aspect',\n",
    " 'negative-aspect',\n",
    " 'condemned-aspect']].sum()"
   ]
  },
  {
   "cell_type": "code",
   "execution_count": 59,
   "metadata": {},
   "outputs": [
    {
     "output_type": "execute_result",
     "data": {
      "text/plain": [
       "1"
      ]
     },
     "metadata": {},
     "execution_count": 59
    }
   ],
   "source": [
    "df.loc[\"b.GEN.005.003\"][sexual_features].sum()"
   ]
  },
  {
   "cell_type": "code",
   "execution_count": 61,
   "metadata": {},
   "outputs": [
    {
     "output_type": "execute_result",
     "data": {
      "text/plain": [
       "                 bible_identifier bible_book bible_chapter bible_book_chapter  \\\n",
       "bible_identifier                                                                \n",
       "b.GEN.004.002       b.GEN.004.002        GEN           004            GEN.004   \n",
       "b.GEN.004.018       b.GEN.004.018        GEN           004            GEN.004   \n",
       "b.GEN.004.020       b.GEN.004.020        GEN           004            GEN.004   \n",
       "b.GEN.004.022       b.GEN.004.022        GEN           004            GEN.004   \n",
       "b.GEN.004.026       b.GEN.004.026        GEN           004            GEN.004   \n",
       "...                           ...        ...           ...                ...   \n",
       "b.REV.014.004       b.REV.014.004        REV           014            REV.014   \n",
       "b.REV.014.008       b.REV.014.008        REV           014            REV.014   \n",
       "b.REV.016.015       b.REV.016.015        REV           016            REV.016   \n",
       "b.REV.017.003       b.REV.017.003        REV           017            REV.017   \n",
       "b.REV.019.016       b.REV.019.016        REV           019            REV.019   \n",
       "\n",
       "                        genre  twitter_freq_sum_2014_2015  twitter_freq_2014  \\\n",
       "bible_identifier                                                               \n",
       "b.GEN.004.002      historical                         922                396   \n",
       "b.GEN.004.018      historical                         928                638   \n",
       "b.GEN.004.020      historical                        1468                903   \n",
       "b.GEN.004.022      historical                         612                296   \n",
       "b.GEN.004.026      historical                        1033                479   \n",
       "...                       ...                         ...                ...   \n",
       "b.REV.014.004     apocalyptic                         856                484   \n",
       "b.REV.014.008     apocalyptic                         842                467   \n",
       "b.REV.016.015     apocalyptic                        1706                892   \n",
       "b.REV.017.003     apocalyptic                         784                350   \n",
       "b.REV.019.016     apocalyptic                        6978               2739   \n",
       "\n",
       "                  twitter_freq_2015  relations  monogamy  ...  #org35  \\\n",
       "bible_identifier                                          ...           \n",
       "b.GEN.004.002                   526          0         0  ...     0.0   \n",
       "b.GEN.004.018                   290          0         0  ...     0.0   \n",
       "b.GEN.004.020                   565          0         0  ...     0.0   \n",
       "b.GEN.004.022                   316          0         0  ...     0.0   \n",
       "b.GEN.004.026                   554          0         0  ...     0.0   \n",
       "...                             ...        ...       ...  ...     ...   \n",
       "b.REV.014.004                   372          0         0  ...     0.0   \n",
       "b.REV.014.008                   375          0         0  ...     0.0   \n",
       "b.REV.016.015                   814          0         0  ...     0.0   \n",
       "b.REV.017.003                   434          0         0  ...     0.0   \n",
       "b.REV.019.016                  4239          0         0  ...     0.0   \n",
       "\n",
       "                  #org439  #pla65  #pla68  #per116  #per119  #pla67  #org52  \\\n",
       "bible_identifier                                                              \n",
       "b.GEN.004.002         0.0     0.0     0.0      0.0      0.0     0.0     0.0   \n",
       "b.GEN.004.018         0.0     0.0     0.0      0.0      0.0     0.0     0.0   \n",
       "b.GEN.004.020         0.0     0.0     0.0      0.0      0.0     0.0     0.0   \n",
       "b.GEN.004.022         0.0     0.0     0.0      0.0      0.0     0.0     0.0   \n",
       "b.GEN.004.026         0.0     0.0     0.0      0.0      0.0     0.0     0.0   \n",
       "...                   ...     ...     ...      ...      ...     ...     ...   \n",
       "b.REV.014.004         0.0     0.0     0.0      0.0      0.0     0.0     0.0   \n",
       "b.REV.014.008         0.0     0.0     0.0      0.0      0.0     0.0     0.0   \n",
       "b.REV.016.015         0.0     0.0     0.0      0.0      0.0     0.0     0.0   \n",
       "b.REV.017.003         0.0     0.0     0.0      0.0      0.0     0.0     0.0   \n",
       "b.REV.019.016         0.0     0.0     0.0      0.0      0.0     0.0     0.0   \n",
       "\n",
       "                  #per129  #pla74  \n",
       "bible_identifier                   \n",
       "b.GEN.004.002         0.0     0.0  \n",
       "b.GEN.004.018         0.0     0.0  \n",
       "b.GEN.004.020         0.0     0.0  \n",
       "b.GEN.004.022         0.0     0.0  \n",
       "b.GEN.004.026         0.0     0.0  \n",
       "...                   ...     ...  \n",
       "b.REV.014.004         0.0     0.0  \n",
       "b.REV.014.008         0.0     0.0  \n",
       "b.REV.016.015         0.0     0.0  \n",
       "b.REV.017.003         0.0     0.0  \n",
       "b.REV.019.016         0.0     0.0  \n",
       "\n",
       "[445 rows x 4167 columns]"
      ],
      "text/html": "<div>\n<style scoped>\n    .dataframe tbody tr th:only-of-type {\n        vertical-align: middle;\n    }\n\n    .dataframe tbody tr th {\n        vertical-align: top;\n    }\n\n    .dataframe thead th {\n        text-align: right;\n    }\n</style>\n<table border=\"1\" class=\"dataframe\">\n  <thead>\n    <tr style=\"text-align: right;\">\n      <th></th>\n      <th>bible_identifier</th>\n      <th>bible_book</th>\n      <th>bible_chapter</th>\n      <th>bible_book_chapter</th>\n      <th>genre</th>\n      <th>twitter_freq_sum_2014_2015</th>\n      <th>twitter_freq_2014</th>\n      <th>twitter_freq_2015</th>\n      <th>relations</th>\n      <th>monogamy</th>\n      <th>...</th>\n      <th>#org35</th>\n      <th>#org439</th>\n      <th>#pla65</th>\n      <th>#pla68</th>\n      <th>#per116</th>\n      <th>#per119</th>\n      <th>#pla67</th>\n      <th>#org52</th>\n      <th>#per129</th>\n      <th>#pla74</th>\n    </tr>\n    <tr>\n      <th>bible_identifier</th>\n      <th></th>\n      <th></th>\n      <th></th>\n      <th></th>\n      <th></th>\n      <th></th>\n      <th></th>\n      <th></th>\n      <th></th>\n      <th></th>\n      <th></th>\n      <th></th>\n      <th></th>\n      <th></th>\n      <th></th>\n      <th></th>\n      <th></th>\n      <th></th>\n      <th></th>\n      <th></th>\n      <th></th>\n    </tr>\n  </thead>\n  <tbody>\n    <tr>\n      <th>b.GEN.004.002</th>\n      <td>b.GEN.004.002</td>\n      <td>GEN</td>\n      <td>004</td>\n      <td>GEN.004</td>\n      <td>historical</td>\n      <td>922</td>\n      <td>396</td>\n      <td>526</td>\n      <td>0</td>\n      <td>0</td>\n      <td>...</td>\n      <td>0.0</td>\n      <td>0.0</td>\n      <td>0.0</td>\n      <td>0.0</td>\n      <td>0.0</td>\n      <td>0.0</td>\n      <td>0.0</td>\n      <td>0.0</td>\n      <td>0.0</td>\n      <td>0.0</td>\n    </tr>\n    <tr>\n      <th>b.GEN.004.018</th>\n      <td>b.GEN.004.018</td>\n      <td>GEN</td>\n      <td>004</td>\n      <td>GEN.004</td>\n      <td>historical</td>\n      <td>928</td>\n      <td>638</td>\n      <td>290</td>\n      <td>0</td>\n      <td>0</td>\n      <td>...</td>\n      <td>0.0</td>\n      <td>0.0</td>\n      <td>0.0</td>\n      <td>0.0</td>\n      <td>0.0</td>\n      <td>0.0</td>\n      <td>0.0</td>\n      <td>0.0</td>\n      <td>0.0</td>\n      <td>0.0</td>\n    </tr>\n    <tr>\n      <th>b.GEN.004.020</th>\n      <td>b.GEN.004.020</td>\n      <td>GEN</td>\n      <td>004</td>\n      <td>GEN.004</td>\n      <td>historical</td>\n      <td>1468</td>\n      <td>903</td>\n      <td>565</td>\n      <td>0</td>\n      <td>0</td>\n      <td>...</td>\n      <td>0.0</td>\n      <td>0.0</td>\n      <td>0.0</td>\n      <td>0.0</td>\n      <td>0.0</td>\n      <td>0.0</td>\n      <td>0.0</td>\n      <td>0.0</td>\n      <td>0.0</td>\n      <td>0.0</td>\n    </tr>\n    <tr>\n      <th>b.GEN.004.022</th>\n      <td>b.GEN.004.022</td>\n      <td>GEN</td>\n      <td>004</td>\n      <td>GEN.004</td>\n      <td>historical</td>\n      <td>612</td>\n      <td>296</td>\n      <td>316</td>\n      <td>0</td>\n      <td>0</td>\n      <td>...</td>\n      <td>0.0</td>\n      <td>0.0</td>\n      <td>0.0</td>\n      <td>0.0</td>\n      <td>0.0</td>\n      <td>0.0</td>\n      <td>0.0</td>\n      <td>0.0</td>\n      <td>0.0</td>\n      <td>0.0</td>\n    </tr>\n    <tr>\n      <th>b.GEN.004.026</th>\n      <td>b.GEN.004.026</td>\n      <td>GEN</td>\n      <td>004</td>\n      <td>GEN.004</td>\n      <td>historical</td>\n      <td>1033</td>\n      <td>479</td>\n      <td>554</td>\n      <td>0</td>\n      <td>0</td>\n      <td>...</td>\n      <td>0.0</td>\n      <td>0.0</td>\n      <td>0.0</td>\n      <td>0.0</td>\n      <td>0.0</td>\n      <td>0.0</td>\n      <td>0.0</td>\n      <td>0.0</td>\n      <td>0.0</td>\n      <td>0.0</td>\n    </tr>\n    <tr>\n      <th>...</th>\n      <td>...</td>\n      <td>...</td>\n      <td>...</td>\n      <td>...</td>\n      <td>...</td>\n      <td>...</td>\n      <td>...</td>\n      <td>...</td>\n      <td>...</td>\n      <td>...</td>\n      <td>...</td>\n      <td>...</td>\n      <td>...</td>\n      <td>...</td>\n      <td>...</td>\n      <td>...</td>\n      <td>...</td>\n      <td>...</td>\n      <td>...</td>\n      <td>...</td>\n      <td>...</td>\n    </tr>\n    <tr>\n      <th>b.REV.014.004</th>\n      <td>b.REV.014.004</td>\n      <td>REV</td>\n      <td>014</td>\n      <td>REV.014</td>\n      <td>apocalyptic</td>\n      <td>856</td>\n      <td>484</td>\n      <td>372</td>\n      <td>0</td>\n      <td>0</td>\n      <td>...</td>\n      <td>0.0</td>\n      <td>0.0</td>\n      <td>0.0</td>\n      <td>0.0</td>\n      <td>0.0</td>\n      <td>0.0</td>\n      <td>0.0</td>\n      <td>0.0</td>\n      <td>0.0</td>\n      <td>0.0</td>\n    </tr>\n    <tr>\n      <th>b.REV.014.008</th>\n      <td>b.REV.014.008</td>\n      <td>REV</td>\n      <td>014</td>\n      <td>REV.014</td>\n      <td>apocalyptic</td>\n      <td>842</td>\n      <td>467</td>\n      <td>375</td>\n      <td>0</td>\n      <td>0</td>\n      <td>...</td>\n      <td>0.0</td>\n      <td>0.0</td>\n      <td>0.0</td>\n      <td>0.0</td>\n      <td>0.0</td>\n      <td>0.0</td>\n      <td>0.0</td>\n      <td>0.0</td>\n      <td>0.0</td>\n      <td>0.0</td>\n    </tr>\n    <tr>\n      <th>b.REV.016.015</th>\n      <td>b.REV.016.015</td>\n      <td>REV</td>\n      <td>016</td>\n      <td>REV.016</td>\n      <td>apocalyptic</td>\n      <td>1706</td>\n      <td>892</td>\n      <td>814</td>\n      <td>0</td>\n      <td>0</td>\n      <td>...</td>\n      <td>0.0</td>\n      <td>0.0</td>\n      <td>0.0</td>\n      <td>0.0</td>\n      <td>0.0</td>\n      <td>0.0</td>\n      <td>0.0</td>\n      <td>0.0</td>\n      <td>0.0</td>\n      <td>0.0</td>\n    </tr>\n    <tr>\n      <th>b.REV.017.003</th>\n      <td>b.REV.017.003</td>\n      <td>REV</td>\n      <td>017</td>\n      <td>REV.017</td>\n      <td>apocalyptic</td>\n      <td>784</td>\n      <td>350</td>\n      <td>434</td>\n      <td>0</td>\n      <td>0</td>\n      <td>...</td>\n      <td>0.0</td>\n      <td>0.0</td>\n      <td>0.0</td>\n      <td>0.0</td>\n      <td>0.0</td>\n      <td>0.0</td>\n      <td>0.0</td>\n      <td>0.0</td>\n      <td>0.0</td>\n      <td>0.0</td>\n    </tr>\n    <tr>\n      <th>b.REV.019.016</th>\n      <td>b.REV.019.016</td>\n      <td>REV</td>\n      <td>019</td>\n      <td>REV.019</td>\n      <td>apocalyptic</td>\n      <td>6978</td>\n      <td>2739</td>\n      <td>4239</td>\n      <td>0</td>\n      <td>0</td>\n      <td>...</td>\n      <td>0.0</td>\n      <td>0.0</td>\n      <td>0.0</td>\n      <td>0.0</td>\n      <td>0.0</td>\n      <td>0.0</td>\n      <td>0.0</td>\n      <td>0.0</td>\n      <td>0.0</td>\n      <td>0.0</td>\n    </tr>\n  </tbody>\n</table>\n<p>445 rows × 4167 columns</p>\n</div>"
     },
     "metadata": {},
     "execution_count": 61
    }
   ],
   "source": [
    "df.loc[(df[sexual_features].sum(axis = 1) >= 1) & (df[['blessed-aspect',\n",
    " 'positive-aspect',\n",
    " 'neutral-aspect',\n",
    " 'negative-aspect',\n",
    " 'condemned-aspect']].sum(axis = 1) == 0) ]\n"
   ]
  },
  {
   "cell_type": "code",
   "execution_count": 48,
   "metadata": {},
   "outputs": [
    {
     "output_type": "execute_result",
     "data": {
      "text/plain": [
       "                 bible_identifier bible_book bible_chapter bible_book_chapter  \\\n",
       "bible_identifier                                                                \n",
       "b.GEN.004.002       b.GEN.004.002        GEN           004            GEN.004   \n",
       "b.GEN.004.018       b.GEN.004.018        GEN           004            GEN.004   \n",
       "b.GEN.004.020       b.GEN.004.020        GEN           004            GEN.004   \n",
       "b.GEN.004.022       b.GEN.004.022        GEN           004            GEN.004   \n",
       "b.GEN.004.026       b.GEN.004.026        GEN           004            GEN.004   \n",
       "...                           ...        ...           ...                ...   \n",
       "b.REV.002.022       b.REV.002.022        REV           002            REV.002   \n",
       "b.REV.012.002       b.REV.012.002        REV           012            REV.012   \n",
       "b.REV.012.005       b.REV.012.005        REV           012            REV.012   \n",
       "b.REV.012.013       b.REV.012.013        REV           012            REV.012   \n",
       "b.REV.014.004       b.REV.014.004        REV           014            REV.014   \n",
       "\n",
       "                        genre  twitter_freq_sum_2014_2015  twitter_freq_2014  \\\n",
       "bible_identifier                                                               \n",
       "b.GEN.004.002      historical                         922                396   \n",
       "b.GEN.004.018      historical                         928                638   \n",
       "b.GEN.004.020      historical                        1468                903   \n",
       "b.GEN.004.022      historical                         612                296   \n",
       "b.GEN.004.026      historical                        1033                479   \n",
       "...                       ...                         ...                ...   \n",
       "b.REV.002.022     apocalyptic                        1277                574   \n",
       "b.REV.012.002     apocalyptic                        1477                703   \n",
       "b.REV.012.005     apocalyptic                        1679                797   \n",
       "b.REV.012.013     apocalyptic                        1210                459   \n",
       "b.REV.014.004     apocalyptic                         856                484   \n",
       "\n",
       "                  twitter_freq_2015  relations  monogamy  ...  #org35  \\\n",
       "bible_identifier                                          ...           \n",
       "b.GEN.004.002                   526          0         0  ...     0.0   \n",
       "b.GEN.004.018                   290          0         0  ...     0.0   \n",
       "b.GEN.004.020                   565          0         0  ...     0.0   \n",
       "b.GEN.004.022                   316          0         0  ...     0.0   \n",
       "b.GEN.004.026                   554          0         0  ...     0.0   \n",
       "...                             ...        ...       ...  ...     ...   \n",
       "b.REV.002.022                   703          0         0  ...     0.0   \n",
       "b.REV.012.002                   774          0         0  ...     0.0   \n",
       "b.REV.012.005                   882          0         0  ...     0.0   \n",
       "b.REV.012.013                   751          0         0  ...     0.0   \n",
       "b.REV.014.004                   372          0         0  ...     0.0   \n",
       "\n",
       "                  #org439  #pla65  #pla68  #per116  #per119  #pla67  #org52  \\\n",
       "bible_identifier                                                              \n",
       "b.GEN.004.002         0.0     0.0     0.0      0.0      0.0     0.0     0.0   \n",
       "b.GEN.004.018         0.0     0.0     0.0      0.0      0.0     0.0     0.0   \n",
       "b.GEN.004.020         0.0     0.0     0.0      0.0      0.0     0.0     0.0   \n",
       "b.GEN.004.022         0.0     0.0     0.0      0.0      0.0     0.0     0.0   \n",
       "b.GEN.004.026         0.0     0.0     0.0      0.0      0.0     0.0     0.0   \n",
       "...                   ...     ...     ...      ...      ...     ...     ...   \n",
       "b.REV.002.022         0.0     0.0     0.0      0.0      0.0     0.0     0.0   \n",
       "b.REV.012.002         0.0     0.0     0.0      0.0      0.0     0.0     0.0   \n",
       "b.REV.012.005         0.0     0.0     0.0      0.0      0.0     0.0     0.0   \n",
       "b.REV.012.013         0.0     0.0     0.0      0.0      0.0     0.0     0.0   \n",
       "b.REV.014.004         0.0     0.0     0.0      0.0      0.0     0.0     0.0   \n",
       "\n",
       "                  #per129  #pla74  \n",
       "bible_identifier                   \n",
       "b.GEN.004.002         0.0     0.0  \n",
       "b.GEN.004.018         0.0     0.0  \n",
       "b.GEN.004.020         0.0     0.0  \n",
       "b.GEN.004.022         0.0     0.0  \n",
       "b.GEN.004.026         0.0     0.0  \n",
       "...                   ...     ...  \n",
       "b.REV.002.022         0.0     0.0  \n",
       "b.REV.012.002         0.0     0.0  \n",
       "b.REV.012.005         0.0     0.0  \n",
       "b.REV.012.013         0.0     0.0  \n",
       "b.REV.014.004         0.0     0.0  \n",
       "\n",
       "[161 rows x 4167 columns]"
      ],
      "text/html": "<div>\n<style scoped>\n    .dataframe tbody tr th:only-of-type {\n        vertical-align: middle;\n    }\n\n    .dataframe tbody tr th {\n        vertical-align: top;\n    }\n\n    .dataframe thead th {\n        text-align: right;\n    }\n</style>\n<table border=\"1\" class=\"dataframe\">\n  <thead>\n    <tr style=\"text-align: right;\">\n      <th></th>\n      <th>bible_identifier</th>\n      <th>bible_book</th>\n      <th>bible_chapter</th>\n      <th>bible_book_chapter</th>\n      <th>genre</th>\n      <th>twitter_freq_sum_2014_2015</th>\n      <th>twitter_freq_2014</th>\n      <th>twitter_freq_2015</th>\n      <th>relations</th>\n      <th>monogamy</th>\n      <th>...</th>\n      <th>#org35</th>\n      <th>#org439</th>\n      <th>#pla65</th>\n      <th>#pla68</th>\n      <th>#per116</th>\n      <th>#per119</th>\n      <th>#pla67</th>\n      <th>#org52</th>\n      <th>#per129</th>\n      <th>#pla74</th>\n    </tr>\n    <tr>\n      <th>bible_identifier</th>\n      <th></th>\n      <th></th>\n      <th></th>\n      <th></th>\n      <th></th>\n      <th></th>\n      <th></th>\n      <th></th>\n      <th></th>\n      <th></th>\n      <th></th>\n      <th></th>\n      <th></th>\n      <th></th>\n      <th></th>\n      <th></th>\n      <th></th>\n      <th></th>\n      <th></th>\n      <th></th>\n      <th></th>\n    </tr>\n  </thead>\n  <tbody>\n    <tr>\n      <th>b.GEN.004.002</th>\n      <td>b.GEN.004.002</td>\n      <td>GEN</td>\n      <td>004</td>\n      <td>GEN.004</td>\n      <td>historical</td>\n      <td>922</td>\n      <td>396</td>\n      <td>526</td>\n      <td>0</td>\n      <td>0</td>\n      <td>...</td>\n      <td>0.0</td>\n      <td>0.0</td>\n      <td>0.0</td>\n      <td>0.0</td>\n      <td>0.0</td>\n      <td>0.0</td>\n      <td>0.0</td>\n      <td>0.0</td>\n      <td>0.0</td>\n      <td>0.0</td>\n    </tr>\n    <tr>\n      <th>b.GEN.004.018</th>\n      <td>b.GEN.004.018</td>\n      <td>GEN</td>\n      <td>004</td>\n      <td>GEN.004</td>\n      <td>historical</td>\n      <td>928</td>\n      <td>638</td>\n      <td>290</td>\n      <td>0</td>\n      <td>0</td>\n      <td>...</td>\n      <td>0.0</td>\n      <td>0.0</td>\n      <td>0.0</td>\n      <td>0.0</td>\n      <td>0.0</td>\n      <td>0.0</td>\n      <td>0.0</td>\n      <td>0.0</td>\n      <td>0.0</td>\n      <td>0.0</td>\n    </tr>\n    <tr>\n      <th>b.GEN.004.020</th>\n      <td>b.GEN.004.020</td>\n      <td>GEN</td>\n      <td>004</td>\n      <td>GEN.004</td>\n      <td>historical</td>\n      <td>1468</td>\n      <td>903</td>\n      <td>565</td>\n      <td>0</td>\n      <td>0</td>\n      <td>...</td>\n      <td>0.0</td>\n      <td>0.0</td>\n      <td>0.0</td>\n      <td>0.0</td>\n      <td>0.0</td>\n      <td>0.0</td>\n      <td>0.0</td>\n      <td>0.0</td>\n      <td>0.0</td>\n      <td>0.0</td>\n    </tr>\n    <tr>\n      <th>b.GEN.004.022</th>\n      <td>b.GEN.004.022</td>\n      <td>GEN</td>\n      <td>004</td>\n      <td>GEN.004</td>\n      <td>historical</td>\n      <td>612</td>\n      <td>296</td>\n      <td>316</td>\n      <td>0</td>\n      <td>0</td>\n      <td>...</td>\n      <td>0.0</td>\n      <td>0.0</td>\n      <td>0.0</td>\n      <td>0.0</td>\n      <td>0.0</td>\n      <td>0.0</td>\n      <td>0.0</td>\n      <td>0.0</td>\n      <td>0.0</td>\n      <td>0.0</td>\n    </tr>\n    <tr>\n      <th>b.GEN.004.026</th>\n      <td>b.GEN.004.026</td>\n      <td>GEN</td>\n      <td>004</td>\n      <td>GEN.004</td>\n      <td>historical</td>\n      <td>1033</td>\n      <td>479</td>\n      <td>554</td>\n      <td>0</td>\n      <td>0</td>\n      <td>...</td>\n      <td>0.0</td>\n      <td>0.0</td>\n      <td>0.0</td>\n      <td>0.0</td>\n      <td>0.0</td>\n      <td>0.0</td>\n      <td>0.0</td>\n      <td>0.0</td>\n      <td>0.0</td>\n      <td>0.0</td>\n    </tr>\n    <tr>\n      <th>...</th>\n      <td>...</td>\n      <td>...</td>\n      <td>...</td>\n      <td>...</td>\n      <td>...</td>\n      <td>...</td>\n      <td>...</td>\n      <td>...</td>\n      <td>...</td>\n      <td>...</td>\n      <td>...</td>\n      <td>...</td>\n      <td>...</td>\n      <td>...</td>\n      <td>...</td>\n      <td>...</td>\n      <td>...</td>\n      <td>...</td>\n      <td>...</td>\n      <td>...</td>\n      <td>...</td>\n    </tr>\n    <tr>\n      <th>b.REV.002.022</th>\n      <td>b.REV.002.022</td>\n      <td>REV</td>\n      <td>002</td>\n      <td>REV.002</td>\n      <td>apocalyptic</td>\n      <td>1277</td>\n      <td>574</td>\n      <td>703</td>\n      <td>0</td>\n      <td>0</td>\n      <td>...</td>\n      <td>0.0</td>\n      <td>0.0</td>\n      <td>0.0</td>\n      <td>0.0</td>\n      <td>0.0</td>\n      <td>0.0</td>\n      <td>0.0</td>\n      <td>0.0</td>\n      <td>0.0</td>\n      <td>0.0</td>\n    </tr>\n    <tr>\n      <th>b.REV.012.002</th>\n      <td>b.REV.012.002</td>\n      <td>REV</td>\n      <td>012</td>\n      <td>REV.012</td>\n      <td>apocalyptic</td>\n      <td>1477</td>\n      <td>703</td>\n      <td>774</td>\n      <td>0</td>\n      <td>0</td>\n      <td>...</td>\n      <td>0.0</td>\n      <td>0.0</td>\n      <td>0.0</td>\n      <td>0.0</td>\n      <td>0.0</td>\n      <td>0.0</td>\n      <td>0.0</td>\n      <td>0.0</td>\n      <td>0.0</td>\n      <td>0.0</td>\n    </tr>\n    <tr>\n      <th>b.REV.012.005</th>\n      <td>b.REV.012.005</td>\n      <td>REV</td>\n      <td>012</td>\n      <td>REV.012</td>\n      <td>apocalyptic</td>\n      <td>1679</td>\n      <td>797</td>\n      <td>882</td>\n      <td>0</td>\n      <td>0</td>\n      <td>...</td>\n      <td>0.0</td>\n      <td>0.0</td>\n      <td>0.0</td>\n      <td>0.0</td>\n      <td>0.0</td>\n      <td>0.0</td>\n      <td>0.0</td>\n      <td>0.0</td>\n      <td>0.0</td>\n      <td>0.0</td>\n    </tr>\n    <tr>\n      <th>b.REV.012.013</th>\n      <td>b.REV.012.013</td>\n      <td>REV</td>\n      <td>012</td>\n      <td>REV.012</td>\n      <td>apocalyptic</td>\n      <td>1210</td>\n      <td>459</td>\n      <td>751</td>\n      <td>0</td>\n      <td>0</td>\n      <td>...</td>\n      <td>0.0</td>\n      <td>0.0</td>\n      <td>0.0</td>\n      <td>0.0</td>\n      <td>0.0</td>\n      <td>0.0</td>\n      <td>0.0</td>\n      <td>0.0</td>\n      <td>0.0</td>\n      <td>0.0</td>\n    </tr>\n    <tr>\n      <th>b.REV.014.004</th>\n      <td>b.REV.014.004</td>\n      <td>REV</td>\n      <td>014</td>\n      <td>REV.014</td>\n      <td>apocalyptic</td>\n      <td>856</td>\n      <td>484</td>\n      <td>372</td>\n      <td>0</td>\n      <td>0</td>\n      <td>...</td>\n      <td>0.0</td>\n      <td>0.0</td>\n      <td>0.0</td>\n      <td>0.0</td>\n      <td>0.0</td>\n      <td>0.0</td>\n      <td>0.0</td>\n      <td>0.0</td>\n      <td>0.0</td>\n      <td>0.0</td>\n    </tr>\n  </tbody>\n</table>\n<p>161 rows × 4167 columns</p>\n</div>"
     },
     "metadata": {},
     "execution_count": 48
    }
   ],
   "source": [
    "verses_without_polarity_df"
   ]
  },
  {
   "cell_type": "code",
   "execution_count": 38,
   "metadata": {},
   "outputs": [
    {
     "output_type": "execute_result",
     "data": {
      "text/plain": [
       "['b.GEN.004.002',\n",
       " 'b.GEN.004.018',\n",
       " 'b.GEN.004.020',\n",
       " 'b.GEN.004.022',\n",
       " 'b.GEN.004.026',\n",
       " 'b.GEN.006.002',\n",
       " 'b.GEN.006.004',\n",
       " 'b.GEN.010.001',\n",
       " 'b.GEN.011.029',\n",
       " 'b.GEN.015.004',\n",
       " 'b.GEN.017.026',\n",
       " 'b.GEN.019.036',\n",
       " 'b.GEN.019.037',\n",
       " 'b.GEN.019.038',\n",
       " 'b.GEN.021.001',\n",
       " 'b.GEN.021.002',\n",
       " 'b.GEN.022.020',\n",
       " 'b.GEN.022.023',\n",
       " 'b.GEN.022.024',\n",
       " 'b.GEN.024.014',\n",
       " 'b.GEN.024.015',\n",
       " 'b.GEN.024.016',\n",
       " 'b.GEN.024.017',\n",
       " 'b.GEN.024.018',\n",
       " 'b.GEN.024.019',\n",
       " 'b.GEN.024.020',\n",
       " 'b.GEN.024.022',\n",
       " 'b.GEN.024.030',\n",
       " 'b.GEN.024.032',\n",
       " 'b.GEN.024.035',\n",
       " 'b.GEN.024.043',\n",
       " 'b.GEN.024.044',\n",
       " 'b.GEN.024.045',\n",
       " 'b.GEN.024.046',\n",
       " 'b.GEN.024.054',\n",
       " 'b.GEN.024.063',\n",
       " 'b.GEN.024.064',\n",
       " 'b.GEN.025.002',\n",
       " 'b.GEN.025.012',\n",
       " 'b.GEN.025.020',\n",
       " 'b.GEN.025.021',\n",
       " 'b.GEN.025.023',\n",
       " 'b.GEN.025.024',\n",
       " 'b.GEN.025.026',\n",
       " 'b.GEN.029.017',\n",
       " 'b.GEN.029.025',\n",
       " 'b.GEN.029.028',\n",
       " 'b.GEN.029.031',\n",
       " 'b.GEN.030.016',\n",
       " 'b.GEN.030.017',\n",
       " 'b.GEN.030.025',\n",
       " 'b.GEN.033.004',\n",
       " 'b.GEN.034.001',\n",
       " 'b.GEN.034.008',\n",
       " 'b.GEN.034.009',\n",
       " 'b.GEN.034.012',\n",
       " 'b.GEN.035.025',\n",
       " 'b.GEN.035.026',\n",
       " 'b.GEN.036.002',\n",
       " 'b.GEN.036.003',\n",
       " 'b.GEN.036.004',\n",
       " 'b.GEN.036.005',\n",
       " 'b.GEN.036.010',\n",
       " 'b.GEN.036.011',\n",
       " 'b.GEN.036.012',\n",
       " 'b.GEN.036.013',\n",
       " 'b.GEN.036.014',\n",
       " 'b.GEN.036.017',\n",
       " 'b.GEN.036.018',\n",
       " 'b.GEN.036.039',\n",
       " 'b.GEN.046.015',\n",
       " 'b.GEN.046.018',\n",
       " 'b.GEN.046.020',\n",
       " 'b.GEN.046.025',\n",
       " 'b.GEN.046.026',\n",
       " 'b.GEN.048.010',\n",
       " 'b.RUT.001.011',\n",
       " 'b.RUT.001.012',\n",
       " 'b.RUT.002.002',\n",
       " 'b.SON.002.001',\n",
       " 'b.SON.002.002',\n",
       " 'b.MAT.001.018',\n",
       " 'b.MAT.001.019',\n",
       " 'b.MAT.001.021',\n",
       " 'b.MAT.001.023',\n",
       " 'b.MAT.001.025',\n",
       " 'b.MAT.005.032',\n",
       " 'b.MAT.006.023',\n",
       " 'b.MAT.006.025',\n",
       " 'b.MAT.009.020',\n",
       " 'b.MAT.009.021',\n",
       " 'b.MAT.009.022',\n",
       " 'b.MAT.011.011',\n",
       " 'b.MAT.014.006',\n",
       " 'b.MAT.018.008',\n",
       " 'b.MAT.018.009',\n",
       " 'b.MAT.019.004',\n",
       " 'b.MAT.019.005',\n",
       " 'b.MAT.019.006',\n",
       " 'b.MAT.019.009',\n",
       " 'b.MAT.019.010',\n",
       " 'b.MAT.019.012',\n",
       " 'b.MAT.022.024',\n",
       " 'b.MAT.022.025',\n",
       " 'b.MAT.022.026',\n",
       " 'b.MAT.022.028',\n",
       " 'b.MAT.022.029',\n",
       " 'b.MAT.022.030',\n",
       " 'b.MAT.025.001',\n",
       " 'b.MAT.025.005',\n",
       " 'b.MAT.025.006',\n",
       " 'b.MAT.025.008',\n",
       " 'b.MAT.025.010',\n",
       " 'b.MAT.025.011',\n",
       " 'b.MAT.025.012',\n",
       " 'b.MAT.025.013',\n",
       " 'b.MAT.026.007',\n",
       " 'b.JOH.004.007',\n",
       " 'b.JOH.004.009',\n",
       " 'b.JOH.004.010',\n",
       " 'b.JOH.004.011',\n",
       " 'b.JOH.011.002',\n",
       " 'b.1CO.006.012',\n",
       " 'b.1CO.006.013',\n",
       " 'b.1CO.006.015',\n",
       " 'b.1CO.006.016',\n",
       " 'b.1CO.007.003',\n",
       " 'b.1CO.007.004',\n",
       " 'b.1CO.007.011',\n",
       " 'b.1CO.007.012',\n",
       " 'b.1CO.007.013',\n",
       " 'b.1CO.007.014',\n",
       " 'b.1CO.007.015',\n",
       " 'b.1CO.007.018',\n",
       " 'b.1CO.007.020',\n",
       " 'b.1CO.007.039',\n",
       " 'b.1CO.010.023',\n",
       " 'b.1CO.010.024',\n",
       " 'b.1CO.010.031',\n",
       " 'b.1CO.011.003',\n",
       " 'b.1CO.011.004',\n",
       " 'b.1CO.011.005',\n",
       " 'b.1CO.011.006',\n",
       " 'b.1CO.011.007',\n",
       " 'b.1CO.011.008',\n",
       " 'b.1CO.011.009',\n",
       " 'b.1CO.011.010',\n",
       " 'b.1CO.011.011',\n",
       " 'b.1CO.011.012',\n",
       " 'b.1CO.011.013',\n",
       " 'b.1CO.011.014',\n",
       " 'b.1CO.011.015',\n",
       " 'b.1CO.012.023',\n",
       " 'b.1CO.013.003',\n",
       " 'b.1CO.014.034',\n",
       " 'b.1CO.014.035',\n",
       " 'b.REV.002.022',\n",
       " 'b.REV.012.002',\n",
       " 'b.REV.012.005',\n",
       " 'b.REV.012.013',\n",
       " 'b.REV.014.004']"
      ]
     },
     "metadata": {},
     "execution_count": 38
    }
   ],
   "source": [
    "verses_without_polarity_df.index.tolist()"
   ]
  },
  {
   "cell_type": "code",
   "execution_count": 22,
   "metadata": {},
   "outputs": [],
   "source": [
    "xml_ids_lt = documento_root_bible.xpath('//tei:ab//@xml:id', namespaces = specific_namespaces, with_tail = True)\n"
   ]
  },
  {
   "cell_type": "code",
   "execution_count": 23,
   "metadata": {},
   "outputs": [
    {
     "output_type": "execute_result",
     "data": {
      "text/plain": [
       "['b.2CO.001.001',\n",
       " 'b.2CO.001.002',\n",
       " 'b.2CO.001.003',\n",
       " 'b.2CO.001.004',\n",
       " 'b.2CO.001.005',\n",
       " 'b.2CO.001.006',\n",
       " 'b.2CO.001.007',\n",
       " 'b.2CO.001.008',\n",
       " 'b.2CO.001.009',\n",
       " 'b.2CO.001.010']"
      ]
     },
     "metadata": {},
     "execution_count": 23
    }
   ],
   "source": [
    "xml_ids_lt[0:10]"
   ]
  },
  {
   "cell_type": "code",
   "execution_count": 36,
   "metadata": {},
   "outputs": [],
   "source": [
    "s = input()"
   ]
  },
  {
   "cell_type": "code",
   "execution_count": 37,
   "metadata": {},
   "outputs": [
    {
     "output_type": "execute_result",
     "data": {
      "text/plain": [
       "'a'"
      ]
     },
     "metadata": {},
     "execution_count": 37
    }
   ],
   "source": [
    "s"
   ]
  },
  {
   "cell_type": "code",
   "execution_count": 45,
   "metadata": {},
   "outputs": [
    {
     "output_type": "stream",
     "name": "stdout",
     "text": [
      "b.GEN.004.002\n",
      "b.GEN.004.018\n"
     ]
    },
    {
     "output_type": "error",
     "ename": "KeyboardInterrupt",
     "evalue": "",
     "traceback": [
      "\u001b[1;31m---------------------------------------------------------------------------\u001b[0m",
      "\u001b[1;31mKeyboardInterrupt\u001b[0m                         Traceback (most recent call last)",
      "\u001b[1;32m~\\Anaconda3\\lib\\site-packages\\ipykernel\\kernelbase.py\u001b[0m in \u001b[0;36m_input_request\u001b[1;34m(self, prompt, ident, parent, password)\u001b[0m\n\u001b[0;32m    883\u001b[0m             \u001b[1;32mtry\u001b[0m\u001b[1;33m:\u001b[0m\u001b[1;33m\u001b[0m\u001b[1;33m\u001b[0m\u001b[0m\n\u001b[1;32m--> 884\u001b[1;33m                 \u001b[0mident\u001b[0m\u001b[1;33m,\u001b[0m \u001b[0mreply\u001b[0m \u001b[1;33m=\u001b[0m \u001b[0mself\u001b[0m\u001b[1;33m.\u001b[0m\u001b[0msession\u001b[0m\u001b[1;33m.\u001b[0m\u001b[0mrecv\u001b[0m\u001b[1;33m(\u001b[0m\u001b[0mself\u001b[0m\u001b[1;33m.\u001b[0m\u001b[0mstdin_socket\u001b[0m\u001b[1;33m,\u001b[0m \u001b[1;36m0\u001b[0m\u001b[1;33m)\u001b[0m\u001b[1;33m\u001b[0m\u001b[1;33m\u001b[0m\u001b[0m\n\u001b[0m\u001b[0;32m    885\u001b[0m             \u001b[1;32mexcept\u001b[0m \u001b[0mException\u001b[0m\u001b[1;33m:\u001b[0m\u001b[1;33m\u001b[0m\u001b[1;33m\u001b[0m\u001b[0m\n",
      "\u001b[1;32m~\\Anaconda3\\lib\\site-packages\\jupyter_client\\session.py\u001b[0m in \u001b[0;36mrecv\u001b[1;34m(self, socket, mode, content, copy)\u001b[0m\n\u001b[0;32m    802\u001b[0m         \u001b[1;32mtry\u001b[0m\u001b[1;33m:\u001b[0m\u001b[1;33m\u001b[0m\u001b[1;33m\u001b[0m\u001b[0m\n\u001b[1;32m--> 803\u001b[1;33m             \u001b[0mmsg_list\u001b[0m \u001b[1;33m=\u001b[0m \u001b[0msocket\u001b[0m\u001b[1;33m.\u001b[0m\u001b[0mrecv_multipart\u001b[0m\u001b[1;33m(\u001b[0m\u001b[0mmode\u001b[0m\u001b[1;33m,\u001b[0m \u001b[0mcopy\u001b[0m\u001b[1;33m=\u001b[0m\u001b[0mcopy\u001b[0m\u001b[1;33m)\u001b[0m\u001b[1;33m\u001b[0m\u001b[1;33m\u001b[0m\u001b[0m\n\u001b[0m\u001b[0;32m    804\u001b[0m         \u001b[1;32mexcept\u001b[0m \u001b[0mzmq\u001b[0m\u001b[1;33m.\u001b[0m\u001b[0mZMQError\u001b[0m \u001b[1;32mas\u001b[0m \u001b[0me\u001b[0m\u001b[1;33m:\u001b[0m\u001b[1;33m\u001b[0m\u001b[1;33m\u001b[0m\u001b[0m\n",
      "\u001b[1;32m~\\Anaconda3\\lib\\site-packages\\zmq\\sugar\\socket.py\u001b[0m in \u001b[0;36mrecv_multipart\u001b[1;34m(self, flags, copy, track)\u001b[0m\n\u001b[0;32m    474\u001b[0m         \"\"\"\n\u001b[1;32m--> 475\u001b[1;33m         \u001b[0mparts\u001b[0m \u001b[1;33m=\u001b[0m \u001b[1;33m[\u001b[0m\u001b[0mself\u001b[0m\u001b[1;33m.\u001b[0m\u001b[0mrecv\u001b[0m\u001b[1;33m(\u001b[0m\u001b[0mflags\u001b[0m\u001b[1;33m,\u001b[0m \u001b[0mcopy\u001b[0m\u001b[1;33m=\u001b[0m\u001b[0mcopy\u001b[0m\u001b[1;33m,\u001b[0m \u001b[0mtrack\u001b[0m\u001b[1;33m=\u001b[0m\u001b[0mtrack\u001b[0m\u001b[1;33m)\u001b[0m\u001b[1;33m]\u001b[0m\u001b[1;33m\u001b[0m\u001b[1;33m\u001b[0m\u001b[0m\n\u001b[0m\u001b[0;32m    476\u001b[0m         \u001b[1;31m# have first part already, only loop while more to receive\u001b[0m\u001b[1;33m\u001b[0m\u001b[1;33m\u001b[0m\u001b[1;33m\u001b[0m\u001b[0m\n",
      "\u001b[1;32mzmq/backend/cython/socket.pyx\u001b[0m in \u001b[0;36mzmq.backend.cython.socket.Socket.recv\u001b[1;34m()\u001b[0m\n",
      "\u001b[1;32mzmq/backend/cython/socket.pyx\u001b[0m in \u001b[0;36mzmq.backend.cython.socket.Socket.recv\u001b[1;34m()\u001b[0m\n",
      "\u001b[1;32mzmq/backend/cython/socket.pyx\u001b[0m in \u001b[0;36mzmq.backend.cython.socket._recv_copy\u001b[1;34m()\u001b[0m\n",
      "\u001b[1;32m~\\Anaconda3\\lib\\site-packages\\zmq\\backend\\cython\\checkrc.pxd\u001b[0m in \u001b[0;36mzmq.backend.cython.checkrc._check_rc\u001b[1;34m()\u001b[0m\n",
      "\u001b[1;31mKeyboardInterrupt\u001b[0m: ",
      "\nDuring handling of the above exception, another exception occurred:\n",
      "\u001b[1;31mKeyboardInterrupt\u001b[0m                         Traceback (most recent call last)",
      "\u001b[1;32m<ipython-input-45-1c16e27098b9>\u001b[0m in \u001b[0;36m<module>\u001b[1;34m\u001b[0m\n\u001b[0;32m      5\u001b[0m     \u001b[0mprint\u001b[0m\u001b[1;33m(\u001b[0m\u001b[0mverse_id\u001b[0m\u001b[1;33m)\u001b[0m\u001b[1;33m\u001b[0m\u001b[1;33m\u001b[0m\u001b[0m\n\u001b[0;32m      6\u001b[0m     \u001b[0mverse_text\u001b[0m \u001b[1;33m=\u001b[0m \u001b[1;34m\"\"\u001b[0m\u001b[1;33m.\u001b[0m\u001b[0mjoin\u001b[0m\u001b[1;33m(\u001b[0m\u001b[0mdocumento_root_bible\u001b[0m\u001b[1;33m.\u001b[0m\u001b[0mxpath\u001b[0m\u001b[1;33m(\u001b[0m\u001b[1;34m'//tei:ab[@xml:id = \"'\u001b[0m \u001b[1;33m+\u001b[0m \u001b[0mverse_id\u001b[0m\u001b[1;33m+\u001b[0m \u001b[1;34m'\"]//text()'\u001b[0m\u001b[1;33m,\u001b[0m \u001b[0mnamespaces\u001b[0m \u001b[1;33m=\u001b[0m \u001b[0mspecific_namespaces\u001b[0m\u001b[1;33m,\u001b[0m \u001b[0mwith_tail\u001b[0m \u001b[1;33m=\u001b[0m \u001b[1;32mTrue\u001b[0m\u001b[1;33m)\u001b[0m\u001b[1;33m)\u001b[0m\u001b[1;33m\u001b[0m\u001b[1;33m\u001b[0m\u001b[0m\n\u001b[1;32m----> 7\u001b[1;33m     \u001b[0mannotation\u001b[0m \u001b[1;33m=\u001b[0m \u001b[0minput\u001b[0m\u001b[1;33m(\u001b[0m\u001b[0mverse_id\u001b[0m \u001b[1;33m+\u001b[0m \u001b[0mverse_text\u001b[0m\u001b[1;33m)\u001b[0m\u001b[1;33m\u001b[0m\u001b[1;33m\u001b[0m\u001b[0m\n\u001b[0m\u001b[0;32m      8\u001b[0m     \u001b[1;32mif\u001b[0m \u001b[0mannotation\u001b[0m \u001b[1;33m!=\u001b[0m \u001b[1;34m\"\"\u001b[0m\u001b[1;33m:\u001b[0m\u001b[1;33m\u001b[0m\u001b[1;33m\u001b[0m\u001b[0m\n\u001b[0;32m      9\u001b[0m         \u001b[0mcomplete_str\u001b[0m \u001b[1;33m+=\u001b[0m \u001b[1;34m'<spanGrp type=\"theme\" inst=\"#'\u001b[0m \u001b[1;33m+\u001b[0m \u001b[0mverse_id\u001b[0m \u001b[1;33m+\u001b[0m \u001b[1;34m'>\\n<span ana=\"'\u001b[0m \u001b[1;33m+\u001b[0m \u001b[0mannotation\u001b[0m \u001b[1;33m+\u001b[0m \u001b[1;34m'-aspect\">\\n<certainty match=\"@ana\" locus=\"value\" cert=\"high\" given=\"text\"/>\\n</span>\\n</spanGrp>'\u001b[0m\u001b[1;33m\u001b[0m\u001b[1;33m\u001b[0m\u001b[0m\n",
      "\u001b[1;32m~\\Anaconda3\\lib\\site-packages\\ipykernel\\kernelbase.py\u001b[0m in \u001b[0;36mraw_input\u001b[1;34m(self, prompt)\u001b[0m\n\u001b[0;32m    857\u001b[0m             \u001b[0mself\u001b[0m\u001b[1;33m.\u001b[0m\u001b[0m_parent_ident\u001b[0m\u001b[1;33m,\u001b[0m\u001b[1;33m\u001b[0m\u001b[1;33m\u001b[0m\u001b[0m\n\u001b[0;32m    858\u001b[0m             \u001b[0mself\u001b[0m\u001b[1;33m.\u001b[0m\u001b[0m_parent_header\u001b[0m\u001b[1;33m,\u001b[0m\u001b[1;33m\u001b[0m\u001b[1;33m\u001b[0m\u001b[0m\n\u001b[1;32m--> 859\u001b[1;33m             \u001b[0mpassword\u001b[0m\u001b[1;33m=\u001b[0m\u001b[1;32mFalse\u001b[0m\u001b[1;33m,\u001b[0m\u001b[1;33m\u001b[0m\u001b[1;33m\u001b[0m\u001b[0m\n\u001b[0m\u001b[0;32m    860\u001b[0m         )\n\u001b[0;32m    861\u001b[0m \u001b[1;33m\u001b[0m\u001b[0m\n",
      "\u001b[1;32m~\\Anaconda3\\lib\\site-packages\\ipykernel\\kernelbase.py\u001b[0m in \u001b[0;36m_input_request\u001b[1;34m(self, prompt, ident, parent, password)\u001b[0m\n\u001b[0;32m    887\u001b[0m             \u001b[1;32mexcept\u001b[0m \u001b[0mKeyboardInterrupt\u001b[0m\u001b[1;33m:\u001b[0m\u001b[1;33m\u001b[0m\u001b[1;33m\u001b[0m\u001b[0m\n\u001b[0;32m    888\u001b[0m                 \u001b[1;31m# re-raise KeyboardInterrupt, to truncate traceback\u001b[0m\u001b[1;33m\u001b[0m\u001b[1;33m\u001b[0m\u001b[1;33m\u001b[0m\u001b[0m\n\u001b[1;32m--> 889\u001b[1;33m                 \u001b[1;32mraise\u001b[0m \u001b[0mKeyboardInterrupt\u001b[0m\u001b[1;33m\u001b[0m\u001b[1;33m\u001b[0m\u001b[0m\n\u001b[0m\u001b[0;32m    890\u001b[0m             \u001b[1;32melse\u001b[0m\u001b[1;33m:\u001b[0m\u001b[1;33m\u001b[0m\u001b[1;33m\u001b[0m\u001b[0m\n\u001b[0;32m    891\u001b[0m                 \u001b[1;32mbreak\u001b[0m\u001b[1;33m\u001b[0m\u001b[1;33m\u001b[0m\u001b[0m\n",
      "\u001b[1;31mKeyboardInterrupt\u001b[0m: "
     ]
    }
   ],
   "source": [
    "complete_str = \"\"\n",
    "\n",
    "for verse_id in verses_without_polarity_df.index:\n",
    "\n",
    "    print(verse_id)\n",
    "    verse_text = \"\".join(documento_root_bible.xpath('//tei:ab[@xml:id = \"' + verse_id+ '\"]//text()', namespaces = specific_namespaces, with_tail = True))\n",
    "    annotation = input(verse_id + verse_text)\n",
    "    if annotation != \"\":\n",
    "        complete_str += '<spanGrp type=\"theme\" inst=\"#' + verse_id + '>\\n<span ana=\"' + annotation + '-aspect\">\\n<certainty match=\"@ana\" locus=\"value\" cert=\"high\" given=\"text\"/>\\n</span>\\n</spanGrp>'"
   ]
  },
  {
   "cell_type": "code",
   "execution_count": 42,
   "metadata": {},
   "outputs": [
    {
     "output_type": "execute_result",
     "data": {
      "text/plain": [
       "'<spanGrp type=\"theme\" inst=\"#b.GEN.004.002>\\n        \\t<span ana=\" positive-aspect\">\\n\\t\\t        <certainty match=\"@ana\" locus=\"value\" cert=\"high\" given=\"text\"/>\\n        \\t</span>\\n        </spanGrp>\\n        <spanGrp type=\"theme\" inst=\"#b.GEN.004.018>\\n        \\t<span ana=\" neutral-aspect\">\\n\\t\\t        <certainty match=\"@ana\" locus=\"value\" cert=\"high\" given=\"text\"/>\\n        \\t</span>\\n        </spanGrp>\\n        '"
      ]
     },
     "metadata": {},
     "execution_count": 42
    }
   ],
   "source": [
    "complete_str"
   ]
  },
  {
   "cell_type": "code",
   "execution_count": null,
   "metadata": {},
   "outputs": [],
   "source": [
    "xml_ids_lt"
   ]
  },
  {
   "cell_type": "code",
   "execution_count": 38,
   "metadata": {},
   "outputs": [],
   "source": [
    "    print()"
   ]
  },
  {
   "cell_type": "code",
   "execution_count": null,
   "metadata": {},
   "outputs": [],
   "source": []
  }
 ],
 "metadata": {
  "kernelspec": {
   "name": "python3",
   "display_name": "Python 3",
   "language": "python"
  },
  "language_info": {
   "codemirror_mode": {
    "name": "ipython",
    "version": 3
   },
   "file_extension": ".py",
   "mimetype": "text/x-python",
   "name": "python",
   "nbconvert_exporter": "python",
   "pygments_lexer": "ipython3",
   "version": "3.7.6-final"
  }
 },
 "nbformat": 4,
 "nbformat_minor": 2
}