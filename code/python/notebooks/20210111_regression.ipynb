{
 "cells": [
  {
   "cell_type": "code",
   "execution_count": 1,
   "metadata": {},
   "outputs": [],
   "source": [
    "from lxml import etree\n",
    "import pandas as pd\n",
    "from collections import Counter\n",
    "import os\n",
    "import glob\n",
    "import re\n",
    "import matplotlib.pyplot as plt\n",
    "import numpy as np\n",
    "from collections import Counter\n",
    "from numpy import array\n",
    "import numpy as np\n",
    "import matplotlib.pyplot as plt\n",
    "%matplotlib inline\n",
    "\n",
    "\n",
    "wdir = \"../../../sexual-annotation/\"\n",
    "file_bible = \"TEIBible\" # \"*.xml\"\n",
    "file_taxonomy = \"taxonomy\"\n",
    "outdir = \"../../../resulting data/\"\n"
   ]
  },
  {
   "cell_type": "code",
   "execution_count": 2,
   "metadata": {},
   "outputs": [],
   "source": [
    "sys.path.append(os.path.abspath(\"./../../../../../MTB/Göttingen/research/\"))\n"
   ]
  },
  {
   "cell_type": "code",
   "execution_count": 3,
   "metadata": {},
   "outputs": [],
   "source": [
    "from librarian_robot import transform_data"
   ]
  },
  {
   "cell_type": "code",
   "execution_count": null,
   "metadata": {},
   "outputs": [],
   "source": []
  },
  {
   "cell_type": "code",
   "execution_count": 6,
   "metadata": {},
   "outputs": [],
   "source": [
    "binary_tokens_df = pd.read_parquet(\"./../../../resulting data/tokens_reinaValera95_binary.parquet\")\n"
   ]
  },
  {
   "cell_type": "code",
   "execution_count": 8,
   "metadata": {},
   "outputs": [],
   "source": [
    "binary_tokens_df = transformed_tokens_df"
   ]
  },
  {
   "cell_type": "code",
   "execution_count": 9,
   "metadata": {},
   "outputs": [
    {
     "output_type": "execute_result",
     "data": {
      "text/plain": [
       "                  !  \"  '  (  )  ,  -  .  000  ...  últimos  únase  úngelo  \\\n",
       "verse_id                                       ...                           \n",
       "b.GEN.001.001  1  0  0  0  0  0  0  0  1    0  ...        0      0       0   \n",
       "b.GEN.001.002  1  0  0  0  0  0  1  0  1    0  ...        0      0       0   \n",
       "b.GEN.001.003  1  0  0  0  0  0  0  0  1    0  ...        0      0       0   \n",
       "b.GEN.001.004  1  0  0  0  0  0  1  0  1    0  ...        0      0       0   \n",
       "b.GEN.001.005  1  0  0  0  0  0  1  0  1    0  ...        0      0       0   \n",
       "...           .. .. .. .. .. .. .. .. ..  ...  ...      ...    ...     ...   \n",
       "b.REV.022.017  1  1  0  0  0  0  1  0  1    0  ...        0      0       0   \n",
       "b.REV.022.018  1  0  0  0  0  0  1  0  1    0  ...        0      0       0   \n",
       "b.REV.022.019  1  0  0  0  0  0  1  0  1    0  ...        0      0       0   \n",
       "b.REV.022.020  1  1  0  0  0  0  1  0  1    0  ...        0      0       0   \n",
       "b.REV.022.021  1  0  0  0  0  0  0  0  1    0  ...        0      0       0   \n",
       "\n",
       "               única  únicamente  único  únicos  úselo  útil  útiles  \n",
       "verse_id                                                              \n",
       "b.GEN.001.001      0           0      0       0      0     0       0  \n",
       "b.GEN.001.002      0           0      0       0      0     0       0  \n",
       "b.GEN.001.003      0           0      0       0      0     0       0  \n",
       "b.GEN.001.004      0           0      0       0      0     0       0  \n",
       "b.GEN.001.005      0           0      0       0      0     0       0  \n",
       "...              ...         ...    ...     ...    ...   ...     ...  \n",
       "b.REV.022.017      0           0      0       0      0     0       0  \n",
       "b.REV.022.018      0           0      0       0      0     0       0  \n",
       "b.REV.022.019      0           0      0       0      0     0       0  \n",
       "b.REV.022.020      0           0      0       0      0     0       0  \n",
       "b.REV.022.021      0           0      0       0      0     0       0  \n",
       "\n",
       "[31065 rows x 29213 columns]"
      ],
      "text/html": "<div>\n<style scoped>\n    .dataframe tbody tr th:only-of-type {\n        vertical-align: middle;\n    }\n\n    .dataframe tbody tr th {\n        vertical-align: top;\n    }\n\n    .dataframe thead th {\n        text-align: right;\n    }\n</style>\n<table border=\"1\" class=\"dataframe\">\n  <thead>\n    <tr style=\"text-align: right;\">\n      <th></th>\n      <th></th>\n      <th>!</th>\n      <th>\"</th>\n      <th>'</th>\n      <th>(</th>\n      <th>)</th>\n      <th>,</th>\n      <th>-</th>\n      <th>.</th>\n      <th>000</th>\n      <th>...</th>\n      <th>últimos</th>\n      <th>únase</th>\n      <th>úngelo</th>\n      <th>única</th>\n      <th>únicamente</th>\n      <th>único</th>\n      <th>únicos</th>\n      <th>úselo</th>\n      <th>útil</th>\n      <th>útiles</th>\n    </tr>\n    <tr>\n      <th>verse_id</th>\n      <th></th>\n      <th></th>\n      <th></th>\n      <th></th>\n      <th></th>\n      <th></th>\n      <th></th>\n      <th></th>\n      <th></th>\n      <th></th>\n      <th></th>\n      <th></th>\n      <th></th>\n      <th></th>\n      <th></th>\n      <th></th>\n      <th></th>\n      <th></th>\n      <th></th>\n      <th></th>\n      <th></th>\n    </tr>\n  </thead>\n  <tbody>\n    <tr>\n      <th>b.GEN.001.001</th>\n      <td>1</td>\n      <td>0</td>\n      <td>0</td>\n      <td>0</td>\n      <td>0</td>\n      <td>0</td>\n      <td>0</td>\n      <td>0</td>\n      <td>1</td>\n      <td>0</td>\n      <td>...</td>\n      <td>0</td>\n      <td>0</td>\n      <td>0</td>\n      <td>0</td>\n      <td>0</td>\n      <td>0</td>\n      <td>0</td>\n      <td>0</td>\n      <td>0</td>\n      <td>0</td>\n    </tr>\n    <tr>\n      <th>b.GEN.001.002</th>\n      <td>1</td>\n      <td>0</td>\n      <td>0</td>\n      <td>0</td>\n      <td>0</td>\n      <td>0</td>\n      <td>1</td>\n      <td>0</td>\n      <td>1</td>\n      <td>0</td>\n      <td>...</td>\n      <td>0</td>\n      <td>0</td>\n      <td>0</td>\n      <td>0</td>\n      <td>0</td>\n      <td>0</td>\n      <td>0</td>\n      <td>0</td>\n      <td>0</td>\n      <td>0</td>\n    </tr>\n    <tr>\n      <th>b.GEN.001.003</th>\n      <td>1</td>\n      <td>0</td>\n      <td>0</td>\n      <td>0</td>\n      <td>0</td>\n      <td>0</td>\n      <td>0</td>\n      <td>0</td>\n      <td>1</td>\n      <td>0</td>\n      <td>...</td>\n      <td>0</td>\n      <td>0</td>\n      <td>0</td>\n      <td>0</td>\n      <td>0</td>\n      <td>0</td>\n      <td>0</td>\n      <td>0</td>\n      <td>0</td>\n      <td>0</td>\n    </tr>\n    <tr>\n      <th>b.GEN.001.004</th>\n      <td>1</td>\n      <td>0</td>\n      <td>0</td>\n      <td>0</td>\n      <td>0</td>\n      <td>0</td>\n      <td>1</td>\n      <td>0</td>\n      <td>1</td>\n      <td>0</td>\n      <td>...</td>\n      <td>0</td>\n      <td>0</td>\n      <td>0</td>\n      <td>0</td>\n      <td>0</td>\n      <td>0</td>\n      <td>0</td>\n      <td>0</td>\n      <td>0</td>\n      <td>0</td>\n    </tr>\n    <tr>\n      <th>b.GEN.001.005</th>\n      <td>1</td>\n      <td>0</td>\n      <td>0</td>\n      <td>0</td>\n      <td>0</td>\n      <td>0</td>\n      <td>1</td>\n      <td>0</td>\n      <td>1</td>\n      <td>0</td>\n      <td>...</td>\n      <td>0</td>\n      <td>0</td>\n      <td>0</td>\n      <td>0</td>\n      <td>0</td>\n      <td>0</td>\n      <td>0</td>\n      <td>0</td>\n      <td>0</td>\n      <td>0</td>\n    </tr>\n    <tr>\n      <th>...</th>\n      <td>...</td>\n      <td>...</td>\n      <td>...</td>\n      <td>...</td>\n      <td>...</td>\n      <td>...</td>\n      <td>...</td>\n      <td>...</td>\n      <td>...</td>\n      <td>...</td>\n      <td>...</td>\n      <td>...</td>\n      <td>...</td>\n      <td>...</td>\n      <td>...</td>\n      <td>...</td>\n      <td>...</td>\n      <td>...</td>\n      <td>...</td>\n      <td>...</td>\n      <td>...</td>\n    </tr>\n    <tr>\n      <th>b.REV.022.017</th>\n      <td>1</td>\n      <td>1</td>\n      <td>0</td>\n      <td>0</td>\n      <td>0</td>\n      <td>0</td>\n      <td>1</td>\n      <td>0</td>\n      <td>1</td>\n      <td>0</td>\n      <td>...</td>\n      <td>0</td>\n      <td>0</td>\n      <td>0</td>\n      <td>0</td>\n      <td>0</td>\n      <td>0</td>\n      <td>0</td>\n      <td>0</td>\n      <td>0</td>\n      <td>0</td>\n    </tr>\n    <tr>\n      <th>b.REV.022.018</th>\n      <td>1</td>\n      <td>0</td>\n      <td>0</td>\n      <td>0</td>\n      <td>0</td>\n      <td>0</td>\n      <td>1</td>\n      <td>0</td>\n      <td>1</td>\n      <td>0</td>\n      <td>...</td>\n      <td>0</td>\n      <td>0</td>\n      <td>0</td>\n      <td>0</td>\n      <td>0</td>\n      <td>0</td>\n      <td>0</td>\n      <td>0</td>\n      <td>0</td>\n      <td>0</td>\n    </tr>\n    <tr>\n      <th>b.REV.022.019</th>\n      <td>1</td>\n      <td>0</td>\n      <td>0</td>\n      <td>0</td>\n      <td>0</td>\n      <td>0</td>\n      <td>1</td>\n      <td>0</td>\n      <td>1</td>\n      <td>0</td>\n      <td>...</td>\n      <td>0</td>\n      <td>0</td>\n      <td>0</td>\n      <td>0</td>\n      <td>0</td>\n      <td>0</td>\n      <td>0</td>\n      <td>0</td>\n      <td>0</td>\n      <td>0</td>\n    </tr>\n    <tr>\n      <th>b.REV.022.020</th>\n      <td>1</td>\n      <td>1</td>\n      <td>0</td>\n      <td>0</td>\n      <td>0</td>\n      <td>0</td>\n      <td>1</td>\n      <td>0</td>\n      <td>1</td>\n      <td>0</td>\n      <td>...</td>\n      <td>0</td>\n      <td>0</td>\n      <td>0</td>\n      <td>0</td>\n      <td>0</td>\n      <td>0</td>\n      <td>0</td>\n      <td>0</td>\n      <td>0</td>\n      <td>0</td>\n    </tr>\n    <tr>\n      <th>b.REV.022.021</th>\n      <td>1</td>\n      <td>0</td>\n      <td>0</td>\n      <td>0</td>\n      <td>0</td>\n      <td>0</td>\n      <td>0</td>\n      <td>0</td>\n      <td>1</td>\n      <td>0</td>\n      <td>...</td>\n      <td>0</td>\n      <td>0</td>\n      <td>0</td>\n      <td>0</td>\n      <td>0</td>\n      <td>0</td>\n      <td>0</td>\n      <td>0</td>\n      <td>0</td>\n      <td>0</td>\n    </tr>\n  </tbody>\n</table>\n<p>31065 rows × 29213 columns</p>\n</div>"
     },
     "metadata": {},
     "execution_count": 9
    }
   ],
   "source": [
    "binary_tokens_df"
   ]
  },
  {
   "cell_type": "code",
   "execution_count": 24,
   "metadata": {},
   "outputs": [
    {
     "output_type": "execute_result",
     "data": {
      "text/plain": [
       "útiles             1\n",
       "bola               1\n",
       "bolas              1\n",
       "maravillaos        1\n",
       "bolsita            1\n",
       "               ...  \n",
       "y              19458\n",
       "de             20779\n",
       ".              24865\n",
       ",              25894\n",
       "               31065\n",
       "Length: 29213, dtype: int64"
      ]
     },
     "metadata": {},
     "execution_count": 24
    }
   ],
   "source": [
    "binary_tokens_df.sum().sort_values().index"
   ]
  },
  {
   "cell_type": "code",
   "execution_count": 27,
   "metadata": {},
   "outputs": [],
   "source": [
    "binary_tokens_df = binary_tokens_df[binary_tokens_df.sum().sort_values(ascending=False).index]"
   ]
  },
  {
   "cell_type": "code",
   "execution_count": 29,
   "metadata": {},
   "outputs": [
    {
     "output_type": "execute_result",
     "data": {
      "text/plain": [
       "                  ,  .  de  y  que  a  la  el  los  ...  bondadosamente  \\\n",
       "verse_id                                            ...                   \n",
       "b.GEN.001.001  1  0  1   0  1    0  0   1   1    1  ...               0   \n",
       "b.GEN.001.002  1  1  1   1  1    0  0   1   1    0  ...               0   \n",
       "b.GEN.001.003  1  0  1   0  0    0  0   1   0    0  ...               0   \n",
       "b.GEN.001.004  1  1  1   1  1    1  0   1   0    0  ...               0   \n",
       "b.GEN.001.005  1  1  1   0  1    0  1   1   0    0  ...               0   \n",
       "...           .. .. ..  .. ..  ... ..  ..  ..  ...  ...             ...   \n",
       "b.REV.022.017  1  1  1   1  1    1  0   1   1    0  ...               0   \n",
       "b.REV.022.018  1  1  1   1  0    1  1   1   0    0  ...               0   \n",
       "b.REV.022.019  1  1  1   1  1    1  0   1   0    0  ...               0   \n",
       "b.REV.022.020  1  1  1   1  0    1  0   0   0    0  ...               0   \n",
       "b.REV.022.021  1  0  1   1  0    0  0   0   0    0  ...               0   \n",
       "\n",
       "               bondadosa  maravilladas  bonanza  bolsitas  bolsita  \\\n",
       "verse_id                                                             \n",
       "b.GEN.001.001          0             0        0         0        0   \n",
       "b.GEN.001.002          0             0        0         0        0   \n",
       "b.GEN.001.003          0             0        0         0        0   \n",
       "b.GEN.001.004          0             0        0         0        0   \n",
       "b.GEN.001.005          0             0        0         0        0   \n",
       "...                  ...           ...      ...       ...      ...   \n",
       "b.REV.022.017          0             0        0         0        0   \n",
       "b.REV.022.018          0             0        0         0        0   \n",
       "b.REV.022.019          0             0        0         0        0   \n",
       "b.REV.022.020          0             0        0         0        0   \n",
       "b.REV.022.021          0             0        0         0        0   \n",
       "\n",
       "               maravillaos  bolas  bola  útiles  \n",
       "verse_id                                         \n",
       "b.GEN.001.001            0      0     0       0  \n",
       "b.GEN.001.002            0      0     0       0  \n",
       "b.GEN.001.003            0      0     0       0  \n",
       "b.GEN.001.004            0      0     0       0  \n",
       "b.GEN.001.005            0      0     0       0  \n",
       "...                    ...    ...   ...     ...  \n",
       "b.REV.022.017            0      0     0       0  \n",
       "b.REV.022.018            0      0     0       0  \n",
       "b.REV.022.019            0      0     0       0  \n",
       "b.REV.022.020            0      0     0       0  \n",
       "b.REV.022.021            0      0     0       0  \n",
       "\n",
       "[31065 rows x 29213 columns]"
      ],
      "text/html": "<div>\n<style scoped>\n    .dataframe tbody tr th:only-of-type {\n        vertical-align: middle;\n    }\n\n    .dataframe tbody tr th {\n        vertical-align: top;\n    }\n\n    .dataframe thead th {\n        text-align: right;\n    }\n</style>\n<table border=\"1\" class=\"dataframe\">\n  <thead>\n    <tr style=\"text-align: right;\">\n      <th></th>\n      <th></th>\n      <th>,</th>\n      <th>.</th>\n      <th>de</th>\n      <th>y</th>\n      <th>que</th>\n      <th>a</th>\n      <th>la</th>\n      <th>el</th>\n      <th>los</th>\n      <th>...</th>\n      <th>bondadosamente</th>\n      <th>bondadosa</th>\n      <th>maravilladas</th>\n      <th>bonanza</th>\n      <th>bolsitas</th>\n      <th>bolsita</th>\n      <th>maravillaos</th>\n      <th>bolas</th>\n      <th>bola</th>\n      <th>útiles</th>\n    </tr>\n    <tr>\n      <th>verse_id</th>\n      <th></th>\n      <th></th>\n      <th></th>\n      <th></th>\n      <th></th>\n      <th></th>\n      <th></th>\n      <th></th>\n      <th></th>\n      <th></th>\n      <th></th>\n      <th></th>\n      <th></th>\n      <th></th>\n      <th></th>\n      <th></th>\n      <th></th>\n      <th></th>\n      <th></th>\n      <th></th>\n      <th></th>\n    </tr>\n  </thead>\n  <tbody>\n    <tr>\n      <th>b.GEN.001.001</th>\n      <td>1</td>\n      <td>0</td>\n      <td>1</td>\n      <td>0</td>\n      <td>1</td>\n      <td>0</td>\n      <td>0</td>\n      <td>1</td>\n      <td>1</td>\n      <td>1</td>\n      <td>...</td>\n      <td>0</td>\n      <td>0</td>\n      <td>0</td>\n      <td>0</td>\n      <td>0</td>\n      <td>0</td>\n      <td>0</td>\n      <td>0</td>\n      <td>0</td>\n      <td>0</td>\n    </tr>\n    <tr>\n      <th>b.GEN.001.002</th>\n      <td>1</td>\n      <td>1</td>\n      <td>1</td>\n      <td>1</td>\n      <td>1</td>\n      <td>0</td>\n      <td>0</td>\n      <td>1</td>\n      <td>1</td>\n      <td>0</td>\n      <td>...</td>\n      <td>0</td>\n      <td>0</td>\n      <td>0</td>\n      <td>0</td>\n      <td>0</td>\n      <td>0</td>\n      <td>0</td>\n      <td>0</td>\n      <td>0</td>\n      <td>0</td>\n    </tr>\n    <tr>\n      <th>b.GEN.001.003</th>\n      <td>1</td>\n      <td>0</td>\n      <td>1</td>\n      <td>0</td>\n      <td>0</td>\n      <td>0</td>\n      <td>0</td>\n      <td>1</td>\n      <td>0</td>\n      <td>0</td>\n      <td>...</td>\n      <td>0</td>\n      <td>0</td>\n      <td>0</td>\n      <td>0</td>\n      <td>0</td>\n      <td>0</td>\n      <td>0</td>\n      <td>0</td>\n      <td>0</td>\n      <td>0</td>\n    </tr>\n    <tr>\n      <th>b.GEN.001.004</th>\n      <td>1</td>\n      <td>1</td>\n      <td>1</td>\n      <td>1</td>\n      <td>1</td>\n      <td>1</td>\n      <td>0</td>\n      <td>1</td>\n      <td>0</td>\n      <td>0</td>\n      <td>...</td>\n      <td>0</td>\n      <td>0</td>\n      <td>0</td>\n      <td>0</td>\n      <td>0</td>\n      <td>0</td>\n      <td>0</td>\n      <td>0</td>\n      <td>0</td>\n      <td>0</td>\n    </tr>\n    <tr>\n      <th>b.GEN.001.005</th>\n      <td>1</td>\n      <td>1</td>\n      <td>1</td>\n      <td>0</td>\n      <td>1</td>\n      <td>0</td>\n      <td>1</td>\n      <td>1</td>\n      <td>0</td>\n      <td>0</td>\n      <td>...</td>\n      <td>0</td>\n      <td>0</td>\n      <td>0</td>\n      <td>0</td>\n      <td>0</td>\n      <td>0</td>\n      <td>0</td>\n      <td>0</td>\n      <td>0</td>\n      <td>0</td>\n    </tr>\n    <tr>\n      <th>...</th>\n      <td>...</td>\n      <td>...</td>\n      <td>...</td>\n      <td>...</td>\n      <td>...</td>\n      <td>...</td>\n      <td>...</td>\n      <td>...</td>\n      <td>...</td>\n      <td>...</td>\n      <td>...</td>\n      <td>...</td>\n      <td>...</td>\n      <td>...</td>\n      <td>...</td>\n      <td>...</td>\n      <td>...</td>\n      <td>...</td>\n      <td>...</td>\n      <td>...</td>\n      <td>...</td>\n    </tr>\n    <tr>\n      <th>b.REV.022.017</th>\n      <td>1</td>\n      <td>1</td>\n      <td>1</td>\n      <td>1</td>\n      <td>1</td>\n      <td>1</td>\n      <td>0</td>\n      <td>1</td>\n      <td>1</td>\n      <td>0</td>\n      <td>...</td>\n      <td>0</td>\n      <td>0</td>\n      <td>0</td>\n      <td>0</td>\n      <td>0</td>\n      <td>0</td>\n      <td>0</td>\n      <td>0</td>\n      <td>0</td>\n      <td>0</td>\n    </tr>\n    <tr>\n      <th>b.REV.022.018</th>\n      <td>1</td>\n      <td>1</td>\n      <td>1</td>\n      <td>1</td>\n      <td>0</td>\n      <td>1</td>\n      <td>1</td>\n      <td>1</td>\n      <td>0</td>\n      <td>0</td>\n      <td>...</td>\n      <td>0</td>\n      <td>0</td>\n      <td>0</td>\n      <td>0</td>\n      <td>0</td>\n      <td>0</td>\n      <td>0</td>\n      <td>0</td>\n      <td>0</td>\n      <td>0</td>\n    </tr>\n    <tr>\n      <th>b.REV.022.019</th>\n      <td>1</td>\n      <td>1</td>\n      <td>1</td>\n      <td>1</td>\n      <td>1</td>\n      <td>1</td>\n      <td>0</td>\n      <td>1</td>\n      <td>0</td>\n      <td>0</td>\n      <td>...</td>\n      <td>0</td>\n      <td>0</td>\n      <td>0</td>\n      <td>0</td>\n      <td>0</td>\n      <td>0</td>\n      <td>0</td>\n      <td>0</td>\n      <td>0</td>\n      <td>0</td>\n    </tr>\n    <tr>\n      <th>b.REV.022.020</th>\n      <td>1</td>\n      <td>1</td>\n      <td>1</td>\n      <td>1</td>\n      <td>0</td>\n      <td>1</td>\n      <td>0</td>\n      <td>0</td>\n      <td>0</td>\n      <td>0</td>\n      <td>...</td>\n      <td>0</td>\n      <td>0</td>\n      <td>0</td>\n      <td>0</td>\n      <td>0</td>\n      <td>0</td>\n      <td>0</td>\n      <td>0</td>\n      <td>0</td>\n      <td>0</td>\n    </tr>\n    <tr>\n      <th>b.REV.022.021</th>\n      <td>1</td>\n      <td>0</td>\n      <td>1</td>\n      <td>1</td>\n      <td>0</td>\n      <td>0</td>\n      <td>0</td>\n      <td>0</td>\n      <td>0</td>\n      <td>0</td>\n      <td>...</td>\n      <td>0</td>\n      <td>0</td>\n      <td>0</td>\n      <td>0</td>\n      <td>0</td>\n      <td>0</td>\n      <td>0</td>\n      <td>0</td>\n      <td>0</td>\n      <td>0</td>\n    </tr>\n  </tbody>\n</table>\n<p>31065 rows × 29213 columns</p>\n</div>"
     },
     "metadata": {},
     "execution_count": 29
    }
   ],
   "source": [
    "binary_tokens_df"
   ]
  },
  {
   "cell_type": "code",
   "execution_count": 10,
   "metadata": {},
   "outputs": [],
   "source": [
    "verses_features = pd.read_parquet(\"./../../../resulting data/verses_features.parquet\")\n"
   ]
  },
  {
   "cell_type": "code",
   "execution_count": 11,
   "metadata": {},
   "outputs": [
    {
     "output_type": "execute_result",
     "data": {
      "text/plain": [
       "      bible_identifier bible_book bible_chapter bible_book_chapter  \\\n",
       "0        b.GEN.001.001        GEN           001            GEN.001   \n",
       "1        b.GEN.001.002        GEN           001            GEN.001   \n",
       "2        b.GEN.001.003        GEN           001            GEN.001   \n",
       "3        b.GEN.001.004        GEN           001            GEN.001   \n",
       "4        b.GEN.001.005        GEN           001            GEN.001   \n",
       "...                ...        ...           ...                ...   \n",
       "31060    b.REV.022.017        REV           022            REV.022   \n",
       "31061    b.REV.022.018        REV           022            REV.022   \n",
       "31062    b.REV.022.019        REV           022            REV.022   \n",
       "31063    b.REV.022.020        REV           022            REV.022   \n",
       "31064    b.REV.022.021        REV           022            REV.022   \n",
       "\n",
       "             genre  twitter_freq_sum_2014_2015  twitter_freq_2014  \\\n",
       "0       historical                       49268              26376   \n",
       "1       historical                        8601               3693   \n",
       "2       historical                       20970               8816   \n",
       "3       historical                        4222               2286   \n",
       "4       historical                        3208               1666   \n",
       "...            ...                         ...                ...   \n",
       "31060  apocalyptic                        8693               4633   \n",
       "31061  apocalyptic                        4396               1939   \n",
       "31062  apocalyptic                        3947               1952   \n",
       "31063  apocalyptic                       11981               6014   \n",
       "31064  apocalyptic                       10466               3780   \n",
       "\n",
       "       twitter_freq_2015  relations  monogamy  ...  #org35  #org439  #pla65  \\\n",
       "0                  22892          0         0  ...     NaN      NaN     NaN   \n",
       "1                   4908          0         0  ...     NaN      NaN     NaN   \n",
       "2                  12154          0         0  ...     NaN      NaN     NaN   \n",
       "3                   1936          0         0  ...     NaN      NaN     NaN   \n",
       "4                   1542          0         0  ...     NaN      NaN     NaN   \n",
       "...                  ...        ...       ...  ...     ...      ...     ...   \n",
       "31060               4060          0         0  ...     NaN      NaN     NaN   \n",
       "31061               2457          0         0  ...     NaN      NaN     NaN   \n",
       "31062               1995          0         0  ...     NaN      NaN     NaN   \n",
       "31063               5967          0         0  ...     NaN      NaN     NaN   \n",
       "31064               6686          0         0  ...     NaN      NaN     NaN   \n",
       "\n",
       "       #pla68  #per116  #per119  #pla67  #org52  #per129  #pla74  \n",
       "0         NaN      NaN      NaN     NaN     NaN      NaN     NaN  \n",
       "1         NaN      NaN      NaN     NaN     NaN      NaN     NaN  \n",
       "2         NaN      NaN      NaN     NaN     NaN      NaN     NaN  \n",
       "3         NaN      NaN      NaN     NaN     NaN      NaN     NaN  \n",
       "4         NaN      NaN      NaN     NaN     NaN      NaN     NaN  \n",
       "...       ...      ...      ...     ...     ...      ...     ...  \n",
       "31060     NaN      NaN      NaN     NaN     NaN      NaN     NaN  \n",
       "31061     NaN      NaN      NaN     NaN     NaN      NaN     NaN  \n",
       "31062     NaN      NaN      NaN     NaN     NaN      NaN     NaN  \n",
       "31063     NaN      NaN      NaN     NaN     NaN      NaN     NaN  \n",
       "31064     NaN      NaN      NaN     NaN     NaN      NaN     NaN  \n",
       "\n",
       "[31065 rows x 4167 columns]"
      ],
      "text/html": "<div>\n<style scoped>\n    .dataframe tbody tr th:only-of-type {\n        vertical-align: middle;\n    }\n\n    .dataframe tbody tr th {\n        vertical-align: top;\n    }\n\n    .dataframe thead th {\n        text-align: right;\n    }\n</style>\n<table border=\"1\" class=\"dataframe\">\n  <thead>\n    <tr style=\"text-align: right;\">\n      <th></th>\n      <th>bible_identifier</th>\n      <th>bible_book</th>\n      <th>bible_chapter</th>\n      <th>bible_book_chapter</th>\n      <th>genre</th>\n      <th>twitter_freq_sum_2014_2015</th>\n      <th>twitter_freq_2014</th>\n      <th>twitter_freq_2015</th>\n      <th>relations</th>\n      <th>monogamy</th>\n      <th>...</th>\n      <th>#org35</th>\n      <th>#org439</th>\n      <th>#pla65</th>\n      <th>#pla68</th>\n      <th>#per116</th>\n      <th>#per119</th>\n      <th>#pla67</th>\n      <th>#org52</th>\n      <th>#per129</th>\n      <th>#pla74</th>\n    </tr>\n  </thead>\n  <tbody>\n    <tr>\n      <th>0</th>\n      <td>b.GEN.001.001</td>\n      <td>GEN</td>\n      <td>001</td>\n      <td>GEN.001</td>\n      <td>historical</td>\n      <td>49268</td>\n      <td>26376</td>\n      <td>22892</td>\n      <td>0</td>\n      <td>0</td>\n      <td>...</td>\n      <td>NaN</td>\n      <td>NaN</td>\n      <td>NaN</td>\n      <td>NaN</td>\n      <td>NaN</td>\n      <td>NaN</td>\n      <td>NaN</td>\n      <td>NaN</td>\n      <td>NaN</td>\n      <td>NaN</td>\n    </tr>\n    <tr>\n      <th>1</th>\n      <td>b.GEN.001.002</td>\n      <td>GEN</td>\n      <td>001</td>\n      <td>GEN.001</td>\n      <td>historical</td>\n      <td>8601</td>\n      <td>3693</td>\n      <td>4908</td>\n      <td>0</td>\n      <td>0</td>\n      <td>...</td>\n      <td>NaN</td>\n      <td>NaN</td>\n      <td>NaN</td>\n      <td>NaN</td>\n      <td>NaN</td>\n      <td>NaN</td>\n      <td>NaN</td>\n      <td>NaN</td>\n      <td>NaN</td>\n      <td>NaN</td>\n    </tr>\n    <tr>\n      <th>2</th>\n      <td>b.GEN.001.003</td>\n      <td>GEN</td>\n      <td>001</td>\n      <td>GEN.001</td>\n      <td>historical</td>\n      <td>20970</td>\n      <td>8816</td>\n      <td>12154</td>\n      <td>0</td>\n      <td>0</td>\n      <td>...</td>\n      <td>NaN</td>\n      <td>NaN</td>\n      <td>NaN</td>\n      <td>NaN</td>\n      <td>NaN</td>\n      <td>NaN</td>\n      <td>NaN</td>\n      <td>NaN</td>\n      <td>NaN</td>\n      <td>NaN</td>\n    </tr>\n    <tr>\n      <th>3</th>\n      <td>b.GEN.001.004</td>\n      <td>GEN</td>\n      <td>001</td>\n      <td>GEN.001</td>\n      <td>historical</td>\n      <td>4222</td>\n      <td>2286</td>\n      <td>1936</td>\n      <td>0</td>\n      <td>0</td>\n      <td>...</td>\n      <td>NaN</td>\n      <td>NaN</td>\n      <td>NaN</td>\n      <td>NaN</td>\n      <td>NaN</td>\n      <td>NaN</td>\n      <td>NaN</td>\n      <td>NaN</td>\n      <td>NaN</td>\n      <td>NaN</td>\n    </tr>\n    <tr>\n      <th>4</th>\n      <td>b.GEN.001.005</td>\n      <td>GEN</td>\n      <td>001</td>\n      <td>GEN.001</td>\n      <td>historical</td>\n      <td>3208</td>\n      <td>1666</td>\n      <td>1542</td>\n      <td>0</td>\n      <td>0</td>\n      <td>...</td>\n      <td>NaN</td>\n      <td>NaN</td>\n      <td>NaN</td>\n      <td>NaN</td>\n      <td>NaN</td>\n      <td>NaN</td>\n      <td>NaN</td>\n      <td>NaN</td>\n      <td>NaN</td>\n      <td>NaN</td>\n    </tr>\n    <tr>\n      <th>...</th>\n      <td>...</td>\n      <td>...</td>\n      <td>...</td>\n      <td>...</td>\n      <td>...</td>\n      <td>...</td>\n      <td>...</td>\n      <td>...</td>\n      <td>...</td>\n      <td>...</td>\n      <td>...</td>\n      <td>...</td>\n      <td>...</td>\n      <td>...</td>\n      <td>...</td>\n      <td>...</td>\n      <td>...</td>\n      <td>...</td>\n      <td>...</td>\n      <td>...</td>\n      <td>...</td>\n    </tr>\n    <tr>\n      <th>31060</th>\n      <td>b.REV.022.017</td>\n      <td>REV</td>\n      <td>022</td>\n      <td>REV.022</td>\n      <td>apocalyptic</td>\n      <td>8693</td>\n      <td>4633</td>\n      <td>4060</td>\n      <td>0</td>\n      <td>0</td>\n      <td>...</td>\n      <td>NaN</td>\n      <td>NaN</td>\n      <td>NaN</td>\n      <td>NaN</td>\n      <td>NaN</td>\n      <td>NaN</td>\n      <td>NaN</td>\n      <td>NaN</td>\n      <td>NaN</td>\n      <td>NaN</td>\n    </tr>\n    <tr>\n      <th>31061</th>\n      <td>b.REV.022.018</td>\n      <td>REV</td>\n      <td>022</td>\n      <td>REV.022</td>\n      <td>apocalyptic</td>\n      <td>4396</td>\n      <td>1939</td>\n      <td>2457</td>\n      <td>0</td>\n      <td>0</td>\n      <td>...</td>\n      <td>NaN</td>\n      <td>NaN</td>\n      <td>NaN</td>\n      <td>NaN</td>\n      <td>NaN</td>\n      <td>NaN</td>\n      <td>NaN</td>\n      <td>NaN</td>\n      <td>NaN</td>\n      <td>NaN</td>\n    </tr>\n    <tr>\n      <th>31062</th>\n      <td>b.REV.022.019</td>\n      <td>REV</td>\n      <td>022</td>\n      <td>REV.022</td>\n      <td>apocalyptic</td>\n      <td>3947</td>\n      <td>1952</td>\n      <td>1995</td>\n      <td>0</td>\n      <td>0</td>\n      <td>...</td>\n      <td>NaN</td>\n      <td>NaN</td>\n      <td>NaN</td>\n      <td>NaN</td>\n      <td>NaN</td>\n      <td>NaN</td>\n      <td>NaN</td>\n      <td>NaN</td>\n      <td>NaN</td>\n      <td>NaN</td>\n    </tr>\n    <tr>\n      <th>31063</th>\n      <td>b.REV.022.020</td>\n      <td>REV</td>\n      <td>022</td>\n      <td>REV.022</td>\n      <td>apocalyptic</td>\n      <td>11981</td>\n      <td>6014</td>\n      <td>5967</td>\n      <td>0</td>\n      <td>0</td>\n      <td>...</td>\n      <td>NaN</td>\n      <td>NaN</td>\n      <td>NaN</td>\n      <td>NaN</td>\n      <td>NaN</td>\n      <td>NaN</td>\n      <td>NaN</td>\n      <td>NaN</td>\n      <td>NaN</td>\n      <td>NaN</td>\n    </tr>\n    <tr>\n      <th>31064</th>\n      <td>b.REV.022.021</td>\n      <td>REV</td>\n      <td>022</td>\n      <td>REV.022</td>\n      <td>apocalyptic</td>\n      <td>10466</td>\n      <td>3780</td>\n      <td>6686</td>\n      <td>0</td>\n      <td>0</td>\n      <td>...</td>\n      <td>NaN</td>\n      <td>NaN</td>\n      <td>NaN</td>\n      <td>NaN</td>\n      <td>NaN</td>\n      <td>NaN</td>\n      <td>NaN</td>\n      <td>NaN</td>\n      <td>NaN</td>\n      <td>NaN</td>\n    </tr>\n  </tbody>\n</table>\n<p>31065 rows × 4167 columns</p>\n</div>"
     },
     "metadata": {},
     "execution_count": 11
    }
   ],
   "source": [
    "verses_features"
   ]
  },
  {
   "cell_type": "code",
   "execution_count": 12,
   "metadata": {},
   "outputs": [
    {
     "output_type": "execute_result",
     "data": {
      "text/plain": [
       "True"
      ]
     },
     "metadata": {},
     "execution_count": 12
    }
   ],
   "source": [
    "binary_tokens_df.index.tolist() == verses_features[\"bible_identifier\"].tolist()"
   ]
  },
  {
   "cell_type": "code",
   "execution_count": 16,
   "metadata": {},
   "outputs": [
    {
     "output_type": "execute_result",
     "data": {
      "text/plain": [
       "                  !  \"  '  (  )  ,  -  .  000\n",
       "verse_id                                     \n",
       "b.GEN.001.001  1  0  0  0  0  0  0  0  1    0\n",
       "b.GEN.001.002  1  0  0  0  0  0  1  0  1    0\n",
       "b.GEN.001.003  1  0  0  0  0  0  0  0  1    0\n",
       "b.GEN.001.004  1  0  0  0  0  0  1  0  1    0\n",
       "b.GEN.001.005  1  0  0  0  0  0  1  0  1    0\n",
       "...           .. .. .. .. .. .. .. .. ..  ...\n",
       "b.REV.022.017  1  1  0  0  0  0  1  0  1    0\n",
       "b.REV.022.018  1  0  0  0  0  0  1  0  1    0\n",
       "b.REV.022.019  1  0  0  0  0  0  1  0  1    0\n",
       "b.REV.022.020  1  1  0  0  0  0  1  0  1    0\n",
       "b.REV.022.021  1  0  0  0  0  0  0  0  1    0\n",
       "\n",
       "[31065 rows x 10 columns]"
      ],
      "text/html": "<div>\n<style scoped>\n    .dataframe tbody tr th:only-of-type {\n        vertical-align: middle;\n    }\n\n    .dataframe tbody tr th {\n        vertical-align: top;\n    }\n\n    .dataframe thead th {\n        text-align: right;\n    }\n</style>\n<table border=\"1\" class=\"dataframe\">\n  <thead>\n    <tr style=\"text-align: right;\">\n      <th></th>\n      <th></th>\n      <th>!</th>\n      <th>\"</th>\n      <th>'</th>\n      <th>(</th>\n      <th>)</th>\n      <th>,</th>\n      <th>-</th>\n      <th>.</th>\n      <th>000</th>\n    </tr>\n    <tr>\n      <th>verse_id</th>\n      <th></th>\n      <th></th>\n      <th></th>\n      <th></th>\n      <th></th>\n      <th></th>\n      <th></th>\n      <th></th>\n      <th></th>\n      <th></th>\n    </tr>\n  </thead>\n  <tbody>\n    <tr>\n      <th>b.GEN.001.001</th>\n      <td>1</td>\n      <td>0</td>\n      <td>0</td>\n      <td>0</td>\n      <td>0</td>\n      <td>0</td>\n      <td>0</td>\n      <td>0</td>\n      <td>1</td>\n      <td>0</td>\n    </tr>\n    <tr>\n      <th>b.GEN.001.002</th>\n      <td>1</td>\n      <td>0</td>\n      <td>0</td>\n      <td>0</td>\n      <td>0</td>\n      <td>0</td>\n      <td>1</td>\n      <td>0</td>\n      <td>1</td>\n      <td>0</td>\n    </tr>\n    <tr>\n      <th>b.GEN.001.003</th>\n      <td>1</td>\n      <td>0</td>\n      <td>0</td>\n      <td>0</td>\n      <td>0</td>\n      <td>0</td>\n      <td>0</td>\n      <td>0</td>\n      <td>1</td>\n      <td>0</td>\n    </tr>\n    <tr>\n      <th>b.GEN.001.004</th>\n      <td>1</td>\n      <td>0</td>\n      <td>0</td>\n      <td>0</td>\n      <td>0</td>\n      <td>0</td>\n      <td>1</td>\n      <td>0</td>\n      <td>1</td>\n      <td>0</td>\n    </tr>\n    <tr>\n      <th>b.GEN.001.005</th>\n      <td>1</td>\n      <td>0</td>\n      <td>0</td>\n      <td>0</td>\n      <td>0</td>\n      <td>0</td>\n      <td>1</td>\n      <td>0</td>\n      <td>1</td>\n      <td>0</td>\n    </tr>\n    <tr>\n      <th>...</th>\n      <td>...</td>\n      <td>...</td>\n      <td>...</td>\n      <td>...</td>\n      <td>...</td>\n      <td>...</td>\n      <td>...</td>\n      <td>...</td>\n      <td>...</td>\n      <td>...</td>\n    </tr>\n    <tr>\n      <th>b.REV.022.017</th>\n      <td>1</td>\n      <td>1</td>\n      <td>0</td>\n      <td>0</td>\n      <td>0</td>\n      <td>0</td>\n      <td>1</td>\n      <td>0</td>\n      <td>1</td>\n      <td>0</td>\n    </tr>\n    <tr>\n      <th>b.REV.022.018</th>\n      <td>1</td>\n      <td>0</td>\n      <td>0</td>\n      <td>0</td>\n      <td>0</td>\n      <td>0</td>\n      <td>1</td>\n      <td>0</td>\n      <td>1</td>\n      <td>0</td>\n    </tr>\n    <tr>\n      <th>b.REV.022.019</th>\n      <td>1</td>\n      <td>0</td>\n      <td>0</td>\n      <td>0</td>\n      <td>0</td>\n      <td>0</td>\n      <td>1</td>\n      <td>0</td>\n      <td>1</td>\n      <td>0</td>\n    </tr>\n    <tr>\n      <th>b.REV.022.020</th>\n      <td>1</td>\n      <td>1</td>\n      <td>0</td>\n      <td>0</td>\n      <td>0</td>\n      <td>0</td>\n      <td>1</td>\n      <td>0</td>\n      <td>1</td>\n      <td>0</td>\n    </tr>\n    <tr>\n      <th>b.REV.022.021</th>\n      <td>1</td>\n      <td>0</td>\n      <td>0</td>\n      <td>0</td>\n      <td>0</td>\n      <td>0</td>\n      <td>0</td>\n      <td>0</td>\n      <td>1</td>\n      <td>0</td>\n    </tr>\n  </tbody>\n</table>\n<p>31065 rows × 10 columns</p>\n</div>"
     },
     "metadata": {},
     "execution_count": 16
    }
   ],
   "source": []
  },
  {
   "cell_type": "code",
   "execution_count": 48,
   "metadata": {},
   "outputs": [],
   "source": [
    "from sklearn.linear_model import LinearRegression\n",
    "from sklearn.model_selection import train_test_split\n",
    "import numpy as np"
   ]
  },
  {
   "cell_type": "code",
   "execution_count": 50,
   "metadata": {},
   "outputs": [
    {
     "output_type": "execute_result",
     "data": {
      "text/plain": [
       "-inf"
      ]
     },
     "metadata": {},
     "execution_count": 50
    }
   ],
   "source": [
    "np.log(verses_features[\"twitter_freq_sum_2014_2015\"]).min()"
   ]
  },
  {
   "cell_type": "code",
   "execution_count": 53,
   "metadata": {},
   "outputs": [],
   "source": [
    "verses_features[\"twitter_freq_sum_log_2014_2015\"] = transform_data.calculate_log(verses_features[[\"twitter_freq_sum_2014_2015\"]])"
   ]
  },
  {
   "cell_type": "code",
   "execution_count": 86,
   "metadata": {},
   "outputs": [
    {
     "output_type": "execute_result",
     "data": {
      "text/plain": [
       "4168"
      ]
     },
     "metadata": {},
     "execution_count": 86
    }
   ],
   "source": [
    "len(verses_features.columns.tolist())"
   ]
  },
  {
   "cell_type": "code",
   "execution_count": 113,
   "metadata": {},
   "outputs": [],
   "source": [
    "features_df = transform_data.calculate_log(verses_features[verses_features.columns.tolist()[262:2000]].fillna(0))"
   ]
  },
  {
   "cell_type": "code",
   "execution_count": 114,
   "metadata": {},
   "outputs": [
    {
     "output_type": "execute_result",
     "data": {
      "text/plain": [
       "       #tim3    #per14  #pla41  number of entities referred  \\\n",
       "0        0.0  0.000000     0.0                     1.098612   \n",
       "1        0.0  0.000000     0.0                     1.098612   \n",
       "2        0.0  0.693147     0.0                     1.098612   \n",
       "3        0.0  0.000000     0.0                     0.000000   \n",
       "4        0.0  0.693147     0.0                     1.609438   \n",
       "...      ...       ...     ...                          ...   \n",
       "31060    0.0  0.000000     0.0                     1.945910   \n",
       "31061    0.0  0.000000     0.0                     1.386294   \n",
       "31062    0.0  0.000000     0.0                     1.791759   \n",
       "31063    0.0  0.000000     0.0                     1.386294   \n",
       "31064    0.0  0.000000     0.0                     0.693147   \n",
       "\n",
       "       number of different entities referred  number of people  \\\n",
       "0                                   1.098612          0.000000   \n",
       "1                                   1.098612          0.693147   \n",
       "2                                   0.693147          0.693147   \n",
       "3                                   0.000000          0.000000   \n",
       "4                                   1.098612          0.693147   \n",
       "...                                      ...               ...   \n",
       "31060                               1.386294          1.386294   \n",
       "31061                               0.693147          0.000000   \n",
       "31062                               1.386294          0.000000   \n",
       "31063                               0.693147          1.386294   \n",
       "31064                               0.000000          0.693147   \n",
       "\n",
       "       number of different number of people  number of groups  \\\n",
       "0                                  0.000000          0.000000   \n",
       "1                                  0.693147          0.000000   \n",
       "2                                  0.000000          0.000000   \n",
       "3                                  0.000000          0.000000   \n",
       "4                                  0.000000          0.693147   \n",
       "...                                     ...               ...   \n",
       "31060                              0.693147          1.098612   \n",
       "31061                              0.000000          0.000000   \n",
       "31062                              0.000000          0.000000   \n",
       "31063                              0.693147          0.000000   \n",
       "31064                              0.000000          0.000000   \n",
       "\n",
       "       number of different number of groups  number of places  ...  #per824  \\\n",
       "0                                  0.000000               0.0  ...      0.0   \n",
       "1                                  0.000000               0.0  ...      0.0   \n",
       "2                                  0.000000               0.0  ...      0.0   \n",
       "3                                  0.000000               0.0  ...      0.0   \n",
       "4                                  0.000000               0.0  ...      0.0   \n",
       "...                                     ...               ...  ...      ...   \n",
       "31060                              0.693147               0.0  ...      0.0   \n",
       "31061                              0.000000               0.0  ...      0.0   \n",
       "31062                              0.000000               0.0  ...      0.0   \n",
       "31063                              0.000000               0.0  ...      0.0   \n",
       "31064                              0.000000               0.0  ...      0.0   \n",
       "\n",
       "       #per825  #per826  #per827  #per828  #per829  #per834  #per830  #per831  \\\n",
       "0          0.0      0.0      0.0      0.0      0.0      0.0      0.0      0.0   \n",
       "1          0.0      0.0      0.0      0.0      0.0      0.0      0.0      0.0   \n",
       "2          0.0      0.0      0.0      0.0      0.0      0.0      0.0      0.0   \n",
       "3          0.0      0.0      0.0      0.0      0.0      0.0      0.0      0.0   \n",
       "4          0.0      0.0      0.0      0.0      0.0      0.0      0.0      0.0   \n",
       "...        ...      ...      ...      ...      ...      ...      ...      ...   \n",
       "31060      0.0      0.0      0.0      0.0      0.0      0.0      0.0      0.0   \n",
       "31061      0.0      0.0      0.0      0.0      0.0      0.0      0.0      0.0   \n",
       "31062      0.0      0.0      0.0      0.0      0.0      0.0      0.0      0.0   \n",
       "31063      0.0      0.0      0.0      0.0      0.0      0.0      0.0      0.0   \n",
       "31064      0.0      0.0      0.0      0.0      0.0      0.0      0.0      0.0   \n",
       "\n",
       "       #per832  \n",
       "0          0.0  \n",
       "1          0.0  \n",
       "2          0.0  \n",
       "3          0.0  \n",
       "4          0.0  \n",
       "...        ...  \n",
       "31060      0.0  \n",
       "31061      0.0  \n",
       "31062      0.0  \n",
       "31063      0.0  \n",
       "31064      0.0  \n",
       "\n",
       "[31065 rows x 1738 columns]"
      ],
      "text/html": "<div>\n<style scoped>\n    .dataframe tbody tr th:only-of-type {\n        vertical-align: middle;\n    }\n\n    .dataframe tbody tr th {\n        vertical-align: top;\n    }\n\n    .dataframe thead th {\n        text-align: right;\n    }\n</style>\n<table border=\"1\" class=\"dataframe\">\n  <thead>\n    <tr style=\"text-align: right;\">\n      <th></th>\n      <th>#tim3</th>\n      <th>#per14</th>\n      <th>#pla41</th>\n      <th>number of entities referred</th>\n      <th>number of different entities referred</th>\n      <th>number of people</th>\n      <th>number of different number of people</th>\n      <th>number of groups</th>\n      <th>number of different number of groups</th>\n      <th>number of places</th>\n      <th>...</th>\n      <th>#per824</th>\n      <th>#per825</th>\n      <th>#per826</th>\n      <th>#per827</th>\n      <th>#per828</th>\n      <th>#per829</th>\n      <th>#per834</th>\n      <th>#per830</th>\n      <th>#per831</th>\n      <th>#per832</th>\n    </tr>\n  </thead>\n  <tbody>\n    <tr>\n      <th>0</th>\n      <td>0.0</td>\n      <td>0.000000</td>\n      <td>0.0</td>\n      <td>1.098612</td>\n      <td>1.098612</td>\n      <td>0.000000</td>\n      <td>0.000000</td>\n      <td>0.000000</td>\n      <td>0.000000</td>\n      <td>0.0</td>\n      <td>...</td>\n      <td>0.0</td>\n      <td>0.0</td>\n      <td>0.0</td>\n      <td>0.0</td>\n      <td>0.0</td>\n      <td>0.0</td>\n      <td>0.0</td>\n      <td>0.0</td>\n      <td>0.0</td>\n      <td>0.0</td>\n    </tr>\n    <tr>\n      <th>1</th>\n      <td>0.0</td>\n      <td>0.000000</td>\n      <td>0.0</td>\n      <td>1.098612</td>\n      <td>1.098612</td>\n      <td>0.693147</td>\n      <td>0.693147</td>\n      <td>0.000000</td>\n      <td>0.000000</td>\n      <td>0.0</td>\n      <td>...</td>\n      <td>0.0</td>\n      <td>0.0</td>\n      <td>0.0</td>\n      <td>0.0</td>\n      <td>0.0</td>\n      <td>0.0</td>\n      <td>0.0</td>\n      <td>0.0</td>\n      <td>0.0</td>\n      <td>0.0</td>\n    </tr>\n    <tr>\n      <th>2</th>\n      <td>0.0</td>\n      <td>0.693147</td>\n      <td>0.0</td>\n      <td>1.098612</td>\n      <td>0.693147</td>\n      <td>0.693147</td>\n      <td>0.000000</td>\n      <td>0.000000</td>\n      <td>0.000000</td>\n      <td>0.0</td>\n      <td>...</td>\n      <td>0.0</td>\n      <td>0.0</td>\n      <td>0.0</td>\n      <td>0.0</td>\n      <td>0.0</td>\n      <td>0.0</td>\n      <td>0.0</td>\n      <td>0.0</td>\n      <td>0.0</td>\n      <td>0.0</td>\n    </tr>\n    <tr>\n      <th>3</th>\n      <td>0.0</td>\n      <td>0.000000</td>\n      <td>0.0</td>\n      <td>0.000000</td>\n      <td>0.000000</td>\n      <td>0.000000</td>\n      <td>0.000000</td>\n      <td>0.000000</td>\n      <td>0.000000</td>\n      <td>0.0</td>\n      <td>...</td>\n      <td>0.0</td>\n      <td>0.0</td>\n      <td>0.0</td>\n      <td>0.0</td>\n      <td>0.0</td>\n      <td>0.0</td>\n      <td>0.0</td>\n      <td>0.0</td>\n      <td>0.0</td>\n      <td>0.0</td>\n    </tr>\n    <tr>\n      <th>4</th>\n      <td>0.0</td>\n      <td>0.693147</td>\n      <td>0.0</td>\n      <td>1.609438</td>\n      <td>1.098612</td>\n      <td>0.693147</td>\n      <td>0.000000</td>\n      <td>0.693147</td>\n      <td>0.000000</td>\n      <td>0.0</td>\n      <td>...</td>\n      <td>0.0</td>\n      <td>0.0</td>\n      <td>0.0</td>\n      <td>0.0</td>\n      <td>0.0</td>\n      <td>0.0</td>\n      <td>0.0</td>\n      <td>0.0</td>\n      <td>0.0</td>\n      <td>0.0</td>\n    </tr>\n    <tr>\n      <th>...</th>\n      <td>...</td>\n      <td>...</td>\n      <td>...</td>\n      <td>...</td>\n      <td>...</td>\n      <td>...</td>\n      <td>...</td>\n      <td>...</td>\n      <td>...</td>\n      <td>...</td>\n      <td>...</td>\n      <td>...</td>\n      <td>...</td>\n      <td>...</td>\n      <td>...</td>\n      <td>...</td>\n      <td>...</td>\n      <td>...</td>\n      <td>...</td>\n      <td>...</td>\n      <td>...</td>\n    </tr>\n    <tr>\n      <th>31060</th>\n      <td>0.0</td>\n      <td>0.000000</td>\n      <td>0.0</td>\n      <td>1.945910</td>\n      <td>1.386294</td>\n      <td>1.386294</td>\n      <td>0.693147</td>\n      <td>1.098612</td>\n      <td>0.693147</td>\n      <td>0.0</td>\n      <td>...</td>\n      <td>0.0</td>\n      <td>0.0</td>\n      <td>0.0</td>\n      <td>0.0</td>\n      <td>0.0</td>\n      <td>0.0</td>\n      <td>0.0</td>\n      <td>0.0</td>\n      <td>0.0</td>\n      <td>0.0</td>\n    </tr>\n    <tr>\n      <th>31061</th>\n      <td>0.0</td>\n      <td>0.000000</td>\n      <td>0.0</td>\n      <td>1.386294</td>\n      <td>0.693147</td>\n      <td>0.000000</td>\n      <td>0.000000</td>\n      <td>0.000000</td>\n      <td>0.000000</td>\n      <td>0.0</td>\n      <td>...</td>\n      <td>0.0</td>\n      <td>0.0</td>\n      <td>0.0</td>\n      <td>0.0</td>\n      <td>0.0</td>\n      <td>0.0</td>\n      <td>0.0</td>\n      <td>0.0</td>\n      <td>0.0</td>\n      <td>0.0</td>\n    </tr>\n    <tr>\n      <th>31062</th>\n      <td>0.0</td>\n      <td>0.000000</td>\n      <td>0.0</td>\n      <td>1.791759</td>\n      <td>1.386294</td>\n      <td>0.000000</td>\n      <td>0.000000</td>\n      <td>0.000000</td>\n      <td>0.000000</td>\n      <td>0.0</td>\n      <td>...</td>\n      <td>0.0</td>\n      <td>0.0</td>\n      <td>0.0</td>\n      <td>0.0</td>\n      <td>0.0</td>\n      <td>0.0</td>\n      <td>0.0</td>\n      <td>0.0</td>\n      <td>0.0</td>\n      <td>0.0</td>\n    </tr>\n    <tr>\n      <th>31063</th>\n      <td>0.0</td>\n      <td>0.000000</td>\n      <td>0.0</td>\n      <td>1.386294</td>\n      <td>0.693147</td>\n      <td>1.386294</td>\n      <td>0.693147</td>\n      <td>0.000000</td>\n      <td>0.000000</td>\n      <td>0.0</td>\n      <td>...</td>\n      <td>0.0</td>\n      <td>0.0</td>\n      <td>0.0</td>\n      <td>0.0</td>\n      <td>0.0</td>\n      <td>0.0</td>\n      <td>0.0</td>\n      <td>0.0</td>\n      <td>0.0</td>\n      <td>0.0</td>\n    </tr>\n    <tr>\n      <th>31064</th>\n      <td>0.0</td>\n      <td>0.000000</td>\n      <td>0.0</td>\n      <td>0.693147</td>\n      <td>0.000000</td>\n      <td>0.693147</td>\n      <td>0.000000</td>\n      <td>0.000000</td>\n      <td>0.000000</td>\n      <td>0.0</td>\n      <td>...</td>\n      <td>0.0</td>\n      <td>0.0</td>\n      <td>0.0</td>\n      <td>0.0</td>\n      <td>0.0</td>\n      <td>0.0</td>\n      <td>0.0</td>\n      <td>0.0</td>\n      <td>0.0</td>\n      <td>0.0</td>\n    </tr>\n  </tbody>\n</table>\n<p>31065 rows × 1738 columns</p>\n</div>"
     },
     "metadata": {},
     "execution_count": 114
    }
   ],
   "source": [
    "features_df"
   ]
  },
  {
   "cell_type": "code",
   "execution_count": 129,
   "metadata": {},
   "outputs": [],
   "source": [
    "\n",
    "#\n",
    "\n",
    "#X_train, X_test, y_train, y_test = train_test_split(features_df, verses_features[\"twitter_freq_sum_log_2014_2015\"], random_state=42)\n",
    "\n",
    "X_train, X_test, y_train, y_test = train_test_split(binary_tokens_df.iloc[:,0:2000], verses_features[\"twitter_freq_sum_log_2014_2015\"], random_state=42)\n"
   ]
  },
  {
   "cell_type": "code",
   "execution_count": 130,
   "metadata": {},
   "outputs": [],
   "source": [
    "lr = LinearRegression().fit(X_train, y_train)"
   ]
  },
  {
   "cell_type": "code",
   "execution_count": 131,
   "metadata": {},
   "outputs": [
    {
     "output_type": "stream",
     "name": "stdout",
     "text": [
      "lr.coef_: [ 6.31877251e+12 -1.02835768e-01  1.45188606e-01 ...  5.62184252e-02\n -1.93714323e+00  6.04371807e-01]\nlr.intercept_: -6318772512315.473\n"
     ]
    }
   ],
   "source": [
    "print(\"lr.coef_: {}\".format(lr.coef_))\n",
    "print(\"lr.intercept_: {}\".format(lr.intercept_))"
   ]
  },
  {
   "cell_type": "code",
   "execution_count": 132,
   "metadata": {},
   "outputs": [
    {
     "output_type": "stream",
     "name": "stdout",
     "text": [
      "Training set score: 0.52\nTest set score: 0.45\n"
     ]
    }
   ],
   "source": [
    "print(\"Training set score: {:.2f}\".format(lr.score(X_train, y_train)))\n",
    "print(\"Test set score: {:.2f}\".format(lr.score(X_test, y_test)))"
   ]
  },
  {
   "cell_type": "code",
   "execution_count": 133,
   "metadata": {},
   "outputs": [],
   "source": [
    "from sklearn.linear_model import Ridge"
   ]
  },
  {
   "cell_type": "code",
   "execution_count": 134,
   "metadata": {},
   "outputs": [
    {
     "output_type": "stream",
     "name": "stdout",
     "text": [
      "Training set score: 0.52\nTest set score: 0.45\n"
     ]
    }
   ],
   "source": [
    "ridge = Ridge().fit(X_train, y_train)\n",
    "print(\"Training set score: {:.2f}\".format(ridge.score(X_train, y_train)))\n",
    "print(\"Test set score: {:.2f}\".format(ridge.score(X_test, y_test)))"
   ]
  },
  {
   "cell_type": "code",
   "execution_count": 135,
   "metadata": {},
   "outputs": [
    {
     "output_type": "stream",
     "name": "stdout",
     "text": [
      "Training set score: 0.52\nTest set score: 0.45\n"
     ]
    }
   ],
   "source": [
    "ridge01 = Ridge(alpha=1).fit(X_train, y_train)\n",
    "print(\"Training set score: {:.2f}\".format(ridge01.score(X_train, y_train)))\n",
    "print(\"Test set score: {:.2f}\".format(ridge01.score(X_test, y_test)))"
   ]
  },
  {
   "cell_type": "code",
   "execution_count": 136,
   "metadata": {},
   "outputs": [
    {
     "output_type": "stream",
     "name": "stdout",
     "text": [
      "Training set score: 0.00\nTest set score: -0.00\nNumber of features used: 0\n"
     ]
    }
   ],
   "source": [
    "from sklearn.linear_model import Lasso\n",
    "lasso = Lasso().fit(X_train, y_train)\n",
    "print(\"Training set score: {:.2f}\".format(lasso.score(X_train, y_train)))\n",
    "print(\"Test set score: {:.2f}\".format(lasso.score(X_test, y_test)))\n",
    "print(\"Number of features used: {}\".format(np.sum(lasso.coef_ != 0)))"
   ]
  },
  {
   "cell_type": "code",
   "execution_count": 137,
   "metadata": {},
   "outputs": [
    {
     "output_type": "stream",
     "name": "stdout",
     "text": [
      "Training set score: 0.25\nTest set score: 0.25\nNumber of features used: 69\n"
     ]
    }
   ],
   "source": [
    "lasso001 = Lasso(alpha=0.01, max_iter=100000).fit(X_train, y_train)\n",
    "print(\"Training set score: {:.2f}\".format(lasso001.score(X_train, y_train)))\n",
    "print(\"Test set score: {:.2f}\".format(lasso001.score(X_test, y_test)))\n",
    "print(\"Number of features used: {}\".format(np.sum(lasso001.coef_ != 0)))"
   ]
  },
  {
   "cell_type": "code",
   "execution_count": 138,
   "metadata": {},
   "outputs": [
    {
     "output_type": "stream",
     "name": "stdout",
     "text": [
      "Training set score: 0.25\n",
      "Test set score: 0.25\n",
      "Number of features used: 69\n"
     ]
    }
   ],
   "source": [
    "lasso00001 = Lasso(alpha=0.0001, max_iter=1000000).fit(X_train, y_train)\n",
    "print(\"Training set score: {:.2f}\".format(lasso001.score(X_train, y_train)))\n",
    "print(\"Test set score: {:.2f}\".format(lasso001.score(X_test, y_test)))\n",
    "print(\"Number of features used: {}\".format(np.sum(lasso001.coef_ != 0)))"
   ]
  },
  {
   "cell_type": "code",
   "execution_count": 139,
   "metadata": {},
   "outputs": [
    {
     "output_type": "stream",
     "name": "stdout",
     "text": [
      "Training set score: 0.25\nTest set score: 0.25\nNumber of features used: 69\n"
     ]
    }
   ],
   "source": [
    "lasso001 = Lasso(alpha=0.01, max_iter=100000).fit(X_train, y_train)\n",
    "print(\"Training set score: {:.2f}\".format(lasso001.score(X_train, y_train)))\n",
    "print(\"Test set score: {:.2f}\".format(lasso001.score(X_test, y_test)))\n",
    "print(\"Number of features used: {}\".format(np.sum(lasso001.coef_ != 0)))"
   ]
  },
  {
   "cell_type": "code",
   "execution_count": 140,
   "metadata": {},
   "outputs": [
    {
     "output_type": "stream",
     "name": "stdout",
     "text": [
      "Training set score: 1.00\nTest set score: -0.04\n"
     ]
    }
   ],
   "source": [
    "from sklearn.tree import DecisionTreeRegressor\n",
    "# use historical data to forecast prices after the\n",
    "tree = DecisionTreeRegressor().fit(X_train, y_train)\n",
    "print(\"Training set score: {:.2f}\".format(tree.score(X_train, y_train)))\n",
    "print(\"Test set score: {:.2f}\".format(tree.score(X_test, y_test)))\n"
   ]
  },
  {
   "cell_type": "code",
   "execution_count": 141,
   "metadata": {},
   "outputs": [
    {
     "output_type": "stream",
     "name": "stdout",
     "text": [
      "Training set score: 0.51\nTest set score: 0.46\n"
     ]
    }
   ],
   "source": [
    "from sklearn.linear_model import ElasticNetCV\n",
    "elasticNetCV = ElasticNetCV().fit(X_train, y_train)\n",
    "print(\"Training set score: {:.2f}\".format(elasticNetCV.score(X_train, y_train)))\n",
    "print(\"Test set score: {:.2f}\".format(elasticNetCV.score(X_test, y_test)))\n"
   ]
  },
  {
   "cell_type": "code",
   "execution_count": null,
   "metadata": {},
   "outputs": [],
   "source": []
  }
 ],
 "metadata": {
  "kernelspec": {
   "name": "python3",
   "display_name": "Python 3.7.6 64-bit (conda)",
   "metadata": {
    "interpreter": {
     "hash": "960f4d658457e0296618a96ff118bd2cbd6b6fed4373572a098ed4ec5a9be4c3"
    }
   }
  },
  "language_info": {
   "codemirror_mode": {
    "name": "ipython",
    "version": 3
   },
   "file_extension": ".py",
   "mimetype": "text/x-python",
   "name": "python",
   "nbconvert_exporter": "python",
   "pygments_lexer": "ipython3",
   "version": "3.7.6-final"
  }
 },
 "nbformat": 4,
 "nbformat_minor": 4
}