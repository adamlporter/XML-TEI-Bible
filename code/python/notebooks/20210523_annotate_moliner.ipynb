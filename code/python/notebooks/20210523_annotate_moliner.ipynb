{
 "cells": [
  {
   "cell_type": "code",
   "execution_count": 1,
   "metadata": {},
   "outputs": [],
   "source": [
    "from lxml import etree\n",
    "import pandas as pd\n",
    "from collections import Counter\n",
    "import os\n",
    "import glob\n",
    "import re\n",
    "import matplotlib.pyplot as plt\n",
    "import numpy as np\n",
    "from collections import Counter\n",
    "from numpy import array\n",
    "import numpy as np\n",
    "\n",
    "import subprocess\n"
   ]
  },
  {
   "cell_type": "code",
   "execution_count": 2,
   "metadata": {},
   "outputs": [],
   "source": [
    "\n",
    "wdir = \"./../../../sexual-annotation/\"\n",
    "file = \"TEIBible\" # \"*.xml\"\n",
    "input_dir = \"./../../../annotated/books/\"\n",
    "output_dir = \"./../../../annotated/books_POS_MariaX/\""
   ]
  },
  {
   "cell_type": "code",
   "execution_count": 3,
   "metadata": {},
   "outputs": [],
   "source": [
    "if not os.path.exists(output_dir):\n",
    "    os.makedirs(output_dir)"
   ]
  },
  {
   "cell_type": "code",
   "execution_count": 4,
   "metadata": {},
   "outputs": [],
   "source": [
    "bible_root = etree.parse(wdir + file + \".xml\").getroot()"
   ]
  },
  {
   "cell_type": "code",
   "execution_count": 5,
   "metadata": {},
   "outputs": [
    {
     "output_type": "execute_result",
     "data": {
      "text/plain": [
       "<Element {http://www.tei-c.org/ns/1.0}teiCorpus at 0x2dd3d24b608>"
      ]
     },
     "metadata": {},
     "execution_count": 5
    }
   ],
   "source": [
    "bible_root"
   ]
  },
  {
   "cell_type": "code",
   "execution_count": 6,
   "metadata": {},
   "outputs": [],
   "source": [
    "namespaces = {'tei': 'http://www.tei-c.org/ns/1.0'}"
   ]
  },
  {
   "cell_type": "code",
   "execution_count": 15,
   "metadata": {},
   "outputs": [],
   "source": []
  },
  {
   "cell_type": "code",
   "execution_count": null,
   "metadata": {},
   "outputs": [],
   "source": []
  },
  {
   "cell_type": "code",
   "execution_count": 7,
   "metadata": {},
   "outputs": [],
   "source": [
    "mariax = pd.read_parquet(\"./../../../../../Doktorarbeit/dictionaries-for-annotation/mariaX/resulting-data/catalogues_only-tokens_df.parquet\")"
   ]
  },
  {
   "cell_type": "code",
   "execution_count": 8,
   "metadata": {},
   "outputs": [
    {
     "output_type": "execute_result",
     "data": {
      "text/plain": [
       "              a  aaronita  ab  aba  abab  ababillarse  abacería  abacorar  \\\n",
       "sublema                                                                     \n",
       "abandonar     0         0   0    0     0            0         0         0   \n",
       "abatir        0         0   0    0     0            0         0         0   \n",
       "abeja         0         0   0    0     0            0         0         0   \n",
       "abertura      0         0   0    0     0            0         0         0   \n",
       "abiertamente  0         0   0    0     0            0         0         0   \n",
       "...          ..       ...  ..  ...   ...          ...       ...       ...   \n",
       "yeso          0         0   0    0     0            0         0         0   \n",
       "yugo          0         0   0    0     0            0         0         0   \n",
       "zaherir       0         0   0    0     0            0         0         0   \n",
       "zalamería     0         0   0    0     0            0         0         0   \n",
       "zascandil     0         0   0    0     0            0         0         0   \n",
       "\n",
       "              abacá  abad  ...  últimas  último  úlula  únicamente  único  \\\n",
       "sublema                    ...                                              \n",
       "abandonar         0     0  ...        0       0      0           0      0   \n",
       "abatir            0     0  ...        0       0      0           0      0   \n",
       "abeja             0     0  ...        0       0      0           0      0   \n",
       "abertura          0     0  ...        0       0      0           0      0   \n",
       "abiertamente      0     0  ...        0       0      0           0      0   \n",
       "...             ...   ...  ...      ...     ...    ...         ...    ...   \n",
       "yeso              0     0  ...        0       0      0           0      0   \n",
       "yugo              0     0  ...        0       0      0           0      0   \n",
       "zaherir           0     0  ...        0       0      0           0      0   \n",
       "zalamería         0     0  ...        0       0      0           0      0   \n",
       "zascandil         0     0  ...        0       0      0           0      0   \n",
       "\n",
       "              úrico  úrsido  útero  útil  ýpsilon  \n",
       "sublema                                            \n",
       "abandonar         0       0      0     0        0  \n",
       "abatir            0       0      0     0        0  \n",
       "abeja             0       0      0     0        0  \n",
       "abertura          0       0      0     0        0  \n",
       "abiertamente      0       0      0     0        0  \n",
       "...             ...     ...    ...   ...      ...  \n",
       "yeso              0       0      0     0        0  \n",
       "yugo              0       0      0     0        0  \n",
       "zaherir           0       0      0     0        0  \n",
       "zalamería         0       0      0     0        0  \n",
       "zascandil         0       0      0     0        0  \n",
       "\n",
       "[1788 rows x 57546 columns]"
      ],
      "text/html": "<div>\n<style scoped>\n    .dataframe tbody tr th:only-of-type {\n        vertical-align: middle;\n    }\n\n    .dataframe tbody tr th {\n        vertical-align: top;\n    }\n\n    .dataframe thead th {\n        text-align: right;\n    }\n</style>\n<table border=\"1\" class=\"dataframe\">\n  <thead>\n    <tr style=\"text-align: right;\">\n      <th></th>\n      <th>a</th>\n      <th>aaronita</th>\n      <th>ab</th>\n      <th>aba</th>\n      <th>abab</th>\n      <th>ababillarse</th>\n      <th>abacería</th>\n      <th>abacorar</th>\n      <th>abacá</th>\n      <th>abad</th>\n      <th>...</th>\n      <th>últimas</th>\n      <th>último</th>\n      <th>úlula</th>\n      <th>únicamente</th>\n      <th>único</th>\n      <th>úrico</th>\n      <th>úrsido</th>\n      <th>útero</th>\n      <th>útil</th>\n      <th>ýpsilon</th>\n    </tr>\n    <tr>\n      <th>sublema</th>\n      <th></th>\n      <th></th>\n      <th></th>\n      <th></th>\n      <th></th>\n      <th></th>\n      <th></th>\n      <th></th>\n      <th></th>\n      <th></th>\n      <th></th>\n      <th></th>\n      <th></th>\n      <th></th>\n      <th></th>\n      <th></th>\n      <th></th>\n      <th></th>\n      <th></th>\n      <th></th>\n      <th></th>\n    </tr>\n  </thead>\n  <tbody>\n    <tr>\n      <th>abandonar</th>\n      <td>0</td>\n      <td>0</td>\n      <td>0</td>\n      <td>0</td>\n      <td>0</td>\n      <td>0</td>\n      <td>0</td>\n      <td>0</td>\n      <td>0</td>\n      <td>0</td>\n      <td>...</td>\n      <td>0</td>\n      <td>0</td>\n      <td>0</td>\n      <td>0</td>\n      <td>0</td>\n      <td>0</td>\n      <td>0</td>\n      <td>0</td>\n      <td>0</td>\n      <td>0</td>\n    </tr>\n    <tr>\n      <th>abatir</th>\n      <td>0</td>\n      <td>0</td>\n      <td>0</td>\n      <td>0</td>\n      <td>0</td>\n      <td>0</td>\n      <td>0</td>\n      <td>0</td>\n      <td>0</td>\n      <td>0</td>\n      <td>...</td>\n      <td>0</td>\n      <td>0</td>\n      <td>0</td>\n      <td>0</td>\n      <td>0</td>\n      <td>0</td>\n      <td>0</td>\n      <td>0</td>\n      <td>0</td>\n      <td>0</td>\n    </tr>\n    <tr>\n      <th>abeja</th>\n      <td>0</td>\n      <td>0</td>\n      <td>0</td>\n      <td>0</td>\n      <td>0</td>\n      <td>0</td>\n      <td>0</td>\n      <td>0</td>\n      <td>0</td>\n      <td>0</td>\n      <td>...</td>\n      <td>0</td>\n      <td>0</td>\n      <td>0</td>\n      <td>0</td>\n      <td>0</td>\n      <td>0</td>\n      <td>0</td>\n      <td>0</td>\n      <td>0</td>\n      <td>0</td>\n    </tr>\n    <tr>\n      <th>abertura</th>\n      <td>0</td>\n      <td>0</td>\n      <td>0</td>\n      <td>0</td>\n      <td>0</td>\n      <td>0</td>\n      <td>0</td>\n      <td>0</td>\n      <td>0</td>\n      <td>0</td>\n      <td>...</td>\n      <td>0</td>\n      <td>0</td>\n      <td>0</td>\n      <td>0</td>\n      <td>0</td>\n      <td>0</td>\n      <td>0</td>\n      <td>0</td>\n      <td>0</td>\n      <td>0</td>\n    </tr>\n    <tr>\n      <th>abiertamente</th>\n      <td>0</td>\n      <td>0</td>\n      <td>0</td>\n      <td>0</td>\n      <td>0</td>\n      <td>0</td>\n      <td>0</td>\n      <td>0</td>\n      <td>0</td>\n      <td>0</td>\n      <td>...</td>\n      <td>0</td>\n      <td>0</td>\n      <td>0</td>\n      <td>0</td>\n      <td>0</td>\n      <td>0</td>\n      <td>0</td>\n      <td>0</td>\n      <td>0</td>\n      <td>0</td>\n    </tr>\n    <tr>\n      <th>...</th>\n      <td>...</td>\n      <td>...</td>\n      <td>...</td>\n      <td>...</td>\n      <td>...</td>\n      <td>...</td>\n      <td>...</td>\n      <td>...</td>\n      <td>...</td>\n      <td>...</td>\n      <td>...</td>\n      <td>...</td>\n      <td>...</td>\n      <td>...</td>\n      <td>...</td>\n      <td>...</td>\n      <td>...</td>\n      <td>...</td>\n      <td>...</td>\n      <td>...</td>\n      <td>...</td>\n    </tr>\n    <tr>\n      <th>yeso</th>\n      <td>0</td>\n      <td>0</td>\n      <td>0</td>\n      <td>0</td>\n      <td>0</td>\n      <td>0</td>\n      <td>0</td>\n      <td>0</td>\n      <td>0</td>\n      <td>0</td>\n      <td>...</td>\n      <td>0</td>\n      <td>0</td>\n      <td>0</td>\n      <td>0</td>\n      <td>0</td>\n      <td>0</td>\n      <td>0</td>\n      <td>0</td>\n      <td>0</td>\n      <td>0</td>\n    </tr>\n    <tr>\n      <th>yugo</th>\n      <td>0</td>\n      <td>0</td>\n      <td>0</td>\n      <td>0</td>\n      <td>0</td>\n      <td>0</td>\n      <td>0</td>\n      <td>0</td>\n      <td>0</td>\n      <td>0</td>\n      <td>...</td>\n      <td>0</td>\n      <td>0</td>\n      <td>0</td>\n      <td>0</td>\n      <td>0</td>\n      <td>0</td>\n      <td>0</td>\n      <td>0</td>\n      <td>0</td>\n      <td>0</td>\n    </tr>\n    <tr>\n      <th>zaherir</th>\n      <td>0</td>\n      <td>0</td>\n      <td>0</td>\n      <td>0</td>\n      <td>0</td>\n      <td>0</td>\n      <td>0</td>\n      <td>0</td>\n      <td>0</td>\n      <td>0</td>\n      <td>...</td>\n      <td>0</td>\n      <td>0</td>\n      <td>0</td>\n      <td>0</td>\n      <td>0</td>\n      <td>0</td>\n      <td>0</td>\n      <td>0</td>\n      <td>0</td>\n      <td>0</td>\n    </tr>\n    <tr>\n      <th>zalamería</th>\n      <td>0</td>\n      <td>0</td>\n      <td>0</td>\n      <td>0</td>\n      <td>0</td>\n      <td>0</td>\n      <td>0</td>\n      <td>0</td>\n      <td>0</td>\n      <td>0</td>\n      <td>...</td>\n      <td>0</td>\n      <td>0</td>\n      <td>0</td>\n      <td>0</td>\n      <td>0</td>\n      <td>0</td>\n      <td>0</td>\n      <td>0</td>\n      <td>0</td>\n      <td>0</td>\n    </tr>\n    <tr>\n      <th>zascandil</th>\n      <td>0</td>\n      <td>0</td>\n      <td>0</td>\n      <td>0</td>\n      <td>0</td>\n      <td>0</td>\n      <td>0</td>\n      <td>0</td>\n      <td>0</td>\n      <td>0</td>\n      <td>...</td>\n      <td>0</td>\n      <td>0</td>\n      <td>0</td>\n      <td>0</td>\n      <td>0</td>\n      <td>0</td>\n      <td>0</td>\n      <td>0</td>\n      <td>0</td>\n      <td>0</td>\n    </tr>\n  </tbody>\n</table>\n<p>1788 rows × 57546 columns</p>\n</div>"
     },
     "metadata": {},
     "execution_count": 8
    }
   ],
   "source": [
    "mariax"
   ]
  },
  {
   "cell_type": "code",
   "execution_count": 9,
   "metadata": {},
   "outputs": [
    {
     "output_type": "execute_result",
     "data": {
      "text/plain": [
       "1788"
      ]
     },
     "metadata": {},
     "execution_count": 9
    }
   ],
   "source": [
    "len(mariax.index.tolist())"
   ]
  },
  {
   "cell_type": "code",
   "execution_count": 28,
   "metadata": {},
   "outputs": [
    {
     "output_type": "execute_result",
     "data": {
      "text/plain": [
       "'baño|beber|corriente|fuente|geología|hidráulico|húmedo|líquido|mancha|marina|mojar|química|tejado'"
      ]
     },
     "metadata": {},
     "execution_count": 28
    }
   ],
   "source": []
  },
  {
   "cell_type": "code",
   "execution_count": 46,
   "metadata": {},
   "outputs": [],
   "source": [
    "book_name = \"PHM\""
   ]
  },
  {
   "cell_type": "code",
   "execution_count": 47,
   "metadata": {},
   "outputs": [],
   "source": [
    "book_root = etree.parse(input_dir + book_name + \".xml\").getroot()"
   ]
  },
  {
   "cell_type": "code",
   "execution_count": 48,
   "metadata": {},
   "outputs": [
    {
     "output_type": "execute_result",
     "data": {
      "text/plain": [
       "[<Element {http://www.tei-c.org/ns/1.0}standOff at 0x2dd492f8848>]"
      ]
     },
     "metadata": {},
     "execution_count": 48
    }
   ],
   "source": [
    "book_root.xpath(\".//tei:standOff\", namespaces = namespaces)"
   ]
  },
  {
   "cell_type": "code",
   "execution_count": 49,
   "metadata": {},
   "outputs": [],
   "source": [
    "standOff_element_mariax = etree.fromstring( '<standOff xml:id=\"b.' + book_name + '.MariaX\" type=\"morphosyntactic\">\\n</standOff>')\n"
   ]
  },
  {
   "cell_type": "code",
   "execution_count": 67,
   "metadata": {},
   "outputs": [
    {
     "output_type": "stream",
     "name": "stdout",
     "text": [
      "1CH\n",
      "1CO\n",
      "1JO\n",
      "1KI\n",
      "1PE\n",
      "1SA\n",
      "1TH\n",
      "1TI\n",
      "2CH\n",
      "2CO\n",
      "2JO\n",
      "2KI\n",
      "2PE\n",
      "2SA\n",
      "2TH\n",
      "2TI\n",
      "3JO\n",
      "ACT\n",
      "AMO\n",
      "COL\n",
      "DAN\n",
      "DEU\n",
      "ECC\n",
      "EPH\n",
      "EST\n",
      "EXO\n",
      "EZE\n",
      "EZR\n",
      "GAL\n",
      "GEN\n",
      "HAB\n",
      "HAG\n",
      "HEB\n",
      "HOS\n",
      "ISA\n",
      "JAM\n",
      "JDG\n",
      "JER\n",
      "JOB\n",
      "JOE\n",
      "JOH\n",
      "JON\n",
      "JOS\n",
      "JUD\n",
      "LAM\n",
      "LEV\n",
      "LUK\n",
      "MAL\n",
      "MAR\n",
      "MAT\n",
      "MIC\n",
      "NAH\n",
      "NEH\n",
      "NUM\n",
      "OBA\n",
      "PHI\n",
      "PHM\n",
      "PRO\n",
      "PSA\n",
      "REV\n",
      "ROM\n",
      "RUT\n",
      "SON\n",
      "TIT\n",
      "ZEC\n",
      "ZEP\n"
     ]
    }
   ],
   "source": [
    "for book_path in glob.glob(input_dir + \"/*\"):\n",
    "    #print(book_path)\n",
    "    book_name = book_path[-7:-4]\n",
    "    print(book_name)\n",
    "\n",
    "    book_root = etree.parse(input_dir + book_name + \".xml\").getroot()\n",
    "\n",
    "\n",
    "    for verse in book_root.xpath(\".//tei:seg\", namespaces = namespaces):\n",
    "        #verse_id = verse.xpath(\"./@xml:id\")[0][0:-6]\n",
    "\n",
    "        #content_verse = '\\n<seg xml:id=\"' + verse_id + '.MariaX\" corresp=\"#' + verse_id + '\">\\n'\n",
    "        for sentence in verse.xpath(\"./tei:s\", namespaces = namespaces):\n",
    "            sentence_n = sentence.xpath(\"./@n\", namespaces = namespaces)[0]\n",
    "\n",
    "            #content_verse += '\\n<s n=\"'  + sentence_n+ '\">\\n'\n",
    "            for word in verse.xpath(\".//tei:w\", namespaces = namespaces):\n",
    "\n",
    "                \n",
    "                neclass = word.xpath(\"./@neclass\")\n",
    "                lemma = word.xpath(\"./@lemma\")[0]\n",
    "                n = word.xpath(\"./@n\")[0]\n",
    "                #if neclass != [\"person\"]:\n",
    "                if lemma in mariax.columns.tolist():\n",
    "                        #print(lemma)\n",
    "                #       content_verse +=  '<w n=\"' + n + '\" lemma=\"'  + lemma + '\" mariax=\"' + '|'.join(mariax.loc[:,lemma][(mariax.loc[:,lemma] > 0)].index.tolist()) + '\"/>\\n' \n",
    "                    word.attrib[\"mariax\"] =  '|'.join(mariax.loc[:,lemma][(mariax.loc[:,lemma] > 0)].index.tolist())\n",
    "            #content_verse += \"\\n</s>\"\n",
    "\n",
    "\n",
    "        #content_book += content_verse+ '\\n</seg>\\n'\n",
    "\n",
    "    #content_book += '\\n</standOff>'\n",
    "\n",
    "    book_root.getroottree().write(output_dir + book_name + '.xml', encoding=\"utf8\")\n"
   ]
  },
  {
   "cell_type": "code",
   "execution_count": 62,
   "metadata": {},
   "outputs": [],
   "source": [
    "book_root.getroottree().write(output_dir + book_name + '.xml', encoding=\"utf8\")\n"
   ]
  },
  {
   "cell_type": "code",
   "execution_count": 53,
   "metadata": {},
   "outputs": [],
   "source": [
    "\n",
    "content_book = '<standOff xml:id=\"b.' + book_name + '.MariaX\" type=\"morphosyntactic\">'\n",
    "\n",
    "for verse in book_root.xpath(\".//tei:seg\", namespaces = namespaces):\n",
    "    verse_id = verse.xpath(\"./@xml:id\")[0][0:-6]\n",
    "\n",
    "    content_verse = '\\n<seg xml:id=\"' + verse_id + '.MariaX\" corresp=\"#' + verse_id + '\">\\n'\n",
    "    for sentence in verse.xpath(\"./tei:s\", namespaces = namespaces):\n",
    "        sentence_n = sentence.xpath(\"./@n\", namespaces = namespaces)[0]\n",
    "\n",
    "        content_verse += '\\n<s n=\"'  + sentence_n+ '\">\\n'\n",
    "        for word in verse.xpath(\".//tei:w\", namespaces = namespaces):\n",
    "\n",
    "            \n",
    "            neclass = word.xpath(\"./@neclass\")\n",
    "            lemma = word.xpath(\"./@lemma\")[0]\n",
    "            n = word.xpath(\"./@n\")[0]\n",
    "            if neclass != [\"person\"]:\n",
    "                if lemma in mariax.columns.tolist():\n",
    "                    #print(lemma)\n",
    "                    content_verse +=  '<w n=\"' + n + '\" lemma=\"'  + lemma + '\" mariax=\"' + '|'.join(mariax.loc[:,lemma][(mariax.loc[:,lemma] > 0)].index.tolist()) + '\"/>\\n' \n",
    "        content_verse += \"\\n</s>\"\n",
    "\n",
    "\n",
    "    content_book += content_verse+ '\\n</seg>\\n'\n",
    "\n",
    "content_book += '\\n</standOff>'"
   ]
  },
  {
   "cell_type": "code",
   "execution_count": 54,
   "metadata": {},
   "outputs": [
    {
     "output_type": "execute_result",
     "data": {
      "text/plain": [
       "'<standOff xml:id=\"b.PHM.MariaX\" type=\"morphosyntactic\">\\n<seg xml:id=\"b.PHM.001.001.MariaX\" corresp=\"#b.PHM.001.001\">\\n\\n<s n=\"1\">\\n<w n=\"t1.3\" lemma=\"prisionero\" mariax=\"dominar|preso|retener\"/>\\n<w n=\"t1.4\" lemma=\"de\" mariax=\"acordar|adecuado|alfabeto|arrepentirse|asamblea|atravesar|baraja|barato|bello|calle|consecuencia|construir|corresponder|criticar|cuerda|denigrar|desacreditar|desembarazar|destruir|disgustar|disparar|énfasis|enfermedad|erguir|fama|grande|gustar|hostil|importar|impresión|imprevisión|informar|insistir|insultar|intención|levantar|libre|lugar|lujo|mandar|marina|milicia|mirar|mostrar|muchacho|mucho|murmurar|opinión|oportuno|pagar|pedir|ponderar|poseer|pretender|principiar|proceder|propio|proyecto|queja|rápido|repentino|reprender|rico|sacar|separar|servir|tener|tirar|vestir|voluntad\"/>\\n<w n=\"t1.7\" lemma=\"y\" mariax=\"antes|concesivo|condición|desaprobar|diferir|electricidad|elemento|expresión|forzar|futuro|indeterminado|mandar|predecir|terminar\"/>\\n<w n=\"t1.8\" lemma=\"el\" mariax=\"aprovechar|echar|enfadar|exclamar|gustar|principiar|protestar|retrete\"/>\\n<w n=\"t1.9\" lemma=\"hermano\" mariax=\"monje|orden|parecer|pariente|tratar\"/>\\n<w n=\"t1.12\" lemma=\"a\" mariax=\"acción|alfabeto|amigo|arma|asamblea|atravesar|bien|compensar|concesivo|consecuencia|construir|creer|decidir|descubrir|dirigir|disparar|énfasis|equitación|exceptuar|falta|hipotético|hostil|imprevisión|incrédulo|interrumpir|letra|lugar|medio|montar|negar|negocio|nota|oportuno|parecer|plantar|poner|predecir|principiar|prometer|próximo|referir|repartir|risa|saludar|secreto|suceder|suerte|terminar|tiempo|transigir|unir|vender|violento|voluntad\"/>\\n<w n=\"t1.13\" lemma=\"el\" mariax=\"aprovechar|echar|enfadar|exclamar|gustar|principiar|protestar|retrete\"/>\\n<w n=\"t1.17\" lemma=\"colaborador\" mariax=\"escribir|literatura|participar|periódico\"/>\\n<w n=\"t1.18\" lemma=\"nuestro\" mariax=\"difícil|sujetar\"/>\\n\\n</s>\\n</seg>\\n\\n<seg xml:id=\"b.PHM.001.002.MariaX\" corresp=\"#b.PHM.001.002\">\\n\\n<s n=\"1\">\\n<w n=\"t1.1\" lemma=\"a\" mariax=\"acción|alfabeto|amigo|arma|asamblea|atravesar|bien|compensar|concesivo|consecuencia|construir|creer|decidir|descubrir|dirigir|disparar|énfasis|equitación|exceptuar|falta|hipotético|hostil|imprevisión|incrédulo|interrumpir|letra|lugar|medio|montar|negar|negocio|nota|oportuno|parecer|plantar|poner|predecir|principiar|prometer|próximo|referir|repartir|risa|saludar|secreto|suceder|suerte|terminar|tiempo|transigir|unir|vender|violento|voluntad\"/>\\n<w n=\"t1.2\" lemma=\"el\" mariax=\"aprovechar|echar|enfadar|exclamar|gustar|principiar|protestar|retrete\"/>\\n<w n=\"t1.4\" lemma=\"hermano\" mariax=\"monje|orden|parecer|pariente|tratar\"/>\\n<w n=\"t1.7\" lemma=\"a\" mariax=\"acción|alfabeto|amigo|arma|asamblea|atravesar|bien|compensar|concesivo|consecuencia|construir|creer|decidir|descubrir|dirigir|disparar|énfasis|equitación|exceptuar|falta|hipotético|hostil|imprevisión|incrédulo|interrumpir|letra|lugar|medio|montar|negar|negocio|nota|oportuno|parecer|plantar|poner|predecir|principiar|prometer|próximo|referir|repartir|risa|saludar|secreto|suceder|suerte|terminar|tiempo|transigir|unir|vender|violento|voluntad\"/>\\n<w n=\"t1.10\" lemma=\"nuestro\" mariax=\"difícil|sujetar\"/>\\n<w n=\"t1.11\" lemma=\"compañero\" mariax=\"adecuado|amancebarse|amigo|asociar|compañía|conjunto|jugar\"/>\\n<w n=\"t1.12\" lemma=\"de\" mariax=\"acordar|adecuado|alfabeto|arrepentirse|asamblea|atravesar|baraja|barato|bello|calle|consecuencia|construir|corresponder|criticar|cuerda|denigrar|desacreditar|desembarazar|destruir|disgustar|disparar|énfasis|enfermedad|erguir|fama|grande|gustar|hostil|importar|impresión|imprevisión|informar|insistir|insultar|intención|levantar|libre|lugar|lujo|mandar|marina|milicia|mirar|mostrar|muchacho|mucho|murmurar|opinión|oportuno|pagar|pedir|ponderar|poseer|pretender|principiar|proceder|propio|proyecto|queja|rápido|repentino|reprender|rico|sacar|separar|servir|tener|tirar|vestir|voluntad\"/>\\n<w n=\"t1.13\" lemma=\"milicia\" mariax=\"actividad|empleo|formación|fortificar|gente|guerra|luchar|paz|soldado|tropa\"/>\\n<w n=\"t1.15\" lemma=\"y\" mariax=\"antes|concesivo|condición|desaprobar|diferir|electricidad|elemento|expresión|forzar|futuro|indeterminado|mandar|predecir|terminar\"/>\\n<w n=\"t1.16\" lemma=\"a\" mariax=\"acción|alfabeto|amigo|arma|asamblea|atravesar|bien|compensar|concesivo|consecuencia|construir|creer|decidir|descubrir|dirigir|disparar|énfasis|equitación|exceptuar|falta|hipotético|hostil|imprevisión|incrédulo|interrumpir|letra|lugar|medio|montar|negar|negocio|nota|oportuno|parecer|plantar|poner|predecir|principiar|prometer|próximo|referir|repartir|risa|saludar|secreto|suceder|suerte|terminar|tiempo|transigir|unir|vender|violento|voluntad\"/>\\n<w n=\"t1.17\" lemma=\"el\" mariax=\"aprovechar|echar|enfadar|exclamar|gustar|principiar|protestar|retrete\"/>\\n<w n=\"t1.18\" lemma=\"iglesia\" mariax=\"altar|arquitectura|cristiano|culto|eclesiástico|edificio|parroquia|religión|teología\"/>\\n<w n=\"t1.19\" lemma=\"que\" mariax=\"adversativo|afirmar|causa|censurar|charlar|chisme|concesivo|condición|cooperar|corregir|cortés|desear|difícil|ejemplo|enfadar|énfasis|exclamar|extrañar|hipotético|indigno|intolerable|lugar|mandar|necesario|negar|no|ponderar|posible|precaución|queja\"/>\\n<w n=\"t1.20\" lemma=\"estar\" mariax=\"acomodar|adecuado|amable|amigo|aprobar|armonía|bello|cautela|chasco|contemporizar|corresponder|cuidar|deporte|desconfiar|desear|difícil|efecto|embelesar|encolerizar|enemigo|equivocar|esgrima|evidente|existir|habitar|ilusión|marina|molestar|obstinación|partidario|peligro|permanecer|poco|precaución|prevenir|resistir|satisfacer|seguir|situación|sospechar|terminar|ventaja|vestir|vivir\"/>\\n<w n=\"t1.21\" lemma=\"en\" mariax=\"acción|adecuado|afirmar|arruinar|barato|barco|cambiar|compensar|conjunto|consecuencia|contorno|descubrir|desgracia|difícil|emprender|encerrar|ensalzar|erguir|guiar|igual|incluir|intención|interés|interrumpir|intervenir|juzgar|lugar|manejar|montar|mucho|ocultar|partir|ponderar|precio|principiar|rápido|referir|reflexionar|relación|rico|terminar|tiempo|tirar|toro|tranquilo|transigir|tribunal|valer|verdad\"/>\\n<w n=\"t1.22\" lemma=\"tu\" mariax=\"arbitrario|bien|coacción|desear|desengaño|familia|forzar|ganar|gustar|indeterminado|intervenir|íntimo|ir|obligar|opinión|pensar|propio|proyecto|referir|solo|trabajar|voluntad\"/>\\n<w n=\"t1.23\" lemma=\"casa\" mariax=\"alojar|arquitectura|bien|comercio|construir|edificio|emprender|establecer|familia|habitar|linaje|noble|población|señor|servir|vivienda\"/>\\n\\n</s>\\n</seg>\\n\\n<seg xml:id=\"b.PHM.001.003.MariaX\" corresp=\"#b.PHM.001.003\">\\n\\n<s n=\"1\">\\n<w n=\"t1.1\" lemma=\"gracia\" mariax=\"agradar|armonía|atraer|bello|beneficiar|conceder|condimentar|dar|decir|desenvoltura|dicho|donación|elegante|encantar|enterrar|fastidio|favor|gallardo|hábil|ingenio|niño|nombre|perdonar|protestar|simpatía|teología|tratar|virtud\"/>\\n<w n=\"t1.2\" lemma=\"y\" mariax=\"antes|concesivo|condición|desaprobar|diferir|electricidad|elemento|expresión|forzar|futuro|indeterminado|mandar|predecir|terminar\"/>\\n<w n=\"t1.3\" lemma=\"paz\" mariax=\"acordar|armonía|derecho|devoción|guerra|luchar|misa|quieto|saludar|tranquilo\"/>\\n<w n=\"t1.4\" lemma=\"a\" mariax=\"acción|alfabeto|amigo|arma|asamblea|atravesar|bien|compensar|concesivo|consecuencia|construir|creer|decidir|descubrir|dirigir|disparar|énfasis|equitación|exceptuar|falta|hipotético|hostil|imprevisión|incrédulo|interrumpir|letra|lugar|medio|montar|negar|negocio|nota|oportuno|parecer|plantar|poner|predecir|principiar|prometer|próximo|referir|repartir|risa|saludar|secreto|suceder|suerte|terminar|tiempo|transigir|unir|vender|violento|voluntad\"/>\\n<w n=\"t1.5\" lemma=\"vosotros\" mariax=\"llamar|nombre|permitir|tratar\"/>\\n<w n=\"t1.7\" lemma=\"de\" mariax=\"acordar|adecuado|alfabeto|arrepentirse|asamblea|atravesar|baraja|barato|bello|calle|consecuencia|construir|corresponder|criticar|cuerda|denigrar|desacreditar|desembarazar|destruir|disgustar|disparar|énfasis|enfermedad|erguir|fama|grande|gustar|hostil|importar|impresión|imprevisión|informar|insistir|insultar|intención|levantar|libre|lugar|lujo|mandar|marina|milicia|mirar|mostrar|muchacho|mucho|murmurar|opinión|oportuno|pagar|pedir|ponderar|poseer|pretender|principiar|proceder|propio|proyecto|queja|rápido|repentino|reprender|rico|sacar|separar|servir|tener|tirar|vestir|voluntad\"/>\\n<w n=\"t1.9\" lemma=\"nuestro\" mariax=\"difícil|sujetar\"/>\\n<w n=\"t1.11\" lemma=\"y\" mariax=\"antes|concesivo|condición|desaprobar|diferir|electricidad|elemento|expresión|forzar|futuro|indeterminado|mandar|predecir|terminar\"/>\\n<w n=\"t1.12\" lemma=\"de\" mariax=\"acordar|adecuado|alfabeto|arrepentirse|asamblea|atravesar|baraja|barato|bello|calle|consecuencia|construir|corresponder|criticar|cuerda|denigrar|desacreditar|desembarazar|destruir|disgustar|disparar|énfasis|enfermedad|erguir|fama|grande|gustar|hostil|importar|impresión|imprevisión|informar|insistir|insultar|intención|levantar|libre|lugar|lujo|mandar|marina|milicia|mirar|mostrar|muchacho|mucho|murmurar|opinión|oportuno|pagar|pedir|ponderar|poseer|pretender|principiar|proceder|propio|proyecto|queja|rápido|repentino|reprender|rico|sacar|separar|servir|tener|tirar|vestir|voluntad\"/>\\n<w n=\"t1.13\" lemma=\"el\" mariax=\"aprovechar|echar|enfadar|exclamar|gustar|principiar|protestar|retrete\"/>\\n\\n</s>\\n</seg>\\n\\n<seg xml:id=\"b.PHM.001.004.MariaX\" corresp=\"#b.PHM.001.004\">\\n\\n<s n=\"1\">\\n<w n=\"t1.1\" lemma=\"dar\" mariax=\"admitir|agradecer|alegre|atacar|atender|autoridad|ayudar|baraja|chasco|chocar|compensar|comprometer|conceder|cortés|creer|criar|cuenta|decir|defender|dejar|delegar|depositar|despojar|desprender|destinar|disgustar|disparar|donación|empleo|enemigo|entregar|espectáculo|expresar|flor|fruto|garantía|golpe|guardar|guerra|hablar|idea|importar|indiferente|informar|insistir|ley|llamar|luz|mama|mandar|marina|molestar|morir|negocio|nombre|noticia|oler|opinión|pasar|permitir|perseguir|preocupar|principiar|producir|rechazar|regalar|reloj|renta|renunciar|repartir|reprender|representar|responsabilidad|retroceder|risa|saludar|sol|someter|sonar|sonsacar|suerte|teatro|terminar|tocar|toro|vencer|vigilar\"/>\\n<w n=\"t1.3\" lemma=\"mi\" mariax=\"bien|desengaño|familia|ganar|nota\"/>\\n<w n=\"t1.6\" lemma=\"hacer\" mariax=\"acción|acomodar|acostumbrar|actividad|agradar|armonía|cama|cambiar|cantidad|capacidad|causa|comer|comparar|componer|confundir|contrario|contrato|convenir|conversar|cooperar|copiar|crear|cuenta|curvo|desafiar|destruir|efecto|enfermedad|entretener|equivocar|esforzar|espectáculo|estar|evacuar|fastidio|forzar|fotografía|fútbol|fútbol|hablar|heredar|herir|ilusión|impresión|jugar|meteorología|negar|obligar|oponer|oportuno|orden|parecer|precio|presumir|producir|proyecto|real|rechazar|recipiente|referir|relación|representar|retroceder|suponer|teatro|tiempo|trabajar|vencer|viento|vigilar\"/>\\n<w n=\"t1.7\" lemma=\"siempre\" mariax=\"amable|condición|infalible|permanecer|repetir|tiempo\"/>\\n<w n=\"t1.8\" lemma=\"memoria\" mariax=\"asociar|desagradar|devoción|escribir|estudiar|grado|heredar|informar|informática|inteligencia|recordar|saber|triste\"/>\\n<w n=\"t1.9\" lemma=\"de\" mariax=\"acordar|adecuado|alfabeto|arrepentirse|asamblea|atravesar|baraja|barato|bello|calle|consecuencia|construir|corresponder|criticar|cuerda|denigrar|desacreditar|desembarazar|destruir|disgustar|disparar|énfasis|enfermedad|erguir|fama|grande|gustar|hostil|importar|impresión|imprevisión|informar|insistir|insultar|intención|levantar|libre|lugar|lujo|mandar|marina|milicia|mirar|mostrar|muchacho|mucho|murmurar|opinión|oportuno|pagar|pedir|ponderar|poseer|pretender|principiar|proceder|propio|proyecto|queja|rápido|repentino|reprender|rico|sacar|separar|servir|tener|tirar|vestir|voluntad\"/>\\n<w n=\"t1.10\" lemma=\"ti\" mariax=\"elemento|íntimo|permitir\"/>\\n<w n=\"t1.11\" lemma=\"en\" mariax=\"acción|adecuado|afirmar|arruinar|barato|barco|cambiar|compensar|conjunto|consecuencia|contorno|descubrir|desgracia|difícil|emprender|encerrar|ensalzar|erguir|guiar|igual|incluir|intención|interés|interrumpir|intervenir|juzgar|lugar|manejar|montar|mucho|ocultar|partir|ponderar|precio|principiar|rápido|referir|reflexionar|relación|rico|terminar|tiempo|tirar|toro|tranquilo|transigir|tribunal|valer|verdad\"/>\\n<w n=\"t1.12\" lemma=\"mi\" mariax=\"bien|desengaño|familia|ganar|nota\"/>\\n<w n=\"t1.13\" lemma=\"oración\" mariax=\"campana|culto|devoción|día|expresar|gramática|rezar|verbo\"/>\\n\\n</s>\\n</seg>\\n\\n<seg xml:id=\"b.PHM.001.005.MariaX\" corresp=\"#b.PHM.001.005\">\\n\\n<s n=\"1\">\\n<w n=\"t1.1\" lemma=\"porque\" mariax=\"causa\"/>\\n<w n=\"t1.2\" lemma=\"oír\" mariax=\"acceder|callar|desentenderse|notar|sonar|tribunal\"/>\\n<w n=\"t1.3\" lemma=\"de\" mariax=\"acordar|adecuado|alfabeto|arrepentirse|asamblea|atravesar|baraja|barato|bello|calle|consecuencia|construir|corresponder|criticar|cuerda|denigrar|desacreditar|desembarazar|destruir|disgustar|disparar|énfasis|enfermedad|erguir|fama|grande|gustar|hostil|importar|impresión|imprevisión|informar|insistir|insultar|intención|levantar|libre|lugar|lujo|mandar|marina|milicia|mirar|mostrar|muchacho|mucho|murmurar|opinión|oportuno|pagar|pedir|ponderar|poseer|pretender|principiar|proceder|propio|proyecto|queja|rápido|repentino|reprender|rico|sacar|separar|servir|tener|tirar|vestir|voluntad\"/>\\n<w n=\"t1.4\" lemma=\"el\" mariax=\"aprovechar|echar|enfadar|exclamar|gustar|principiar|protestar|retrete\"/>\\n<w n=\"t1.5\" lemma=\"amor\" mariax=\"admirar|amor|apasionar|armonía|cariño|compadecer|cortejar|enamorar|espina|mujer|novio|reproducción|sentir|sexo|tender\"/>\\n<w n=\"t1.6\" lemma=\"y\" mariax=\"antes|concesivo|condición|desaprobar|diferir|electricidad|elemento|expresión|forzar|futuro|indeterminado|mandar|predecir|terminar\"/>\\n<w n=\"t1.7\" lemma=\"de\" mariax=\"acordar|adecuado|alfabeto|arrepentirse|asamblea|atravesar|baraja|barato|bello|calle|consecuencia|construir|corresponder|criticar|cuerda|denigrar|desacreditar|desembarazar|destruir|disgustar|disparar|énfasis|enfermedad|erguir|fama|grande|gustar|hostil|importar|impresión|imprevisión|informar|insistir|insultar|intención|levantar|libre|lugar|lujo|mandar|marina|milicia|mirar|mostrar|muchacho|mucho|murmurar|opinión|oportuno|pagar|pedir|ponderar|poseer|pretender|principiar|proceder|propio|proyecto|queja|rápido|repentino|reprender|rico|sacar|separar|servir|tener|tirar|vestir|voluntad\"/>\\n<w n=\"t1.8\" lemma=\"el\" mariax=\"aprovechar|echar|enfadar|exclamar|gustar|principiar|protestar|retrete\"/>\\n<w n=\"t1.9\" lemma=\"fe\" mariax=\"confiar|creer|elemento|opinión|prometer|religión|teología|testimonio|virtud\"/>\\n<w n=\"t1.10\" lemma=\"que\" mariax=\"adversativo|afirmar|causa|censurar|charlar|chisme|concesivo|condición|cooperar|corregir|cortés|desear|difícil|ejemplo|enfadar|énfasis|exclamar|extrañar|hipotético|indigno|intolerable|lugar|mandar|necesario|negar|no|ponderar|posible|precaución|queja\"/>\\n<w n=\"t1.11\" lemma=\"tener\" mariax=\"alegre|amenazar|aprovechar|asamblea|atender|aturdir|beber|borracho|callar|complacer|consecuencia|considerar|convenir|conversar|cooperar|cuidar|desengaño|detener|difícil|dirigir|disgustar|dominar|edad|embelesar|estimar|experiencia|fastidio|hablar|hambre|idea|imponer|intervenir|intranquilo|mandar|negocio|noticia|ocupar|ofuscar|parecer|poseer|precaución|principiar|profesión|propiedad|real|referir|reservar|resultar|retener|rico|sentir|sostener|sustituir|temer|travieso\"/>\\n<w n=\"t1.12\" lemma=\"hacia\" mariax=\"aproximar|dirigir|postura|tiempo|tratar\"/>\\n<w n=\"t1.13\" lemma=\"el\" mariax=\"aprovechar|echar|enfadar|exclamar|gustar|principiar|protestar|retrete\"/>\\n<w n=\"t1.15\" lemma=\"y\" mariax=\"antes|concesivo|condición|desaprobar|diferir|electricidad|elemento|expresión|forzar|futuro|indeterminado|mandar|predecir|terminar\"/>\\n<w n=\"t1.16\" lemma=\"para\" mariax=\"aprovechar|contiguo|cooperar|desconfiar|desdecir|despreciar|diferir|dirigir|inminente|intención|íntimo|inútil|investigar|joven|justo|oponer|recado|relación|superior|tender|terminar|tiempo|tratar|valer\"/>\\n<w n=\"t1.17\" lemma=\"con\" mariax=\"arrepentirse|caer|compañía|concesivo|contener|cooperar|desengaño|después|disgustar|enfadar|exagerar|exceptuar|fijar|frecuente|gustar|hablar|hipotético|juntar|mucho|norma|participar|ponderar|relación|reunir|tiempo|trabajar|tranquilo|transigir|tratar|unir|verdad|voluntad\"/>\\n<w n=\"t1.18\" lemma=\"todo\" mariax=\"baraja|completo|componer|énfasis|hipotético|igual|muy|parecer|persona|transigir\"/>\\n<w n=\"t1.19\" lemma=\"el\" mariax=\"aprovechar|echar|enfadar|exclamar|gustar|principiar|protestar|retrete\"/>\\n<w n=\"t1.20\" lemma=\"santo\" mariax=\"año|cielo|dibujo|efecto|escultura|farmacia|fecha|fiesta|grabar|guardar|iglesia|imagen|ladrillo|madera|nombre|recordar|religión|respetar|semana|teología|tiempo|vigilar|virtud\"/>\\n\\n</s>\\n</seg>\\n\\n<seg xml:id=\"b.PHM.001.006.MariaX\" corresp=\"#b.PHM.001.006\">\\n\\n<s n=\"1\">\\n<w n=\"t1.1\" lemma=\"y\" mariax=\"antes|concesivo|condición|desaprobar|diferir|electricidad|elemento|expresión|forzar|futuro|indeterminado|mandar|predecir|terminar\"/>\\n<w n=\"t1.2\" lemma=\"pedir\" mariax=\"apoderar|baraja|comercio|complacer|completo|dar|decir|dios|exigir|impulso|medicina|medir|mendigo|necesario|novio|opinión|oportuno|precio|reprender|responsabilidad|rezar|severo|tribunal\"/>\\n<w n=\"t1.3\" lemma=\"para\" mariax=\"aprovechar|contiguo|cooperar|desconfiar|desdecir|despreciar|diferir|dirigir|inminente|intención|íntimo|inútil|investigar|joven|justo|oponer|recado|relación|superior|tender|terminar|tiempo|tratar|valer\"/>\\n<w n=\"t1.4\" lemma=\"que\" mariax=\"adversativo|afirmar|causa|censurar|charlar|chisme|concesivo|condición|cooperar|corregir|cortés|desear|difícil|ejemplo|enfadar|énfasis|exclamar|extrañar|hipotético|indigno|intolerable|lugar|mandar|necesario|negar|no|ponderar|posible|precaución|queja\"/>\\n<w n=\"t1.5\" lemma=\"el\" mariax=\"aprovechar|echar|enfadar|exclamar|gustar|principiar|protestar|retrete\"/>\\n<w n=\"t1.6\" lemma=\"participación\" mariax=\"anunciar|carta|cooperar|decir|escribir|imprimir|interés|intervenir|lotería|noticia|papel|parte|participar|repartir\"/>\\n<w n=\"t1.7\" lemma=\"de\" mariax=\"acordar|adecuado|alfabeto|arrepentirse|asamblea|atravesar|baraja|barato|bello|calle|consecuencia|construir|corresponder|criticar|cuerda|denigrar|desacreditar|desembarazar|destruir|disgustar|disparar|énfasis|enfermedad|erguir|fama|grande|gustar|hostil|importar|impresión|imprevisión|informar|insistir|insultar|intención|levantar|libre|lugar|lujo|mandar|marina|milicia|mirar|mostrar|muchacho|mucho|murmurar|opinión|oportuno|pagar|pedir|ponderar|poseer|pretender|principiar|proceder|propio|proyecto|queja|rápido|repentino|reprender|rico|sacar|separar|servir|tener|tirar|vestir|voluntad\"/>\\n<w n=\"t1.8\" lemma=\"tu\" mariax=\"arbitrario|bien|coacción|desear|desengaño|familia|forzar|ganar|gustar|indeterminado|intervenir|íntimo|ir|obligar|opinión|pensar|propio|proyecto|referir|solo|trabajar|voluntad\"/>\\n<w n=\"t1.9\" lemma=\"fe\" mariax=\"confiar|creer|elemento|opinión|prometer|religión|teología|testimonio|virtud\"/>\\n<w n=\"t1.10\" lemma=\"ser\" mariax=\"bueno|convertir|cosa|costar|difícil|esencia|existir|experiencia|fingir|igual|imponer|importar|inquieto|intervenir|justo|merecer|representar|seco|sobresalir|solución|superior|tiempo\"/>\\n<w n=\"t1.11\" lemma=\"eficaz\" mariax=\"actividad|apto|bueno|diligente|efecto|hábil|inteligencia|producir|remedio|útil\"/>\\n<w n=\"t1.12\" lemma=\"en\" mariax=\"acción|adecuado|afirmar|arruinar|barato|barco|cambiar|compensar|conjunto|consecuencia|contorno|descubrir|desgracia|difícil|emprender|encerrar|ensalzar|erguir|guiar|igual|incluir|intención|interés|interrumpir|intervenir|juzgar|lugar|manejar|montar|mucho|ocultar|partir|ponderar|precio|principiar|rápido|referir|reflexionar|relación|rico|terminar|tiempo|tirar|toro|tranquilo|transigir|tribunal|valer|verdad\"/>\\n<w n=\"t1.13\" lemma=\"el\" mariax=\"aprovechar|echar|enfadar|exclamar|gustar|principiar|protestar|retrete\"/>\\n<w n=\"t1.14\" lemma=\"conocimiento\" mariax=\"comercio|conocer|decir|documento|enterar|garantía|idea|informar|marina|negocio|persona|razón|recibir|saber|sensato|sentido|transportar|tratar\"/>\\n<w n=\"t1.15\" lemma=\"de\" mariax=\"acordar|adecuado|alfabeto|arrepentirse|asamblea|atravesar|baraja|barato|bello|calle|consecuencia|construir|corresponder|criticar|cuerda|denigrar|desacreditar|desembarazar|destruir|disgustar|disparar|énfasis|enfermedad|erguir|fama|grande|gustar|hostil|importar|impresión|imprevisión|informar|insistir|insultar|intención|levantar|libre|lugar|lujo|mandar|marina|milicia|mirar|mostrar|muchacho|mucho|murmurar|opinión|oportuno|pagar|pedir|ponderar|poseer|pretender|principiar|proceder|propio|proyecto|queja|rápido|repentino|reprender|rico|sacar|separar|servir|tener|tirar|vestir|voluntad\"/>\\n<w n=\"t1.16\" lemma=\"todo\" mariax=\"baraja|completo|componer|énfasis|hipotético|igual|muy|parecer|persona|transigir\"/>\\n<w n=\"t1.17\" lemma=\"el\" mariax=\"aprovechar|echar|enfadar|exclamar|gustar|principiar|protestar|retrete\"/>\\n<w n=\"t1.18\" lemma=\"bien\" mariax=\"abundar|acomodar|adecuado|agradar|aprobar|armonía|asombrar|aspecto|bello|beneficiar|bueno|cara|ceder|chasco|cómodo|conformar|corregir|corresponder|daño|desaprobar|despedir|enterar|examinar|favor|felicidad|gustar|indigno|magnífico|malo|muy|naturalidad|ponderar|predecir|protestar|salud|vestir\"/>\\n<w n=\"t1.19\" lemma=\"que\" mariax=\"adversativo|afirmar|causa|censurar|charlar|chisme|concesivo|condición|cooperar|corregir|cortés|desear|difícil|ejemplo|enfadar|énfasis|exclamar|extrañar|hipotético|indigno|intolerable|lugar|mandar|necesario|negar|no|ponderar|posible|precaución|queja\"/>\\n<w n=\"t1.20\" lemma=\"estar\" mariax=\"acomodar|adecuado|amable|amigo|aprobar|armonía|bello|cautela|chasco|contemporizar|corresponder|cuidar|deporte|desconfiar|desear|difícil|efecto|embelesar|encolerizar|enemigo|equivocar|esgrima|evidente|existir|habitar|ilusión|marina|molestar|obstinación|partidario|peligro|permanecer|poco|precaución|prevenir|resistir|satisfacer|seguir|situación|sospechar|terminar|ventaja|vestir|vivir\"/>\\n<w n=\"t1.21\" lemma=\"en\" mariax=\"acción|adecuado|afirmar|arruinar|barato|barco|cambiar|compensar|conjunto|consecuencia|contorno|descubrir|desgracia|difícil|emprender|encerrar|ensalzar|erguir|guiar|igual|incluir|intención|interés|interrumpir|intervenir|juzgar|lugar|manejar|montar|mucho|ocultar|partir|ponderar|precio|principiar|rápido|referir|reflexionar|relación|rico|terminar|tiempo|tirar|toro|tranquilo|transigir|tribunal|valer|verdad\"/>\\n<w n=\"t1.22\" lemma=\"vosotros\" mariax=\"llamar|nombre|permitir|tratar\"/>\\n<w n=\"t1.23\" lemma=\"por\" mariax=\"aislar|alabar|aliviar|aproximar|cambiar|causa|coacción|cobrar|comercio|compensar|concesivo|conjunto|consecuencia|considerar|continuar|costar|defender|desear|difícil|equivocar|evidente|fecha|forzar|frecuente|heráldica|hipotético|ignorar|igual|inconveniente|injustificado|intervenir|investigar|lugar|mandar|matemática|mucho|multiplicar|negar|obligar|parcial|partidario|pasar|preferir|protestar|rabia|referir|relación|repartir|representar|terminar|tiempo|todo|trabajar|transigir|trastornar|vender|violento\"/>\\n\\n</s>\\n</seg>\\n\\n<seg xml:id=\"b.PHM.001.007.MariaX\" corresp=\"#b.PHM.001.007\">\\n\\n<s n=\"1\">\\n<w n=\"t1.1\" lemma=\"pues\" mariax=\"afirmar|asentir|causa|cierto|consecuencia|enfadar|énfasis|exclamar|negar|no|ponderar|preguntar|protestar|reprender|vacilar\"/>\\n<w n=\"t1.2\" lemma=\"tener\" mariax=\"alegre|amenazar|aprovechar|asamblea|atender|aturdir|beber|borracho|callar|complacer|consecuencia|considerar|convenir|conversar|cooperar|cuidar|desengaño|detener|difícil|dirigir|disgustar|dominar|edad|embelesar|estimar|experiencia|fastidio|hablar|hambre|idea|imponer|intervenir|intranquilo|mandar|negocio|noticia|ocupar|ofuscar|parecer|poseer|precaución|principiar|profesión|propiedad|real|referir|reservar|resultar|retener|rico|sentir|sostener|sustituir|temer|travieso\"/>\\n<w n=\"t1.3\" lemma=\"gran\" mariax=\"elevar|fama|transportar\"/>\\n<w n=\"t1.4\" lemma=\"gozo\" mariax=\"alegre|llama|placer\"/>\\n<w n=\"t1.5\" lemma=\"y\" mariax=\"antes|concesivo|condición|desaprobar|diferir|electricidad|elemento|expresión|forzar|futuro|indeterminado|mandar|predecir|terminar\"/>\\n<w n=\"t1.6\" lemma=\"consolación\" mariax=\"baraja|limosna|mendigo\"/>\\n<w n=\"t1.7\" lemma=\"en\" mariax=\"acción|adecuado|afirmar|arruinar|barato|barco|cambiar|compensar|conjunto|consecuencia|contorno|descubrir|desgracia|difícil|emprender|encerrar|ensalzar|erguir|guiar|igual|incluir|intención|interés|interrumpir|intervenir|juzgar|lugar|manejar|montar|mucho|ocultar|partir|ponderar|precio|principiar|rápido|referir|reflexionar|relación|rico|terminar|tiempo|tirar|toro|tranquilo|transigir|tribunal|valer|verdad\"/>\\n<w n=\"t1.8\" lemma=\"tu\" mariax=\"arbitrario|bien|coacción|desear|desengaño|familia|forzar|ganar|gustar|indeterminado|intervenir|íntimo|ir|obligar|opinión|pensar|propio|proyecto|referir|solo|trabajar|voluntad\"/>\\n<w n=\"t1.9\" lemma=\"amor\" mariax=\"admirar|amor|apasionar|armonía|cariño|compadecer|cortejar|enamorar|espina|mujer|novio|reproducción|sentir|sexo|tender\"/>\\n<w n=\"t1.11\" lemma=\"porque\" mariax=\"causa\"/>\\n<w n=\"t1.12\" lemma=\"por\" mariax=\"aislar|alabar|aliviar|aproximar|cambiar|causa|coacción|cobrar|comercio|compensar|concesivo|conjunto|consecuencia|considerar|continuar|costar|defender|desear|difícil|equivocar|evidente|fecha|forzar|frecuente|heráldica|hipotético|ignorar|igual|inconveniente|injustificado|intervenir|investigar|lugar|mandar|matemática|mucho|multiplicar|negar|obligar|parcial|partidario|pasar|preferir|protestar|rabia|referir|relación|repartir|representar|terminar|tiempo|todo|trabajar|transigir|trastornar|vender|violento\"/>\\n<w n=\"t1.13\" lemma=\"ti\" mariax=\"elemento|íntimo|permitir\"/>\\n<w n=\"t1.15\" lemma=\"hermano\" mariax=\"monje|orden|parecer|pariente|tratar\"/>\\n<w n=\"t1.17\" lemma=\"haber\" mariax=\"alegre|apresar|bien|bulla|coger|componer|cuenta|difícil|existir|merecer|negocio|poseer|riña|suceder|tener\"/>\\n<w n=\"t1.18\" lemma=\"ser\" mariax=\"bueno|convertir|cosa|costar|difícil|esencia|existir|experiencia|fingir|igual|imponer|importar|inquieto|intervenir|justo|merecer|representar|seco|sobresalir|solución|superior|tiempo\"/>\\n<w n=\"t1.19\" lemma=\"confortar\" mariax=\"aliviar|ánimo|consolar|fortalecer|fuerte|reforzar\"/>\\n<w n=\"t1.20\" lemma=\"el\" mariax=\"aprovechar|echar|enfadar|exclamar|gustar|principiar|protestar|retrete\"/>\\n<w n=\"t1.21\" lemma=\"corazón\" mariax=\"amor|enfermedad|forma|fruto|heráldica|sangre|sentir|valiente\"/>\\n<w n=\"t1.22\" lemma=\"de\" mariax=\"acordar|adecuado|alfabeto|arrepentirse|asamblea|atravesar|baraja|barato|bello|calle|consecuencia|construir|corresponder|criticar|cuerda|denigrar|desacreditar|desembarazar|destruir|disgustar|disparar|énfasis|enfermedad|erguir|fama|grande|gustar|hostil|importar|impresión|imprevisión|informar|insistir|insultar|intención|levantar|libre|lugar|lujo|mandar|marina|milicia|mirar|mostrar|muchacho|mucho|murmurar|opinión|oportuno|pagar|pedir|ponderar|poseer|pretender|principiar|proceder|propio|proyecto|queja|rápido|repentino|reprender|rico|sacar|separar|servir|tener|tirar|vestir|voluntad\"/>\\n<w n=\"t1.23\" lemma=\"el\" mariax=\"aprovechar|echar|enfadar|exclamar|gustar|principiar|protestar|retrete\"/>\\n<w n=\"t1.24\" lemma=\"santo\" mariax=\"año|cielo|dibujo|efecto|escultura|farmacia|fecha|fiesta|grabar|guardar|iglesia|imagen|ladrillo|madera|nombre|recordar|religión|respetar|semana|teología|tiempo|vigilar|virtud\"/>\\n\\n</s>\\n</seg>\\n\\n<seg xml:id=\"b.PHM.001.008.MariaX\" corresp=\"#b.PHM.001.008\">\\n\\n<s n=\"1\">\\n<w n=\"t1.1\" lemma=\"por\" mariax=\"aislar|alabar|aliviar|aproximar|cambiar|causa|coacción|cobrar|comercio|compensar|concesivo|conjunto|consecuencia|considerar|continuar|costar|defender|desear|difícil|equivocar|evidente|fecha|forzar|frecuente|heráldica|hipotético|ignorar|igual|inconveniente|injustificado|intervenir|investigar|lugar|mandar|matemática|mucho|multiplicar|negar|obligar|parcial|partidario|pasar|preferir|protestar|rabia|referir|relación|repartir|representar|terminar|tiempo|todo|trabajar|transigir|trastornar|vender|violento\"/>\\n<w n=\"t1.2\" lemma=\"ese\" mariax=\"alfabeto|cadena|curvo|demostrar|forma|intervenir|objeto|torcer\"/>\\n<w n=\"t1.4\" lemma=\"aunque\" mariax=\"concesivo\"/>\\n<w n=\"t1.5\" lemma=\"tener\" mariax=\"alegre|amenazar|aprovechar|asamblea|atender|aturdir|beber|borracho|callar|complacer|consecuencia|considerar|convenir|conversar|cooperar|cuidar|desengaño|detener|difícil|dirigir|disgustar|dominar|edad|embelesar|estimar|experiencia|fastidio|hablar|hambre|idea|imponer|intervenir|intranquilo|mandar|negocio|noticia|ocupar|ofuscar|parecer|poseer|precaución|principiar|profesión|propiedad|real|referir|reservar|resultar|retener|rico|sentir|sostener|sustituir|temer|travieso\"/>\\n<w n=\"t1.6\" lemma=\"mucho\" mariax=\"abundar|asentir|bello|cantidad|denso|efecto|enfadar|fuerte|grande|gustar|importar|impresión|intenso|lucir|muchedumbre|muy|ponderar|voluntad\"/>\\n<w n=\"t1.7\" lemma=\"libertad\" mariax=\"cortés|desenvoltura|independiente|libre|naturalidad|privilegio\"/>\\n<w n=\"t1.8\" lemma=\"en\" mariax=\"acción|adecuado|afirmar|arruinar|barato|barco|cambiar|compensar|conjunto|consecuencia|contorno|descubrir|desgracia|difícil|emprender|encerrar|ensalzar|erguir|guiar|igual|incluir|intención|interés|interrumpir|intervenir|juzgar|lugar|manejar|montar|mucho|ocultar|partir|ponderar|precio|principiar|rápido|referir|reflexionar|relación|rico|terminar|tiempo|tirar|toro|tranquilo|transigir|tribunal|valer|verdad\"/>\\n<w n=\"t1.10\" lemma=\"para\" mariax=\"aprovechar|contiguo|cooperar|desconfiar|desdecir|despreciar|diferir|dirigir|inminente|intención|íntimo|inútil|investigar|joven|justo|oponer|recado|relación|superior|tender|terminar|tiempo|tratar|valer\"/>\\n<w n=\"t1.11\" lemma=\"mandar\" mariax=\"autoridad|caballería|castigar|coacción|cortés|dar|decidir|desentenderse|despreciar|despreocuparse|determinar|dirigir|disponer|dominar|echar|encargar|enviar|equitación|exigir|gobernar|heredar|imponer|jefe|jurisdicción|ley|obligar|rechazar|retirar|superior|voluntad\"/>\\n<w n=\"t1.12\" lemma=\"te\" mariax=\"alfabeto|arbitrario|convenir|disgustar|elemento|gustar|indigno|peligro|reprender\"/>\\n<w n=\"t1.13\" lemma=\"el\" mariax=\"aprovechar|echar|enfadar|exclamar|gustar|principiar|protestar|retrete\"/>\\n<w n=\"t1.14\" lemma=\"que\" mariax=\"adversativo|afirmar|causa|censurar|charlar|chisme|concesivo|condición|cooperar|corregir|cortés|desear|difícil|ejemplo|enfadar|énfasis|exclamar|extrañar|hipotético|indigno|intolerable|lugar|mandar|necesario|negar|no|ponderar|posible|precaución|queja\"/>\\n<w n=\"t1.15\" lemma=\"convenir\" mariax=\"acomodar|acordar|adecuado|admitir|afluir|asentir|beneficiar|bueno|ceder|cohabitar|contrato|corresponder|desear|provecho|reunir\"/>\\n\\n</s>\\n</seg>\\n\\n<seg xml:id=\"b.PHM.001.009.MariaX\" corresp=\"#b.PHM.001.009\">\\n\\n<s n=\"1\">\\n<w n=\"t1.1\" lemma=\"preferir\" mariax=\"elegir|estimar|gustar|mimar|superior\"/>\\n<w n=\"t1.2\" lemma=\"rogar\" mariax=\"decir|dios|exclamar|pedir|rezar\"/>\\n<w n=\"t1.3\" lemma=\"te\" mariax=\"alfabeto|arbitrario|convenir|disgustar|elemento|gustar|indigno|peligro|reprender\"/>\\n<w n=\"t1.4\" lemma=\"lo\" mariax=\"adversativo|beneficiar|consecuencia|énfasis|límite|ponderar|resto|vela\"/>\\n<w n=\"t1.5\" lemma=\"apelar\" mariax=\"ayudar|caballería|recurrir|tribunal\"/>\\n<w n=\"t1.6\" lemma=\"a\" mariax=\"acción|alfabeto|amigo|arma|asamblea|atravesar|bien|compensar|concesivo|consecuencia|construir|creer|decidir|descubrir|dirigir|disparar|énfasis|equitación|exceptuar|falta|hipotético|hostil|imprevisión|incrédulo|interrumpir|letra|lugar|medio|montar|negar|negocio|nota|oportuno|parecer|plantar|poner|predecir|principiar|prometer|próximo|referir|repartir|risa|saludar|secreto|suceder|suerte|terminar|tiempo|transigir|unir|vender|violento|voluntad\"/>\\n<w n=\"t1.7\" lemma=\"tu\" mariax=\"arbitrario|bien|coacción|desear|desengaño|familia|forzar|ganar|gustar|indeterminado|intervenir|íntimo|ir|obligar|opinión|pensar|propio|proyecto|referir|solo|trabajar|voluntad\"/>\\n<w n=\"t1.8\" lemma=\"amor\" mariax=\"admirar|amor|apasionar|armonía|cariño|compadecer|cortejar|enamorar|espina|mujer|novio|reproducción|sentir|sexo|tender\"/>\\n<w n=\"t1.10\" lemma=\"ser\" mariax=\"bueno|convertir|cosa|costar|difícil|esencia|existir|experiencia|fingir|igual|imponer|importar|inquieto|intervenir|justo|merecer|representar|seco|sobresalir|solución|superior|tiempo\"/>\\n<w n=\"t1.11\" lemma=\"yo\" mariax=\"alma|desear|psicología\"/>\\n<w n=\"t1.15\" lemma=\"ya\" mariax=\"alternar|amenazar|descubrir|encontrar|entender|esperar|exclamar|extrañar|incrédulo|percatarse|ponderar|queja|saber|sorprender|tardar|tiempo\"/>\\n<w n=\"t1.16\" lemma=\"anciano\" mariax=\"eclesiástico|edad|hombre|judío|orden|viejo\"/>\\n<w n=\"t1.18\" lemma=\"y\" mariax=\"antes|concesivo|condición|desaprobar|diferir|electricidad|elemento|expresión|forzar|futuro|indeterminado|mandar|predecir|terminar\"/>\\n<w n=\"t1.19\" lemma=\"ahora\" mariax=\"descubrir|exclamar|futuro|percatarse|tiempo\"/>\\n<w n=\"t1.21\" lemma=\"además\" mariax=\"añadir|electricidad|satisfacer\"/>\\n<w n=\"t1.23\" lemma=\"prisionero\" mariax=\"dominar|preso|retener\"/>\\n<w n=\"t1.24\" lemma=\"de\" mariax=\"acordar|adecuado|alfabeto|arrepentirse|asamblea|atravesar|baraja|barato|bello|calle|consecuencia|construir|corresponder|criticar|cuerda|denigrar|desacreditar|desembarazar|destruir|disgustar|disparar|énfasis|enfermedad|erguir|fama|grande|gustar|hostil|importar|impresión|imprevisión|informar|insistir|insultar|intención|levantar|libre|lugar|lujo|mandar|marina|milicia|mirar|mostrar|muchacho|mucho|murmurar|opinión|oportuno|pagar|pedir|ponderar|poseer|pretender|principiar|proceder|propio|proyecto|queja|rápido|repentino|reprender|rico|sacar|separar|servir|tener|tirar|vestir|voluntad\"/>\\n\\n</s>\\n</seg>\\n\\n<seg xml:id=\"b.PHM.001.010.MariaX\" corresp=\"#b.PHM.001.010\">\\n\\n<s n=\"1\">\\n<w n=\"t1.1\" lemma=\"te\" mariax=\"alfabeto|arbitrario|convenir|disgustar|elemento|gustar|indigno|peligro|reprender\"/>\\n<w n=\"t1.2\" lemma=\"ruego\" mariax=\"pedir\"/>\\n<w n=\"t1.3\" lemma=\"por\" mariax=\"aislar|alabar|aliviar|aproximar|cambiar|causa|coacción|cobrar|comercio|compensar|concesivo|conjunto|consecuencia|considerar|continuar|costar|defender|desear|difícil|equivocar|evidente|fecha|forzar|frecuente|heráldica|hipotético|ignorar|igual|inconveniente|injustificado|intervenir|investigar|lugar|mandar|matemática|mucho|multiplicar|negar|obligar|parcial|partidario|pasar|preferir|protestar|rabia|referir|relación|repartir|representar|terminar|tiempo|todo|trabajar|transigir|trastornar|vender|violento\"/>\\n<w n=\"t1.4\" lemma=\"mi\" mariax=\"bien|desengaño|familia|ganar|nota\"/>\\n<w n=\"t1.5\" lemma=\"hijo\" mariax=\"brotar|crear|cuerno|destinar|pariente|retoñar|suerte|tallo\"/>\\n<w n=\"t1.8\" lemma=\"a\" mariax=\"acción|alfabeto|amigo|arma|asamblea|atravesar|bien|compensar|concesivo|consecuencia|construir|creer|decidir|descubrir|dirigir|disparar|énfasis|equitación|exceptuar|falta|hipotético|hostil|imprevisión|incrédulo|interrumpir|letra|lugar|medio|montar|negar|negocio|nota|oportuno|parecer|plantar|poner|predecir|principiar|prometer|próximo|referir|repartir|risa|saludar|secreto|suceder|suerte|terminar|tiempo|transigir|unir|vender|violento|voluntad\"/>\\n<w n=\"t1.9\" lemma=\"quien\" mariax=\"castigar|corresponder|cumplir|evadir|evitar|gastar|indiferente|tratar\"/>\\n<w n=\"t1.10\" lemma=\"engendrar\" mariax=\"causa|crear|embarazo|fecundar|hacer|padre|producir|reproducción\"/>\\n<w n=\"t1.11\" lemma=\"en\" mariax=\"acción|adecuado|afirmar|arruinar|barato|barco|cambiar|compensar|conjunto|consecuencia|contorno|descubrir|desgracia|difícil|emprender|encerrar|ensalzar|erguir|guiar|igual|incluir|intención|interés|interrumpir|intervenir|juzgar|lugar|manejar|montar|mucho|ocultar|partir|ponderar|precio|principiar|rápido|referir|reflexionar|relación|rico|terminar|tiempo|tirar|toro|tranquilo|transigir|tribunal|valer|verdad\"/>\\n<w n=\"t1.12\" lemma=\"mi\" mariax=\"bien|desengaño|familia|ganar|nota\"/>\\n<w n=\"t1.13\" lemma=\"prisión\" mariax=\"amor|apresar|atar|cariño|castigar|cetrería|encerrar|habitar|impedir|preso\"/>\\n\\n</s>\\n</seg>\\n\\n<seg xml:id=\"b.PHM.001.011.MariaX\" corresp=\"#b.PHM.001.011\">\\n\\n<s n=\"1\">\\n<w n=\"t1.1\" lemma=\"el\" mariax=\"aprovechar|echar|enfadar|exclamar|gustar|principiar|protestar|retrete\"/>\\n<w n=\"t1.2\" lemma=\"cual\" mariax=\"chisme|comparación|correlación|expresión|indeterminado|opinión\"/>\\n<w n=\"t1.3\" lemma=\"en\" mariax=\"acción|adecuado|afirmar|arruinar|barato|barco|cambiar|compensar|conjunto|consecuencia|contorno|descubrir|desgracia|difícil|emprender|encerrar|ensalzar|erguir|guiar|igual|incluir|intención|interés|interrumpir|intervenir|juzgar|lugar|manejar|montar|mucho|ocultar|partir|ponderar|precio|principiar|rápido|referir|reflexionar|relación|rico|terminar|tiempo|tirar|toro|tranquilo|transigir|tribunal|valer|verdad\"/>\\n<w n=\"t1.4\" lemma=\"otro\" mariax=\"diferir|distinguir|hipotético|inminente|parecer|seguir|serie\"/>\\n<w n=\"t1.5\" lemma=\"tiempo\" mariax=\"astronomía|día|durar|edad|entretener|esgrima|eterno|fecha|fútbol|fútbol|gimnasia|gramática|magnitud|meteorología|música|oportuno|palabra|pelota|temporada|tiempo|verbo\"/>\\n<w n=\"t1.6\" lemma=\"te\" mariax=\"alfabeto|arbitrario|convenir|disgustar|elemento|gustar|indigno|peligro|reprender\"/>\\n<w n=\"t1.7\" lemma=\"ser\" mariax=\"bueno|convertir|cosa|costar|difícil|esencia|existir|experiencia|fingir|igual|imponer|importar|inquieto|intervenir|justo|merecer|representar|seco|sobresalir|solución|superior|tiempo\"/>\\n<w n=\"t1.8\" lemma=\"inútil\" mariax=\"apto|desperdiciar|despreciar|holgazán|incapaz|inoportuno|malograr|pereza|provecho|servir|sobrar|tonto|torpe|usar|útil|vagar\"/>\\n<w n=\"t1.10\" lemma=\"pero\" mariax=\"adversativo|asombrar|atenuar|concesivo|desaprobar|diferir|difícil|disgustar|exasperar|exclamar|extrañar|falta|imperfecto|inconveniente|límite|mandar|oponer|reprender|sorprender|sospechar\"/>\\n<w n=\"t1.11\" lemma=\"ahora\" mariax=\"descubrir|exclamar|futuro|percatarse|tiempo\"/>\\n<w n=\"t1.12\" lemma=\"a\" mariax=\"acción|alfabeto|amigo|arma|asamblea|atravesar|bien|compensar|concesivo|consecuencia|construir|creer|decidir|descubrir|dirigir|disparar|énfasis|equitación|exceptuar|falta|hipotético|hostil|imprevisión|incrédulo|interrumpir|letra|lugar|medio|montar|negar|negocio|nota|oportuno|parecer|plantar|poner|predecir|principiar|prometer|próximo|referir|repartir|risa|saludar|secreto|suceder|suerte|terminar|tiempo|transigir|unir|vender|violento|voluntad\"/>\\n<w n=\"t1.13\" lemma=\"ti\" mariax=\"elemento|íntimo|permitir\"/>\\n<w n=\"t1.14\" lemma=\"y\" mariax=\"antes|concesivo|condición|desaprobar|diferir|electricidad|elemento|expresión|forzar|futuro|indeterminado|mandar|predecir|terminar\"/>\\n<w n=\"t1.15\" lemma=\"a\" mariax=\"acción|alfabeto|amigo|arma|asamblea|atravesar|bien|compensar|concesivo|consecuencia|construir|creer|decidir|descubrir|dirigir|disparar|énfasis|equitación|exceptuar|falta|hipotético|hostil|imprevisión|incrédulo|interrumpir|letra|lugar|medio|montar|negar|negocio|nota|oportuno|parecer|plantar|poner|predecir|principiar|prometer|próximo|referir|repartir|risa|saludar|secreto|suceder|suerte|terminar|tiempo|transigir|unir|vender|violento|voluntad\"/>\\n<w n=\"t1.16\" lemma=\"mí\" mariax=\"permitir\"/>\\n<w n=\"t1.17\" lemma=\"nos\" mariax=\"ayudar\"/>\\n<w n=\"t1.18\" lemma=\"ser\" mariax=\"bueno|convertir|cosa|costar|difícil|esencia|existir|experiencia|fingir|igual|imponer|importar|inquieto|intervenir|justo|merecer|representar|seco|sobresalir|solución|superior|tiempo\"/>\\n<w n=\"t1.19\" lemma=\"útil\" mariax=\"animal|aprovechar|apto|beneficiar|bueno|convenir|efecto|inútil|producir|provecho|servir|trabajar|tribunal|usar|utensilio\"/>\\n\\n</s>\\n</seg>\\n\\n<seg xml:id=\"b.PHM.001.012.MariaX\" corresp=\"#b.PHM.001.012\">\\n\\n<s n=\"1\">\\n<w n=\"t1.1\" lemma=\"te\" mariax=\"alfabeto|arbitrario|convenir|disgustar|elemento|gustar|indigno|peligro|reprender\"/>\\n<w n=\"t1.2\" lemma=\"el\" mariax=\"aprovechar|echar|enfadar|exclamar|gustar|principiar|protestar|retrete\"/>\\n<w n=\"t1.3\" lemma=\"envío\" mariax=\"enviar|recado\"/>\\n<w n=\"t1.4\" lemma=\"de\" mariax=\"acordar|adecuado|alfabeto|arrepentirse|asamblea|atravesar|baraja|barato|bello|calle|consecuencia|construir|corresponder|criticar|cuerda|denigrar|desacreditar|desembarazar|destruir|disgustar|disparar|énfasis|enfermedad|erguir|fama|grande|gustar|hostil|importar|impresión|imprevisión|informar|insistir|insultar|intención|levantar|libre|lugar|lujo|mandar|marina|milicia|mirar|mostrar|muchacho|mucho|murmurar|opinión|oportuno|pagar|pedir|ponderar|poseer|pretender|principiar|proceder|propio|proyecto|queja|rápido|repentino|reprender|rico|sacar|separar|servir|tener|tirar|vestir|voluntad\"/>\\n<w n=\"t1.5\" lemma=\"nuevo\" mariax=\"añadir|distinguir|extraordinario|inventar|joven|moda|usar\"/>\\n<w n=\"t2.1\" lemma=\"tú\" mariax=\"llamar|nombre|propio|tratar\"/>\\n<w n=\"t2.3\" lemma=\"pues\" mariax=\"afirmar|asentir|causa|cierto|consecuencia|enfadar|énfasis|exclamar|negar|no|ponderar|preguntar|protestar|reprender|vacilar\"/>\\n<w n=\"t2.5\" lemma=\"recibir\" mariax=\"acoger|admitir|albergar|alegre|apoyar|aprobar|cobrar|construir|dinero|nombre|noticia|obtener|sostener|sujetar|toro\"/>\\n<w n=\"t2.6\" lemma=\"lo\" mariax=\"adversativo|beneficiar|consecuencia|énfasis|límite|ponderar|resto|vela\"/>\\n<w n=\"t2.7\" lemma=\"como\" mariax=\"adecuado|alegre|alternar|arreglar|blando|burla|causa|chasco|colgar|comparación|concesivo|conocer|correlación|decidir|disgustar|ejemplo|encolerizar|estimar|gordo|gustar|herir|hipotético|igual|imperfecto|indiferente|intranquilo|introducir|matemática|máximo|medir|padecer|parálisis|producir|someter|sucio|sustituir|utensilio|valer\"/>\\n<w n=\"t2.8\" lemma=\"a\" mariax=\"acción|alfabeto|amigo|arma|asamblea|atravesar|bien|compensar|concesivo|consecuencia|construir|creer|decidir|descubrir|dirigir|disparar|énfasis|equitación|exceptuar|falta|hipotético|hostil|imprevisión|incrédulo|interrumpir|letra|lugar|medio|montar|negar|negocio|nota|oportuno|parecer|plantar|poner|predecir|principiar|prometer|próximo|referir|repartir|risa|saludar|secreto|suceder|suerte|terminar|tiempo|transigir|unir|vender|violento|voluntad\"/>\\n<w n=\"t2.9\" lemma=\"mí\" mariax=\"permitir\"/>\\n<w n=\"t2.10\" lemma=\"mismo\" mariax=\"enfadar|igual|oponer|pensar|preciso|propio|solo\"/>\\n\\n</s>\\n<s n=\"2\">\\n<w n=\"t1.1\" lemma=\"te\" mariax=\"alfabeto|arbitrario|convenir|disgustar|elemento|gustar|indigno|peligro|reprender\"/>\\n<w n=\"t1.2\" lemma=\"el\" mariax=\"aprovechar|echar|enfadar|exclamar|gustar|principiar|protestar|retrete\"/>\\n<w n=\"t1.3\" lemma=\"envío\" mariax=\"enviar|recado\"/>\\n<w n=\"t1.4\" lemma=\"de\" mariax=\"acordar|adecuado|alfabeto|arrepentirse|asamblea|atravesar|baraja|barato|bello|calle|consecuencia|construir|corresponder|criticar|cuerda|denigrar|desacreditar|desembarazar|destruir|disgustar|disparar|énfasis|enfermedad|erguir|fama|grande|gustar|hostil|importar|impresión|imprevisión|informar|insistir|insultar|intención|levantar|libre|lugar|lujo|mandar|marina|milicia|mirar|mostrar|muchacho|mucho|murmurar|opinión|oportuno|pagar|pedir|ponderar|poseer|pretender|principiar|proceder|propio|proyecto|queja|rápido|repentino|reprender|rico|sacar|separar|servir|tener|tirar|vestir|voluntad\"/>\\n<w n=\"t1.5\" lemma=\"nuevo\" mariax=\"añadir|distinguir|extraordinario|inventar|joven|moda|usar\"/>\\n<w n=\"t2.1\" lemma=\"tú\" mariax=\"llamar|nombre|propio|tratar\"/>\\n<w n=\"t2.3\" lemma=\"pues\" mariax=\"afirmar|asentir|causa|cierto|consecuencia|enfadar|énfasis|exclamar|negar|no|ponderar|preguntar|protestar|reprender|vacilar\"/>\\n<w n=\"t2.5\" lemma=\"recibir\" mariax=\"acoger|admitir|albergar|alegre|apoyar|aprobar|cobrar|construir|dinero|nombre|noticia|obtener|sostener|sujetar|toro\"/>\\n<w n=\"t2.6\" lemma=\"lo\" mariax=\"adversativo|beneficiar|consecuencia|énfasis|límite|ponderar|resto|vela\"/>\\n<w n=\"t2.7\" lemma=\"como\" mariax=\"adecuado|alegre|alternar|arreglar|blando|burla|causa|chasco|colgar|comparación|concesivo|conocer|correlación|decidir|disgustar|ejemplo|encolerizar|estimar|gordo|gustar|herir|hipotético|igual|imperfecto|indiferente|intranquilo|introducir|matemática|máximo|medir|padecer|parálisis|producir|someter|sucio|sustituir|utensilio|valer\"/>\\n<w n=\"t2.8\" lemma=\"a\" mariax=\"acción|alfabeto|amigo|arma|asamblea|atravesar|bien|compensar|concesivo|consecuencia|construir|creer|decidir|descubrir|dirigir|disparar|énfasis|equitación|exceptuar|falta|hipotético|hostil|imprevisión|incrédulo|interrumpir|letra|lugar|medio|montar|negar|negocio|nota|oportuno|parecer|plantar|poner|predecir|principiar|prometer|próximo|referir|repartir|risa|saludar|secreto|suceder|suerte|terminar|tiempo|transigir|unir|vender|violento|voluntad\"/>\\n<w n=\"t2.9\" lemma=\"mí\" mariax=\"permitir\"/>\\n<w n=\"t2.10\" lemma=\"mismo\" mariax=\"enfadar|igual|oponer|pensar|preciso|propio|solo\"/>\\n\\n</s>\\n</seg>\\n\\n<seg xml:id=\"b.PHM.001.013.MariaX\" corresp=\"#b.PHM.001.013\">\\n\\n<s n=\"1\">\\n<w n=\"t1.1\" lemma=\"yo\" mariax=\"alma|desear|psicología\"/>\\n<w n=\"t1.2\" lemma=\"querer\" mariax=\"amor|asentir|baraja|cariño|conceder|decidir|desear|estimar|intención|jugar|precio|principiar|voluntad\"/>\\n<w n=\"t1.3\" lemma=\"retener\" mariax=\"atraer|dar|detener|inmóvil|moderar|recordar|sujetar\"/>\\n<w n=\"t1.4\" lemma=\"lo\" mariax=\"adversativo|beneficiar|consecuencia|énfasis|límite|ponderar|resto|vela\"/>\\n<w n=\"t1.7\" lemma=\"para\" mariax=\"aprovechar|contiguo|cooperar|desconfiar|desdecir|despreciar|diferir|dirigir|inminente|intención|íntimo|inútil|investigar|joven|justo|oponer|recado|relación|superior|tender|terminar|tiempo|tratar|valer\"/>\\n<w n=\"t1.8\" lemma=\"que\" mariax=\"adversativo|afirmar|causa|censurar|charlar|chisme|concesivo|condición|cooperar|corregir|cortés|desear|difícil|ejemplo|enfadar|énfasis|exclamar|extrañar|hipotético|indigno|intolerable|lugar|mandar|necesario|negar|no|ponderar|posible|precaución|queja\"/>\\n<w n=\"t1.9\" lemma=\"en\" mariax=\"acción|adecuado|afirmar|arruinar|barato|barco|cambiar|compensar|conjunto|consecuencia|contorno|descubrir|desgracia|difícil|emprender|encerrar|ensalzar|erguir|guiar|igual|incluir|intención|interés|interrumpir|intervenir|juzgar|lugar|manejar|montar|mucho|ocultar|partir|ponderar|precio|principiar|rápido|referir|reflexionar|relación|rico|terminar|tiempo|tirar|toro|tranquilo|transigir|tribunal|valer|verdad\"/>\\n<w n=\"t1.10\" lemma=\"lugar\" mariax=\"empleo|espacio|lugar|motivo|orden|población|poner|situación|terreno|tiempo\"/>\\n<w n=\"t1.11\" lemma=\"tuyo\" mariax=\"opinión\"/>\\n<w n=\"t1.12\" lemma=\"me\" mariax=\"censurar|maltrecho\"/>\\n<w n=\"t1.13\" lemma=\"servir\" mariax=\"acomodar|adecuado|amor|aprovechar|apto|artillería|ayudar|baraja|beber|beneficiar|cerámica|convenir|culto|dar|depender|deporte|empleo|favor|función|horno|llevar|lucir|manejar|máquina|milicia|pelota|provecho|proveer|señor|sustituir|trabajar|útil\"/>\\n<w n=\"t1.14\" lemma=\"en\" mariax=\"acción|adecuado|afirmar|arruinar|barato|barco|cambiar|compensar|conjunto|consecuencia|contorno|descubrir|desgracia|difícil|emprender|encerrar|ensalzar|erguir|guiar|igual|incluir|intención|interés|interrumpir|intervenir|juzgar|lugar|manejar|montar|mucho|ocultar|partir|ponderar|precio|principiar|rápido|referir|reflexionar|relación|rico|terminar|tiempo|tirar|toro|tranquilo|transigir|tribunal|valer|verdad\"/>\\n<w n=\"t1.15\" lemma=\"mi\" mariax=\"bien|desengaño|familia|ganar|nota\"/>\\n<w n=\"t1.16\" lemma=\"prisión\" mariax=\"amor|apresar|atar|cariño|castigar|cetrería|encerrar|habitar|impedir|preso\"/>\\n<w n=\"t1.18\" lemma=\"el\" mariax=\"aprovechar|echar|enfadar|exclamar|gustar|principiar|protestar|retrete\"/>\\n<w n=\"t1.19\" lemma=\"evangelio\" mariax=\"creer|cristiano|jesucristo|misa|verdad\"/>\\n\\n</s>\\n</seg>\\n\\n<seg xml:id=\"b.PHM.001.014.MariaX\" corresp=\"#b.PHM.001.014\">\\n\\n<s n=\"1\">\\n<w n=\"t1.1\" lemma=\"pero\" mariax=\"adversativo|asombrar|atenuar|concesivo|desaprobar|diferir|difícil|disgustar|exasperar|exclamar|extrañar|falta|imperfecto|inconveniente|límite|mandar|oponer|reprender|sorprender|sospechar\"/>\\n<w n=\"t1.2\" lemma=\"nada\" mariax=\"cantidad|categoría|decidir|decir|desacertar|existir|insignificante|inútil|negar|no|poco|relación|soltar\"/>\\n<w n=\"t1.3\" lemma=\"querer\" mariax=\"amor|asentir|baraja|cariño|conceder|decidir|desear|estimar|intención|jugar|precio|principiar|voluntad\"/>\\n<w n=\"t1.4\" lemma=\"hacer\" mariax=\"acción|acomodar|acostumbrar|actividad|agradar|armonía|cama|cambiar|cantidad|capacidad|causa|comer|comparar|componer|confundir|contrario|contrato|convenir|conversar|cooperar|copiar|crear|cuenta|curvo|desafiar|destruir|efecto|enfermedad|entretener|equivocar|esforzar|espectáculo|estar|evacuar|fastidio|forzar|fotografía|fútbol|fútbol|hablar|heredar|herir|ilusión|impresión|jugar|meteorología|negar|obligar|oponer|oportuno|orden|parecer|precio|presumir|producir|proyecto|real|rechazar|recipiente|referir|relación|representar|retroceder|suponer|teatro|tiempo|trabajar|vencer|viento|vigilar\"/>\\n<w n=\"t1.5\" lemma=\"sin\" mariax=\"arruinar|aturdir|callar|carecer|cruel|dinero|falta|hablar|informal|negar|perseverar|unir|vagar|zascandil\"/>\\n<w n=\"t1.6\" lemma=\"tu\" mariax=\"arbitrario|bien|coacción|desear|desengaño|familia|forzar|ganar|gustar|indeterminado|intervenir|íntimo|ir|obligar|opinión|pensar|propio|proyecto|referir|solo|trabajar|voluntad\"/>\\n<w n=\"t1.7\" lemma=\"consentimiento\" mariax=\"aprobar|permitir\"/>\\n<w n=\"t1.9\" lemma=\"para\" mariax=\"aprovechar|contiguo|cooperar|desconfiar|desdecir|despreciar|diferir|dirigir|inminente|intención|íntimo|inútil|investigar|joven|justo|oponer|recado|relación|superior|tender|terminar|tiempo|tratar|valer\"/>\\n<w n=\"t1.10\" lemma=\"que\" mariax=\"adversativo|afirmar|causa|censurar|charlar|chisme|concesivo|condición|cooperar|corregir|cortés|desear|difícil|ejemplo|enfadar|énfasis|exclamar|extrañar|hipotético|indigno|intolerable|lugar|mandar|necesario|negar|no|ponderar|posible|precaución|queja\"/>\\n<w n=\"t1.11\" lemma=\"tu\" mariax=\"arbitrario|bien|coacción|desear|desengaño|familia|forzar|ganar|gustar|indeterminado|intervenir|íntimo|ir|obligar|opinión|pensar|propio|proyecto|referir|solo|trabajar|voluntad\"/>\\n<w n=\"t1.12\" lemma=\"favor\" mariax=\"amable|arbitrario|ayudar|beneficiar|cinta|conceder|fama|fiesta|flor|influir|servir\"/>\\n<w n=\"t1.13\" lemma=\"no\" mariax=\"actitud|asombrar|callar|cine|confirmar|conseguir|corregir|detestar|elemento|énfasis|extraordinario|hablar|incitar|límite|negar|no|perseverar|preguntar|solo\"/>\\n<w n=\"t1.14\" lemma=\"ser\" mariax=\"bueno|convertir|cosa|costar|difícil|esencia|existir|experiencia|fingir|igual|imponer|importar|inquieto|intervenir|justo|merecer|representar|seco|sobresalir|solución|superior|tiempo\"/>\\n<w n=\"t1.15\" lemma=\"forzar\" mariax=\"coacción|fuerte|obligar|seguro|sexo|someter|violento\"/>\\n<w n=\"t1.17\" lemma=\"sino\" mariax=\"adversativo|concesivo|correlación|destinar|imperfecto|intenso|suerte\"/>\\n<w n=\"t1.18\" lemma=\"voluntario\" mariax=\"milicia|soldado|voluntad\"/>\\n\\n</s>\\n</seg>\\n\\n<seg xml:id=\"b.PHM.001.015.MariaX\" corresp=\"#b.PHM.001.015\">\\n\\n<s n=\"1\">\\n<w n=\"t1.1\" lemma=\"quizá\" mariax=\"dudar|inseguro|posible\"/>\\n<w n=\"t1.2\" lemma=\"se\" mariax=\"agradecer|elemento\"/>\\n<w n=\"t1.3\" lemma=\"apartar\" mariax=\"abandonar|ahuyentar|aislar|desechar|desembarazar|desviar|diferir|dispersar|echar|elegir|espacio|esparcir|exceptuar|extender|guardar|idea|importar|lana|lejos|mirar|oro|prescindir|quitar|rechazar|retirar|riña|separar|toro\"/>\\n<w n=\"t1.4\" lemma=\"de\" mariax=\"acordar|adecuado|alfabeto|arrepentirse|asamblea|atravesar|baraja|barato|bello|calle|consecuencia|construir|corresponder|criticar|cuerda|denigrar|desacreditar|desembarazar|destruir|disgustar|disparar|énfasis|enfermedad|erguir|fama|grande|gustar|hostil|importar|impresión|imprevisión|informar|insistir|insultar|intención|levantar|libre|lugar|lujo|mandar|marina|milicia|mirar|mostrar|muchacho|mucho|murmurar|opinión|oportuno|pagar|pedir|ponderar|poseer|pretender|principiar|proceder|propio|proyecto|queja|rápido|repentino|reprender|rico|sacar|separar|servir|tener|tirar|vestir|voluntad\"/>\\n<w n=\"t1.5\" lemma=\"ti\" mariax=\"elemento|íntimo|permitir\"/>\\n<w n=\"t1.6\" lemma=\"por\" mariax=\"aislar|alabar|aliviar|aproximar|cambiar|causa|coacción|cobrar|comercio|compensar|concesivo|conjunto|consecuencia|considerar|continuar|costar|defender|desear|difícil|equivocar|evidente|fecha|forzar|frecuente|heráldica|hipotético|ignorar|igual|inconveniente|injustificado|intervenir|investigar|lugar|mandar|matemática|mucho|multiplicar|negar|obligar|parcial|partidario|pasar|preferir|protestar|rabia|referir|relación|repartir|representar|terminar|tiempo|todo|trabajar|transigir|trastornar|vender|violento\"/>\\n<w n=\"t1.7\" lemma=\"alguno\" mariax=\"poco\"/>\\n<w n=\"t1.8\" lemma=\"tiempo\" mariax=\"astronomía|día|durar|edad|entretener|esgrima|eterno|fecha|fútbol|fútbol|gimnasia|gramática|magnitud|meteorología|música|oportuno|palabra|pelota|temporada|tiempo|verbo\"/>\\n<w n=\"t1.9\" lemma=\"para\" mariax=\"aprovechar|contiguo|cooperar|desconfiar|desdecir|despreciar|diferir|dirigir|inminente|intención|íntimo|inútil|investigar|joven|justo|oponer|recado|relación|superior|tender|terminar|tiempo|tratar|valer\"/>\\n<w n=\"t1.10\" lemma=\"que\" mariax=\"adversativo|afirmar|causa|censurar|charlar|chisme|concesivo|condición|cooperar|corregir|cortés|desear|difícil|ejemplo|enfadar|énfasis|exclamar|extrañar|hipotético|indigno|intolerable|lugar|mandar|necesario|negar|no|ponderar|posible|precaución|queja\"/>\\n<w n=\"t1.11\" lemma=\"lo\" mariax=\"adversativo|beneficiar|consecuencia|énfasis|límite|ponderar|resto|vela\"/>\\n<w n=\"t1.12\" lemma=\"recibir\" mariax=\"acoger|admitir|albergar|alegre|apoyar|aprobar|cobrar|construir|dinero|nombre|noticia|obtener|sostener|sujetar|toro\"/>\\n<w n=\"t1.13\" lemma=\"para\" mariax=\"aprovechar|contiguo|cooperar|desconfiar|desdecir|despreciar|diferir|dirigir|inminente|intención|íntimo|inútil|investigar|joven|justo|oponer|recado|relación|superior|tender|terminar|tiempo|tratar|valer\"/>\\n<w n=\"t1.14\" lemma=\"siempre\" mariax=\"amable|condición|infalible|permanecer|repetir|tiempo\"/>\\n\\n</s>\\n</seg>\\n\\n<seg xml:id=\"b.PHM.001.016.MariaX\" corresp=\"#b.PHM.001.016\">\\n\\n<s n=\"1\">\\n<w n=\"t1.1\" lemma=\"no\" mariax=\"actitud|asombrar|callar|cine|confirmar|conseguir|corregir|detestar|elemento|énfasis|extraordinario|hablar|incitar|límite|negar|no|perseverar|preguntar|solo\"/>\\n<w n=\"t1.2\" lemma=\"ya\" mariax=\"alternar|amenazar|descubrir|encontrar|entender|esperar|exclamar|extrañar|incrédulo|percatarse|ponderar|queja|saber|sorprender|tardar|tiempo\"/>\\n<w n=\"t1.3\" lemma=\"como\" mariax=\"adecuado|alegre|alternar|arreglar|blando|burla|causa|chasco|colgar|comparación|concesivo|conocer|correlación|decidir|disgustar|ejemplo|encolerizar|estimar|gordo|gustar|herir|hipotético|igual|imperfecto|indiferente|intranquilo|introducir|matemática|máximo|medir|padecer|parálisis|producir|someter|sucio|sustituir|utensilio|valer\"/>\\n<w n=\"t1.4\" lemma=\"esclavo\" mariax=\"amor|apasionar|clase|devoción|dominar|formal|señor|servir|someter|vicio\"/>\\n<w n=\"t1.6\" lemma=\"sino\" mariax=\"adversativo|concesivo|correlación|destinar|imperfecto|intenso|suerte\"/>\\n<w n=\"t1.7\" lemma=\"como\" mariax=\"adecuado|alegre|alternar|arreglar|blando|burla|causa|chasco|colgar|comparación|concesivo|conocer|correlación|decidir|disgustar|ejemplo|encolerizar|estimar|gordo|gustar|herir|hipotético|igual|imperfecto|indiferente|intranquilo|introducir|matemática|máximo|medir|padecer|parálisis|producir|someter|sucio|sustituir|utensilio|valer\"/>\\n<w n=\"t1.8\" lemma=\"más\" mariax=\"asentir|aumentar|cantidad|comparar|corregir|correlación|desaprobar|énfasis|especial|expresión|intenso|límite|matemática|protestar\"/>\\n<w n=\"t1.9\" lemma=\"que\" mariax=\"adversativo|afirmar|causa|censurar|charlar|chisme|concesivo|condición|cooperar|corregir|cortés|desear|difícil|ejemplo|enfadar|énfasis|exclamar|extrañar|hipotético|indigno|intolerable|lugar|mandar|necesario|negar|no|ponderar|posible|precaución|queja\"/>\\n<w n=\"t1.10\" lemma=\"esclavo\" mariax=\"amor|apasionar|clase|devoción|dominar|formal|señor|servir|someter|vicio\"/>\\n<w n=\"t1.12\" lemma=\"como\" mariax=\"adecuado|alegre|alternar|arreglar|blando|burla|causa|chasco|colgar|comparación|concesivo|conocer|correlación|decidir|disgustar|ejemplo|encolerizar|estimar|gordo|gustar|herir|hipotético|igual|imperfecto|indiferente|intranquilo|introducir|matemática|máximo|medir|padecer|parálisis|producir|someter|sucio|sustituir|utensilio|valer\"/>\\n<w n=\"t1.13\" lemma=\"hermano\" mariax=\"monje|orden|parecer|pariente|tratar\"/>\\n<w n=\"t1.14\" lemma=\"amar\" mariax=\"amor|cariño|dios\"/>\\n<w n=\"t1.16\" lemma=\"mayormente\" mariax=\"especial|intenso\"/>\\n<w n=\"t1.17\" lemma=\"para\" mariax=\"aprovechar|contiguo|cooperar|desconfiar|desdecir|despreciar|diferir|dirigir|inminente|intención|íntimo|inútil|investigar|joven|justo|oponer|recado|relación|superior|tender|terminar|tiempo|tratar|valer\"/>\\n<w n=\"t1.18\" lemma=\"mí\" mariax=\"permitir\"/>\\n<w n=\"t1.20\" lemma=\"pero\" mariax=\"adversativo|asombrar|atenuar|concesivo|desaprobar|diferir|difícil|disgustar|exasperar|exclamar|extrañar|falta|imperfecto|inconveniente|límite|mandar|oponer|reprender|sorprender|sospechar\"/>\\n<w n=\"t1.21\" lemma=\"cuánto\" mariax=\"cantidad|preguntar\"/>\\n<w n=\"t1.22\" lemma=\"más\" mariax=\"asentir|aumentar|cantidad|comparar|corregir|correlación|desaprobar|énfasis|especial|expresión|intenso|límite|matemática|protestar\"/>\\n<w n=\"t1.23\" lemma=\"para\" mariax=\"aprovechar|contiguo|cooperar|desconfiar|desdecir|despreciar|diferir|dirigir|inminente|intención|íntimo|inútil|investigar|joven|justo|oponer|recado|relación|superior|tender|terminar|tiempo|tratar|valer\"/>\\n<w n=\"t1.24\" lemma=\"ti\" mariax=\"elemento|íntimo|permitir\"/>\\n<w n=\"t1.26\" lemma=\"tanto\" mariax=\"cantidad|comparación|consecuencia|correlación|expresión|igual|indeterminado|jugar|máximo|poco|ponderar\"/>\\n<w n=\"t1.27\" lemma=\"en\" mariax=\"acción|adecuado|afirmar|arruinar|barato|barco|cambiar|compensar|conjunto|consecuencia|contorno|descubrir|desgracia|difícil|emprender|encerrar|ensalzar|erguir|guiar|igual|incluir|intención|interés|interrumpir|intervenir|juzgar|lugar|manejar|montar|mucho|ocultar|partir|ponderar|precio|principiar|rápido|referir|reflexionar|relación|rico|terminar|tiempo|tirar|toro|tranquilo|transigir|tribunal|valer|verdad\"/>\\n<w n=\"t1.28\" lemma=\"el\" mariax=\"aprovechar|echar|enfadar|exclamar|gustar|principiar|protestar|retrete\"/>\\n<w n=\"t1.29\" lemma=\"carne\" mariax=\"comer|despojo|fruto|guisar|madera|músculo|tronco\"/>\\n<w n=\"t1.30\" lemma=\"como\" mariax=\"adecuado|alegre|alternar|arreglar|blando|burla|causa|chasco|colgar|comparación|concesivo|conocer|correlación|decidir|disgustar|ejemplo|encolerizar|estimar|gordo|gustar|herir|hipotético|igual|imperfecto|indiferente|intranquilo|introducir|matemática|máximo|medir|padecer|parálisis|producir|someter|sucio|sustituir|utensilio|valer\"/>\\n<w n=\"t1.31\" lemma=\"en\" mariax=\"acción|adecuado|afirmar|arruinar|barato|barco|cambiar|compensar|conjunto|consecuencia|contorno|descubrir|desgracia|difícil|emprender|encerrar|ensalzar|erguir|guiar|igual|incluir|intención|interés|interrumpir|intervenir|juzgar|lugar|manejar|montar|mucho|ocultar|partir|ponderar|precio|principiar|rápido|referir|reflexionar|relación|rico|terminar|tiempo|tirar|toro|tranquilo|transigir|tribunal|valer|verdad\"/>\\n<w n=\"t1.32\" lemma=\"el\" mariax=\"aprovechar|echar|enfadar|exclamar|gustar|principiar|protestar|retrete\"/>\\n<w n=\"t1.33\" lemma=\"señor\" mariax=\"autoridad|bueno|censo|clase|cortés|delicado|dios|distinguir|elegante|gobernar|grande|hombre|intenso|llamar|lujo|negar|no|noble|propiedad|queja|rey|servir|soberano|tratar\"/>\\n\\n</s>\\n</seg>\\n\\n<seg xml:id=\"b.PHM.001.017.MariaX\" corresp=\"#b.PHM.001.017\">\\n\\n<s n=\"1\">\\n<w n=\"t1.1\" lemma=\"así\" mariax=\"admirar|comparación|consecuencia|correlación|desear|hipotético|igual|indeterminado|maldecir|medio\"/>\\n<w n=\"t1.2\" lemma=\"que\" mariax=\"adversativo|afirmar|causa|censurar|charlar|chisme|concesivo|condición|cooperar|corregir|cortés|desear|difícil|ejemplo|enfadar|énfasis|exclamar|extrañar|hipotético|indigno|intolerable|lugar|mandar|necesario|negar|no|ponderar|posible|precaución|queja\"/>\\n<w n=\"t1.4\" lemma=\"si\" mariax=\"charlar|chisme|concesivo|condición|corregir|decidir|depender|desear|elemento|hipotético|nota|ponderar|suponer\"/>\\n<w n=\"t1.5\" lemma=\"me\" mariax=\"censurar|maltrecho\"/>\\n<w n=\"t1.6\" lemma=\"tener\" mariax=\"alegre|amenazar|aprovechar|asamblea|atender|aturdir|beber|borracho|callar|complacer|consecuencia|considerar|convenir|conversar|cooperar|cuidar|desengaño|detener|difícil|dirigir|disgustar|dominar|edad|embelesar|estimar|experiencia|fastidio|hablar|hambre|idea|imponer|intervenir|intranquilo|mandar|negocio|noticia|ocupar|ofuscar|parecer|poseer|precaución|principiar|profesión|propiedad|real|referir|reservar|resultar|retener|rico|sentir|sostener|sustituir|temer|travieso\"/>\\n<w n=\"t1.7\" lemma=\"por\" mariax=\"aislar|alabar|aliviar|aproximar|cambiar|causa|coacción|cobrar|comercio|compensar|concesivo|conjunto|consecuencia|considerar|continuar|costar|defender|desear|difícil|equivocar|evidente|fecha|forzar|frecuente|heráldica|hipotético|ignorar|igual|inconveniente|injustificado|intervenir|investigar|lugar|mandar|matemática|mucho|multiplicar|negar|obligar|parcial|partidario|pasar|preferir|protestar|rabia|referir|relación|repartir|representar|terminar|tiempo|todo|trabajar|transigir|trastornar|vender|violento\"/>\\n<w n=\"t1.8\" lemma=\"compañero\" mariax=\"adecuado|amancebarse|amigo|asociar|compañía|conjunto|jugar\"/>\\n<w n=\"t1.10\" lemma=\"recibir\" mariax=\"acoger|admitir|albergar|alegre|apoyar|aprobar|cobrar|construir|dinero|nombre|noticia|obtener|sostener|sujetar|toro\"/>\\n<w n=\"t1.11\" lemma=\"lo\" mariax=\"adversativo|beneficiar|consecuencia|énfasis|límite|ponderar|resto|vela\"/>\\n<w n=\"t1.12\" lemma=\"como\" mariax=\"adecuado|alegre|alternar|arreglar|blando|burla|causa|chasco|colgar|comparación|concesivo|conocer|correlación|decidir|disgustar|ejemplo|encolerizar|estimar|gordo|gustar|herir|hipotético|igual|imperfecto|indiferente|intranquilo|introducir|matemática|máximo|medir|padecer|parálisis|producir|someter|sucio|sustituir|utensilio|valer\"/>\\n<w n=\"t1.13\" lemma=\"a\" mariax=\"acción|alfabeto|amigo|arma|asamblea|atravesar|bien|compensar|concesivo|consecuencia|construir|creer|decidir|descubrir|dirigir|disparar|énfasis|equitación|exceptuar|falta|hipotético|hostil|imprevisión|incrédulo|interrumpir|letra|lugar|medio|montar|negar|negocio|nota|oportuno|parecer|plantar|poner|predecir|principiar|prometer|próximo|referir|repartir|risa|saludar|secreto|suceder|suerte|terminar|tiempo|transigir|unir|vender|violento|voluntad\"/>\\n<w n=\"t1.14\" lemma=\"mí\" mariax=\"permitir\"/>\\n<w n=\"t1.15\" lemma=\"mismo\" mariax=\"enfadar|igual|oponer|pensar|preciso|propio|solo\"/>\\n\\n</s>\\n</seg>\\n\\n<seg xml:id=\"b.PHM.001.018.MariaX\" corresp=\"#b.PHM.001.018\">\\n\\n<s n=\"1\">\\n<w n=\"t1.1\" lemma=\"y\" mariax=\"antes|concesivo|condición|desaprobar|diferir|electricidad|elemento|expresión|forzar|futuro|indeterminado|mandar|predecir|terminar\"/>\\n<w n=\"t1.2\" lemma=\"si\" mariax=\"charlar|chisme|concesivo|condición|corregir|decidir|depender|desear|elemento|hipotético|nota|ponderar|suponer\"/>\\n<w n=\"t1.3\" lemma=\"en\" mariax=\"acción|adecuado|afirmar|arruinar|barato|barco|cambiar|compensar|conjunto|consecuencia|contorno|descubrir|desgracia|difícil|emprender|encerrar|ensalzar|erguir|guiar|igual|incluir|intención|interés|interrumpir|intervenir|juzgar|lugar|manejar|montar|mucho|ocultar|partir|ponderar|precio|principiar|rápido|referir|reflexionar|relación|rico|terminar|tiempo|tirar|toro|tranquilo|transigir|tribunal|valer|verdad\"/>\\n<w n=\"t1.4\" lemma=\"algo\" mariax=\"bien|indeterminado|mucho|parte|poco\"/>\\n<w n=\"t1.5\" lemma=\"te\" mariax=\"alfabeto|arbitrario|convenir|disgustar|elemento|gustar|indigno|peligro|reprender\"/>\\n<w n=\"t1.6\" lemma=\"dañar\" mariax=\"daño|estropear|lesión|malo|maltratar|perjuicio|pudrir\"/>\\n<w n=\"t1.8\" lemma=\"o\" mariax=\"adivinar|admirar|ahuyentar|alfabeto|astronomía|bello|columna|confundir|corregir|distinguir|elemento|exclamar|falta|forma|hablar|horizonte|incluir|indeterminado|jugar|juntar|líquido|mujer|número|reunir|utensilio|vencer\"/>\\n<w n=\"t1.9\" lemma=\"te\" mariax=\"alfabeto|arbitrario|convenir|disgustar|elemento|gustar|indigno|peligro|reprender\"/>\\n<w n=\"t1.10\" lemma=\"deber\" mariax=\"deuda|ejercer|obligar\"/>\\n<w n=\"t1.12\" lemma=\"poner\" mariax=\"adulterio|amenazar|apoderar|aturdir|baraja|cambiar|clase|colocar|comer|complacer|componer|cooperar|cuenta|dejar|delegar|desairar|descubrir|desear|deshonrar|despreciar|destruir|difamar|difícil|disparar|echar|empleo|encargar|equitación|escribir|esforzar|espectáculo|establecer|fijar|gallina|gestionar|huevo|humillar|incluir|insistir|intervenir|intranquilo|lotería|lugar|maltratar|meter|mostrar|nombre|observar|ofuscar|pagar|pensar|percatarse|poner|preparar|principiar|probar|radio|representar|suponer|teatro|terminar\"/>\\n<w n=\"t1.13\" lemma=\"lo\" mariax=\"adversativo|beneficiar|consecuencia|énfasis|límite|ponderar|resto|vela\"/>\\n<w n=\"t1.14\" lemma=\"a\" mariax=\"acción|alfabeto|amigo|arma|asamblea|atravesar|bien|compensar|concesivo|consecuencia|construir|creer|decidir|descubrir|dirigir|disparar|énfasis|equitación|exceptuar|falta|hipotético|hostil|imprevisión|incrédulo|interrumpir|letra|lugar|medio|montar|negar|negocio|nota|oportuno|parecer|plantar|poner|predecir|principiar|prometer|próximo|referir|repartir|risa|saludar|secreto|suceder|suerte|terminar|tiempo|transigir|unir|vender|violento|voluntad\"/>\\n<w n=\"t1.15\" lemma=\"mi\" mariax=\"bien|desengaño|familia|ganar|nota\"/>\\n<w n=\"t1.16\" lemma=\"cuenta\" mariax=\"aprovechar|cantidad|cobrar|convenir|cuenta|dinero|entender|esfera|matemática|negocio|solo|suponer|tejer|vidrio\"/>\\n\\n</s>\\n</seg>\\n\\n<seg xml:id=\"b.PHM.001.019.MariaX\" corresp=\"#b.PHM.001.019\">\\n\\n<s n=\"1\">\\n<w n=\"t1.1\" lemma=\"yo\" mariax=\"alma|desear|psicología\"/>\\n<w n=\"t1.5\" lemma=\"lo\" mariax=\"adversativo|beneficiar|consecuencia|énfasis|límite|ponderar|resto|vela\"/>\\n<w n=\"t1.6\" lemma=\"escribir\" mariax=\"carta|comunicar|decir|imprimir|libro|literatura|música|nota|periódico|poesía\"/>\\n<w n=\"t1.7\" lemma=\"de\" mariax=\"acordar|adecuado|alfabeto|arrepentirse|asamblea|atravesar|baraja|barato|bello|calle|consecuencia|construir|corresponder|criticar|cuerda|denigrar|desacreditar|desembarazar|destruir|disgustar|disparar|énfasis|enfermedad|erguir|fama|grande|gustar|hostil|importar|impresión|imprevisión|informar|insistir|insultar|intención|levantar|libre|lugar|lujo|mandar|marina|milicia|mirar|mostrar|muchacho|mucho|murmurar|opinión|oportuno|pagar|pedir|ponderar|poseer|pretender|principiar|proceder|propio|proyecto|queja|rápido|repentino|reprender|rico|sacar|separar|servir|tener|tirar|vestir|voluntad\"/>\\n<w n=\"t1.8\" lemma=\"mi\" mariax=\"bien|desengaño|familia|ganar|nota\"/>\\n<w n=\"t1.9\" lemma=\"mano\" mariax=\"acción|acertar|autoridad|ayudar|baraja|brazo|cantería|capa|carne|cazar|comercio|conjunto|cooperar|cuerpo|dedo|despojo|dirigir|encubrir|golpe|guiar|hábil|indicar|influir|intervenir|jugar|lado|lavar|medio|ocultar|paliza|pan|papel|parte|piedra|pintar|poder|próximo|reloj|repartir|secreto|seda|señal|tejer|vuelta\"/>\\n<w n=\"t1.11\" lemma=\"yo\" mariax=\"alma|desear|psicología\"/>\\n<w n=\"t1.12\" lemma=\"lo\" mariax=\"adversativo|beneficiar|consecuencia|énfasis|límite|ponderar|resto|vela\"/>\\n<w n=\"t1.13\" lemma=\"pagar\" mariax=\"agradecer|castigar|cobrar|compensar|consecuencia|costar|cuenta|dar|deuda|dinero|entregar|gastar|mantener|negocio|precio|prestar|retribución|tributo|vender\"/>\\n<w n=\"t1.15\" lemma=\"por\" mariax=\"aislar|alabar|aliviar|aproximar|cambiar|causa|coacción|cobrar|comercio|compensar|concesivo|conjunto|consecuencia|considerar|continuar|costar|defender|desear|difícil|equivocar|evidente|fecha|forzar|frecuente|heráldica|hipotético|ignorar|igual|inconveniente|injustificado|intervenir|investigar|lugar|mandar|matemática|mucho|multiplicar|negar|obligar|parcial|partidario|pasar|preferir|protestar|rabia|referir|relación|repartir|representar|terminar|tiempo|todo|trabajar|transigir|trastornar|vender|violento\"/>\\n<w n=\"t1.16\" lemma=\"no\" mariax=\"actitud|asombrar|callar|cine|confirmar|conseguir|corregir|detestar|elemento|énfasis|extraordinario|hablar|incitar|límite|negar|no|perseverar|preguntar|solo\"/>\\n<w n=\"t1.17\" lemma=\"decir\" mariax=\"adecuado|afirmar|alabar|anunciar|armonía|comunicar|conversar|corresponder|decidir|decir|desacreditar|descomponer|descubrir|despropósito|dicho|difundir|equivocar|escribir|expresar|hablar|indicar|informar|insistir|jurar|llamar|máxima|murmurar|narrar|nombre|opinión|publicar|rápido|responder|saber\"/>\\n<w n=\"t1.18\" lemma=\"te\" mariax=\"alfabeto|arbitrario|convenir|disgustar|elemento|gustar|indigno|peligro|reprender\"/>\\n<w n=\"t1.19\" lemma=\"que\" mariax=\"adversativo|afirmar|causa|censurar|charlar|chisme|concesivo|condición|cooperar|corregir|cortés|desear|difícil|ejemplo|enfadar|énfasis|exclamar|extrañar|hipotético|indigno|intolerable|lugar|mandar|necesario|negar|no|ponderar|posible|precaución|queja\"/>\\n<w n=\"t1.20\" lemma=\"aun\" mariax=\"concesivo|ponderar\"/>\\n<w n=\"t1.21\" lemma=\"tú\" mariax=\"llamar|nombre|propio|tratar\"/>\\n<w n=\"t1.22\" lemma=\"mismo\" mariax=\"enfadar|igual|oponer|pensar|preciso|propio|solo\"/>\\n<w n=\"t1.23\" lemma=\"te\" mariax=\"alfabeto|arbitrario|convenir|disgustar|elemento|gustar|indigno|peligro|reprender\"/>\\n<w n=\"t1.24\" lemma=\"me\" mariax=\"censurar|maltrecho\"/>\\n<w n=\"t1.25\" lemma=\"deber\" mariax=\"deuda|ejercer|obligar\"/>\\n<w n=\"t1.26\" lemma=\"también\" mariax=\"añadir|cualidad|repetir|río|sentir|utensilio\"/>\\n\\n</s>\\n</seg>\\n\\n<seg xml:id=\"b.PHM.001.020.MariaX\" corresp=\"#b.PHM.001.020\">\\n\\n<s n=\"1\">\\n<w n=\"t1.1\" lemma=\"sí\" mariax=\"amable|asentir|asombrar|exagerar|incrédulo|teléfono\"/>\\n<w n=\"t1.3\" lemma=\"hermano\" mariax=\"monje|orden|parecer|pariente|tratar\"/>\\n<w n=\"t1.5\" lemma=\"tener\" mariax=\"alegre|amenazar|aprovechar|asamblea|atender|aturdir|beber|borracho|callar|complacer|consecuencia|considerar|convenir|conversar|cooperar|cuidar|desengaño|detener|difícil|dirigir|disgustar|dominar|edad|embelesar|estimar|experiencia|fastidio|hablar|hambre|idea|imponer|intervenir|intranquilo|mandar|negocio|noticia|ocupar|ofuscar|parecer|poseer|precaución|principiar|profesión|propiedad|real|referir|reservar|resultar|retener|rico|sentir|sostener|sustituir|temer|travieso\"/>\\n<w n=\"t1.6\" lemma=\"yo\" mariax=\"alma|desear|psicología\"/>\\n<w n=\"t1.7\" lemma=\"alguno\" mariax=\"poco\"/>\\n<w n=\"t1.8\" lemma=\"provecho\" mariax=\"beneficiar|convenir|ganar|interés|producir|útil|ventaja\"/>\\n<w n=\"t1.9\" lemma=\"de\" mariax=\"acordar|adecuado|alfabeto|arrepentirse|asamblea|atravesar|baraja|barato|bello|calle|consecuencia|construir|corresponder|criticar|cuerda|denigrar|desacreditar|desembarazar|destruir|disgustar|disparar|énfasis|enfermedad|erguir|fama|grande|gustar|hostil|importar|impresión|imprevisión|informar|insistir|insultar|intención|levantar|libre|lugar|lujo|mandar|marina|milicia|mirar|mostrar|muchacho|mucho|murmurar|opinión|oportuno|pagar|pedir|ponderar|poseer|pretender|principiar|proceder|propio|proyecto|queja|rápido|repentino|reprender|rico|sacar|separar|servir|tener|tirar|vestir|voluntad\"/>\\n<w n=\"t1.10\" lemma=\"ti\" mariax=\"elemento|íntimo|permitir\"/>\\n<w n=\"t1.11\" lemma=\"en\" mariax=\"acción|adecuado|afirmar|arruinar|barato|barco|cambiar|compensar|conjunto|consecuencia|contorno|descubrir|desgracia|difícil|emprender|encerrar|ensalzar|erguir|guiar|igual|incluir|intención|interés|interrumpir|intervenir|juzgar|lugar|manejar|montar|mucho|ocultar|partir|ponderar|precio|principiar|rápido|referir|reflexionar|relación|rico|terminar|tiempo|tirar|toro|tranquilo|transigir|tribunal|valer|verdad\"/>\\n<w n=\"t1.12\" lemma=\"el\" mariax=\"aprovechar|echar|enfadar|exclamar|gustar|principiar|protestar|retrete\"/>\\n<w n=\"t1.15\" lemma=\"confortar\" mariax=\"aliviar|ánimo|consolar|fortalecer|fuerte|reforzar\"/>\\n<w n=\"t1.16\" lemma=\"mi\" mariax=\"bien|desengaño|familia|ganar|nota\"/>\\n<w n=\"t1.17\" lemma=\"corazón\" mariax=\"amor|enfermedad|forma|fruto|heráldica|sangre|sentir|valiente\"/>\\n<w n=\"t1.18\" lemma=\"en\" mariax=\"acción|adecuado|afirmar|arruinar|barato|barco|cambiar|compensar|conjunto|consecuencia|contorno|descubrir|desgracia|difícil|emprender|encerrar|ensalzar|erguir|guiar|igual|incluir|intención|interés|interrumpir|intervenir|juzgar|lugar|manejar|montar|mucho|ocultar|partir|ponderar|precio|principiar|rápido|referir|reflexionar|relación|rico|terminar|tiempo|tirar|toro|tranquilo|transigir|tribunal|valer|verdad\"/>\\n<w n=\"t1.19\" lemma=\"el\" mariax=\"aprovechar|echar|enfadar|exclamar|gustar|principiar|protestar|retrete\"/>\\n\\n</s>\\n</seg>\\n\\n<seg xml:id=\"b.PHM.001.021.MariaX\" corresp=\"#b.PHM.001.021\">\\n\\n<s n=\"1\">\\n<w n=\"t1.1\" lemma=\"te\" mariax=\"alfabeto|arbitrario|convenir|disgustar|elemento|gustar|indigno|peligro|reprender\"/>\\n<w n=\"t1.2\" lemma=\"haber\" mariax=\"alegre|apresar|bien|bulla|coger|componer|cuenta|difícil|existir|merecer|negocio|poseer|riña|suceder|tener\"/>\\n<w n=\"t1.3\" lemma=\"escribir\" mariax=\"carta|comunicar|decir|imprimir|libro|literatura|música|nota|periódico|poesía\"/>\\n<w n=\"t1.4\" lemma=\"confiar\" mariax=\"abandonar|creer|cuidar|dejar|delegar|depositar|encargar|entregar|esperar\"/>\\n<w n=\"t1.5\" lemma=\"en\" mariax=\"acción|adecuado|afirmar|arruinar|barato|barco|cambiar|compensar|conjunto|consecuencia|contorno|descubrir|desgracia|difícil|emprender|encerrar|ensalzar|erguir|guiar|igual|incluir|intención|interés|interrumpir|intervenir|juzgar|lugar|manejar|montar|mucho|ocultar|partir|ponderar|precio|principiar|rápido|referir|reflexionar|relación|rico|terminar|tiempo|tirar|toro|tranquilo|transigir|tribunal|valer|verdad\"/>\\n<w n=\"t1.6\" lemma=\"tu\" mariax=\"arbitrario|bien|coacción|desear|desengaño|familia|forzar|ganar|gustar|indeterminado|intervenir|íntimo|ir|obligar|opinión|pensar|propio|proyecto|referir|solo|trabajar|voluntad\"/>\\n<w n=\"t1.7\" lemma=\"obediencia\" mariax=\"depender|someter|sujetar\"/>\\n<w n=\"t1.9\" lemma=\"saber\" mariax=\"acostumbrar|aprender|cierto|compañía|conocer|depender|descubrir|entender|experiencia|hábil|instruir|inteligencia|lengua|manejar\"/>\\n<w n=\"t1.10\" lemma=\"que\" mariax=\"adversativo|afirmar|causa|censurar|charlar|chisme|concesivo|condición|cooperar|corregir|cortés|desear|difícil|ejemplo|enfadar|énfasis|exclamar|extrañar|hipotético|indigno|intolerable|lugar|mandar|necesario|negar|no|ponderar|posible|precaución|queja\"/>\\n<w n=\"t1.11\" lemma=\"hacer\" mariax=\"acción|acomodar|acostumbrar|actividad|agradar|armonía|cama|cambiar|cantidad|capacidad|causa|comer|comparar|componer|confundir|contrario|contrato|convenir|conversar|cooperar|copiar|crear|cuenta|curvo|desafiar|destruir|efecto|enfermedad|entretener|equivocar|esforzar|espectáculo|estar|evacuar|fastidio|forzar|fotografía|fútbol|fútbol|hablar|heredar|herir|ilusión|impresión|jugar|meteorología|negar|obligar|oponer|oportuno|orden|parecer|precio|presumir|producir|proyecto|real|rechazar|recipiente|referir|relación|representar|retroceder|suponer|teatro|tiempo|trabajar|vencer|viento|vigilar\"/>\\n<w n=\"t1.12\" lemma=\"aun\" mariax=\"concesivo|ponderar\"/>\\n<w n=\"t1.13\" lemma=\"más\" mariax=\"asentir|aumentar|cantidad|comparar|corregir|correlación|desaprobar|énfasis|especial|expresión|intenso|límite|matemática|protestar\"/>\\n<w n=\"t1.14\" lemma=\"de\" mariax=\"acordar|adecuado|alfabeto|arrepentirse|asamblea|atravesar|baraja|barato|bello|calle|consecuencia|construir|corresponder|criticar|cuerda|denigrar|desacreditar|desembarazar|destruir|disgustar|disparar|énfasis|enfermedad|erguir|fama|grande|gustar|hostil|importar|impresión|imprevisión|informar|insistir|insultar|intención|levantar|libre|lugar|lujo|mandar|marina|milicia|mirar|mostrar|muchacho|mucho|murmurar|opinión|oportuno|pagar|pedir|ponderar|poseer|pretender|principiar|proceder|propio|proyecto|queja|rápido|repentino|reprender|rico|sacar|separar|servir|tener|tirar|vestir|voluntad\"/>\\n<w n=\"t1.15\" lemma=\"el\" mariax=\"aprovechar|echar|enfadar|exclamar|gustar|principiar|protestar|retrete\"/>\\n<w n=\"t1.16\" lemma=\"que\" mariax=\"adversativo|afirmar|causa|censurar|charlar|chisme|concesivo|condición|cooperar|corregir|cortés|desear|difícil|ejemplo|enfadar|énfasis|exclamar|extrañar|hipotético|indigno|intolerable|lugar|mandar|necesario|negar|no|ponderar|posible|precaución|queja\"/>\\n<w n=\"t1.17\" lemma=\"te\" mariax=\"alfabeto|arbitrario|convenir|disgustar|elemento|gustar|indigno|peligro|reprender\"/>\\n<w n=\"t1.18\" lemma=\"decir\" mariax=\"adecuado|afirmar|alabar|anunciar|armonía|comunicar|conversar|corresponder|decidir|decir|desacreditar|descomponer|descubrir|despropósito|dicho|difundir|equivocar|escribir|expresar|hablar|indicar|informar|insistir|jurar|llamar|máxima|murmurar|narrar|nombre|opinión|publicar|rápido|responder|saber\"/>\\n\\n</s>\\n</seg>\\n\\n<seg xml:id=\"b.PHM.001.022.MariaX\" corresp=\"#b.PHM.001.022\">\\n\\n<s n=\"1\">\\n<w n=\"t1.1\" lemma=\"preparar\" mariax=\"atenuar|colocar|educar|enseñar|estudiar|fácil|farmacia|impresión|noticia|precaución|prevenir|principiar|proyecto\"/>\\n<w n=\"t1.2\" lemma=\"me\" mariax=\"censurar|maltrecho\"/>\\n<w n=\"t1.3\" lemma=\"también\" mariax=\"añadir|cualidad|repetir|río|sentir|utensilio\"/>\\n<w n=\"t1.4\" lemma=\"alojamiento\" mariax=\"albergar|alojar|casa|guerra|habitar|hospedar|refugio|vivienda\"/>\\n<w n=\"t1.6\" lemma=\"porque\" mariax=\"causa\"/>\\n<w n=\"t1.7\" lemma=\"esperar\" mariax=\"creer|detener|marina|reflexionar|tardar|tiempo\"/>\\n<w n=\"t1.8\" lemma=\"que\" mariax=\"adversativo|afirmar|causa|censurar|charlar|chisme|concesivo|condición|cooperar|corregir|cortés|desear|difícil|ejemplo|enfadar|énfasis|exclamar|extrañar|hipotético|indigno|intolerable|lugar|mandar|necesario|negar|no|ponderar|posible|precaución|queja\"/>\\n<w n=\"t1.9\" lemma=\"por\" mariax=\"aislar|alabar|aliviar|aproximar|cambiar|causa|coacción|cobrar|comercio|compensar|concesivo|conjunto|consecuencia|considerar|continuar|costar|defender|desear|difícil|equivocar|evidente|fecha|forzar|frecuente|heráldica|hipotético|ignorar|igual|inconveniente|injustificado|intervenir|investigar|lugar|mandar|matemática|mucho|multiplicar|negar|obligar|parcial|partidario|pasar|preferir|protestar|rabia|referir|relación|repartir|representar|terminar|tiempo|todo|trabajar|transigir|trastornar|vender|violento\"/>\\n<w n=\"t1.11\" lemma=\"oración\" mariax=\"campana|culto|devoción|día|expresar|gramática|rezar|verbo\"/>\\n<w n=\"t1.12\" lemma=\"os\" mariax=\"ahuyentar|echar|elemento|espantar\"/>\\n<w n=\"t1.13\" lemma=\"ser\" mariax=\"bueno|convertir|cosa|costar|difícil|esencia|existir|experiencia|fingir|igual|imponer|importar|inquieto|intervenir|justo|merecer|representar|seco|sobresalir|solución|superior|tiempo\"/>\\n<w n=\"t1.14\" lemma=\"conceder\" mariax=\"acceder|admitir|asamblea|asentir|atender|ceder|creer|decir|permitir|transigir\"/>\\n\\n</s>\\n</seg>\\n\\n<seg xml:id=\"b.PHM.001.023.MariaX\" corresp=\"#b.PHM.001.023\">\\n\\n<s n=\"1\">\\n<w n=\"t1.1\" lemma=\"te\" mariax=\"alfabeto|arbitrario|convenir|disgustar|elemento|gustar|indigno|peligro|reprender\"/>\\n<w n=\"t1.2\" lemma=\"saludar\" mariax=\"bandera|cortés|hechicería|medicina|soberano|sombrero|tratar\"/>\\n<w n=\"t1.5\" lemma=\"mi\" mariax=\"bien|desengaño|familia|ganar|nota\"/>\\n<w n=\"t1.6\" lemma=\"compañero\" mariax=\"adecuado|amancebarse|amigo|asociar|compañía|conjunto|jugar\"/>\\n<w n=\"t1.7\" lemma=\"de\" mariax=\"acordar|adecuado|alfabeto|arrepentirse|asamblea|atravesar|baraja|barato|bello|calle|consecuencia|construir|corresponder|criticar|cuerda|denigrar|desacreditar|desembarazar|destruir|disgustar|disparar|énfasis|enfermedad|erguir|fama|grande|gustar|hostil|importar|impresión|imprevisión|informar|insistir|insultar|intención|levantar|libre|lugar|lujo|mandar|marina|milicia|mirar|mostrar|muchacho|mucho|murmurar|opinión|oportuno|pagar|pedir|ponderar|poseer|pretender|principiar|proceder|propio|proyecto|queja|rápido|repentino|reprender|rico|sacar|separar|servir|tener|tirar|vestir|voluntad\"/>\\n<w n=\"t1.8\" lemma=\"prisión\" mariax=\"amor|apresar|atar|cariño|castigar|cetrería|encerrar|habitar|impedir|preso\"/>\\n<w n=\"t1.9\" lemma=\"por\" mariax=\"aislar|alabar|aliviar|aproximar|cambiar|causa|coacción|cobrar|comercio|compensar|concesivo|conjunto|consecuencia|considerar|continuar|costar|defender|desear|difícil|equivocar|evidente|fecha|forzar|frecuente|heráldica|hipotético|ignorar|igual|inconveniente|injustificado|intervenir|investigar|lugar|mandar|matemática|mucho|multiplicar|negar|obligar|parcial|partidario|pasar|preferir|protestar|rabia|referir|relación|repartir|representar|terminar|tiempo|todo|trabajar|transigir|trastornar|vender|violento\"/>\\n\\n</s>\\n</seg>\\n\\n<seg xml:id=\"b.PHM.001.024.MariaX\" corresp=\"#b.PHM.001.024\">\\n\\n<s n=\"1\">\\n<w n=\"t1.6\" lemma=\"y\" mariax=\"antes|concesivo|condición|desaprobar|diferir|electricidad|elemento|expresión|forzar|futuro|indeterminado|mandar|predecir|terminar\"/>\\n<w n=\"t1.9\" lemma=\"mi\" mariax=\"bien|desengaño|familia|ganar|nota\"/>\\n<w n=\"t1.10\" lemma=\"colaborador\" mariax=\"escribir|literatura|participar|periódico\"/>\\n\\n</s>\\n</seg>\\n\\n<seg xml:id=\"b.PHM.001.025.MariaX\" corresp=\"#b.PHM.001.025\">\\n\\n<s n=\"1\">\\n<w n=\"t1.1\" lemma=\"el\" mariax=\"aprovechar|echar|enfadar|exclamar|gustar|principiar|protestar|retrete\"/>\\n<w n=\"t1.2\" lemma=\"gracia\" mariax=\"agradar|armonía|atraer|bello|beneficiar|conceder|condimentar|dar|decir|desenvoltura|dicho|donación|elegante|encantar|enterrar|fastidio|favor|gallardo|hábil|ingenio|niño|nombre|perdonar|protestar|simpatía|teología|tratar|virtud\"/>\\n<w n=\"t1.3\" lemma=\"de\" mariax=\"acordar|adecuado|alfabeto|arrepentirse|asamblea|atravesar|baraja|barato|bello|calle|consecuencia|construir|corresponder|criticar|cuerda|denigrar|desacreditar|desembarazar|destruir|disgustar|disparar|énfasis|enfermedad|erguir|fama|grande|gustar|hostil|importar|impresión|imprevisión|informar|insistir|insultar|intención|levantar|libre|lugar|lujo|mandar|marina|milicia|mirar|mostrar|muchacho|mucho|murmurar|opinión|oportuno|pagar|pedir|ponderar|poseer|pretender|principiar|proceder|propio|proyecto|queja|rápido|repentino|reprender|rico|sacar|separar|servir|tener|tirar|vestir|voluntad\"/>\\n<w n=\"t1.4\" lemma=\"nuestro\" mariax=\"difícil|sujetar\"/>\\n<w n=\"t1.6\" lemma=\"ser\" mariax=\"bueno|convertir|cosa|costar|difícil|esencia|existir|experiencia|fingir|igual|imponer|importar|inquieto|intervenir|justo|merecer|representar|seco|sobresalir|solución|superior|tiempo\"/>\\n<w n=\"t1.7\" lemma=\"con\" mariax=\"arrepentirse|caer|compañía|concesivo|contener|cooperar|desengaño|después|disgustar|enfadar|exagerar|exceptuar|fijar|frecuente|gustar|hablar|hipotético|juntar|mucho|norma|participar|ponderar|relación|reunir|tiempo|trabajar|tranquilo|transigir|tratar|unir|verdad|voluntad\"/>\\n<w n=\"t1.9\" lemma=\"espíritu\" mariax=\"alma|ánimo|atrever|brío|decidir|esencia|inteligencia|intención|muerte|química|sentir|ser|tender|valiente\"/>\\n<w n=\"t2.1\" lemma=\"amén\" mariax=\"acceder|añadir|aprobar|desear|rápido|rezar\"/>\\n\\n</s>\\n<s n=\"2\">\\n<w n=\"t1.1\" lemma=\"el\" mariax=\"aprovechar|echar|enfadar|exclamar|gustar|principiar|protestar|retrete\"/>\\n<w n=\"t1.2\" lemma=\"gracia\" mariax=\"agradar|armonía|atraer|bello|beneficiar|conceder|condimentar|dar|decir|desenvoltura|dicho|donación|elegante|encantar|enterrar|fastidio|favor|gallardo|hábil|ingenio|niño|nombre|perdonar|protestar|simpatía|teología|tratar|virtud\"/>\\n<w n=\"t1.3\" lemma=\"de\" mariax=\"acordar|adecuado|alfabeto|arrepentirse|asamblea|atravesar|baraja|barato|bello|calle|consecuencia|construir|corresponder|criticar|cuerda|denigrar|desacreditar|desembarazar|destruir|disgustar|disparar|énfasis|enfermedad|erguir|fama|grande|gustar|hostil|importar|impresión|imprevisión|informar|insistir|insultar|intención|levantar|libre|lugar|lujo|mandar|marina|milicia|mirar|mostrar|muchacho|mucho|murmurar|opinión|oportuno|pagar|pedir|ponderar|poseer|pretender|principiar|proceder|propio|proyecto|queja|rápido|repentino|reprender|rico|sacar|separar|servir|tener|tirar|vestir|voluntad\"/>\\n<w n=\"t1.4\" lemma=\"nuestro\" mariax=\"difícil|sujetar\"/>\\n<w n=\"t1.6\" lemma=\"ser\" mariax=\"bueno|convertir|cosa|costar|difícil|esencia|existir|experiencia|fingir|igual|imponer|importar|inquieto|intervenir|justo|merecer|representar|seco|sobresalir|solución|superior|tiempo\"/>\\n<w n=\"t1.7\" lemma=\"con\" mariax=\"arrepentirse|caer|compañía|concesivo|contener|cooperar|desengaño|después|disgustar|enfadar|exagerar|exceptuar|fijar|frecuente|gustar|hablar|hipotético|juntar|mucho|norma|participar|ponderar|relación|reunir|tiempo|trabajar|tranquilo|transigir|tratar|unir|verdad|voluntad\"/>\\n<w n=\"t1.9\" lemma=\"espíritu\" mariax=\"alma|ánimo|atrever|brío|decidir|esencia|inteligencia|intención|muerte|química|sentir|ser|tender|valiente\"/>\\n<w n=\"t2.1\" lemma=\"amén\" mariax=\"acceder|añadir|aprobar|desear|rápido|rezar\"/>\\n\\n</s>\\n</seg>\\n\\n</standOff>'"
      ]
     },
     "metadata": {},
     "execution_count": 54
    }
   ],
   "source": [
    "content_book"
   ]
  },
  {
   "cell_type": "code",
   "execution_count": 55,
   "metadata": {},
   "outputs": [
    {
     "output_type": "execute_result",
     "data": {
      "text/plain": [
       "<Element standOff at 0x2dd523aea48>"
      ]
     },
     "metadata": {},
     "execution_count": 55
    }
   ],
   "source": [
    "etree.fromstring(content_book)"
   ]
  },
  {
   "cell_type": "code",
   "execution_count": 9,
   "metadata": {},
   "outputs": [
    {
     "output_type": "execute_result",
     "data": {
      "text/plain": [
       "['\\n\\t',\n",
       " '\\n\\t\\t',\n",
       " '\\n\\t\\t\\t',\n",
       " '\\n\\t\\t\\t\\t',\n",
       " 'Biblia',\n",
       " '\\n\\t\\t\\t\\t',\n",
       " '\\n\\t\\t\\t\\t\\t',\n",
       " '\\n\\t\\t\\t\\t',\n",
       " '\\n\\t\\t\\t\\t',\n",
       " '\\n\\t\\t\\t\\t\\t',\n",
       " 'varios',\n",
       " '\\n\\t\\t\\t\\t\\t',\n",
       " 'varios',\n",
       " '\\n\\t\\t\\t\\t\\t',\n",
       " '\\n\\t\\t\\t\\t',\n",
       " '\\n\\t\\t\\t\\t',\n",
       " 'José Calvo Tello',\n",
       " '\\n\\t\\t\\t',\n",
       " '\\n\\t\\t\\t',\n",
       " '\\n\\t\\t\\t\\t',\n",
       " '\\n\\t\\t\\t\\t',\n",
       " '\\n\\t\\t\\t\\t\\t',\n",
       " 'The text is freely available.',\n",
       " '\\n\\t\\t\\t\\t',\n",
       " '\\n\\t\\t\\t\\t',\n",
       " '2015',\n",
       " '\\n\\t\\t\\t',\n",
       " '\\n\\t\\t\\t',\n",
       " '\\n\\t\\t\\t\\t',\n",
       " 'Reina Valera, ',\n",
       " '1995',\n",
       " '\\n\\t\\t\\t\\t',\n",
       " '1569',\n",
       " '\\n\\t\\t\\t',\n",
       " '\\n\\t\\t',\n",
       " '\\n\\t\\t',\n",
       " '\\n\\t\\t\\t',\n",
       " '\\n\\t\\t',\n",
       " '\\n\\t\\t',\n",
       " '\\n\\t\\t\\t',\n",
       " 'Finished first version of Matthew.',\n",
       " '\\n\\t\\t\\t',\n",
       " 'Created schema and changed some elements.',\n",
       " '\\n\\t\\t\\t',\n",
       " 'Added information to header.',\n",
       " '\\n\\t\\t\\t',\n",
       " 'Text corrected personally.',\n",
       " '\\n\\t\\t\\t',\n",
       " 'Element said change to q and added type and source.',\n",
       " '\\n\\t\\t\\t']"
      ]
     },
     "metadata": {},
     "execution_count": 9
    }
   ],
   "source": [
    "bible_root.xpath(\".//text()\", namespaces = namespaces)[0:50]"
   ]
  },
  {
   "cell_type": "code",
   "execution_count": null,
   "metadata": {},
   "outputs": [],
   "source": []
  },
  {
   "cell_type": "code",
   "execution_count": 22,
   "metadata": {},
   "outputs": [],
   "source": [
    "root_TEI = etree.fromstring( \"\"\"<TEI xmlns=\"http://www.tei-c.org/ns/1.0\">\\n\t<teiHeader>\n",
    "\t\t<fileDesc>\n",
    "\t\t\t<titleStmt>\n",
    "\t\t\t\t<title type=\"idno\">\n",
    "\t\t\t\t\t<idno type=\"string\">\"\"\" + book_name + \"\"\"</idno>\n",
    "                                     </title>\n",
    "                                     </titleStmt>\n",
    "                                     </fileDesc>\n",
    "                                     </teiHeader>\n",
    "                                     <text>\n",
    "                                     <group>\n",
    "                                     <text xml:id=\"b.\"\"\" + book_name + \"\"\".POSFreenling\" type=\"morphosyntactic\">\n",
    "                                         <body>\n",
    "                                         </body>\n",
    "                                         </text>\n",
    "                                         </group>\n",
    "                                     </text>\n",
    "                                     </TEI>\n",
    "                                     \"\"\")\n"
   ]
  },
  {
   "cell_type": "code",
   "execution_count": 20,
   "metadata": {},
   "outputs": [
    {
     "name": "stdout",
     "output_type": "stream",
     "text": [
      "1CH\n",
      "<Element {http://www.tei-c.org/ns/1.0}text at 0x7f44a8a1c648>\n",
      "JER\n",
      "<Element {http://www.tei-c.org/ns/1.0}text at 0x7f44a8a1c648>\n",
      "1CO\n",
      "<Element {http://www.tei-c.org/ns/1.0}text at 0x7f44a8a1c648>\n",
      "HAB\n",
      "<Element {http://www.tei-c.org/ns/1.0}text at 0x7f44a8a1c648>\n",
      "JOB\n",
      "<Element {http://www.tei-c.org/ns/1.0}text at 0x7f44a8a1c648>\n",
      "ZEP\n",
      "<Element {http://www.tei-c.org/ns/1.0}text at 0x7f44a8a1c648>\n",
      "JON\n",
      "<Element {http://www.tei-c.org/ns/1.0}text at 0x7f44a8a1c648>\n",
      "PSA\n",
      "<Element {http://www.tei-c.org/ns/1.0}text at 0x7f44a8a1c648>\n",
      "2TI\n",
      "<Element {http://www.tei-c.org/ns/1.0}text at 0x7f44a8a1c648>\n",
      "1SA\n",
      "<Element {http://www.tei-c.org/ns/1.0}text at 0x7f44a8a1c648>\n",
      "EST\n",
      "<Element {http://www.tei-c.org/ns/1.0}text at 0x7f44a8a1c648>\n",
      "ZEC\n",
      "<Element {http://www.tei-c.org/ns/1.0}text at 0x7f44a8a1c648>\n",
      "LUK\n",
      "<Element {http://www.tei-c.org/ns/1.0}text at 0x7f44a8a1c648>\n",
      "ECC\n",
      "<Element {http://www.tei-c.org/ns/1.0}text at 0x7f44a8a1c648>\n",
      "EPH\n",
      "<Element {http://www.tei-c.org/ns/1.0}text at 0x7f44a8a1c648>\n",
      "AMO\n",
      "<Element {http://www.tei-c.org/ns/1.0}text at 0x7f44a8a1c648>\n",
      "ROM\n",
      "<Element {http://www.tei-c.org/ns/1.0}text at 0x7f44a8a1c648>\n",
      "EZE\n",
      "<Element {http://www.tei-c.org/ns/1.0}text at 0x7f44a8a1c648>\n",
      "JAM\n",
      "<Element {http://www.tei-c.org/ns/1.0}text at 0x7f44a8a1c648>\n",
      "2CO\n",
      "<Element {http://www.tei-c.org/ns/1.0}text at 0x7f44a8a1c648>\n",
      "JOS\n",
      "<Element {http://www.tei-c.org/ns/1.0}text at 0x7f44a8a1c648>\n",
      "EZR\n",
      "<Element {http://www.tei-c.org/ns/1.0}text at 0x7f44a8a1c648>\n",
      "HEB\n",
      "<Element {http://www.tei-c.org/ns/1.0}text at 0x7f44a8a1c648>\n",
      "MAT\n",
      "<Element {http://www.tei-c.org/ns/1.0}text at 0x7f44a8a1c648>\n",
      "2TH\n",
      "<Element {http://www.tei-c.org/ns/1.0}text at 0x7f44a8a1c648>\n",
      "TIT\n",
      "<Element {http://www.tei-c.org/ns/1.0}text at 0x7f44a8a1c648>\n",
      "REV\n",
      "<Element {http://www.tei-c.org/ns/1.0}text at 0x7f44a8a1c648>\n",
      "2SA\n",
      "<Element {http://www.tei-c.org/ns/1.0}text at 0x7f44a8a1c648>\n",
      "ISA\n",
      "<Element {http://www.tei-c.org/ns/1.0}text at 0x7f44a8a1c648>\n",
      "JDG\n",
      "<Element {http://www.tei-c.org/ns/1.0}text at 0x7f44a8a1c648>\n",
      "PHI\n",
      "<Element {http://www.tei-c.org/ns/1.0}text at 0x7f44a8a1c648>\n",
      "JUD\n",
      "<Element {http://www.tei-c.org/ns/1.0}text at 0x7f44a8a1c648>\n",
      "JOE\n",
      "<Element {http://www.tei-c.org/ns/1.0}text at 0x7f44a8a1c648>\n",
      "DEU\n",
      "<Element {http://www.tei-c.org/ns/1.0}text at 0x7f44a8a1c648>\n",
      "LAM\n",
      "<Element {http://www.tei-c.org/ns/1.0}text at 0x7f44a8a1c648>\n",
      "NAH\n",
      "<Element {http://www.tei-c.org/ns/1.0}text at 0x7f44a8a1c648>\n",
      "PHM\n",
      "<Element {http://www.tei-c.org/ns/1.0}text at 0x7f44a8a1c648>\n",
      "COL\n",
      "<Element {http://www.tei-c.org/ns/1.0}text at 0x7f44a8a1c648>\n",
      "JOH\n",
      "<Element {http://www.tei-c.org/ns/1.0}text at 0x7f44a8a1c648>\n",
      "LEV\n",
      "<Element {http://www.tei-c.org/ns/1.0}text at 0x7f44a8a1c648>\n",
      "1KI\n",
      "<Element {http://www.tei-c.org/ns/1.0}text at 0x7f44a8a1c648>\n",
      "NUM\n",
      "<Element {http://www.tei-c.org/ns/1.0}text at 0x7f44a8a1c648>\n",
      "GAL\n",
      "<Element {http://www.tei-c.org/ns/1.0}text at 0x7f44a8a1c648>\n",
      "EXO\n",
      "<Element {http://www.tei-c.org/ns/1.0}text at 0x7f44a8a1c648>\n",
      "RUT\n",
      "<Element {http://www.tei-c.org/ns/1.0}text at 0x7f44a8a1c648>\n",
      "MAR\n",
      "<Element {http://www.tei-c.org/ns/1.0}text at 0x7f44a8a1c648>\n",
      "2PE\n",
      "<Element {http://www.tei-c.org/ns/1.0}text at 0x7f44a8a1c648>\n",
      "PRO\n",
      "<Element {http://www.tei-c.org/ns/1.0}text at 0x7f44a8a1c648>\n",
      "OBA\n",
      "<Element {http://www.tei-c.org/ns/1.0}text at 0x7f44a8a1c648>\n",
      "SON\n",
      "<Element {http://www.tei-c.org/ns/1.0}text at 0x7f44a8a1c648>\n",
      "NEH\n",
      "<Element {http://www.tei-c.org/ns/1.0}text at 0x7f44a8a1c648>\n",
      "MIC\n",
      "<Element {http://www.tei-c.org/ns/1.0}text at 0x7f44a8a1c648>\n",
      "HOS\n",
      "<Element {http://www.tei-c.org/ns/1.0}text at 0x7f44a8a1c648>\n",
      "1TI\n",
      "<Element {http://www.tei-c.org/ns/1.0}text at 0x7f44a8a1c648>\n",
      "2CH\n",
      "<Element {http://www.tei-c.org/ns/1.0}text at 0x7f44a8a1c648>\n",
      "DAN\n",
      "<Element {http://www.tei-c.org/ns/1.0}text at 0x7f44a8a1c648>\n",
      "1JO\n",
      "<Element {http://www.tei-c.org/ns/1.0}text at 0x7f44a8a1c648>\n",
      "2JO\n",
      "<Element {http://www.tei-c.org/ns/1.0}text at 0x7f44a8a1c648>\n",
      "HAG\n",
      "<Element {http://www.tei-c.org/ns/1.0}text at 0x7f44a8a1c648>\n",
      "1PE\n",
      "<Element {http://www.tei-c.org/ns/1.0}text at 0x7f44a8a1c648>\n",
      "3JO\n",
      "<Element {http://www.tei-c.org/ns/1.0}text at 0x7f44a8a1c648>\n",
      "1TH\n",
      "<Element {http://www.tei-c.org/ns/1.0}text at 0x7f44a8a1c648>\n",
      "2KI\n",
      "<Element {http://www.tei-c.org/ns/1.0}text at 0x7f44a8a1c648>\n",
      "MAL\n",
      "<Element {http://www.tei-c.org/ns/1.0}text at 0x7f44a8a1c648>\n",
      "GEN\n",
      "<Element {http://www.tei-c.org/ns/1.0}text at 0x7f44a8a1c648>\n",
      "ACT\n",
      "<Element {http://www.tei-c.org/ns/1.0}text at 0x7f44a8a1c648>\n"
     ]
    }
   ],
   "source": [
    "for book_path in glob.glob(outdir_xml + \"/*\"):\n",
    "    \n",
    "    book_name = book_path[-3:]\n",
    "    print(book_name)\n",
    "\n",
    "    root_TEI = etree.fromstring( \"\"\"<TEI xmlns=\"http://www.tei-c.org/ns/1.0\">\n",
    "    <teiHeader>\n",
    "\t\t<fileDesc>\n",
    "\t\t\t<titleStmt>\n",
    "\t\t\t<title type=\"idno\">\n",
    "\t\t\t<idno type=\"string\">\"\"\" + book_name + \"\"\"</idno>\n",
    "            </title>\n",
    "            </titleStmt>\n",
    "        </fileDesc>\n",
    "    </teiHeader>\n",
    " </TEI>\n",
    "                                     \"\"\")\n",
    "\n",
    "    standOff_element = etree.fromstring( '<standOff xml:id=\"b.' + book_name + '.POSFreenling\" type=\"morphosyntactic\">\\n</standOff>')\n",
    "\n",
    "    for verse_path in sorted(glob.glob(outdir_xml + book_name + \"/*\")):\n",
    "        \n",
    "        verse_id = verse_path[-13:]\n",
    "               \n",
    "        with open(verse_path, \"r\", errors=\"replace\", encoding=\"utf-8\") as fin:\n",
    "            content_str = fin.read()\n",
    "\n",
    "            content_str = '\\n<seg xml:id=\"' + verse_id + '.POS.1\" corresp=\"#' + verse_id + '\">\\n' + content_str + '\\n</seg>\\n'\n",
    "\n",
    "            #print(content_str)\n",
    "            \n",
    "            root = etree.fromstring(content_str)\n",
    "    \n",
    "            standOff_element.append(root)\n",
    "            \n",
    "\n",
    "            \n",
    "            \n",
    "    xslt = etree.XSLT(etree.XML('''<?xml version=\"1.0\"?>\n",
    "        <xsl:stylesheet version=\"1.0\" xmlns:xsl=\"http://www.w3.org/1999/XSL/Transform\" xmlns=\"http://www.tei-c.org/ns/1.0\">\n",
    "        <xsl:output method=\"text\" encoding=\"utf8\" />\n",
    "        <xsl:template match=\"@*|node()\">\n",
    "            <xsl:copy>\n",
    "                <xsl:apply-templates select=\"@*|node()\" />\n",
    "            </xsl:copy>\n",
    "        </xsl:template>\n",
    "\n",
    "        <xsl:template match=\"token\">\n",
    "            <w><xsl:apply-templates select=\"@* | node()\" /></w>\n",
    "        </xsl:template>\n",
    "\n",
    "        <xsl:template match=\"token[./@pos='punctuation']\">\n",
    "            <pc><xsl:apply-templates select=\"@* | node()\" /></pc>\n",
    "        </xsl:template>\n",
    "\n",
    "\n",
    "        <xsl:template match=\"sentence\">\n",
    "            <s><xsl:apply-templates select=\"@* | node()\" /></s>\n",
    "        </xsl:template>\n",
    "\n",
    "        <xsl:template match=\"sentence/@id | token/@id\">\n",
    "            <xsl:attribute name=\"n\">\n",
    "                <xsl:value-of select=\".\"/>\n",
    "            </xsl:attribute>\n",
    "        </xsl:template>\n",
    "\n",
    "\n",
    "        </xsl:stylesheet>\n",
    "        '''))\n",
    "\n",
    "\n",
    "    standOff_element = xslt(standOff_element)\n",
    "\n",
    "    standOff_element =  standOff_element.getroot()\n",
    "    \n",
    "    \"\"\"\n",
    "    #print(etree.tostring(root_standOff, pretty_print=True, encoding=\"unicode\"))\n",
    "    element_text = bible_root.xpath(\".//tei:TEI[.//tei:idno[@type='string']/text() = '\" + book_name + \"']/tei:text\" ,  namespaces = namespaces )[0]\n",
    "    element_text\n",
    "    element_TEI = element_text.getparent()\n",
    "    element_TEI.insert(element_TEI.index(element_text)+1, root_standOff)\n",
    "    \"\"\"\n",
    "\n",
    "    #element_text = root_TEI.xpath(\".//tei:text//tei:text\", namespaces = namespaces)[0]\n",
    "    print(element_text)\n",
    "\n",
    "\n",
    "    root_TEI.insert(2, standOff_element)\n",
    "    \n",
    "\n",
    "    root_TEI.getroottree().write('./../../../annotated/' + book_name + '.xml', encoding=\"utf8\")\n",
    "    "
   ]
  }
 ],
 "metadata": {
  "kernelspec": {
   "name": "python376jvsc74a57bd0960f4d658457e0296618a96ff118bd2cbd6b6fed4373572a098ed4ec5a9be4c3",
   "display_name": "Python 3.7.6 64-bit ('base': conda)"
  },
  "language_info": {
   "codemirror_mode": {
    "name": "ipython",
    "version": 3
   },
   "file_extension": ".py",
   "mimetype": "text/x-python",
   "name": "python",
   "nbconvert_exporter": "python",
   "pygments_lexer": "ipython3",
   "version": "3.7.6"
  }
 },
 "nbformat": 4,
 "nbformat_minor": 2
}