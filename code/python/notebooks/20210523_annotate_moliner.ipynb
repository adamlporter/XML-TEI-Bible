{
 "cells": [
  {
   "cell_type": "code",
   "execution_count": 1,
   "metadata": {},
   "outputs": [],
   "source": [
    "from lxml import etree\n",
    "import pandas as pd\n",
    "from collections import Counter\n",
    "import os\n",
    "import glob\n",
    "import re\n",
    "import matplotlib.pyplot as plt\n",
    "import numpy as np\n",
    "from collections import Counter\n",
    "from numpy import array\n",
    "import numpy as np\n",
    "\n",
    "import subprocess\n"
   ]
  },
  {
   "source": [
    "# Open Data"
   ],
   "cell_type": "markdown",
   "metadata": {}
  },
  {
   "cell_type": "code",
   "execution_count": 2,
   "metadata": {},
   "outputs": [],
   "source": [
    "\n",
    "wdir = \"./../../../sexual-annotation/\"\n",
    "file = \"TEIBible\" # \"*.xml\"\n",
    "input_dir = \"./../../../annotated/books/\"\n",
    "output_dir = \"./../../../annotated/books_POS_MariaX/\""
   ]
  },
  {
   "cell_type": "code",
   "execution_count": 3,
   "metadata": {},
   "outputs": [],
   "source": [
    "if not os.path.exists(output_dir):\n",
    "    os.makedirs(output_dir)"
   ]
  },
  {
   "cell_type": "code",
   "execution_count": 4,
   "metadata": {},
   "outputs": [],
   "source": [
    "bible_root = etree.parse(wdir + file + \".xml\").getroot()"
   ]
  },
  {
   "cell_type": "code",
   "execution_count": 5,
   "metadata": {},
   "outputs": [
    {
     "output_type": "execute_result",
     "data": {
      "text/plain": [
       "<Element {http://www.tei-c.org/ns/1.0}teiCorpus at 0x2a4851832c8>"
      ]
     },
     "metadata": {},
     "execution_count": 5
    }
   ],
   "source": [
    "bible_root"
   ]
  },
  {
   "cell_type": "code",
   "execution_count": 6,
   "metadata": {},
   "outputs": [],
   "source": [
    "namespaces = {'tei': 'http://www.tei-c.org/ns/1.0'}"
   ]
  },
  {
   "cell_type": "code",
   "execution_count": 7,
   "metadata": {},
   "outputs": [],
   "source": [
    "mariax = pd.read_parquet(\"./../../../../../Doktorarbeit/dictionaries-for-annotation/mariaX/resulting-data/catalogues_only-tokens_df.parquet\")"
   ]
  },
  {
   "cell_type": "code",
   "execution_count": 9,
   "metadata": {},
   "outputs": [
    {
     "output_type": "execute_result",
     "data": {
      "text/plain": [
       "              a  aaronita  ab  aba  abab  ababillarse  abacería  abacorar  \\\n",
       "sublema                                                                     \n",
       "abandonar     0         0   0    0     0            0         0         0   \n",
       "abatir        0         0   0    0     0            0         0         0   \n",
       "abeja         0         0   0    0     0            0         0         0   \n",
       "abertura      0         0   0    0     0            0         0         0   \n",
       "abiertamente  0         0   0    0     0            0         0         0   \n",
       "...          ..       ...  ..  ...   ...          ...       ...       ...   \n",
       "yeso          0         0   0    0     0            0         0         0   \n",
       "yugo          0         0   0    0     0            0         0         0   \n",
       "zaherir       0         0   0    0     0            0         0         0   \n",
       "zalamería     0         0   0    0     0            0         0         0   \n",
       "zascandil     0         0   0    0     0            0         0         0   \n",
       "\n",
       "              abacá  abad  ...  últimas  último  úlula  únicamente  único  \\\n",
       "sublema                    ...                                              \n",
       "abandonar         0     0  ...        0       0      0           0      0   \n",
       "abatir            0     0  ...        0       0      0           0      0   \n",
       "abeja             0     0  ...        0       0      0           0      0   \n",
       "abertura          0     0  ...        0       0      0           0      0   \n",
       "abiertamente      0     0  ...        0       0      0           0      0   \n",
       "...             ...   ...  ...      ...     ...    ...         ...    ...   \n",
       "yeso              0     0  ...        0       0      0           0      0   \n",
       "yugo              0     0  ...        0       0      0           0      0   \n",
       "zaherir           0     0  ...        0       0      0           0      0   \n",
       "zalamería         0     0  ...        0       0      0           0      0   \n",
       "zascandil         0     0  ...        0       0      0           0      0   \n",
       "\n",
       "              úrico  úrsido  útero  útil  ýpsilon  \n",
       "sublema                                            \n",
       "abandonar         0       0      0     0        0  \n",
       "abatir            0       0      0     0        0  \n",
       "abeja             0       0      0     0        0  \n",
       "abertura          0       0      0     0        0  \n",
       "abiertamente      0       0      0     0        0  \n",
       "...             ...     ...    ...   ...      ...  \n",
       "yeso              0       0      0     0        0  \n",
       "yugo              0       0      0     0        0  \n",
       "zaherir           0       0      0     0        0  \n",
       "zalamería         0       0      0     0        0  \n",
       "zascandil         0       0      0     0        0  \n",
       "\n",
       "[1788 rows x 57546 columns]"
      ],
      "text/html": "<div>\n<style scoped>\n    .dataframe tbody tr th:only-of-type {\n        vertical-align: middle;\n    }\n\n    .dataframe tbody tr th {\n        vertical-align: top;\n    }\n\n    .dataframe thead th {\n        text-align: right;\n    }\n</style>\n<table border=\"1\" class=\"dataframe\">\n  <thead>\n    <tr style=\"text-align: right;\">\n      <th></th>\n      <th>a</th>\n      <th>aaronita</th>\n      <th>ab</th>\n      <th>aba</th>\n      <th>abab</th>\n      <th>ababillarse</th>\n      <th>abacería</th>\n      <th>abacorar</th>\n      <th>abacá</th>\n      <th>abad</th>\n      <th>...</th>\n      <th>últimas</th>\n      <th>último</th>\n      <th>úlula</th>\n      <th>únicamente</th>\n      <th>único</th>\n      <th>úrico</th>\n      <th>úrsido</th>\n      <th>útero</th>\n      <th>útil</th>\n      <th>ýpsilon</th>\n    </tr>\n    <tr>\n      <th>sublema</th>\n      <th></th>\n      <th></th>\n      <th></th>\n      <th></th>\n      <th></th>\n      <th></th>\n      <th></th>\n      <th></th>\n      <th></th>\n      <th></th>\n      <th></th>\n      <th></th>\n      <th></th>\n      <th></th>\n      <th></th>\n      <th></th>\n      <th></th>\n      <th></th>\n      <th></th>\n      <th></th>\n      <th></th>\n    </tr>\n  </thead>\n  <tbody>\n    <tr>\n      <th>abandonar</th>\n      <td>0</td>\n      <td>0</td>\n      <td>0</td>\n      <td>0</td>\n      <td>0</td>\n      <td>0</td>\n      <td>0</td>\n      <td>0</td>\n      <td>0</td>\n      <td>0</td>\n      <td>...</td>\n      <td>0</td>\n      <td>0</td>\n      <td>0</td>\n      <td>0</td>\n      <td>0</td>\n      <td>0</td>\n      <td>0</td>\n      <td>0</td>\n      <td>0</td>\n      <td>0</td>\n    </tr>\n    <tr>\n      <th>abatir</th>\n      <td>0</td>\n      <td>0</td>\n      <td>0</td>\n      <td>0</td>\n      <td>0</td>\n      <td>0</td>\n      <td>0</td>\n      <td>0</td>\n      <td>0</td>\n      <td>0</td>\n      <td>...</td>\n      <td>0</td>\n      <td>0</td>\n      <td>0</td>\n      <td>0</td>\n      <td>0</td>\n      <td>0</td>\n      <td>0</td>\n      <td>0</td>\n      <td>0</td>\n      <td>0</td>\n    </tr>\n    <tr>\n      <th>abeja</th>\n      <td>0</td>\n      <td>0</td>\n      <td>0</td>\n      <td>0</td>\n      <td>0</td>\n      <td>0</td>\n      <td>0</td>\n      <td>0</td>\n      <td>0</td>\n      <td>0</td>\n      <td>...</td>\n      <td>0</td>\n      <td>0</td>\n      <td>0</td>\n      <td>0</td>\n      <td>0</td>\n      <td>0</td>\n      <td>0</td>\n      <td>0</td>\n      <td>0</td>\n      <td>0</td>\n    </tr>\n    <tr>\n      <th>abertura</th>\n      <td>0</td>\n      <td>0</td>\n      <td>0</td>\n      <td>0</td>\n      <td>0</td>\n      <td>0</td>\n      <td>0</td>\n      <td>0</td>\n      <td>0</td>\n      <td>0</td>\n      <td>...</td>\n      <td>0</td>\n      <td>0</td>\n      <td>0</td>\n      <td>0</td>\n      <td>0</td>\n      <td>0</td>\n      <td>0</td>\n      <td>0</td>\n      <td>0</td>\n      <td>0</td>\n    </tr>\n    <tr>\n      <th>abiertamente</th>\n      <td>0</td>\n      <td>0</td>\n      <td>0</td>\n      <td>0</td>\n      <td>0</td>\n      <td>0</td>\n      <td>0</td>\n      <td>0</td>\n      <td>0</td>\n      <td>0</td>\n      <td>...</td>\n      <td>0</td>\n      <td>0</td>\n      <td>0</td>\n      <td>0</td>\n      <td>0</td>\n      <td>0</td>\n      <td>0</td>\n      <td>0</td>\n      <td>0</td>\n      <td>0</td>\n    </tr>\n    <tr>\n      <th>...</th>\n      <td>...</td>\n      <td>...</td>\n      <td>...</td>\n      <td>...</td>\n      <td>...</td>\n      <td>...</td>\n      <td>...</td>\n      <td>...</td>\n      <td>...</td>\n      <td>...</td>\n      <td>...</td>\n      <td>...</td>\n      <td>...</td>\n      <td>...</td>\n      <td>...</td>\n      <td>...</td>\n      <td>...</td>\n      <td>...</td>\n      <td>...</td>\n      <td>...</td>\n      <td>...</td>\n    </tr>\n    <tr>\n      <th>yeso</th>\n      <td>0</td>\n      <td>0</td>\n      <td>0</td>\n      <td>0</td>\n      <td>0</td>\n      <td>0</td>\n      <td>0</td>\n      <td>0</td>\n      <td>0</td>\n      <td>0</td>\n      <td>...</td>\n      <td>0</td>\n      <td>0</td>\n      <td>0</td>\n      <td>0</td>\n      <td>0</td>\n      <td>0</td>\n      <td>0</td>\n      <td>0</td>\n      <td>0</td>\n      <td>0</td>\n    </tr>\n    <tr>\n      <th>yugo</th>\n      <td>0</td>\n      <td>0</td>\n      <td>0</td>\n      <td>0</td>\n      <td>0</td>\n      <td>0</td>\n      <td>0</td>\n      <td>0</td>\n      <td>0</td>\n      <td>0</td>\n      <td>...</td>\n      <td>0</td>\n      <td>0</td>\n      <td>0</td>\n      <td>0</td>\n      <td>0</td>\n      <td>0</td>\n      <td>0</td>\n      <td>0</td>\n      <td>0</td>\n      <td>0</td>\n    </tr>\n    <tr>\n      <th>zaherir</th>\n      <td>0</td>\n      <td>0</td>\n      <td>0</td>\n      <td>0</td>\n      <td>0</td>\n      <td>0</td>\n      <td>0</td>\n      <td>0</td>\n      <td>0</td>\n      <td>0</td>\n      <td>...</td>\n      <td>0</td>\n      <td>0</td>\n      <td>0</td>\n      <td>0</td>\n      <td>0</td>\n      <td>0</td>\n      <td>0</td>\n      <td>0</td>\n      <td>0</td>\n      <td>0</td>\n    </tr>\n    <tr>\n      <th>zalamería</th>\n      <td>0</td>\n      <td>0</td>\n      <td>0</td>\n      <td>0</td>\n      <td>0</td>\n      <td>0</td>\n      <td>0</td>\n      <td>0</td>\n      <td>0</td>\n      <td>0</td>\n      <td>...</td>\n      <td>0</td>\n      <td>0</td>\n      <td>0</td>\n      <td>0</td>\n      <td>0</td>\n      <td>0</td>\n      <td>0</td>\n      <td>0</td>\n      <td>0</td>\n      <td>0</td>\n    </tr>\n    <tr>\n      <th>zascandil</th>\n      <td>0</td>\n      <td>0</td>\n      <td>0</td>\n      <td>0</td>\n      <td>0</td>\n      <td>0</td>\n      <td>0</td>\n      <td>0</td>\n      <td>0</td>\n      <td>0</td>\n      <td>...</td>\n      <td>0</td>\n      <td>0</td>\n      <td>0</td>\n      <td>0</td>\n      <td>0</td>\n      <td>0</td>\n      <td>0</td>\n      <td>0</td>\n      <td>0</td>\n      <td>0</td>\n    </tr>\n  </tbody>\n</table>\n<p>1788 rows × 57546 columns</p>\n</div>"
     },
     "metadata": {},
     "execution_count": 9
    }
   ],
   "source": [
    "mariax"
   ]
  },
  {
   "cell_type": "code",
   "execution_count": 9,
   "metadata": {},
   "outputs": [
    {
     "output_type": "execute_result",
     "data": {
      "text/plain": [
       "1788"
      ]
     },
     "metadata": {},
     "execution_count": 9
    }
   ],
   "source": [
    "len(mariax.index.tolist())"
   ]
  },
  {
   "cell_type": "code",
   "execution_count": 8,
   "metadata": {},
   "outputs": [],
   "source": [
    "# Annotate Books"
   ]
  },
  {
   "cell_type": "code",
   "execution_count": 67,
   "metadata": {},
   "outputs": [
    {
     "output_type": "stream",
     "name": "stdout",
     "text": [
      "1CH\n",
      "1CO\n",
      "1JO\n",
      "1KI\n",
      "1PE\n",
      "1SA\n",
      "1TH\n",
      "1TI\n",
      "2CH\n",
      "2CO\n",
      "2JO\n",
      "2KI\n",
      "2PE\n",
      "2SA\n",
      "2TH\n",
      "2TI\n",
      "3JO\n",
      "ACT\n",
      "AMO\n",
      "COL\n",
      "DAN\n",
      "DEU\n",
      "ECC\n",
      "EPH\n",
      "EST\n",
      "EXO\n",
      "EZE\n",
      "EZR\n",
      "GAL\n",
      "GEN\n",
      "HAB\n",
      "HAG\n",
      "HEB\n",
      "HOS\n",
      "ISA\n",
      "JAM\n",
      "JDG\n",
      "JER\n",
      "JOB\n",
      "JOE\n",
      "JOH\n",
      "JON\n",
      "JOS\n",
      "JUD\n",
      "LAM\n",
      "LEV\n",
      "LUK\n",
      "MAL\n",
      "MAR\n",
      "MAT\n",
      "MIC\n",
      "NAH\n",
      "NEH\n",
      "NUM\n",
      "OBA\n",
      "PHI\n",
      "PHM\n",
      "PRO\n",
      "PSA\n",
      "REV\n",
      "ROM\n",
      "RUT\n",
      "SON\n",
      "TIT\n",
      "ZEC\n",
      "ZEP\n"
     ]
    }
   ],
   "source": [
    "for book_path in glob.glob(input_dir + \"/*\"):\n",
    "    #print(book_path)\n",
    "    book_name = book_path[-7:-4]\n",
    "    print(book_name)\n",
    "\n",
    "    book_root = etree.parse(input_dir + book_name + \".xml\").getroot()\n",
    "\n",
    "\n",
    "    for verse in book_root.xpath(\".//tei:seg\", namespaces = namespaces):\n",
    "        #verse_id = verse.xpath(\"./@xml:id\")[0][0:-6]\n",
    "\n",
    "        #content_verse = '\\n<seg xml:id=\"' + verse_id + '.MariaX\" corresp=\"#' + verse_id + '\">\\n'\n",
    "        for sentence in verse.xpath(\"./tei:s\", namespaces = namespaces):\n",
    "            sentence_n = sentence.xpath(\"./@n\", namespaces = namespaces)[0]\n",
    "\n",
    "            #content_verse += '\\n<s n=\"'  + sentence_n+ '\">\\n'\n",
    "            for word in verse.xpath(\".//tei:w\", namespaces = namespaces):\n",
    "\n",
    "                \n",
    "                neclass = word.xpath(\"./@neclass\")\n",
    "                lemma = word.xpath(\"./@lemma\")[0]\n",
    "                n = word.xpath(\"./@n\")[0]\n",
    "                #if neclass != [\"person\"]:\n",
    "                if lemma in mariax.columns.tolist():\n",
    "                        #print(lemma)\n",
    "                #       content_verse +=  '<w n=\"' + n + '\" lemma=\"'  + lemma + '\" mariax=\"' + '|'.join(mariax.loc[:,lemma][(mariax.loc[:,lemma] > 0)].index.tolist()) + '\"/>\\n' \n",
    "                    word.attrib[\"mariax\"] =  '|'.join(mariax.loc[:,lemma][(mariax.loc[:,lemma] > 0)].index.tolist())\n",
    "            #content_verse += \"\\n</s>\"\n",
    "\n",
    "\n",
    "        #content_book += content_verse+ '\\n</seg>\\n'\n",
    "\n",
    "    #content_book += '\\n</standOff>'\n",
    "\n",
    "    book_root.getroottree().write(output_dir + book_name + '.xml', encoding=\"utf8\")\n"
   ]
  },
  {
   "source": [
    "# Extract Data"
   ],
   "cell_type": "markdown",
   "metadata": {}
  },
  {
   "cell_type": "code",
   "execution_count": 15,
   "metadata": {},
   "outputs": [],
   "source": [
    "verses_lt = bible_root.xpath(\".//tei:ab[@type='verse']/@xml:id\", namespaces = namespaces)"
   ]
  },
  {
   "cell_type": "code",
   "execution_count": 23,
   "metadata": {},
   "outputs": [],
   "source": [
    "verses_mariax = pd.DataFrame(index = verses_lt, columns = mariax.columns.tolist()).fillna(0)"
   ]
  },
  {
   "cell_type": "code",
   "execution_count": 25,
   "metadata": {},
   "outputs": [],
   "source": [
    "verses_mariax.fillna(0, inplace=True)"
   ]
  },
  {
   "cell_type": "code",
   "execution_count": 26,
   "metadata": {},
   "outputs": [
    {
     "output_type": "execute_result",
     "data": {
      "text/plain": [
       "               a  aaronita  ab  aba  abab  ababillarse  abacería  abacorar  \\\n",
       "b.GEN.001.001  0         0   0    0     0            0         0         0   \n",
       "b.GEN.001.002  0         0   0    0     0            0         0         0   \n",
       "b.GEN.001.003  0         0   0    0     0            0         0         0   \n",
       "b.GEN.001.004  0         0   0    0     0            0         0         0   \n",
       "b.GEN.001.005  0         0   0    0     0            0         0         0   \n",
       "...           ..       ...  ..  ...   ...          ...       ...       ...   \n",
       "b.REV.022.017  0         0   0    0     0            0         0         0   \n",
       "b.REV.022.018  0         0   0    0     0            0         0         0   \n",
       "b.REV.022.019  0         0   0    0     0            0         0         0   \n",
       "b.REV.022.020  0         0   0    0     0            0         0         0   \n",
       "b.REV.022.021  0         0   0    0     0            0         0         0   \n",
       "\n",
       "               abacá  abad  ...  últimas  último  úlula  únicamente  único  \\\n",
       "b.GEN.001.001      0     0  ...        0       0      0           0      0   \n",
       "b.GEN.001.002      0     0  ...        0       0      0           0      0   \n",
       "b.GEN.001.003      0     0  ...        0       0      0           0      0   \n",
       "b.GEN.001.004      0     0  ...        0       0      0           0      0   \n",
       "b.GEN.001.005      0     0  ...        0       0      0           0      0   \n",
       "...              ...   ...  ...      ...     ...    ...         ...    ...   \n",
       "b.REV.022.017      0     0  ...        0       0      0           0      0   \n",
       "b.REV.022.018      0     0  ...        0       0      0           0      0   \n",
       "b.REV.022.019      0     0  ...        0       0      0           0      0   \n",
       "b.REV.022.020      0     0  ...        0       0      0           0      0   \n",
       "b.REV.022.021      0     0  ...        0       0      0           0      0   \n",
       "\n",
       "               úrico  úrsido  útero  útil  ýpsilon  \n",
       "b.GEN.001.001      0       0      0     0        0  \n",
       "b.GEN.001.002      0       0      0     0        0  \n",
       "b.GEN.001.003      0       0      0     0        0  \n",
       "b.GEN.001.004      0       0      0     0        0  \n",
       "b.GEN.001.005      0       0      0     0        0  \n",
       "...              ...     ...    ...   ...      ...  \n",
       "b.REV.022.017      0       0      0     0        0  \n",
       "b.REV.022.018      0       0      0     0        0  \n",
       "b.REV.022.019      0       0      0     0        0  \n",
       "b.REV.022.020      0       0      0     0        0  \n",
       "b.REV.022.021      0       0      0     0        0  \n",
       "\n",
       "[31065 rows x 57546 columns]"
      ],
      "text/html": "<div>\n<style scoped>\n    .dataframe tbody tr th:only-of-type {\n        vertical-align: middle;\n    }\n\n    .dataframe tbody tr th {\n        vertical-align: top;\n    }\n\n    .dataframe thead th {\n        text-align: right;\n    }\n</style>\n<table border=\"1\" class=\"dataframe\">\n  <thead>\n    <tr style=\"text-align: right;\">\n      <th></th>\n      <th>a</th>\n      <th>aaronita</th>\n      <th>ab</th>\n      <th>aba</th>\n      <th>abab</th>\n      <th>ababillarse</th>\n      <th>abacería</th>\n      <th>abacorar</th>\n      <th>abacá</th>\n      <th>abad</th>\n      <th>...</th>\n      <th>últimas</th>\n      <th>último</th>\n      <th>úlula</th>\n      <th>únicamente</th>\n      <th>único</th>\n      <th>úrico</th>\n      <th>úrsido</th>\n      <th>útero</th>\n      <th>útil</th>\n      <th>ýpsilon</th>\n    </tr>\n  </thead>\n  <tbody>\n    <tr>\n      <th>b.GEN.001.001</th>\n      <td>0</td>\n      <td>0</td>\n      <td>0</td>\n      <td>0</td>\n      <td>0</td>\n      <td>0</td>\n      <td>0</td>\n      <td>0</td>\n      <td>0</td>\n      <td>0</td>\n      <td>...</td>\n      <td>0</td>\n      <td>0</td>\n      <td>0</td>\n      <td>0</td>\n      <td>0</td>\n      <td>0</td>\n      <td>0</td>\n      <td>0</td>\n      <td>0</td>\n      <td>0</td>\n    </tr>\n    <tr>\n      <th>b.GEN.001.002</th>\n      <td>0</td>\n      <td>0</td>\n      <td>0</td>\n      <td>0</td>\n      <td>0</td>\n      <td>0</td>\n      <td>0</td>\n      <td>0</td>\n      <td>0</td>\n      <td>0</td>\n      <td>...</td>\n      <td>0</td>\n      <td>0</td>\n      <td>0</td>\n      <td>0</td>\n      <td>0</td>\n      <td>0</td>\n      <td>0</td>\n      <td>0</td>\n      <td>0</td>\n      <td>0</td>\n    </tr>\n    <tr>\n      <th>b.GEN.001.003</th>\n      <td>0</td>\n      <td>0</td>\n      <td>0</td>\n      <td>0</td>\n      <td>0</td>\n      <td>0</td>\n      <td>0</td>\n      <td>0</td>\n      <td>0</td>\n      <td>0</td>\n      <td>...</td>\n      <td>0</td>\n      <td>0</td>\n      <td>0</td>\n      <td>0</td>\n      <td>0</td>\n      <td>0</td>\n      <td>0</td>\n      <td>0</td>\n      <td>0</td>\n      <td>0</td>\n    </tr>\n    <tr>\n      <th>b.GEN.001.004</th>\n      <td>0</td>\n      <td>0</td>\n      <td>0</td>\n      <td>0</td>\n      <td>0</td>\n      <td>0</td>\n      <td>0</td>\n      <td>0</td>\n      <td>0</td>\n      <td>0</td>\n      <td>...</td>\n      <td>0</td>\n      <td>0</td>\n      <td>0</td>\n      <td>0</td>\n      <td>0</td>\n      <td>0</td>\n      <td>0</td>\n      <td>0</td>\n      <td>0</td>\n      <td>0</td>\n    </tr>\n    <tr>\n      <th>b.GEN.001.005</th>\n      <td>0</td>\n      <td>0</td>\n      <td>0</td>\n      <td>0</td>\n      <td>0</td>\n      <td>0</td>\n      <td>0</td>\n      <td>0</td>\n      <td>0</td>\n      <td>0</td>\n      <td>...</td>\n      <td>0</td>\n      <td>0</td>\n      <td>0</td>\n      <td>0</td>\n      <td>0</td>\n      <td>0</td>\n      <td>0</td>\n      <td>0</td>\n      <td>0</td>\n      <td>0</td>\n    </tr>\n    <tr>\n      <th>...</th>\n      <td>...</td>\n      <td>...</td>\n      <td>...</td>\n      <td>...</td>\n      <td>...</td>\n      <td>...</td>\n      <td>...</td>\n      <td>...</td>\n      <td>...</td>\n      <td>...</td>\n      <td>...</td>\n      <td>...</td>\n      <td>...</td>\n      <td>...</td>\n      <td>...</td>\n      <td>...</td>\n      <td>...</td>\n      <td>...</td>\n      <td>...</td>\n      <td>...</td>\n      <td>...</td>\n    </tr>\n    <tr>\n      <th>b.REV.022.017</th>\n      <td>0</td>\n      <td>0</td>\n      <td>0</td>\n      <td>0</td>\n      <td>0</td>\n      <td>0</td>\n      <td>0</td>\n      <td>0</td>\n      <td>0</td>\n      <td>0</td>\n      <td>...</td>\n      <td>0</td>\n      <td>0</td>\n      <td>0</td>\n      <td>0</td>\n      <td>0</td>\n      <td>0</td>\n      <td>0</td>\n      <td>0</td>\n      <td>0</td>\n      <td>0</td>\n    </tr>\n    <tr>\n      <th>b.REV.022.018</th>\n      <td>0</td>\n      <td>0</td>\n      <td>0</td>\n      <td>0</td>\n      <td>0</td>\n      <td>0</td>\n      <td>0</td>\n      <td>0</td>\n      <td>0</td>\n      <td>0</td>\n      <td>...</td>\n      <td>0</td>\n      <td>0</td>\n      <td>0</td>\n      <td>0</td>\n      <td>0</td>\n      <td>0</td>\n      <td>0</td>\n      <td>0</td>\n      <td>0</td>\n      <td>0</td>\n    </tr>\n    <tr>\n      <th>b.REV.022.019</th>\n      <td>0</td>\n      <td>0</td>\n      <td>0</td>\n      <td>0</td>\n      <td>0</td>\n      <td>0</td>\n      <td>0</td>\n      <td>0</td>\n      <td>0</td>\n      <td>0</td>\n      <td>...</td>\n      <td>0</td>\n      <td>0</td>\n      <td>0</td>\n      <td>0</td>\n      <td>0</td>\n      <td>0</td>\n      <td>0</td>\n      <td>0</td>\n      <td>0</td>\n      <td>0</td>\n    </tr>\n    <tr>\n      <th>b.REV.022.020</th>\n      <td>0</td>\n      <td>0</td>\n      <td>0</td>\n      <td>0</td>\n      <td>0</td>\n      <td>0</td>\n      <td>0</td>\n      <td>0</td>\n      <td>0</td>\n      <td>0</td>\n      <td>...</td>\n      <td>0</td>\n      <td>0</td>\n      <td>0</td>\n      <td>0</td>\n      <td>0</td>\n      <td>0</td>\n      <td>0</td>\n      <td>0</td>\n      <td>0</td>\n      <td>0</td>\n    </tr>\n    <tr>\n      <th>b.REV.022.021</th>\n      <td>0</td>\n      <td>0</td>\n      <td>0</td>\n      <td>0</td>\n      <td>0</td>\n      <td>0</td>\n      <td>0</td>\n      <td>0</td>\n      <td>0</td>\n      <td>0</td>\n      <td>...</td>\n      <td>0</td>\n      <td>0</td>\n      <td>0</td>\n      <td>0</td>\n      <td>0</td>\n      <td>0</td>\n      <td>0</td>\n      <td>0</td>\n      <td>0</td>\n      <td>0</td>\n    </tr>\n  </tbody>\n</table>\n<p>31065 rows × 57546 columns</p>\n</div>"
     },
     "metadata": {},
     "execution_count": 26
    }
   ],
   "source": [
    "verses_mariax"
   ]
  },
  {
   "cell_type": "code",
   "execution_count": 17,
   "metadata": {},
   "outputs": [],
   "source": [
    "books_lt = bible_root.xpath(\".//tei:title[@type='idno']/tei:idno[@type='string']//text()\", namespaces = namespaces)\n"
   ]
  },
  {
   "cell_type": "code",
   "execution_count": 18,
   "metadata": {},
   "outputs": [
    {
     "output_type": "execute_result",
     "data": {
      "text/plain": [
       "['GEN',\n",
       " 'EXO',\n",
       " 'LEV',\n",
       " 'NUM',\n",
       " 'DEU',\n",
       " 'JOS',\n",
       " 'JDG',\n",
       " 'RUT',\n",
       " '1SA',\n",
       " '2SA',\n",
       " '1KI',\n",
       " '2KI',\n",
       " '1CH',\n",
       " '2CH',\n",
       " 'EZR',\n",
       " 'NEH',\n",
       " 'EST',\n",
       " 'JOB',\n",
       " 'PSA',\n",
       " 'PRO',\n",
       " 'ECC',\n",
       " 'SON',\n",
       " 'ISA',\n",
       " 'LAM',\n",
       " 'JER',\n",
       " 'EZE',\n",
       " 'DAN',\n",
       " 'HOS',\n",
       " 'JOE',\n",
       " 'AMO',\n",
       " 'OBA',\n",
       " 'JON',\n",
       " 'MIC',\n",
       " 'NAH',\n",
       " 'HAB',\n",
       " 'ZEP',\n",
       " 'HAG',\n",
       " 'ZEC',\n",
       " 'MAL',\n",
       " 'MAT',\n",
       " 'MAR',\n",
       " 'LUK',\n",
       " 'JOH',\n",
       " 'ACT',\n",
       " 'ROM',\n",
       " '1CO',\n",
       " '2CO',\n",
       " 'GAL',\n",
       " 'EPH',\n",
       " 'PHI',\n",
       " 'COL',\n",
       " '1TH',\n",
       " '2TH',\n",
       " '1TI',\n",
       " '2TI',\n",
       " 'TIT',\n",
       " 'PHM',\n",
       " 'HEB',\n",
       " 'JAM',\n",
       " '1PE',\n",
       " '2PE',\n",
       " '1JO',\n",
       " '2JO',\n",
       " '3JO',\n",
       " 'JUD',\n",
       " 'REV']"
      ]
     },
     "metadata": {},
     "execution_count": 18
    }
   ],
   "source": [
    "books_lt"
   ]
  },
  {
   "cell_type": "code",
   "execution_count": null,
   "metadata": {},
   "outputs": [],
   "source": []
  },
  {
   "cell_type": "code",
   "execution_count": 85,
   "metadata": {},
   "outputs": [],
   "source": [
    "\n",
    "output_dir = './../../../annotated/books_parquets_verses_Mariax/'\n",
    "\n",
    "# = \"./../../../annotated/books/\"\n",
    "input_dir = \"./../../../annotated/books_POS_MariaX/\""
   ]
  },
  {
   "cell_type": "code",
   "execution_count": 114,
   "metadata": {},
   "outputs": [
    {
     "output_type": "stream",
     "name": "stdout",
     "text": [
      "31065\n",
      "(31065, 1783)\n",
      "GEN\n",
      "EXO\n",
      "LEV\n",
      "NUM\n",
      "DEU\n",
      "JOS\n",
      "JDG\n",
      "RUT\n",
      "1SA\n",
      "2SA\n",
      "1KI\n",
      "2KI\n",
      "1CH\n",
      "2CH\n",
      "EZR\n",
      "NEH\n",
      "EST\n",
      "JOB\n",
      "PSA\n",
      "PRO\n",
      "ECC\n",
      "SON\n",
      "ISA\n",
      "LAM\n",
      "JER\n",
      "EZE\n",
      "DAN\n",
      "HOS\n",
      "JOE\n",
      "AMO\n",
      "OBA\n",
      "JON\n",
      "MIC\n",
      "NAH\n",
      "HAB\n",
      "ZEP\n",
      "HAG\n",
      "ZEC\n",
      "MAL\n",
      "MAT\n",
      "MAR\n",
      "LUK\n",
      "JOH\n",
      "ACT\n",
      "ROM\n",
      "1CO\n",
      "2CO\n",
      "GAL\n",
      "EPH\n",
      "PHI\n",
      "COL\n",
      "1TH\n",
      "2TH\n",
      "1TI\n",
      "2TI\n",
      "TIT\n",
      "PHM\n",
      "HEB\n",
      "JAM\n",
      "1PE\n",
      "2PE\n",
      "1JO\n",
      "2JO\n",
      "3JO\n",
      "JUD\n",
      "REV\n"
     ]
    }
   ],
   "source": [
    "\n",
    "verses_lt = bible_root.xpath(\".//tei:ab[@type='verse']/@xml:id\", namespaces = namespaces)\n",
    "print(len(verses_lt))\n",
    "\n",
    "verses_mariax_bible = pd.DataFrame(index = verses_lt, columns = mariax.index.unique().tolist()).fillna(0)\n",
    "\n",
    "print(verses_mariax_bible.shape)\n",
    "\n",
    "\n",
    "for book_element in bible_root.xpath(\".//tei:TEI\", namespaces = namespaces):\n",
    "\n",
    "    book_name = book_element.xpath(\".//tei:title[@type='idno']/tei:idno[@type='string']//text()\", namespaces = namespaces)[0]\n",
    "    print(book_name)\n",
    "\n",
    "\n",
    "#for book_name in books_lt[0:3]:\n",
    "\n",
    "    book_root = etree.parse(input_dir + book_name + \".xml\").getroot()\n",
    "\n",
    "    #print(book_root)\n",
    "    for seg in book_root.xpath(\".//tei:seg\", namespaces = namespaces):\n",
    "        verse_id = seg.xpath(\"./@xml:id\")[0][0:-6]\n",
    "        #print(verse_id)\n",
    "        for w in seg.xpath(\".//tei:w[@mariax]\", namespaces = namespaces):\n",
    "            #print(w.xpath(\"./@neclass\"))\n",
    "            if w.xpath(\"./@pos\")[0] in [\"verb\", \"noun\", \"adjective\", \"adverb\"] and w.xpath(\"./@neclass\") == []:\n",
    "            #if w.xpath(\"./@pos\") in [\"verb\", \"noun\", \"adjective\", \"adverb\"] and :\n",
    "                #print(w.xpath(\"./@lemma\"))\n",
    "                #print(w.xpath(\"./@mariax\"))\n",
    "                for value_catalog in w.xpath(\"./@mariax\")[0].split(\"|\"):\n",
    "                    #print(value_catalog)\n",
    "\n",
    "                    try:\n",
    "\n",
    "                        verses_mariax_bible.loc[verse_id, value_catalog] +=  1\n",
    "                        #print(verses_mariax_book.loc[verse_id, value_catalog])\n",
    "                    except:\n",
    "                        print(\"error: \", value_catalog)\n",
    "\n",
    " \n",
    "verses_mariax_bible.to_parquet(output_dir + \"verses_mariax.parquet\")\n",
    "\n",
    "\n",
    "\n"
   ]
  },
  {
   "cell_type": "code",
   "execution_count": 117,
   "metadata": {},
   "outputs": [
    {
     "output_type": "execute_result",
     "data": {
      "text/plain": [
       "tiempo          38031\n",
       "hablar          33823\n",
       "difícil         33237\n",
       "existir         29869\n",
       "cuenta          25978\n",
       "representar     25581\n",
       "baraja          24043\n",
       "merecer         22865\n",
       "intervenir      21483\n",
       "importar        21155\n",
       "superior        20762\n",
       "experiencia     20743\n",
       "equivocar       20490\n",
       "armonía         20439\n",
       "decir           20140\n",
       "negocio         19485\n",
       "sobresalir      18746\n",
       "conversar       18705\n",
       "alegre          17576\n",
       "componer        17328\n",
       "adecuado        17134\n",
       "bueno           16578\n",
       "suceder         16458\n",
       "terminar        16335\n",
       "igual           16296\n",
       "negar           16206\n",
       "vestir          16069\n",
       "jugar           16009\n",
       "callar          15803\n",
       "imponer         15738\n",
       "nombre          15736\n",
       "esencia         15510\n",
       "fútbol          15476\n",
       "decidir         15225\n",
       "riña            15201\n",
       "efecto          15184\n",
       "justo           14752\n",
       "tener           14478\n",
       "expresar        14466\n",
       "solución        14244\n",
       "tratar          14124\n",
       "seco            14119\n",
       "corresponder    14098\n",
       "descubrir       13993\n",
       "bien            13981\n",
       "opinión         13970\n",
       "convertir       13803\n",
       "acomodar        13767\n",
       "enfermedad      13564\n",
       "crear           13509\n",
       "dtype: int64"
      ]
     },
     "metadata": {},
     "execution_count": 117
    }
   ],
   "source": [
    "verses_mariax_bible.sum().sort_values(ascending=False).head(50)"
   ]
  },
  {
   "cell_type": "code",
   "execution_count": null,
   "metadata": {},
   "outputs": [],
   "source": []
  },
  {
   "cell_type": "code",
   "execution_count": null,
   "metadata": {},
   "outputs": [],
   "source": []
  }
 ],
 "metadata": {
  "kernelspec": {
   "name": "python376jvsc74a57bd0960f4d658457e0296618a96ff118bd2cbd6b6fed4373572a098ed4ec5a9be4c3",
   "display_name": "Python 3.7.6 64-bit ('base': conda)"
  },
  "language_info": {
   "codemirror_mode": {
    "name": "ipython",
    "version": 3
   },
   "file_extension": ".py",
   "mimetype": "text/x-python",
   "name": "python",
   "nbconvert_exporter": "python",
   "pygments_lexer": "ipython3",
   "version": "3.7.6"
  }
 },
 "nbformat": 4,
 "nbformat_minor": 2
}